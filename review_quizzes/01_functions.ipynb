{
 "cells": [
  {
   "cell_type": "markdown",
   "metadata": {},
   "source": [
    "# Python Functions Quiz\n",
    "\n",
    "### References:\n",
    "- [Python Functions - W3Schools](https://www.w3schools.com/python/python_functions.asp)\n",
    "- [Built-in Functions - Python Docs](https://docs.python.org/3/library/functions.html)\n",
    "- [Python Input and Output](https://docs.python.org/3/tutorial/inputoutput.html)\n",
    "- [Python Modules - W3Schools](https://www.w3schools.com/python/python_modules.asp)\n",
    "- [Python Official Tutorial](https://docs.python.org/3/tutorial/)\n",
    "\n",
    "---\n",
    "\n",
    "This quiz contains questions on Python functions: creating functions, calling functions, built-in functions, type conversion, `input()`, importing, and more. Some are multiple-choice with explanations hidden until clicked, and others require running code cells."
   ]
  },
  {
   "cell_type": "markdown",
   "metadata": {},
   "source": [
    "### Q1. Define and Call a Function\n",
    "**Topic:** User-defined functions\n",
    "\n",
    "Complete the function so that calling `greet()` prints `Hello World!`."
   ]
  },
  {
   "cell_type": "code",
   "execution_count": null,
   "metadata": {},
   "outputs": [],
   "source": [
    "def greet():\n",
    "    _____(\"Hello World!\")\n",
    "\n",
    "greet()"
   ]
  },
  {
   "cell_type": "markdown",
   "metadata": {},
   "source": [
    "### Q2. Multiple Choice\n",
    "**Topic:** Function parameters\n",
    "\n",
    "What is the result of the following?\n",
    "```python\n",
    "def add(x, y=5):\n",
    "    return x + y\n",
    "add(3)\n",
    "```\n",
    "\n",
    "A) 3  \n",
    "B) 5  \n",
    "C) 8  \n",
    "D) Error  \n",
    "\n",
    "<details>\n",
    "<summary>Click to reveal answer and explanation</summary>\n",
    "\n",
    "**Answer:** C) 8  \n",
    "Explanation: `y` defaults to 5, so result = 3+5.\n",
    "</details>"
   ]
  },
  {
   "cell_type": "markdown",
   "metadata": {},
   "source": [
    "### Q3. Return Values\n",
    "**Topic:** Returning from functions\n",
    "\n",
    "Complete the function to return the square of a number. Test with `5`."
   ]
  },
  {
   "cell_type": "code",
   "execution_count": null,
   "metadata": {},
   "outputs": [],
   "source": [
    "def square(n):\n",
    "    _____ n*n\n",
    "\n",
    "square(5)"
   ]
  },
  {
   "cell_type": "markdown",
   "metadata": {},
   "source": [
    "### Q4. Multiple Choice\n",
    "**Topic:** Built-in `len()`\n",
    "\n",
    "What is the result of `len([10,20,30])`?\n",
    "\n",
    "A) 2  \n",
    "B) 3  \n",
    "C) 30  \n",
    "D) Error  \n",
    "\n",
    "<details>\n",
    "<summary>Click to reveal answer and explanation</summary>\n",
    "\n",
    "**Answer:** B) 3  \n",
    "Explanation: `len()` returns number of elements, not values.\n",
    "</details>"
   ]
  },
  {
   "cell_type": "markdown",
   "metadata": {},
   "source": [
    "### Q5. Type Conversion\n",
    "**Topic:** Using `int()`, `float()`, `str()`, `bool()`\n",
    "\n",
    "Fill in the blanks to convert `'123'` to an integer, `12.7` to a string, and `0` to a boolean. Check with `type()`"
   ]
  },
  {
   "cell_type": "code",
   "execution_count": null,
   "metadata": {},
   "outputs": [],
   "source": [
    "______('123'), _____(12.7), _____(0)"
   ]
  },
  {
   "cell_type": "markdown",
   "metadata": {},
   "source": [
    "### Q6. Multiple Choice\n",
    "**Topic:** `input()` function\n",
    "\n",
    "What is the type of value returned by `input()` in Python 3?\n",
    "\n",
    "A) int  \n",
    "B) str  \n",
    "C) float  \n",
    "D) bool  \n",
    "\n",
    "<details>\n",
    "<summary>Click to reveal answer and explanation</summary>\n",
    "\n",
    "**Answer:** B) str  \n",
    "Explanation: `input()` always returns a string; conversion is needed.\n",
    "</details>"
   ]
  },
  {
   "cell_type": "markdown",
   "metadata": {},
   "source": [
    "### Q7. User-defined Function\n",
    "**Topic:** Conversion\n",
    "\n",
    "Fill in the blank to define `fahrenheit_to_celsius(f)` that converts Fahrenheit to Celsius. Test with `212`."
   ]
  },
  {
   "cell_type": "code",
   "execution_count": null,
   "metadata": {},
   "outputs": [],
   "source": [
    "def fahrenheit_to_celsius(f):\n",
    "    return (f - 32) * _____\n",
    "\n",
    "fahrenheit_to_celsius(212)"
   ]
  },
  {
   "cell_type": "markdown",
   "metadata": {},
   "source": [
    "### Q8. Multiple Choice\n",
    "**Topic:** Importing functions\n",
    "\n",
    "Which is the correct way to import `sqrt` from `math`?\n",
    "\n",
    "A) `import sqrt from math`  \n",
    "B) `from math import sqrt`  \n",
    "C) `import math.sqrt`  \n",
    "D) `import math as sqrt`  \n",
    "\n",
    "<details>\n",
    "<summary>Click to reveal answer and explanation</summary>\n",
    "\n",
    "**Answer:** B) `from math import sqrt`  \n",
    "Explanation: This imports only `sqrt` from the math module.\n",
    "</details>"
   ]
  },
  {
   "cell_type": "markdown",
   "metadata": {},
   "source": [
    "### Q9. Built-in `print()`\n",
    "**Topic:** Function arguments\n",
    "\n",
    "Fill in the blanks to display `Hello` and `World` separated by `-`."
   ]
  },
  {
   "cell_type": "code",
   "execution_count": null,
   "metadata": {},
   "outputs": [],
   "source": [
    "print('Hello', 'World', sep=_____)"
   ]
  },
  {
   "cell_type": "markdown",
   "metadata": {},
   "source": [
    "### Q10. Multiple Choice\n",
    "**Topic:** Default arguments\n",
    "\n",
    "What happens if a function is defined as `def greet(name='Guest')` and called as `greet()`?\n",
    "\n",
    "A) Error  \n",
    "B) Prints nothing  \n",
    "C) Uses 'Guest' as argument  \n",
    "D) Requires explicit argument  \n",
    "\n",
    "<details>\n",
    "<summary>Click to reveal answer and explanation</summary>\n",
    "\n",
    "**Answer:** C) Uses 'Guest' as argument  \n",
    "Explanation: Default values are used when no argument is provided.\n",
    "</details>"
   ]
  },
  {
   "cell_type": "markdown",
   "metadata": {},
   "source": [
    "### Q11. Create a Function — Word Counter\n",
    "**Topic:** User-defined function\n",
    "\n",
    "Write a function `count_words(text)` that returns the number of words in a string. Words are separated by spaces. Example: `count_words('Python is fun')` → `3`.\n",
    "\n",
    "<details>\n",
    "<summary>Click to reveal one possible solution</summary>\n",
    "\n",
    "```python\n",
    "def count_words(text):\n",
    "    return len(text.split())\n",
    "```\n",
    "</details>"
   ]
  },
  {
   "cell_type": "markdown",
   "metadata": {},
   "source": [
    "### Q12. Create a Function — Palindrome Checker\n",
    "**Topic:** String manipulation\n",
    "\n",
    "Write a function `is_palindrome(s)` that returns `True` if `s` is the same forwards and backwards (ignoring spaces and case), otherwise returns `False`. Example: `is_palindrome('Race car')` → `True`.\n",
    "\n",
    "<details>\n",
    "<summary>Click to reveal one possible solution</summary>\n",
    "\n",
    "```python\n",
    "def is_palindrome(s):\n",
    "    s = s.replace(' ', '').lower()\n",
    "    return s == s[::-1]\n",
    "```\n",
    "</details>"
   ]
  },
  {
   "cell_type": "markdown",
   "metadata": {},
   "source": [
    "### Q13. Create a Function — Prime Number Checker\n",
    "**Topic:** Loops and conditionals\n",
    "\n",
    "Write a function `is_prime(n)` that returns `True` if `n` is a prime number, else `False`. Remember: a prime is only divisible by 1 and itself. Example: `is_prime(7)` → `True`.\n",
    "\n",
    "<details>\n",
    "<summary>Click to reveal one possible solution</summary>\n",
    "\n",
    "```python\n",
    "def is_prime(n):\n",
    "    if n < 2:\n",
    "        return False\n",
    "    for i in range(2, int(n**0.5)+1):\n",
    "        if n % i == 0:\n",
    "            return False\n",
    "    return True\n",
    "```\n",
    "</details>"
   ]
  },
  {
   "cell_type": "markdown",
   "metadata": {},
   "source": [
    "### Q14. Create a Function — Character Frequency\n",
    "**Topic:** Dictionaries and strings\n",
    "\n",
    "Write a function `char_frequency(s)` that returns a dictionary with each character in `s` as a key and its count as the value. Example: `char_frequency('hello')` → `{'h':1,'e':1,'l':2,'o':1}`.\n",
    "\n",
    "<details>\n",
    "<summary>Click to reveal one possible solution</summary>\n",
    "\n",
    "```python\n",
    "def char_frequency(s):\n",
    "    freq = {}\n",
    "    for ch in s:\n",
    "        freq[ch] = freq.get(ch, 0) + 1\n",
    "    return freq\n",
    "```\n",
    "</details>"
   ]
  }
 ],
 "metadata": {
  "kernelspec": {
   "display_name": "Python 3",
   "language": "python",
   "name": "python3"
  },
  "language_info": {
   "codemirror_mode": {
    "name": "ipython",
    "version": 3
   },
   "file_extension": ".py",
   "mimetype": "text/x-python",
   "name": "python",
   "nbconvert_exporter": "python",
   "pygments_lexer": "ipython3",
   "version": "3.8.10"
  }
 },
 "nbformat": 4,
 "nbformat_minor": 5
}
