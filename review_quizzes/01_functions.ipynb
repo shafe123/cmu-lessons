{
 "cells": [
  {
   "cell_type": "markdown",
   "metadata": {},
   "source": [
    "# Python Functions Quiz\n",
    "\n",
    "### References:\n",
    "- [Python Functions - W3Schools](https://www.w3schools.com/python/python_functions.asp)\n",
    "- [Built-in Functions - Python Docs](https://docs.python.org/3/library/functions.html)\n",
    "- [Python Input and Output](https://docs.python.org/3/tutorial/inputoutput.html)\n",
    "- [Python Modules - W3Schools](https://www.w3schools.com/python/python_modules.asp)\n",
    "- [Python Official Tutorial](https://docs.python.org/3/tutorial/)\n",
    "\n",
    "---\n",
    "\n",
    "This quiz contains 20 questions on Python functions: creating functions, calling functions, built-in functions, type conversion, `input()`, importing, and more. Some are multiple-choice with explanations hidden until clicked, and others require running code cells."
   ]
  },
  {
   "cell_type": "markdown",
   "metadata": {},
   "source": [
    "### Q1. Define and Call a Function\n",
    "**Topic:** User-defined functions\n",
    "\n",
    "Complete the function so that calling `greet()` prints `Hello World!`."
   ]
  },
  {
   "cell_type": "code",
   "execution_count": null,
   "metadata": {},
   "outputs": [],
   "source": [
    "def greet():\n",
    "    _____(\"Hello World!\")\n",
    "\n",
    "greet()"
   ]
  },
  {
   "cell_type": "markdown",
   "metadata": {},
   "source": [
    "### Q2. Multiple Choice\n",
    "**Topic:** Function parameters\n",
    "\n",
    "What is the result of the following?\n",
    "```python\n",
    "def add(x, y=5):\n",
    "    return x + y\n",
    "add(3)\n",
    "```\n",
    "\n",
    "A) 3  \n",
    "B) 5  \n",
    "C) 8  \n",
    "D) Error  \n",
    "\n",
    "<details>\n",
    "<summary>Click to reveal answer and explanation</summary>\n",
    "\n",
    "**Answer:** C) 8  \n",
    "Explanation: `y` defaults to 5, so result = 3+5.\n",
    "</details>"
   ]
  },
  {
   "cell_type": "markdown",
   "metadata": {},
   "source": [
    "### Q3. Return Values\n",
    "**Topic:** Returning from functions\n",
    "\n",
    "Complete the function to return the square of a number. Test with `5`."
   ]
  },
  {
   "cell_type": "code",
   "execution_count": null,
   "metadata": {},
   "outputs": [],
   "source": [
    "def square(n):\n",
    "    _____ n*n\n",
    "\n",
    "square(5)"
   ]
  },
  {
   "cell_type": "markdown",
   "metadata": {},
   "source": [
    "### Q4. Multiple Choice\n",
    "**Topic:** Built-in `len()`\n",
    "\n",
    "What is the result of `len([10,20,30])`?\n",
    "\n",
    "A) 2  \n",
    "B) 3  \n",
    "C) 30  \n",
    "D) Error  \n",
    "\n",
    "<details>\n",
    "<summary>Click to reveal answer and explanation</summary>\n",
    "\n",
    "**Answer:** B) 3  \n",
    "Explanation: `len()` returns number of elements, not values.\n",
    "</details>"
   ]
  },
  {
   "cell_type": "markdown",
   "metadata": {},
   "source": [
    "### Q5. Type Conversion\n",
    "**Topic:** Using `int()`, `float()`, `str()`, `bool()`\n",
    "\n",
    "Fill in the blanks to convert `'123'` to an integer, `12.7` to a string, and `0` to a boolean. Check with `type()`"
   ]
  },
  {
   "cell_type": "code",
   "execution_count": null,
   "metadata": {},
   "outputs": [],
   "source": [
    "______('123'), _____(12.7), _____(0)"
   ]
  },
  {
   "cell_type": "markdown",
   "metadata": {},
   "source": [
    "### Q6. Multiple Choice\n",
    "**Topic:** `input()` function\n",
    "\n",
    "What is the type of value returned by `input()` in Python 3?\n",
    "\n",
    "A) int  \n",
    "B) str  \n",
    "C) float  \n",
    "D) bool  \n",
    "\n",
    "<details>\n",
    "<summary>Click to reveal answer and explanation</summary>\n",
    "\n",
    "**Answer:** B) str  \n",
    "Explanation: `input()` always returns a string; conversion is needed.\n",
    "</details>"
   ]
  },
  {
   "cell_type": "markdown",
   "metadata": {},
   "source": [
    "### Q7. User-defined Function\n",
    "**Topic:** Conversion\n",
    "\n",
    "Fill in the blank to define `fahrenheit_to_celsius(f)` that converts Fahrenheit to Celsius. Test with `212`."
   ]
  },
  {
   "cell_type": "code",
   "execution_count": null,
   "metadata": {},
   "outputs": [],
   "source": [
    "def fahrenheit_to_celsius(f):\n",
    "    return (f - 32) * _____\n",
    "\n",
    "fahrenheit_to_celsius(212)"
   ]
  },
  {
   "cell_type": "markdown",
   "metadata": {},
   "source": [
    "### Q8. Multiple Choice\n",
    "**Topic:** Importing functions\n",
    "\n",
    "Which is the correct way to import `sqrt` from `math`?\n",
    "\n",
    "A) `import sqrt from math`  \n",
    "B) `from math import sqrt`  \n",
    "C) `import math.sqrt`  \n",
    "D) `import math as sqrt`  \n",
    "\n",
    "<details>\n",
    "<summary>Click to reveal answer and explanation</summary>\n",
    "\n",
    "**Answer:** B) `from math import sqrt`  \n",
    "Explanation: This imports only `sqrt` from the math module.\n",
    "</details>"
   ]
  },
  {
   "cell_type": "markdown",
   "metadata": {},
   "source": [
    "### Q9. Built-in `print()`\n",
    "**Topic:** Function arguments\n",
    "\n",
    "Fill in the blanks to display `Hello` and `World` separated by `-`."
   ]
  },
  {
   "cell_type": "code",
   "execution_count": null,
   "metadata": {},
   "outputs": [],
   "source": [
    "print('Hello', 'World', sep=_____)"
   ]
  },
  {
   "cell_type": "markdown",
   "metadata": {},
   "source": [
    "### Q10. Multiple Choice\n",
    "**Topic:** Default arguments\n",
    "\n",
    "What happens if a function is defined as `def greet(name='Guest')` and called as `greet()`?\n",
    "\n",
    "A) Error  \n",
    "B) Prints nothing  \n",
    "C) Uses 'Guest' as argument  \n",
    "D) Requires explicit argument  \n",
    "\n",
    "<details>\n",
    "<summary>Click to reveal answer and explanation</summary>\n",
    "\n",
    "**Answer:** C) Uses 'Guest' as argument  \n",
    "Explanation: Default values are used when no argument is provided.\n",
    "</details>"
   ]
  },
  {
   "cell_type": "markdown",
   "metadata": {},
   "source": [
    "### Q11. Function Returning Function\n",
    "**Topic:** Higher-order functions\n",
    "\n",
    "Complete the function to return a function multiplying by `n`. Test with `make_multiplier(3)(10)`."
   ]
  },
  {
   "cell_type": "code",
   "execution_count": null,
   "metadata": {},
   "outputs": [],
   "source": [
    "def make_multiplier(n):\n",
    "    return _____ x: x*n\n",
    "\n",
    "make_multiplier(3)(10)"
   ]
  },
  {
   "cell_type": "markdown",
   "metadata": {},
   "source": [
    "### Q12. Multiple Choice\n",
    "**Topic:** return vs print\n",
    "\n",
    "What is the difference between `return` and `print`?\n",
    "\n",
    "A) `print` outputs to console; `return` passes value back  \n",
    "B) `return` prints; `print` passes value  \n",
    "C) Both identical  \n",
    "D) `return` optional, `print` required  \n",
    "\n",
    "<details>\n",
    "<summary>Click to reveal answer and explanation</summary>\n",
    "\n",
    "**Answer:** A) `print` outputs; `return` passes value to caller.\n",
    "</details>"
   ]
  },
  {
   "cell_type": "markdown",
   "metadata": {},
   "source": [
    "### Q13. Using `max` and `min`\n",
    "**Topic:** Built-in functions\n",
    "\n",
    "Complete `range_stats(nums)` to return the difference between max and min of a list. Test with `[4,7,1,9]`."
   ]
  },
  {
   "cell_type": "code",
   "execution_count": null,
   "metadata": {},
   "outputs": [],
   "source": [
    "def range_stats(nums):\n",
    "    return _____(nums) - _____(nums)\n",
    "\n",
    "range_stats([4,7,1,9])"
   ]
  },
  {
   "cell_type": "markdown",
   "metadata": {},
   "source": [
    "### Q14. Code Completion\n",
    "**Topic:** Keyword arguments\n",
    "\n",
    "Fill in the missing parts so that the function call prints `Hello, Alice!`."
   ]
  },
  {
   "cell_type": "code",
   "execution_count": null,
   "metadata": {},
   "outputs": [],
   "source": [
    "def greet(name, greeting='Hello'):\n",
    "    print(greeting + ', ' + name + '!')\n",
    "\n",
    "greet(_____, greeting=_____)"
   ]
  },
  {
   "cell_type": "markdown",
   "metadata": {},
   "source": [
    "### Q15. Function with *args\n",
    "**Topic:** Variable arguments\n",
    "\n",
    "Write a function `sum_all(*args)` returning the sum of all arguments. Test with `(1,2,3,4)`."
   ]
  },
  {
   "cell_type": "code",
   "execution_count": null,
   "metadata": {},
   "outputs": [],
   "source": [
    "def sum_all(*args):\n",
    "    return _____(args)\n",
    "\n",
    "sum_all(1,2,3,4)"
   ]
  },
  {
   "cell_type": "markdown",
   "metadata": {},
   "source": [
    "### Q16. Multiple Choice\n",
    "**Topic:** Lambda\n",
    "\n",
    "What is the result of `(lambda x,y: x*y)(3,4)`?\n",
    "\n",
    "A) 7  \n",
    "B) 12  \n",
    "C) Error  \n",
    "D) (3,4)  \n",
    "\n",
    "<details>\n",
    "<summary>Click to reveal answer and explanation</summary>\n",
    "\n",
    "**Answer:** B) 12  \n",
    "Explanation: Lambda defines an anonymous function.\n",
    "</details>"
   ]
  },
  {
   "cell_type": "markdown",
   "metadata": {},
   "source": [
    "### Q17. Challenge: Import and Use\n",
    "**Topic:** Built-in modules\n",
    "\n",
    "Fill in the missing code to import `math` and use `factorial(5)`."
   ]
  },
  {
   "cell_type": "code",
   "execution_count": null,
   "metadata": {},
   "outputs": [],
   "source": [
    "_____ math\n",
    "print(________(5))"
   ]
  },
  {
   "cell_type": "markdown",
   "metadata": {},
   "source": [
    "### Q18. Multiple Choice\n",
    "**Topic:** Scope\n",
    "\n",
    "What is the result?\n",
    "```python\n",
    "x = 10\n",
    "def f():\n",
    "    x = 5\n",
    "f()\n",
    "x\n",
    "```\n",
    "\n",
    "A) 10  \n",
    "B) 5  \n",
    "C) Error  \n",
    "D) None  \n",
    "\n",
    "<details>\n",
    "<summary>Click to reveal answer and explanation</summary>\n",
    "\n",
    "**Answer:** A) 10  \n",
    "Explanation: Function’s local variable does not change the global.\n",
    "</details>"
   ]
  },
  {
   "cell_type": "markdown",
   "metadata": {},
   "source": [
    "### Q19. Challenge: User input\n",
    "**Topic:** Combining input, int, and function\n",
    "\n",
    "Fill in the missing code to:\n",
    "1. Prompt user for a number\n",
    "2. Convert to int\n",
    "3. Double it with `double(x)`\n",
    "4. Print the result"
   ]
  },
  {
   "cell_type": "code",
   "execution_count": null,
   "metadata": {},
   "outputs": [],
   "source": [
    "def double(x):\n",
    "    return x*2\n",
    "\n",
    "num = _____(_____(\"Enter a number: \"))\n",
    "_____(double(num))"
   ]
  },
  {
   "cell_type": "markdown",
   "metadata": {},
   "source": [
    "### Q20. Code Completion\n",
    "**Topic:** Recursion\n",
    "\n",
    "Fill in the blanks to complete a recursive function that returns the factorial of `n`."
   ]
  },
  {
   "cell_type": "code",
   "execution_count": null,
   "metadata": {},
   "outputs": [],
   "source": [
    "def factorial(n):\n",
    "    if n == 0:\n",
    "        return 1\n",
    "    else:\n",
    "        return n * _____(n - 1)\n",
    "\n",
    "factorial(5)"
   ]
  }
 ],
 "metadata": {
  "kernelspec": {
   "display_name": "Python 3",
   "language": "python",
   "name": "python3"
  },
  "language_info": {
   "codemirror_mode": {
    "name": "ipython",
    "version": 3
   },
   "file_extension": ".py",
   "mimetype": "text/x-python",
   "name": "python",
   "nbconvert_exporter": "python",
   "pygments_lexer": "ipython3",
   "version": "3.8.10"
  }
 },
 "nbformat": 4,
 "nbformat_minor": 5
}
