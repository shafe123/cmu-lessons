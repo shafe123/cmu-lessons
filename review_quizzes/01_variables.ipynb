{
 "cells": [
  {
   "cell_type": "markdown",
   "metadata": {},
   "source": [
    "# Python Quiz: Variables\n",
    "\n",
    "**Topics Covered:** Variable Assignment, Naming Rules, Constants, Reserved Words, Scope, Mutability, Shadowing, Tuple Unpacking, Best Practices, Identity vs Equality, Global/Nonlocal, Type Hints\n",
    "\n",
    "---\n",
    "## Notes for Students\n",
    "- [Python Variables Documentation](https://docs.python.org/3/tutorial/introduction.html#using-variables)\n",
    "- [Identifiers and Keywords](https://docs.python.org/3/reference/lexical_analysis.html#identifiers)\n",
    "- [Scope Rules](https://docs.python.org/3/reference/executionmodel.html#naming-and-binding)\n",
    "- [Built-in Constants](https://docs.python.org/3/library/constants.html)\n",
    "- [PEP 8 Naming Conventions](https://peps.python.org/pep-0008/#naming-conventions)\n",
    "\n",
    "---"
   ]
  },
  {
   "cell_type": "markdown",
   "metadata": {},
   "source": [
    "### Q1.\n",
    "**Topic:** Variable Naming Rules\n",
    "\n",
    "Try assigning values to these variables in the code block below. Which ones are valid?\n",
    "\n",
    "```python\n",
    "1var = 10\n",
    "var_1 = 20\n",
    "_hidden = 30\n",
    "class = 40\n",
    "```"
   ]
  },
  {
   "cell_type": "code",
   "execution_count": null,
   "metadata": {},
   "outputs": [],
   "source": []
  },
  {
   "cell_type": "markdown",
   "metadata": {},
   "source": [
    "### Q2.\n",
    "**Topic:** Constants in Python\n",
    "\n",
    "What is the conventional way to name constants in Python?"
   ]
  },
  {
   "cell_type": "markdown",
   "metadata": {},
   "source": [
    "<details>\n",
    "<summary>Reveal Answer</summary>\n",
    "Constants are written in **ALL_CAPS** with underscores, e.g. `MAX_SIZE = 100`.\n",
    "</details>"
   ]
  },
  {
   "cell_type": "markdown",
   "metadata": {},
   "source": [
    "### Q3.\n",
    "**Topic:** Reserved Words\n",
    "\n",
    "Which of the following is a reserved keyword in Python?\n",
    "\n",
    "- A) `lambda`\n",
    "- B) `Lambda`\n",
    "- C) `LAMbda`\n",
    "- D) `lambDa`"
   ]
  },
  {
   "cell_type": "markdown",
   "metadata": {},
   "source": [
    "<details>\n",
    "<summary>Reveal Answer</summary>\n",
    "**Answer:** A) `lambda`  \n",
    "**Explanation:** Keywords are lowercase. Only `lambda` is reserved.\n",
    "</details>"
   ]
  },
  {
   "cell_type": "markdown",
   "metadata": {},
   "source": [
    "### Q4.\n",
    "**Topic:** Variable Reassignment\n",
    "\n",
    "What is the final value of `x`?\n",
    "\n",
    "```python\n",
    "x = 10\n",
    "x = x + 5\n",
    "x = 'ten'\n",
    "print(x)\n",
    "```"
   ]
  },
  {
   "cell_type": "code",
   "execution_count": null,
   "metadata": {},
   "outputs": [],
   "source": []
  },
  {
   "cell_type": "markdown",
   "metadata": {},
   "source": [
    "### Q5.\n",
    "**Topic:** Variable Scope\n",
    "\n",
    "What happens if you run this code?\n",
    "\n",
    "```python\n",
    "x = 5\n",
    "def test():\n",
    "    print(x)\n",
    "test()\n",
    "```\n",
    "\n",
    "- A) Prints 5\n",
    "- B) NameError\n",
    "- C) Prints None\n",
    "- D) RuntimeError"
   ]
  },
  {
   "cell_type": "markdown",
   "metadata": {},
   "source": [
    "<details>\n",
    "<summary>Reveal Answer</summary>\n",
    "<b>Answer:</b> A) Prints 5<br>\n",
    "<b>Explanation:</b> Functions can access global variables unless shadowed.\n",
    "</details>"
   ]
  },
  {
   "cell_type": "markdown",
   "metadata": {},
   "source": [
    "### Q6.\n",
    "**Topic:** Best Practices\n",
    "\n",
    "PEP 8 recommends variable names be written in ______ case with words separated by underscores."
   ]
  },
  {
   "cell_type": "markdown",
   "metadata": {},
   "source": [
    "<details>\n",
    "<summary>Reveal Answer</summary>\n",
    "snake_case\n",
    "</details>"
   ]
  },
  {
   "cell_type": "markdown",
   "metadata": {},
   "source": [
    "### Q7.\n",
    "**Topic:** Shadowing\n",
    "\n",
    "What happens here?\n",
    "\n",
    "```python\n",
    "len = 100\n",
    "print(len('hello'))\n",
    "```"
   ]
  },
  {
   "cell_type": "code",
   "execution_count": null,
   "metadata": {},
   "outputs": [],
   "source": []
  },
  {
   "cell_type": "markdown",
   "metadata": {},
   "source": [
    "### Q8.\n",
    "**Topic:** Tuple Unpacking\n",
    "\n",
    "What is printed?\n",
    "\n",
    "```python\n",
    "a, b = 1, 2\n",
    "a, b = b, a\n",
    "print(a, b)\n",
    "```\n",
    "\n",
    "- A) 1 2\n",
    "- B) 2 1\n",
    "- C) (1,2)\n",
    "- D) Error"
   ]
  },
  {
   "cell_type": "markdown",
   "metadata": {},
   "source": [
    "<details>\n",
    "<summary>Reveal Answer</summary>\n",
    "**Answer:** B) 2 1  \n",
    "**Explanation:** Python supports tuple unpacking for swapping.\n",
    "</details>"
   ]
  },
  {
   "cell_type": "markdown",
   "metadata": {},
   "source": [
    "### Q9.\n",
    "**Topic:** Mutability\n",
    "\n",
    "Run and explain the result\n",
    "\n",
    "```python\n",
    "x = [1,2,3]\n",
    "y = x\n",
    "y.append(4)\n",
    "print(x)\n",
    "```"
   ]
  },
  {
   "cell_type": "code",
   "execution_count": null,
   "metadata": {},
   "outputs": [],
   "source": []
  },
  {
   "cell_type": "markdown",
   "metadata": {},
   "source": [
    "### Q10.\n",
    "**Topic:** Deleting Variables\n",
    "\n",
    "What happens if you run this?\n",
    "\n",
    "```python\n",
    "x = 50\n",
    "del x\n",
    "print(x)\n",
    "```\n",
    "\n",
    "- A) Prints 50\n",
    "- B) Prints None\n",
    "- C) NameError\n",
    "- D) 0"
   ]
  },
  {
   "cell_type": "markdown",
   "metadata": {},
   "source": [
    "<details>\n",
    "<summary>Reveal Answer</summary>\n",
    "**Answer:** C) NameError  \n",
    "**Explanation:** `del` removes the variable binding; accessing it later raises NameError.\n",
    "</details>"
   ]
  },
  {
   "cell_type": "markdown",
   "metadata": {},
   "source": [
    "### Q11.\n",
    "**Topic:** Multiple Assignment\n",
    "\n",
    "```python\n",
    "a = b = c = 10\n",
    "b = 20\n",
    "print(a, b, c)\n",
    "```"
   ]
  },
  {
   "cell_type": "code",
   "execution_count": null,
   "metadata": {},
   "outputs": [],
   "source": []
  },
  {
   "cell_type": "markdown",
   "metadata": {},
   "source": [
    "### Q12.\n",
    "**Topic:** Identity vs Equality\n",
    "\n",
    "```python\n",
    "x = [1,2,3]\n",
    "y = [1,2,3]\n",
    "print(x == y, x is y)\n",
    "```\n",
    "\n",
    "What does this print?\n",
    "\n",
    "- A) True True\n",
    "- B) True False\n",
    "- C) False True\n",
    "- D) False False"
   ]
  },
  {
   "cell_type": "markdown",
   "metadata": {},
   "source": [
    "<details>\n",
    "<summary>Reveal Answer</summary>\n",
    "**Answer:** B) True False  \n",
    "**Explanation:** Lists compare equal with `==`, but are different objects (`is` checks identity).\n",
    "</details>"
   ]
  },
  {
   "cell_type": "markdown",
   "metadata": {},
   "source": [
    "### Q13.\n",
    "**Topic:** Global Keyword\n",
    "\n",
    "What does this print?\n",
    "\n",
    "```python\n",
    "x = 5\n",
    "def change():\n",
    "    global x\n",
    "    x = 10\n",
    "change()\n",
    "print(x)\n",
    "```"
   ]
  },
  {
   "cell_type": "code",
   "execution_count": null,
   "metadata": {},
   "outputs": [],
   "source": []
  },
  {
   "cell_type": "markdown",
   "metadata": {},
   "source": [
    "### Q14.\n",
    "**Topic:** Nonlocal Keyword\n",
    "\n",
    "```python\n",
    "def outer():\n",
    "    x = 5\n",
    "    def inner():\n",
    "        nonlocal x\n",
    "        x = 10\n",
    "    inner()\n",
    "    return x\n",
    "print(outer())\n",
    "```\n",
    "\n",
    "- A) 5\n",
    "- B) 10\n",
    "- C) None\n",
    "- D) Error"
   ]
  },
  {
   "cell_type": "markdown",
   "metadata": {},
   "source": [
    "<details>\n",
    "<summary>Reveal Answer</summary>\n",
    "**Answer:** B) 10  \n",
    "**Explanation:** `nonlocal` modifies the variable in the enclosing function.\n",
    "</details>"
   ]
  },
  {
   "cell_type": "markdown",
   "metadata": {},
   "source": [
    "### Q15.\n",
    "**Topic:** Reusing Built-ins\n",
    "\n",
    "What does this print?\n",
    "\n",
    "```python\n",
    "list = [1,2,3]\n",
    "print(list('abc'))\n",
    "```"
   ]
  },
  {
   "cell_type": "code",
   "execution_count": null,
   "metadata": {},
   "outputs": [],
   "source": []
  },
  {
   "cell_type": "markdown",
   "metadata": {},
   "source": [
    "### Q16.\n",
    "**Topic:** Variable Annotations\n",
    "\n",
    "Which is the correct syntax for annotating a variable `age` as an integer?\n",
    "\n",
    "- A) `int age = 5`\n",
    "- B) `age: int = 5`\n",
    "- C) `age = int 5`\n",
    "- D) `age -> int = 5`"
   ]
  },
  {
   "cell_type": "markdown",
   "metadata": {},
   "source": [
    "<details>\n",
    "<summary>Reveal Answer</summary>\n",
    "**Answer:** B) `age: int = 5`  \n",
    "**Explanation:** Python supports variable annotations using `:`.\n",
    "</details>"
   ]
  },
  {
   "cell_type": "markdown",
   "metadata": {},
   "source": [
    "### Q17.\n",
    "**Topic:** F-strings with Variables\n",
    "\n",
    "What does this print?\n",
    "\n",
    "```python\n",
    "name = 'Alice'\n",
    "age = 30\n",
    "print(f\"{name} is {age} years old\")\n",
    "```"
   ]
  },
  {
   "cell_type": "code",
   "execution_count": null,
   "metadata": {},
   "outputs": [],
   "source": []
  },
  {
   "cell_type": "markdown",
   "metadata": {},
   "source": [
    "### Q18.\n",
    "**Topic:** Scope Gotcha\n",
    "\n",
    "What does this print?\n",
    "\n",
    "```python\n",
    "x = 5\n",
    "def func():\n",
    "    print(x)\n",
    "    x = 10\n",
    "func()\n",
    "```\n",
    "\n",
    "- A) Prints 5 then 10\n",
    "- B) Prints 5 only\n",
    "- C) UnboundLocalError\n",
    "- D) NameError"
   ]
  },
  {
   "cell_type": "markdown",
   "metadata": {},
   "source": [
    "<details>\n",
    "<summary>Reveal Answer</summary>\n",
    "**Answer:** C) UnboundLocalError  \n",
    "**Explanation:** Assigning to `x` makes it local, but it's referenced before assignment.\n",
    "</details>"
   ]
  },
  {
   "cell_type": "markdown",
   "metadata": {},
   "source": [
    "### Q19.\n",
    "**Topic:** None Binding\n",
    "\n",
    "What does this print?\n",
    "\n",
    "```python\n",
    "value = None\n",
    "if value:\n",
    "    print(\"Something\")\n",
    "else:\n",
    "    print(\"Nothing\")\n",
    "```"
   ]
  },
  {
   "cell_type": "code",
   "execution_count": null,
   "metadata": {},
   "outputs": [],
   "source": []
  },
  {
   "cell_type": "markdown",
   "metadata": {},
   "source": [
    "### Q20.\n",
    "**Topic:** Best Practices\n",
    "\n",
    "Write Python code that:\n",
    "1. Defines a constant for the maximum number of retries.\n",
    "2. Creates a variable `attempts` starting at 0.\n",
    "3. Increments `attempts` until it equals the maximum retries, printing each attempt."
   ]
  },
  {
   "cell_type": "code",
   "execution_count": null,
   "metadata": {},
   "outputs": [],
   "source": []
  }
 ],
 "metadata": {
  "kernelspec": {
   "display_name": "Python 3",
   "language": "python",
   "name": "python3"
  },
  "language_info": {
   "codemirror_mode": {
    "name": "ipython",
    "version": 3
   },
   "file_extension": ".py",
   "mimetype": "text/x-python",
   "name": "python",
   "nbconvert_exporter": "python",
   "pygments_lexer": "ipython3",
   "version": "3.8.10"
  }
 },
 "nbformat": 4,
 "nbformat_minor": 2
}
