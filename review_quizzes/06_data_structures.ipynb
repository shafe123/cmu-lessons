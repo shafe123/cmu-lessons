{
 "cells": [
  {
   "cell_type": "markdown",
   "id": "9f8fbc4a",
   "metadata": {},
   "source": [
    "# Quiz: Python Data Structures\n",
    "\n",
    "This quiz is designed to test your understanding of fundamental Python data structures. It covers the properties, methods, and use cases for lists, dictionaries, sets, and tuples."
   ]
  },
  {
   "cell_type": "markdown",
   "id": "606de2db",
   "metadata": {},
   "source": [
    "## Multiple Choice"
   ]
  },
  {
   "cell_type": "markdown",
   "id": "b1a4e5f8",
   "metadata": {},
   "source": [
    "### Data Structure Definition\n",
    "Which of the following best describes a data structure?\n",
    "\n",
    "1. A function that performs a specific task.\n",
    "2. A specialized format for organizing, processing, retrieving, and storing data.\n",
    "3. A type of variable that can only hold numbers.\n",
    "4. A conditional statement like `if-else`.\n",
    "\n",
    "<details>\n",
    "<summary>Answer</summary>\n",
    "**2. A specialized format for organizing, processing, retrieving, and storing data.**\n\n",
    "**Explanation:** A data structure is a way of organizing data so that it can be accessed and used efficiently. The other options describe different programming constructs, not data structures.\n",
    "</details>"
   ]
  },
  {
   "cell_type": "markdown",
   "id": "c7d3e1a9",
   "metadata": {},
   "source": [
    "### List Properties\n",
    "What is a fundamental property of a Python list?\n",
    "\n",
    "1. It is immutable.\n",
    "2. It cannot contain duplicate elements.\n",
    "3. It is an ordered and mutable collection of items.\n",
    "4. It stores items as key-value pairs.\n",
    "\n",
    "<details>\n",
    "<summary>Answer</summary>\n",
    "**3. It is an ordered and mutable collection of items.**\n\n",
    "**Explanation:** Lists in Python maintain the order of their elements (ordered) and can be changed after creation (mutable). Tuples are immutable, sets cannot have duplicates, and dictionaries use key-value pairs.\n",
    "</details>"
   ]
  },
  {
   "cell_type": "markdown",
   "id": "d9e8f2b0",
   "metadata": {},
   "source": [
    "### Modifying a List\n",
    "Which method is used to add a single element to the end of a list?\n",
    "\n",
    "1. `add()`\n",
    "2. `extend()`\n",
    "3. `push()`\n",
    "4. `append()`\n",
    "\n",
    "<details>\n",
    "<summary>Answer</summary>\n",
    "**4. `append()`**\n\n",
    "**Explanation:** The `append()` method adds its argument as a single element to the end of a list. `extend()` iterates over its argument and adds each item, `add()` is for sets, and `push()` is not a standard list method in Python.\n",
    "</details>"
   ]
  },
  {
   "cell_type": "markdown",
   "id": "e1f9a3c1",
   "metadata": {},
   "source": [
    "### Dictionary Properties\n",
    "What is the primary purpose of a Python dictionary?\n",
    "\n",
    "1. To store an ordered sequence of elements.\n",
    "2. To store a collection of unique, unordered items.\n",
    "3. To store data in key-value pairs for efficient lookup.\n",
    "4. To store an immutable sequence of elements.\n",
    "\n",
    "<details>\n",
    "<summary>Answer</summary>\n",
    "**3. To store data in key-value pairs for efficient lookup.**\n\n",
    "**Explanation:** Dictionaries are optimized for retrieving a value when you know the key, making them ideal for associative data storage.\n",
    "</details>"
   ]
  },
  {
   "cell_type": "markdown",
   "id": "f2a0b4d2",
   "metadata": {},
   "source": [
    "### Accessing Dictionary Elements\n",
    "Given `my_dict = {\"name\": \"John\", \"age\": 30}`, how would you access the value `30`?\n",
    "\n",
    "1. `my_dict[1]`\n",
    "2. `my_dict.get(\"age\")`\n",
    "3. `my_dict.value(\"age\")`\n",
    "4. `my_dict[\"value\"][1]`\n",
    "\n",
    "<details>\n",
    "<summary>Answer</summary>\n",
    "**2. `my_dict.get(\"age\")`**\n\n",
    "**Explanation:** You access dictionary values by their keys. Both `my_dict['age']` and `my_dict.get('age')` work. `get()` is often safer as it returns `None` instead of raising an error if the key doesn't exist. Dictionaries are not accessed by numeric index like lists.\n",
    "</details>"
   ]
  },
  {
   "cell_type": "markdown",
   "id": "a3b1c5e3",
   "metadata": {},
   "source": [
    "### Set Properties\n",
    "Which of these are fundamental properties of a Python set?\n",
    "\n",
    "1. Ordered and mutable.\n",
    "2. Unordered and contains unique elements.\n",
    "3. Ordered and immutable.\n",
    "4. Unordered and allows duplicate elements.\n",
    "\n",
    "<details>\n",
    "<summary>Answer</summary>\n",
    "**2. Unordered and contains unique elements.**\n\n",
    "**Explanation:** Sets do not maintain any specific order, and they automatically discard any duplicate elements you try to add.\n",
    "</details>"
   ]
  },
  {
   "cell_type": "markdown",
   "id": "b4c2d6f4",
   "metadata": {},
   "source": [
    "### Modifying a Set\n",
    "Which method is used to add a single element to a set?\n",
    "\n",
    "1. `append()`\n",
    "2. `insert()`\n",
    "3. `add()`\n",
    "4. `update()`\n",
    "\n",
    "<details>\n",
    "<summary>Answer</summary>\n",
    "**3. `add()`**\n\n",
    "**Explanation:** The `add()` method is used to add a single element to a set. `append()` and `insert()` are for lists, while `update()` is used to add multiple elements to a set from an iterable.\n",
    "</details>"
   ]
  },
  {
   "cell_type": "markdown",
   "id": "c5d3e7a5",
   "metadata": {},
   "source": [
    "### Tuple Properties\n",
    "What is the defining characteristic of a Python tuple?\n",
    "\n",
    "1. It is mutable.\n",
    "2. It is unordered.\n",
    "3. It is immutable.\n",
    "4. It must contain elements of the same data type.\n",
    "\n",
    "<details>\n",
    "<summary>Answer</summary>\n",
    "**3. It is immutable.**\n\n",
    "**Explanation:** The key property of a tuple is its immutability, meaning it cannot be changed after it's created. This makes it a reliable data container for constants.\n",
    "</details>"
   ]
  },
  {
   "cell_type": "markdown",
   "id": "d6e4f8b6",
   "metadata": {},
   "source": [
    "### Data Structure Use Cases\n",
    "You need to store a collection of unique tags for blog posts, and you will need to perform membership tests very quickly. Which data structure is the most appropriate?\n",
    "\n",
    "1. List\n",
    "2. Dictionary\n",
    "3. Set\n",
    "4. Tuple\n",
    "\n",
    "<details>\n",
    "<summary>Answer</summary>\n",
    "**3. Set**\n\n",
    "**Explanation:** A set is the perfect choice here because it automatically handles uniqueness (no duplicate tags) and is highly optimized for fast membership testing (e.g., checking if a tag already exists).\n",
    "</details>"
   ]
  },
  {
   "cell_type": "markdown",
   "id": "e7f5a9c7",
   "metadata": {},
   "source": [
    "### List vs. Set\n",
    "What are the two primary behavioral differences between a list and a set?\n",
    "\n",
    "1. Lists are mutable while sets are immutable; Lists are ordered while sets are unordered.\n",
    "2. Lists allow duplicates while sets do not; Lists maintain insertion order while sets do not.\n",
    "3. Lists use index-based access while sets use key-based access; Lists are for numbers while sets are for strings.\n",
    "4. Lists are fast for lookups while sets are slow; Lists can be nested while sets cannot.\n",
    "\n",
    "<details>\n",
    "<summary>Answer</summary>\n",
    "**2. Lists allow duplicates while sets do not; Lists maintain insertion order while sets do not.**\n\n",
    "**Explanation:** The core distinctions are that lists care about order and allow for the same element to appear multiple times, whereas sets are unordered collections of unique elements.\n",
    "</details>"
   ]
  },
  {
   "cell_type": "markdown",
   "id": "f8a6baD8",
   "metadata": {},
   "source": [
    "### List vs. Tuple\n",
    "What is the main reason to choose a tuple over a list?\n",
    "\n",
    "1. You need to frequently add or remove elements.\n",
    "2. The order of elements does not matter.\n",
    "3. You need to store a collection of items that should not be changed after creation.\n",
    "4. You need to store key-value pairs.\n",
    "\n",
    "<details>\n",
    "<summary>Answer</summary>\n",
    "**3. You need to store a collection of items that should not be changed after creation.**\n\n",
    "**Explanation:** You use a tuple when you want to ensure the data cannot be accidentally or intentionally modified. This property is called immutability.\n",
    "</details>"
   ]
  },
  {
   "cell_type": "markdown",
   "id": "e11620b8",
   "metadata": {},
   "source": [
    "## Fill In The Blank"
   ]
  },
  {
   "cell_type": "markdown",
   "id": "a783f80a",
   "metadata": {},
   "source": [
    "### List Property\n",
    "A Python `list` is an ordered, ______ collection of items.\n",
    "\n",
    "<details>\n",
    "<summary>Answer</summary>\n",
    "**mutable**\n\n",
    "**Explanation:** Mutable means that the list can be modified after its creation—you can add, remove, or change elements.\n",
    "</details>"
   ]
  },
  {
   "cell_type": "markdown",
   "id": "6f9621ea",
   "metadata": {},
   "source": [
    "### Dictionary Structure\n",
    "A dictionary stores data in a series of ______ pairs.\n",
    "\n",
    "<details>\n",
    "<summary>Answer</summary>\n",
    "**key-value**\n\n",
    "**Explanation:** Each item in a dictionary consists of a unique key that maps to a value.\n",
    "</details>"
   ]
  },
  {
   "cell_type": "markdown",
   "id": "b8d2e4f5",
   "metadata": {},
   "source": [
    "### Set Uniqueness\n",
    "A `set` is an unordered collection of ______ elements.\n",
    "\n",
    "<details>\n",
    "<summary>Answer</summary>\n",
    "**unique (or distinct)**\n\n",
    "**Explanation:** A set cannot contain duplicate elements; if you try to add an element that is already present, the set remains unchanged.\n",
    "</details>"
   ]
  },
  {
   "cell_type": "markdown",
   "id": "c9a3f5a6",
   "metadata": {},
   "source": [
    "### Tuple Immutability\n",
    "Because a tuple is ______, its elements cannot be changed after it is created.\n",
    "\n",
    "<details>\n",
    "<summary>Answer</summary>\n",
    "**immutable**\n\n",
    "**Explanation:** Immutability is the core property of tuples, distinguishing them from lists and making them suitable for representing fixed data.\n",
    "</details>"
   ]
  },
  {
   "cell_type": "markdown",
   "id": "21c7ae66",
   "metadata": {},
   "source": [
    "## Reading Problems"
   ]
  },
  {
   "cell_type": "markdown",
   "id": "1f8e446e",
   "metadata": {},
   "source": [
    "etc..."
   ]
  },
  {
   "cell_type": "markdown",
   "id": "c0538136",
   "metadata": {},
   "source": [
    "## Software Problems"
   ]
  }
 ],
 "metadata": {
  "kernelspec": {
   "display_name": ".venv",
   "language": "python",
   "name": "python3"
  },
  "language_info": {
   "name": "python",
   "version": "3.13.5"
  }
 },
 "nbformat": 4,
 "nbformat_minor": 5
}