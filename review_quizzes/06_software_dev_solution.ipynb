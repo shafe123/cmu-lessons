{
 "cells": [
  {
   "cell_type": "markdown",
   "id": "52a41ca4",
   "metadata": {},
   "source": [
    "# Solutions: Quiz 06 - Software Dev\n",
    "This notebook provides reference solutions for the programming problems in the quiz. Each solution cell includes a small demonstration test to show expected behavior."
   ]
  },
  {
   "cell_type": "markdown",
   "id": "62244797",
   "metadata": {},
   "source": [
    "## Solution: check_line_length(path, max_len)\n",
    "Reads a file line-by-line and returns a list of tuples (lineno, length) for lines longer than max_len."
   ]
  },
  {
   "cell_type": "code",
   "execution_count": 1,
   "id": "a2366f0a",
   "metadata": {},
   "outputs": [
    {
     "name": "stdout",
     "output_type": "stream",
     "text": [
      "check_line_length demo passed\n"
     ]
    }
   ],
   "source": [
    "from pathlib import Path\n",
    "from typing import List, Tuple\n",
    "\n",
    "def check_line_length(path, max_len):\n",
    "    \"\"\"Return list of (lineno, length) for lines longer than max_len.\n",
    "    Streams file content and avoids loading whole file into memory.\n",
    "    \"\"\"\n",
    "    out = []\n",
    "    with open(path, 'r', encoding='utf-8') as f:\n",
    "        for i, line in enumerate(f, start=1):\n",
    "            ln = len(line.rstrip('\\n'))\n",
    "            if ln > max_len:\n",
    "                out.append((i, ln))\n",
    "    return out\n",
    "\n",
    "# Demo test\n",
    "p = Path('tmp_check_line.txt')\n",
    "p.write_text('short\\n' + 'x'*100 + '\\n')\n",
    "assert check_line_length(str(p), 79) == [(2, 100)]\n",
    "p.unlink()\n",
    "print('check_line_length demo passed')"
   ]
  },
  {
   "cell_type": "markdown",
   "id": "d5411baf",
   "metadata": {},
   "source": [
    "## Solution: summarize (refactor)\n",
    "Refactor the provided `summarize` by extracting helpers `valid_items` and `compute_stats`. The refactored `summarize` returns the same structure as the original."
   ]
  },
  {
   "cell_type": "code",
   "execution_count": null,
   "id": "dfac1784",
   "metadata": {},
   "outputs": [],
   "source": []
  },
  {
   "cell_type": "markdown",
   "id": "75b2ec4d",
   "metadata": {},
   "source": [
    "## Solution: parse_user / parse_admin refactor\n",
    "Extract a shared helper `_clean_and_int` used by both functions so parsing logic is centralized."
   ]
  },
  {
   "cell_type": "code",
   "execution_count": 4,
   "id": "ff49e318",
   "metadata": {},
   "outputs": [
    {
     "name": "stdout",
     "output_type": "stream",
     "text": [
      "parse_user/parse_admin demo passed\n"
     ]
    }
   ],
   "source": [
    "def _clean_str(config, key, default=''):\n",
    "    val = config.get(key, default)\n",
    "    return val.strip()\n",
    "\n",
    "def _clean_int(config, key, default=-1):\n",
    "    val = config.get(key, default)\n",
    "    if isinstance(val, str):\n",
    "        try:\n",
    "            return int(val)\n",
    "        except:\n",
    "            return default\n",
    "\n",
    "def parse_user(cfg):\n",
    "    name = _clean_str(cfg, 'name')\n",
    "    age = _clean_int(cfg, 'age', default=0)\n",
    "    return {'name': name, 'age': age}\n",
    "\n",
    "def parse_admin(cfg):\n",
    "    name = _clean_str(cfg, 'name')\n",
    "    level = _clean_int(cfg, 'level', default=1)\n",
    "    return {'name': name, 'level': level}\n",
    "\n",
    "# Demo test\n",
    "cfg = {'name': ' Alice ', 'age': '30', 'level': '2'}\n",
    "assert parse_user(cfg)['name'] == 'Alice'\n",
    "assert parse_admin(cfg)['level'] == 2\n",
    "print('parse_user/parse_admin demo passed')"
   ]
  },
  {
   "cell_type": "markdown",
   "id": "ed587c92",
   "metadata": {},
   "source": [
    "## Solution: parse_config(text)\n",
    "Implement a small parser that handles key=value lines, comments, blank lines, whitespace trimming, duplicate keys (last wins), and raises ValueError for malformed lines."
   ]
  },
  {
   "cell_type": "code",
   "execution_count": null,
   "id": "2a6550ec",
   "metadata": {},
   "outputs": [],
   "source": []
  }
 ],
 "metadata": {
  "kernelspec": {
   "display_name": ".venv",
   "language": "python",
   "name": "python3"
  },
  "language_info": {
   "codemirror_mode": {
    "name": "ipython",
    "version": 3
   },
   "file_extension": ".py",
   "mimetype": "text/x-python",
   "name": "python",
   "nbconvert_exporter": "python",
   "pygments_lexer": "ipython3",
   "version": "3.13.5"
  }
 },
 "nbformat": 4,
 "nbformat_minor": 5
}
