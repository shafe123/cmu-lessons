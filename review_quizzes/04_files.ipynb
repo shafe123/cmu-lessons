{
 "cells": [
  {
   "cell_type": "markdown",
   "id": "9f8fbc4a",
   "metadata": {},
   "source": [
    "# Quiz 04: Topic Working with Files\n",
    "This quiz is designed to test your understanding of reading and writing from files.  It consists of X multiple choice, Y short answer, Z fill in the blank, and XX programming problems."
   ]
  },
  {
   "cell_type": "markdown",
   "id": "606de2db",
   "metadata": {},
   "source": [
    "## Multiple Choice"
   ]
  },
  {
   "cell_type": "markdown",
   "id": "4038e0e3",
   "metadata": {},
   "source": [
    "### Absolute Paths\n",
    "What is an absolute path?\n",
    "\n",
    "A reference to a location ...\n",
    "1. that includes `/`\n",
    "2. starting from the root\n",
    "3. starting from the current directory\n",
    "4. that includes the word absolute\n",
    "\n",
    "<details>\n",
    "<summary>Answer</summary>\n",
    "2 - An absolute path starts from the root.\n",
    "</details>"
   ]
  },
  {
   "cell_type": "markdown",
   "id": "f7990098",
   "metadata": {},
   "source": [
    "### Valid Paths\n",
    "Which of these are valid paths in Linux?\n",
    "\n",
    "1. `/mnt/media/`\n",
    "2. `../help me/obi-wan`\n",
    "3. `./../../use_the_force.txt`\n",
    "4. `/usr/../usr/../etc`\n",
    "\n",
    "<details>\n",
    "<summary>Answer</summary>\n",
    "1, 2, 3, 4 - All are valid paths.\n",
    "</details>"
   ]
  },
  {
   "cell_type": "markdown",
   "id": "bbdf0665",
   "metadata": {},
   "source": [
    "### Special Characters\n",
    "Match the following characters with their definitions\n",
    "\n",
    "1. `/`\n",
    "2. `~`\n",
    "3. `..`\n",
    "4. `.`\n",
    "\n",
    "A. The root directory or path separator<br>\n",
    "B. The current directory<br>\n",
    "C. The user's home directory<br>\n",
    "D. The parent directory<br>\n",
    "\n",
    "<details>\n",
    "<summary>Answer</summary>\n",
    "1 - A <br>\n",
    "2 - C <br>\n",
    "3 - D <br>\n",
    "4 - B <br>\n",
    "</details>"
   ]
  },
  {
   "cell_type": "markdown",
   "id": "59b2e650",
   "metadata": {},
   "source": [
    "### File Modes\n",
    "Which mode should you use to open a file for writing, erasing its contents if it already exists or creating the file if it doesn't exist?\n",
    "\n",
    "1. `r`\n",
    "2. `w`\n",
    "3. `a`\n",
    "4. `x`\n",
    "\n",
    "<details>\n",
    "<summary>Answer</summary>\n",
    "2 - The \"write\" mode will truncate the existing contents of a file if it already exists.\n",
    "</details>"
   ]
  },
  {
   "cell_type": "markdown",
   "id": "e11620b8",
   "metadata": {},
   "source": [
    "## Fill In The Blank"
   ]
  },
  {
   "cell_type": "markdown",
   "id": "a783f80a",
   "metadata": {},
   "source": [
    "### Question name"
   ]
  },
  {
   "cell_type": "markdown",
   "id": "6f9621ea",
   "metadata": {},
   "source": [
    "### Second Question name"
   ]
  },
  {
   "cell_type": "markdown",
   "id": "21c7ae66",
   "metadata": {},
   "source": [
    "## Reading Problems"
   ]
  },
  {
   "cell_type": "markdown",
   "id": "1f8e446e",
   "metadata": {},
   "source": [
    "etc..."
   ]
  },
  {
   "cell_type": "markdown",
   "id": "c0538136",
   "metadata": {},
   "source": [
    "## Software Problems"
   ]
  }
 ],
 "metadata": {
  "kernelspec": {
   "display_name": ".venv",
   "language": "python",
   "name": "python3"
  },
  "language_info": {
   "name": "python",
   "version": "3.13.5"
  }
 },
 "nbformat": 4,
 "nbformat_minor": 5
}
