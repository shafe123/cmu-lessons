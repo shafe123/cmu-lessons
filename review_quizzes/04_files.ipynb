{
 "cells": [
  {
   "cell_type": "markdown",
   "id": "9f8fbc4a",
   "metadata": {},
   "source": [
    "# Quiz 04: Topic Working with Files\n",
    "This quiz is designed to test your understanding of reading and writing from files.  It consists of X multiple choice, Y short answer, Z fill in the blank, and XX programming problems."
   ]
  },
  {
   "cell_type": "markdown",
   "id": "606de2db",
   "metadata": {},
   "source": [
    "## Multiple Choice"
   ]
  },
  {
   "cell_type": "markdown",
   "id": "4038e0e3",
   "metadata": {},
   "source": [
    "### Absolute Paths\n",
    "What is an absolute path?\n",
    "\n",
    "A reference to a location ...\n",
    "1. that includes `/`\n",
    "2. starting from the root\n",
    "3. starting from the current directory\n",
    "4. that includes the word absolute\n",
    "\n",
    "<details>\n",
    "<summary>Answer</summary>\n",
    "2 - An absolute path starts from the root.\n",
    "</details>"
   ]
  },
  {
   "cell_type": "markdown",
   "id": "f7990098",
   "metadata": {},
   "source": [
    "### Valid Paths\n",
    "Which of these are valid paths in Linux?\n",
    "\n",
    "1. `/mnt/media/`\n",
    "2. `../help me/obi-wan`\n",
    "3. `./../../use_the_force.txt`\n",
    "4. `/usr/../usr/../etc`\n",
    "\n",
    "<details>\n",
    "<summary>Answer</summary>\n",
    "1, 2, 3, 4 - All are valid paths.\n",
    "</details>"
   ]
  },
  {
   "cell_type": "markdown",
   "id": "bbdf0665",
   "metadata": {},
   "source": [
    "### Special Characters\n",
    "Match the following characters with their definitions\n",
    "\n",
    "1. `/`\n",
    "2. `~`\n",
    "3. `..`\n",
    "4. `.`\n",
    "\n",
    "A. The root directory or path separator<br>\n",
    "B. The current directory<br>\n",
    "C. The user's home directory<br>\n",
    "D. The parent directory<br>\n",
    "\n",
    "<details>\n",
    "<summary>Answer</summary>\n",
    "1 - A <br>\n",
    "2 - C <br>\n",
    "3 - D <br>\n",
    "4 - B <br>\n",
    "</details>"
   ]
  },
  {
   "cell_type": "markdown",
   "id": "59b2e650",
   "metadata": {},
   "source": [
    "### File Modes\n",
    "Which mode should you use to open a file for writing, erasing its contents if it already exists or creating the file if it doesn't exist?\n",
    "\n",
    "1. `r`\n",
    "2. `w`\n",
    "3. `a`\n",
    "4. `x`\n",
    "\n",
    "<details>\n",
    "<summary>Answer</summary>\n",
    "2 - The \"write\" mode will truncate the existing contents of a file if it already exists.\n",
    "</details>"
   ]
  },
  {
   "cell_type": "markdown",
   "id": "9f9af6d5",
   "metadata": {},
   "source": [
    "### File Existence\n",
    "What happens if you try to open a nonexistent file in `r` mode?\n",
    "\n",
    "1. The file is deleted\n",
    "2. The file is created\n",
    "3. The file is renamed\n",
    "4. An error occurs\n",
    "\n",
    "<details>\n",
    "<summary>Answer</summary>\n",
    "4 - Python will raise a `FileNotFoundError` if the file does not exist.\n",
    "</details>"
   ]
  },
  {
   "cell_type": "markdown",
   "id": "791341eb",
   "metadata": {},
   "source": [
    "### Binary vs Text\n",
    "Which mode should you use to read a binary file in Python?\n",
    "\n",
    "1. `r`\n",
    "2. `w`\n",
    "3. `rb`\n",
    "4. `wb`\n",
    "\n",
    "<details>\n",
    "<summary>Answer</summary>\n",
    "3 - The `r` is for read and the `b` means in binary.\n",
    "</details>"
   ]
  },
  {
   "cell_type": "markdown",
   "id": "e11620b8",
   "metadata": {},
   "source": [
    "## Fill In The Blank"
   ]
  },
  {
   "cell_type": "markdown",
   "id": "a783f80a",
   "metadata": {},
   "source": [
    "### File Writing\n",
    "The function used to write a string to a file object is _________.\n",
    "\n",
    "<details>\n",
    "<summary>Answer</summary>\n",
    "`write`\n",
    "</details>"
   ]
  },
  {
   "cell_type": "markdown",
   "id": "6f9621ea",
   "metadata": {},
   "source": [
    "### File Reading\n",
    "Use the _________ method to read all lines of a file into a list.\n",
    "\n",
    "<details>\n",
    "<summary>Answer</summary>\n",
    "`readlines`\n",
    "</details>"
   ]
  },
  {
   "cell_type": "markdown",
   "id": "7cbd966f",
   "metadata": {},
   "source": [
    "### Context Manager\n",
    "Using the _________ statement helps manage file opening and closing, even if an error occurs.\n",
    "\n",
    "<details>\n",
    "<summary>Answer</summary>\n",
    "`with`\n",
    "</details>"
   ]
  },
  {
   "cell_type": "markdown",
   "id": "14035db6",
   "metadata": {},
   "source": [
    "### And You Shall Find\n",
    "To move the file pointer to a specific location in a file, use the _________ method.\n",
    "\n",
    "<details>\n",
    "<summary>Answer</summary>\n",
    "`seek`\n",
    "</details>"
   ]
  },
  {
   "cell_type": "markdown",
   "id": "21c7ae66",
   "metadata": {},
   "source": [
    "## Reading Problems"
   ]
  },
  {
   "cell_type": "markdown",
   "id": "1f8e446e",
   "metadata": {},
   "source": [
    "### Basic Reading\n",
    "```python\n",
    "with open(\"data.txt\", \"r\") as f:\n",
    "    line = f.readline()\n",
    "    line = f.readline()\n",
    "print(line[0])\n",
    "```\n",
    "If `data.txt` contains:\n",
    "```text\n",
    "hello\n",
    "world\n",
    "```\n",
    "What does this code print?\n",
    "\n",
    "<details>\n",
    "<summary>Answer</summary>\n",
    "w\n",
    "</details>"
   ]
  },
  {
   "cell_type": "markdown",
   "id": "b8c93db3",
   "metadata": {},
   "source": [
    "### Reading Multiple\n",
    "```python\n",
    "with open(\"numbers.txt\", \"r\") as f:\n",
    "    for line in f:\n",
    "        print(int(line.strip()) * 2)\n",
    "```\n",
    "If `numbers.txt` contains:\n",
    "```text\n",
    "1\n",
    "2\n",
    "3\n",
    "```\n",
    "What is the output of this code?\n",
    "\n",
    "<details>\n",
    "<summary>Answer</summary>\n",
    "2 <br>\n",
    "4 <br>\n",
    "6 <br>\n",
    "</details>"
   ]
  },
  {
   "cell_type": "markdown",
   "id": "59863060",
   "metadata": {},
   "source": [
    "### Seek\n",
    "```python\n",
    "with open(\"data.txt\", \"r\") as f:\n",
    "    print(f.read())\n",
    "    f.seek(0)\n",
    "    print(f.readline())\n",
    "```\n",
    "If `data.txt` contains:\n",
    "```text\n",
    "first\n",
    "second\n",
    "```\n",
    "What is the output of this code?\n",
    "\n",
    "<details>\n",
    "<summary>Answer</summary>\n",
    "first <br>\n",
    "second <br>\n",
    "first <br>\n",
    "</details>\n"
   ]
  },
  {
   "cell_type": "markdown",
   "id": "d41e01d3",
   "metadata": {},
   "source": [
    "### Interleaved Files\n",
    "```python\n",
    "with open(\"a.txt\", \"r\") as fa, open(\"b.txt\", \"r\") as fb:\n",
    "    for line_a in fa:\n",
    "        print(line_a.strip() + \"-\" + line_b.readline().strip())\n",
    "```\n",
    "If `a.txt` contains:\n",
    "```text\n",
    "apple\n",
    "banana\n",
    "cherry\n",
    "```\n",
    "and `b.txt` contains:\n",
    "```text\n",
    "red\n",
    "yellow\n",
    "dark red\n",
    "purple\n",
    "```\n",
    "What is the output of this code?\n",
    "\n",
    "<details>\n",
    "<summary>Answer</summary>\n",
    "apple-red <br>\n",
    "banana-yellow <br>\n",
    "cherry-dark red <br>\n",
    "</details>"
   ]
  },
  {
   "cell_type": "markdown",
   "id": "c0538136",
   "metadata": {},
   "source": [
    "## Software Problems"
   ]
  },
  {
   "cell_type": "markdown",
   "id": "4ad044fb",
   "metadata": {},
   "source": [
    "### Problem 0 — Count lines\n",
    "Write a small helper `count_nonempty_lines(path)` that returns the number of non-empty lines in a file. Lines that are empty or contain only whitespace should not be counted. Implement the function so it reads the file line-by-line (so it scales to large files).\n",
    "\n",
    "For example, a file containing 'hello\\nworld\\n' should return 2. An empty file returns 0, and a file with only whitespace lines returns 0.\n",
    "\n",
    "pytest snippet:\n",
    "```python\n",
    "def test_count_lines(tmp_path):\n",
    "    p = tmp_path / '1.txt'\n",
    "    p.write_text('hello\\nworld\\n')\n",
    "    assert count_nonempty_lines(str(p)) == 2\n",
    "\n",
    "def test_count_lines_empty_lines(tmp_path):\n",
    "    p = tmp_path / '2.txt'\n",
    "    p.write_text('\\n\\nhello\\n\\n')\n",
    "    assert count_nonempty_lines(str(p)) == 1\n",
    "\n",
    "def test_count_lines_empty(tmp_path):\n",
    "    p = tmp_path / '3.txt'\n",
    "    p.write_text('')\n",
    "    assert count_nonempty_lines(str(p)) == 0\n",
    "```\n",
    "Tip: see [here](https://docs.pytest.org/en/6.2.x/tmpdir.html) for how the `tmp_path` fixture works in pytest."
   ]
  },
  {
   "cell_type": "code",
   "execution_count": null,
   "id": "7c3c50cb",
   "metadata": {
    "vscode": {
     "languageId": "plaintext"
    }
   },
   "outputs": [],
   "source": []
  },
  {
   "cell_type": "markdown",
   "id": "965bc698",
   "metadata": {},
   "source": [
    "\n",
    "### Problem 1 — Count word frequencies (easy)\n",
    "Implement `count_word_freq(path)` which reads a text file and returns a dictionary mapping normalized words to their counts. Normalize tokens by lowercasing and stripping surrounding punctuation; treat any whitespace as a separator. The function should stream the file (process line-by-line) so it handles large inputs efficiently. Punctuation-only tokens should be ignored and an empty file should return an empty dictionary.\n",
    "\n",
    "Example: the content 'Hello hello world.' should produce {'hello': 2, 'world': 1}. The implementation must also handle newlines and repeated punctuation such as 'Hi!\\nHi?'.\n",
    "\n",
    "pytest snippet:\n",
    "```python\n",
    "def test_count_word_freq_simple(tmp_path):\n",
    "    p = tmp_path / 'words1.txt'\n",
    "    p.write_text('Hello hello world.')\n",
    "    assert count_word_freq(str(p)) == {'hello': 2, 'world': 1}\n",
    "\n",
    "def test_count_word_freq_empty(tmp_path):\n",
    "    p = tmp_path / 'words2.txt'\n",
    "    p.write_text('')\n",
    "    assert count_word_freq(str(p)) == {}\n",
    "\n",
    "def test_count_word_freq_punctuation(tmp_path):\n",
    "    p = tmp_path / 'words3.txt'\n",
    "    p.write_text('Hi!\\nHi?\\nHi...')\n",
    "    assert count_word_freq(str(p)) == {'hi': 3}\n",
    "\n",
    "def test_count_word_freq_mixed(tmp_path):\n",
    "    p = tmp_path / 'words4.txt'\n",
    "    p.write_text('A, B; C: a b')\n",
    "    assert count_word_freq(str(p)) == {'a': 2, 'b': 2, 'c': 1}\n",
    "```"
   ]
  },
  {
   "cell_type": "code",
   "execution_count": null,
   "id": "acac3a78",
   "metadata": {
    "vscode": {
     "languageId": "plaintext"
    }
   },
   "outputs": [],
   "source": []
  },
  {
   "cell_type": "markdown",
   "id": "f434f579",
   "metadata": {},
   "source": [
    "### Problem 2 — Top-N longest lines\n",
    "Write `top_n_longest_lines(path, n)` which returns the n longest lines from a text file in descending order by length. Each returned line should be trimmed of its trailing newline. If multiple lines have identical length, preserve their original file order. The function should handle edge cases such as n being zero or larger than the file length and should stream the file line-by-line.\n",
    "\n",
    "Example: for a file containing 'apple\\nbanana\\ncherry pie\\n' and n=2, the function should return ['cherry pie', 'banana']. If the file is empty, return an empty list.\n",
    "\n",
    "pytest snippet:\n",
    "```python\n",
    "def test_top_n_longest_lines_basic(tmp_path):\n",
    "    p = tmp_path / 'lines1.txt'\n",
    "    p.write_text('apple\\nbanana\\ncherry pie\\n')\n",
    "    assert top_n_longest_lines(str(p), 2) == ['cherry pie', 'banana']\n",
    "\n",
    "def test_top_n_longer_than_file(tmp_path):\n",
    "    p = tmp_path / 'lines2.txt'\n",
    "    p.write_text('a\\nbb\\nccc\\n')\n",
    "    assert top_n_longest_lines(str(p), 5) == ['ccc', 'bb', 'a']\n",
    "\n",
    "def test_top_n_zero(tmp_path):\n",
    "    p = tmp_path / 'lines2.txt'\n",
    "    assert top_n_longest_lines(str(p), 0) == []\n",
    "\n",
    "def test_top_n_ties_preserve_order(tmp_path):\n",
    "    p = tmp_path / 'lines3.txt'\n",
    "    p.write_text('aa\\nbb\\ncc\\n')\n",
    "    assert top_n_longest_lines(str(p), 2) == ['aa', 'bb']\n",
    "```"
   ]
  },
  {
   "cell_type": "code",
   "execution_count": null,
   "id": "29a1f57d",
   "metadata": {
    "vscode": {
     "languageId": "plaintext"
    }
   },
   "outputs": [],
   "source": []
  },
  {
   "cell_type": "markdown",
   "id": "f10f3dce",
   "metadata": {},
   "source": [
    "\n",
    "### Problem 3 — Merge two sorted integer files\n",
    "Implement `merge_sorted_files(path_a, path_b)` to merge two files containing one integer per line (each file is already sorted ascending) and return a single sorted list containing all integers from both files. The function should stream both files simultaneously and perform an efficient merge (do not load both files entirely into memory). If any line cannot be parsed as an integer, raise ValueError.\n",
    "\n",
    "Example: merging files with contents '1\\n3\\n5\\n' and '2\\n4\\n6\\n' should return [1,2,3,4,5,6]. If one file is empty, return the contents of the other file.\n",
    "\n",
    "pytest snippet:\n",
    "```python\n",
    "def test_merge_sorted_files_normal(tmp_path):\n",
    "    a = tmp_path / 'a.txt'\n",
    "    b = tmp_path / 'b.txt'\n",
    "    a.write_text('1\\n3\\n5\\n')\n",
    "    b.write_text('2\\n4\\n6\\n')\n",
    "    assert merge_sorted_files(str(a), str(b)) == [1,2,3,4,5,6]\n",
    "\n",
    "def test_merge_sorted_files_one_empty(tmp_path):\n",
    "    b = tmp_path / 'b.txt'\n",
    "    b.write_text('2\\n4\\n6\\n')\n",
    "    c = tmp_path / 'c.txt'\n",
    "    c.write_text('')\n",
    "    assert merge_sorted_files(str(c), str(b)) == [2,4,6]\n",
    "\n",
    "def test_merge_sorted_files_duplicates(tmp_path):\n",
    "    d = tmp_path / 'd.txt'\n",
    "    e = tmp_path / 'e.txt'\n",
    "    d.write_text('1\\n2\\n2\\n')\n",
    "    e.write_text('2\\n3\\n')\n",
    "    assert merge_sorted_files(str(d), str(e)) == [1,2,2,2,3]\n",
    "\n",
    "def test_merge_sorted_files_nonint_raises(tmp_path):\n",
    "    b = tmp_path / 'b.txt'\n",
    "    b.write_text('2\\n4\\n6\\n')\n",
    "    f = tmp_path / 'f.txt'\n",
    "    f.write_text('1\\na\\n')\n",
    "    with pytest.raises(ValueError):\n",
    "        merge_sorted_files(str(f), str(b))\n",
    "```"
   ]
  },
  {
   "cell_type": "code",
   "execution_count": null,
   "id": "54ee8697",
   "metadata": {
    "vscode": {
     "languageId": "plaintext"
    }
   },
   "outputs": [],
   "source": []
  },
  {
   "cell_type": "markdown",
   "id": "c7502ad0",
   "metadata": {},
   "source": [
    "\n",
    "### Problem 4 — Lines containing all query words\n",
    "Write `lines_with_all_words(path, queries)` to return the lines from a file that contain every query word provided. Matching should be case-insensitive and word-based; to avoid false negatives strip surrounding punctuation from tokens before matching. For this exercise, an empty `queries` list should return an empty list (explicit choice).\n",
    "\n",
    "Example: given lines 'I like apples and bananas' and 'Bananas are tasty', searching for ['apples','bananas'] should return only the first line; searching for ['bananas'] should return both lines (case-insensitive).\n",
    "\n",
    "pytest snippet:\n",
    "```python\n",
    "def test_lines_with_all_words_both(tmp_path):\n",
    "    p = tmp_path / 't.txt'\n",
    "    p.write_text('I like apples and bananas\\nBananas are tasty\\n')\n",
    "    assert lines_with_all_words(str(p), ['apples','bananas']) == ['I like apples and bananas']\n",
    "\n",
    "def test_lines_with_all_words_single(tmp_path):\n",
    "    p = tmp_path / 't.txt'\n",
    "    p.write_text('I like apples and bananas\\nBananas are tasty\\n')\n",
    "    assert lines_with_all_words(str(p), ['bananas']) == ['I like apples and bananas', 'Bananas are tasty']\n",
    "\n",
    "def test_lines_with_all_words_empty_queries(tmp_path):\n",
    "    p = tmp_path / 't.txt'\n",
    "    p.write_text('I like apples and bananas\\nBananas are tasty\\n')\n",
    "    assert lines_with_all_words(str(p), []) == []\n",
    "```"
   ]
  },
  {
   "cell_type": "code",
   "execution_count": null,
   "id": "7707eb8e",
   "metadata": {
    "vscode": {
     "languageId": "plaintext"
    }
   },
   "outputs": [],
   "source": []
  },
  {
   "cell_type": "markdown",
   "id": "e9a75221",
   "metadata": {},
   "source": [
    "\n",
    "### Problem 5 — Replace lines in a file safely (hard)\n",
    "Create `replace_lines_in_file(path, predicate, replacer)` which scans a file line-by-line. When `predicate(line)` is True, replace that line with the string returned by `replacer(line)`. To avoid data loss, perform updates by writing to a temporary file and then atomically replacing the original (use `os.replace` for cross-platform behavior). The function should return the number of replacements made; if none were made it should leave the file unchanged and return 0.\n",
    "\n",
    "Example: replacing 'blue' with 'azure' in a file containing 'red', 'blue', 'yellow' should update the file to ['red','azure','yellow'] and return 1. Make sure your replacer returns proper newline characters if needed.\n",
    "\n",
    "pytest snippet:\n",
    "```python\n",
    "def test_replace_lines_single(tmp_path):\n",
    "    p = tmp_path / 'colors1.txt'\n",
    "    p.write_text('red\\nblue\\nyellow\\n')\n",
    "    n = replace_lines_in_file(str(p), lambda l: l.strip()=='blue', lambda l: 'azure\\n')\n",
    "    assert n == 1\n",
    "\n",
    "def test_replace_lines_file_content_after_single(tmp_path):\n",
    "    p = tmp_path / 'colors1.txt'\n",
    "    p.write_text('red\\nblue\\nyellow\\n')\n",
    "    replace_lines_in_file(str(p), lambda l: l.strip()=='blue', lambda l: 'azure\\n')\n",
    "    assert p.read_text().splitlines() == ['red','azure','yellow']\n",
    "\n",
    "def test_replace_lines_no_matches(tmp_path):\n",
    "    p2 = tmp_path / 'colors2.txt'\n",
    "    p2.write_text('red\\ngreen\\n')\n",
    "    n2 = replace_lines_in_file(str(p2), lambda l: 'blue' in l, lambda l: 'azure\\n')\n",
    "    assert n2 == 0\n",
    "\n",
    "def test_replace_lines_file_content_unchanged(tmp_path):\n",
    "    p2 = tmp_path / 'colors2.txt'\n",
    "    p2.write_text('red\\ngreen\\n')\n",
    "    replace_lines_in_file(str(p2), lambda l: 'blue' in l, lambda l: 'azure\\n')\n",
    "    assert p2.read_text().splitlines() == ['red','green']\n",
    "\n",
    "def test_replace_lines_multiple(tmp_path):\n",
    "    p3 = tmp_path / 'colors3.txt'\n",
    "    p3.write_text('blue\\nblue\\n')\n",
    "    n3 = replace_lines_in_file(str(p3), lambda l: l.strip()=='blue', lambda l: 'azure\\n')\n",
    "    assert n3 == 2\n",
    "\n",
    "def test_replace_lines_file_content_after_multiple(tmp_path):\n",
    "    p3 = tmp_path / 'colors3.txt'\n",
    "    p3.write_text('blue\\nblue\\n')\n",
    "    replace_lines_in_file(str(p3), lambda l: l.strip()=='blue', lambda l: 'azure\\n')\n",
    "    assert p3.read_text().splitlines() == ['azure','azure']\n",
    "```\n",
    "\n",
    "---\n",
    "Notes:\n",
    "For safe in-place editing use `tempfile` and `os.replace`. For word-based matching elsewhere in the quiz consider regex word boundaries (e.g. `\\bword\\b`) or splitting tokens on non-word characters depending on course level."
   ]
  },
  {
   "cell_type": "code",
   "execution_count": null,
   "id": "ecbdcb91",
   "metadata": {
    "vscode": {
     "languageId": "plaintext"
    }
   },
   "outputs": [],
   "source": []
  }
 ],
 "metadata": {
  "kernelspec": {
   "display_name": ".venv",
   "language": "python",
   "name": "python3"
  },
  "language_info": {
   "name": "python",
   "version": "3.13.5"
  }
 },
 "nbformat": 4,
 "nbformat_minor": 5
}
