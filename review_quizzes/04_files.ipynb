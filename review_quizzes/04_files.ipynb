{
 "cells": [
  {
   "cell_type": "markdown",
   "id": "4038e0e3",
   "metadata": {},
   "source": [
    "What is the answer?\n",
    "\n",
    "1. this one\n",
    "1. that one\n",
    "1. maybe\n",
    "1. not\n",
    "\n",
    "<details>\n",
    "<summary>Answer</summary>\n",
    "1\n",
    "</details>"
   ]
  }
 ],
 "metadata": {
  "kernelspec": {
   "display_name": ".venv",
   "language": "python",
   "name": "python3"
  },
  "language_info": {
   "name": "python",
   "version": "3.13.5"
  }
 },
 "nbformat": 4,
 "nbformat_minor": 5
}
