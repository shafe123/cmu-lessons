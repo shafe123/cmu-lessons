{
 "cells": [
  {
   "cell_type": "markdown",
   "id": "9f8fbc4a",
   "metadata": {},
   "source": [
    "# Quiz 04: Topic Working with Files\n",
    "This quiz is designed to test your understanding of reading and writing from files.  It consists of X multiple choice, Y short answer, Z fill in the blank, and XX programming problems."
   ]
  },
  {
   "cell_type": "markdown",
   "id": "606de2db",
   "metadata": {},
   "source": [
    "## Multiple Choice"
   ]
  },
  {
   "cell_type": "markdown",
   "id": "4038e0e3",
   "metadata": {},
   "source": [
    "### Absolute Paths\n",
    "What is an absolute path?\n",
    "\n",
    "A reference to a location ...\n",
    "1. that includes `/`\n",
    "2. starting from the root\n",
    "3. starting from the current directory\n",
    "4. that includes the word absolute\n",
    "\n",
    "<details>\n",
    "<summary>Answer</summary>\n",
    "2 - An absolute path starts from the root.\n",
    "</details>"
   ]
  },
  {
   "cell_type": "markdown",
   "id": "f7990098",
   "metadata": {},
   "source": [
    "### Valid Paths\n",
    "Which of these are valid paths in Linux?\n",
    "\n",
    "1. `/mnt/media/`\n",
    "2. `../help me/obi-wan`\n",
    "3. `./../../use_the_force.txt`\n",
    "4. `/usr/../usr/../etc`\n",
    "\n",
    "<details>\n",
    "<summary>Answer</summary>\n",
    "1, 2, 3, 4 - All are valid paths.\n",
    "</details>"
   ]
  },
  {
   "cell_type": "markdown",
   "id": "bbdf0665",
   "metadata": {},
   "source": [
    "### Special Characters\n",
    "Match the following characters with their definitions\n",
    "\n",
    "1. `/`\n",
    "2. `~`\n",
    "3. `..`\n",
    "4. `.`\n",
    "\n",
    "A. The root directory or path separator<br>\n",
    "B. The current directory<br>\n",
    "C. The user's home directory<br>\n",
    "D. The parent directory<br>\n",
    "\n",
    "<details>\n",
    "<summary>Answer</summary>\n",
    "1 - A <br>\n",
    "2 - C <br>\n",
    "3 - D <br>\n",
    "4 - B <br>\n",
    "</details>"
   ]
  },
  {
   "cell_type": "markdown",
   "id": "59b2e650",
   "metadata": {},
   "source": [
    "### File Modes\n",
    "Which mode should you use to open a file for writing, erasing its contents if it already exists or creating the file if it doesn't exist?\n",
    "\n",
    "1. `r`\n",
    "2. `w`\n",
    "3. `a`\n",
    "4. `x`\n",
    "\n",
    "<details>\n",
    "<summary>Answer</summary>\n",
    "2 - The \"write\" mode will truncate the existing contents of a file if it already exists.\n",
    "</details>"
   ]
  },
  {
   "cell_type": "markdown",
   "id": "9f9af6d5",
   "metadata": {},
   "source": [
    "### File Existence\n",
    "What happens if you try to open a nonexistent file in `r` mode?\n",
    "\n",
    "1. The file is deleted\n",
    "2. The file is created\n",
    "3. The file is renamed\n",
    "4. An error occurs\n",
    "\n",
    "<details>\n",
    "<summary>Answer</summary>\n",
    "4 - Python will raise a `FileNotFoundError` if the file does not exist.\n",
    "</details>"
   ]
  },
  {
   "cell_type": "markdown",
   "id": "791341eb",
   "metadata": {},
   "source": [
    "### Binary vs Text\n",
    "Which mode should you use to read a binary file in Python?\n",
    "\n",
    "1. `r`\n",
    "2. `w`\n",
    "3. `rb`\n",
    "4. `wb`\n",
    "\n",
    "<details>\n",
    "<summary>Answer</summary>\n",
    "3 - The `r` is for read and the `b` means in binary.\n",
    "</details>"
   ]
  },
  {
   "cell_type": "markdown",
   "id": "e11620b8",
   "metadata": {},
   "source": [
    "## Fill In The Blank"
   ]
  },
  {
   "cell_type": "markdown",
   "id": "a783f80a",
   "metadata": {},
   "source": [
    "### File Writing\n",
    "The function used to write a string to a file object is _________.\n",
    "\n",
    "<details>\n",
    "<summary>Answer</summary>\n",
    "`write`\n",
    "</details>"
   ]
  },
  {
   "cell_type": "markdown",
   "id": "6f9621ea",
   "metadata": {},
   "source": [
    "### File Reading\n",
    "Use the _________ method to read all lines of a file into a list.\n",
    "\n",
    "<details>\n",
    "<summary>Answer</summary>\n",
    "`readlines`\n",
    "</details>"
   ]
  },
  {
   "cell_type": "markdown",
   "id": "7cbd966f",
   "metadata": {},
   "source": [
    "### Context Manager\n",
    "Using the _________ statement helps manage file opening and closing, even if an error occurs.\n",
    "\n",
    "<details>\n",
    "<summary>Answer</summary>\n",
    "`with`\n",
    "</details>"
   ]
  },
  {
   "cell_type": "markdown",
   "id": "14035db6",
   "metadata": {},
   "source": [
    "### And You Shall Find\n",
    "To move the file pointer to a specific location in a file, use the _________ method.\n",
    "\n",
    "<details>\n",
    "<summary>Answer</summary>\n",
    "`seek`\n",
    "</details>"
   ]
  },
  {
   "cell_type": "markdown",
   "id": "21c7ae66",
   "metadata": {},
   "source": [
    "## Reading Problems"
   ]
  },
  {
   "cell_type": "markdown",
   "id": "1f8e446e",
   "metadata": {},
   "source": [
    "### Basic Reading\n",
    "```python\n",
    "with open(\"data.txt\", \"r\") as f:\n",
    "    line = f.readline()\n",
    "    line = f.readline()\n",
    "print(line[0])\n",
    "```\n",
    "If `data.txt` contains:\n",
    "```text\n",
    "hello\n",
    "world\n",
    "```\n",
    "What does this code print?\n",
    "\n",
    "<details>\n",
    "<summary>Answer</summary>\n",
    "w\n",
    "</details>"
   ]
  },
  {
   "cell_type": "markdown",
   "id": "b8c93db3",
   "metadata": {},
   "source": [
    "### Reading Multiple\n",
    "```python\n",
    "with open(\"numbers.txt\", \"r\") as f:\n",
    "    for line in f:\n",
    "        print(int(line.strip()) * 2)\n",
    "```\n",
    "If `numbers.txt` contains:\n",
    "```text\n",
    "1\n",
    "2\n",
    "3\n",
    "```\n",
    "What is the output of this code?\n",
    "\n",
    "<details>\n",
    "<summary>Answer</summary>\n",
    "2 <br>\n",
    "4 <br>\n",
    "6 <br>\n",
    "</details>"
   ]
  },
  {
   "cell_type": "markdown",
   "id": "59863060",
   "metadata": {},
   "source": [
    "### Seek\n",
    "```python\n",
    "with open(\"data.txt\", \"r\") as f:\n",
    "    print(f.read())\n",
    "    f.seek(0)\n",
    "    print(f.readline())\n",
    "```\n",
    "If `data.txt` contains:\n",
    "```text\n",
    "first\n",
    "second\n",
    "```\n",
    "What is the output of this code?\n",
    "\n",
    "<details>\n",
    "<summary>Answer</summary>\n",
    "first <br>\n",
    "second <br>\n",
    "first <br>\n",
    "</details>\n"
   ]
  },
  {
   "cell_type": "markdown",
   "id": "d41e01d3",
   "metadata": {},
   "source": [
    "### Interleaved Files\n",
    "```python\n",
    "with open(\"a.txt\", \"r\") as fa, open(\"b.txt\", \"r\") as fb:\n",
    "    for line_a in fa:\n",
    "        print(line_a.strip() + \"-\" + line_b.readline().strip())\n",
    "```\n",
    "If `a.txt` contains:\n",
    "```text\n",
    "apple\n",
    "banana\n",
    "cherry\n",
    "```\n",
    "and `b.txt` contains:\n",
    "```text\n",
    "red\n",
    "yellow\n",
    "dark red\n",
    "purple\n",
    "```\n",
    "What is the output of this code?\n",
    "\n",
    "<details>\n",
    "<summary>Answer</summary>\n",
    "apple-red <br>\n",
    "banana-yellow <br>\n",
    "cherry-dark red <br>\n",
    "</details>"
   ]
  },
  {
   "cell_type": "markdown",
   "id": "c0538136",
   "metadata": {},
   "source": [
    "## Software Problems"
   ]
  }
 ],
 "metadata": {
  "kernelspec": {
   "display_name": ".venv",
   "language": "python",
   "name": "python3"
  },
  "language_info": {
   "name": "python",
   "version": "3.13.5"
  }
 },
 "nbformat": 4,
 "nbformat_minor": 5
}
