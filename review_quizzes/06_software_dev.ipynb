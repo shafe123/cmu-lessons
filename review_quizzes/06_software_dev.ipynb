{
 "cells": [
  {
   "cell_type": "markdown",
   "id": "9f8fbc4a",
   "metadata": {},
   "source": [
    "# Quiz 06: Software Dev - Refactoring, Formatting, Linting, and Testing\n",
    "This quiz is designed to reinforce your understanding of common software development techniques that improve code quality."
   ]
  },
  {
   "cell_type": "markdown",
   "id": "606de2db",
   "metadata": {},
   "source": [
    "## Multiple Choice"
   ]
  },
  {
   "cell_type": "markdown",
   "id": "4038e0e3",
   "metadata": {},
   "source": [
    "### PEP 8 — Line Length\n",
    "According to PEP 8, what is the recommended maximum line length for code (unless a project uses a different convention)?\n",
    "\n",
    "1. 72 characters\n",
    "2. 79 characters\n",
    "3. 100 characters\n",
    "4. 120 characters\n",
    "\n",
    "<details>\n",
    "<summary>Answer</summary>\n",
    "2 - Historically 79 characters is the recommended limit (although teams may choose alternatives).\n",
    "</details>"
   ]
  },
  {
   "cell_type": "markdown",
   "id": "f7990098",
   "metadata": {},
   "source": [
    "### Refactoring — Function Size\n",
    "When refactoring a large function, which of the following is the best first step?\n",
    "\n",
    "1. Inline all helper functions into the large function to reduce call overhead.\n",
    "2. Extract coherent blocks of code into small, well-named helper functions and add tests for behavior before changing logic.\n",
    "3. Replace all loops with list comprehensions to shorten the function.\n",
    "4. Rename variables to single-letter names to make the function shorter.\n",
    "\n",
    "<details>\n",
    "<summary>Answer</summary>\n",
    "2 - Extracting well-named helpers and adding tests is a safe, recommended refactoring workflow.\n",
    "</details>"
   ]
  },
  {
   "cell_type": "markdown",
   "id": "ef1ee315",
   "metadata": {},
   "source": [
    "### Linting — Purpose\n",
    "What is the primary purpose of a linter like flake8 or pylint?\n",
    "\n",
    "1. To execute tests and report failures\n",
    "2. To format code automatically without human review\n",
    "3. To analyze source code for stylistic errors, possible bugs, and enforce conventions\n",
    "4. To deploy code to production\n",
    "\n",
    "<details>\n",
    "<summary>Answer</summary>\n",
    "3 - Linters analyze code for style issues, common errors, and enforce project conventions.\n",
    "</details>"
   ]
  },
  {
   "cell_type": "markdown",
   "id": "e808dafd",
   "metadata": {},
   "source": [
    "### Testing — Unit vs Integration\n",
    "Which statement best describes the difference between unit tests and integration tests?\n",
    "\n",
    "1. Unit tests verify the behavior of small, isolated components; integration tests verify how components work together across system boundaries.\n",
    "2. Unit tests are always slower than integration tests.\n",
    "3. Integration tests only check formatting and linting issues.\n",
    "4. Unit tests require a network connection while integration tests do not.\n",
    "\n",
    "<details>\n",
    "<summary>Answer</summary>\n",
    "1 - Unit tests focus on small, isolated units; integration tests exercise interactions between components or across external systems.\n",
    "</details>"
   ]
  },
  {
   "cell_type": "markdown",
   "id": "47b3c5d6",
   "metadata": {},
   "source": [
    "### Linting — pylint\n",
    "Which of the following does `pylint` typically check for when analyzing Python code?\n",
    "\n",
    "1. Syntax errors and style issues (PEP 8)\n",
    "2. Whether the code is correctly typed at runtime\n",
    "3. The performance characteristics of the code\n",
    "4. The licensing of third-party dependencies\n",
    "\n",
    "<details>\n",
    "<summary>Answer</summary>\n",
    "1 - pylint checks for syntax issues and style violations according to configured rules (PEP 8 and plugins).\n",
    "</details>"
   ]
  },
  {
   "cell_type": "markdown",
   "id": "b6874a28",
   "metadata": {},
   "source": [
    "### Linting — Common Rule\n",
    "Which linter rule would help you find an unused import in a module?\n",
    "\n",
    "1. An error about line length\n",
    "2. A rule that flags unused variables or imports\n",
    "3. A rule enforcing documentation strings\n",
    "4. A rule that checks function complexity\n",
    "\n",
    "<details>\n",
    "<summary>Answer</summary>\n",
    "2 - Linters can flag unused variables/imports (e.g., `F401` in flake8/pyflakes) to help clean dead code.\n",
    "</details>"
   ]
  },
  {
   "cell_type": "markdown",
   "id": "6c44a6d9",
   "metadata": {},
   "source": [
    "### Formatting — Black\n",
    "What does the `pycodestyle` tool do for a Python codebase?\n",
    "\n",
    "1. Run unit tests\n",
    "2. Analyze variable naming\n",
    "3. Detect formatting issues\n",
    "4. Deploy packages to PyPI\n",
    "\n",
    "<details>\n",
    "<summary>Answer</summary>\n",
    "3 - pycodestyle detects code that does not match PEP8 guidance.\n",
    "</details>"
   ]
  },
  {
   "cell_type": "markdown",
   "id": "e11620b8",
   "metadata": {},
   "source": [
    "## Fill In The Blank"
   ]
  },
  {
   "cell_type": "markdown",
   "id": "a783f80a",
   "metadata": {},
   "source": [
    "### Naming Style\n",
    "\n",
    "The PEP 8 recommended naming style for module-level constants is ________.\n",
    "\n",
    "<details>\n",
    "<summary>Answer</summary>\n",
    "UPPER_SNAKE_CASE\n",
    "</details>"
   ]
  },
  {
   "cell_type": "markdown",
   "id": "6f9621ea",
   "metadata": {},
   "source": [
    "### Formatting\n",
    "\n",
    "The process of automatically reformatting source code to a consistent style (for example using `black`) is commonly called ________.\n",
    "\n",
    "<details>\n",
    "<summary>Answer</summary>\n",
    "code formatting (or auto-formatting)\n",
    "</details>"
   ]
  },
  {
   "cell_type": "markdown",
   "id": "4e98177b",
   "metadata": {},
   "source": [
    "### Testing type\n",
    "\n",
    "The practice of writing small tests that run quickly and exercise a single function or method is characteristic of ________ testing.\n",
    "\n",
    "<details>\n",
    "<summary>Answer</summary>\n",
    "unit\n",
    "</details>"
   ]
  },
  {
   "cell_type": "markdown",
   "id": "21c7ae66",
   "metadata": {},
   "source": [
    "## Reading Problems"
   ]
  },
  {
   "cell_type": "markdown",
   "id": "89558b34",
   "metadata": {},
   "source": [
    "### PEP 8\n",
    "Consider the following function:\n",
    "```python\n",
    "def long_line_function(x, y):\n",
    "    return x + y + ' and some extra text that makes the line very long and likely exceeds recommended length'\n",
    "```\n",
    "Question: Which PEP 8 guideline does this code most directly violate and how would you fix it?\n",
    "\n",
    "<details>\n",
    "<summary>Answer</summary>\n",
    "It violates the recommended maximum line length (PEP 8). Fix by breaking the expression across multiple lines, using parentheses or constructing the string on multiple lines.\n",
    "</details>"
   ]
  },
  {
   "cell_type": "markdown",
   "id": "9b9c98aa",
   "metadata": {},
   "source": [
    "### Refactoring\n",
    "Examine the code:\n",
    "```python\n",
    "def process(items):\n",
    "    total = 0\n",
    "    for i in items:\n",
    "        if i.is_valid():\n",
    "            total += i.value * 2\n",
    "        else:\n",
    "            total += 0\n",
    "    return total\n",
    "```\n",
    "Question: Suggest a small refactoring (name the refactoring and show the extracted helper) that improves readability.\n",
    "\n",
    "<details>\n",
    "<summary>Answer</summary>\n",
    "Extract method: create a helper like `def contribution(i): return i.value * 2 if i.is_valid() else 0` and use it inside the loop to make `process` clearer.\n",
    "</details>"
   ]
  },
  {
   "cell_type": "markdown",
   "id": "746306b4",
   "metadata": {},
   "source": [
    "### Linting\n",
    "Look at this module:\n",
    "```python\n",
    "import os\n",
    "import json\n",
    "\n",
    "def load_config(path):\n",
    "    with open(path) as f:\n",
    "        return json.load(f)\n",
    "```\n",
    "Question: Which lint warning will a tool like pylint report for this module and why?\n",
    "\n",
    "<details>\n",
    "<summary>Answer</summary>\n",
    "It will report an unused import for `os` (e.g., F401) because `os` is imported but never used in the module.\n",
    "</details>"
   ]
  },
  {
   "cell_type": "markdown",
   "id": "4974401d",
   "metadata": {},
   "source": [
    "### Code Coverage Report\n",
    "Consider this coverage report excerpt:\n",
    "```text\n",
    "Name                         Stmts   Miss  Cover\n",
    "my_module.py                    50     12    76%\n",
    "tests/test_my_module.py         20      0   100%\n",
    "```\n",
    "Question: Which file should you focus on to improve overall coverage and why? Suggest two concrete ways to increase coverage for `my_module.py`.\n",
    "\n",
    "<details>\n",
    "<summary>Answer</summary>\n",
    "Focus on `my_module.py` because it has only 76% coverage (12 missed statements). To increase coverage: (1) Add unit tests that exercise untested functions and edge cases (including exception branches), and (2) write parameterized tests or use fixtures to exercise different code paths; consider testing error handling and boundary conditions.\n",
    "</details>"
   ]
  },
  {
   "cell_type": "markdown",
   "id": "e0391a26",
   "metadata": {},
   "source": [
    "### Code Coverage\n",
    "Consider the following module and its unit test:\n",
    "```python\n",
    "# my_module.py\n",
    "def foo(x):\n",
    "    if not isinstance(x, (int, float)):\n",
    "        raise TypeError('wrong type')\n",
    "    if x < 0:\n",
    "        raise ValueError('neg')\n",
    "    return x * 2\n",
    "```\n",
    "and the test file:\n",
    "```python\n",
    "# tests/test_my_module.py\n",
    "from my_module import foo\n",
    "\n",
    "def test_foo_positive():\n",
    "    assert foo(3) == 6\n",
    "```\n",
    "Question: Which parts (functions/branches) of `my_module.py` are not exercised by the test above? Be specific about branches and functions, and suggest one or two tests to add to improve coverage.\n",
    "\n",
    "<details>\n",
    "<summary>Answer</summary>\n",
    "The test only calls `foo(3)` (the positive branch). To improve coverage add tests such as:\n",
    "- `test_foo_negative` asserting that `foo(-1)` raises ValueError,\n",
    "- `test_foo_non_number` asserting that `foo('string')` raises TypeError\n",
    "These will exercise the missing branches and increase coverage for `my_module.py`.\n",
    "</details>"
   ]
  },
  {
   "cell_type": "markdown",
   "id": "c0538136",
   "metadata": {},
   "source": [
    "## Software Problems"
   ]
  },
  {
   "cell_type": "markdown",
   "id": "ec4e39c6",
   "metadata": {},
   "source": [
    "### Style checker: Line length\n",
    "Write `check_line_length(path, max_len)` which reads a Python source file and returns a list of tuples `(lineno, length)` for every line longer than `max_len`. The function should stream the file and not load the entire file into memory.\n",
    "\n",
    "Example: a file with one line of length 100 and `max_len=79` should return [(1,100)].\n",
    "\n",
    "pytest snippet:\n",
    "```python\n",
    "def test_check_line_length(tmp_path):\n",
    "    p = tmp_path / 'a.py'\n",
    "    p.write_text('short\\n' + 'x'*100 + '\\n')\n",
    "    assert check_line_length(str(p), 79) == [(2, 100)]\n",
    "```"
   ]
  },
  {
   "cell_type": "code",
   "execution_count": null,
   "id": "befb3386",
   "metadata": {},
   "outputs": [],
   "source": []
  },
  {
   "cell_type": "markdown",
   "id": "094ad73f",
   "metadata": {},
   "source": [
    "### Refactor: Extract helpers\n",
    "You are given a function that performs several steps; refactor it into smaller well-named helper functions and update any callers if necessary. Provide the refactored code and a short test demonstrating identical behavior.\n",
    "\n",
    "Original:\n",
    "```python\n",
    "def summarize(items):\n",
    "    total = 0\n",
    "    count = 0\n",
    "    names = []\n",
    "    for it in items:\n",
    "        if it.valid:\n",
    "            total += it.value\n",
    "            count += 1\n",
    "        names.append(it.name)\n",
    "    avg = total / count if count else 0\n",
    "    return {'avg': avg, 'count': count, 'names': names}\n",
    "```\n",
    "Task: refactor `summarize` by extracting at least two helper functions (e.g., `valid_items` and `compute_stats`) and include a pytest showing the refactored function produces the same output as the original for representative input.\n",
    "\n",
    "pytest snippet:\n",
    "```python\n",
    "def test_summarize_equivalence():\n",
    "    class Item:\n",
    "        def __init__(self, name, value, valid):\n",
    "            self.name = name; self.value = value; self.valid = valid\n",
    "    items = [Item('a', 10, True), Item('b', 0, False), Item('c', 20, True)]\n",
    "    assert summarize(items)['avg'] == 15\n",
    "```"
   ]
  },
  {
   "cell_type": "code",
   "execution_count": null,
   "id": "f9ee508f",
   "metadata": {},
   "outputs": [],
   "source": []
  },
  {
   "cell_type": "markdown",
   "id": "9029ba13",
   "metadata": {},
   "source": [
    "### Replace duplicated logic with a helper\n",
    "You are given two functions that contain near-duplicate logic for parsing a configuration dictionary. Refactor by extracting methods and update both functions accordingly. Provide the refactored code and a short test that demonstrates the behavior remains the same.\n",
    "\n",
    "Original code:\n",
    "```python\n",
    "def parse_user(cfg):\n",
    "    name = cfg.get('name', '').strip()\n",
    "    age = int(cfg.get('age', 0)) if cfg.get('age') else None\n",
    "    return {'name': name, 'age': age}\n",
    "\n",
    "def parse_admin(cfg):\n",
    "    name = cfg.get('name', '').strip()\n",
    "    admin_level = int(cfg.get('level', 1))\n",
    "    return {'name': name, 'level': admin_level}\n",
    "```\n",
    "\n",
    "pytest snippet:\n",
    "```python\n",
    "def test_parse_equivalence():\n",
    "    cfg = {'name': ' Alice ', 'age': '30', 'level': '2'}\n",
    "    assert parse_user(cfg)['name'] == 'Alice'\n",
    "    assert parse_admin(cfg)['name'] == 'Alice'\n",
    "```"
   ]
  },
  {
   "cell_type": "code",
   "execution_count": null,
   "id": "2e7c88a8",
   "metadata": {},
   "outputs": [],
   "source": []
  },
  {
   "cell_type": "markdown",
   "id": "05aac520",
   "metadata": {},
   "source": [
    "### Implement a small parser and achieve 100% pytest coverage\n",
    "Implement `parse_config(text)` which accepts a string containing lines of the form `key=value` and returns a dictionary with parsed values. The parser must handle the following rules:\n",
    "- Ignore blank lines and lines beginning with `#` (comments).\n",
    "- Strip whitespace around keys and values.\n",
    "- If a key appears multiple times, the last occurrence wins.\n",
    "- If a line does not contain `=` or the key is empty, raise a `ValueError`.\n",
    "Your task: implement `parse_config` and write pytest tests that exercise every branch and error condition so that running coverage with pytest produces 100% coverage for the parser module.\n",
    "\n",
    "Guidance (tests you should include):\n",
    "- Test a normal file with several key=value lines and verify types are coerced.\n",
    "- Test that comments and blank lines are ignored.\n",
    "- Test that duplicate keys keep the last value.\n",
    "- Test that malformed lines (no `=` or empty key) raise `ValueError`.\n",
    "\n",
    "pytest snippet (you should adapt into multiple test functions):\n",
    "```python\n",
    "def test_parse_basic():\n",
    "    text = 'a=1\\nb=2.5\\nc=hello\\n'\n",
    "    assert parse_config(text) == {'a': '1', 'b': '2.5', 'c': 'hello'}\n",
    "```\n",
    "\n",
    "Note: your tests must exercise the error-raising code paths and the type conversion branches in order to reach 100% coverage. Keep tests small and focused so failures are easy to diagnose.\n",
    "\n",
    "**Bonus**: Implement a type conversion function that intelligenty determines the type of the value.\n"
   ]
  },
  {
   "cell_type": "code",
   "execution_count": null,
   "id": "b58d963a",
   "metadata": {},
   "outputs": [],
   "source": []
  }
 ],
 "metadata": {
  "kernelspec": {
   "display_name": ".venv",
   "language": "python",
   "name": "python3"
  },
  "language_info": {
   "codemirror_mode": {
    "name": "ipython",
    "version": 3
   },
   "file_extension": ".py",
   "mimetype": "text/x-python",
   "name": "python",
   "nbconvert_exporter": "python",
   "pygments_lexer": "ipython3",
   "version": "3.13.5"
  }
 },
 "nbformat": 4,
 "nbformat_minor": 5
}
