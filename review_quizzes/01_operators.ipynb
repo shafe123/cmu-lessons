{
 "cells": [
  {
   "cell_type": "markdown",
   "metadata": {},
   "source": [
    "# Python Operators Practice Notebook\n",
    "\n",
    "This notebook contains 20 practice questions on Python operators, with mixed difficulty and question types. Notes are sourced directly from the [official Python documentation](https://docs.python.org/3/library/stdtypes.html#numeric-types-int-float-complex) and [language reference](https://docs.python.org/3/reference/expressions.html#operator-precedence).\n",
    "\n",
    "Operators covered:\n",
    "- Arithmetic\n",
    "- Comparison\n",
    "- Logical\n",
    "- Bitwise\n",
    "- Membership\n",
    "- Assignment"
   ]
  },
  {
   "cell_type": "markdown",
   "metadata": {},
   "source": [
    "### Notes for Students\n",
    "\n",
    "- *Arithmetic operators* (`+`, `-`, `*`, `/`, `//`, `%`, `**`) follow standard math rules. [(Python docs)](https://docs.python.org/3/library/stdtypes.html#numeric-types-int-float-complex)\n",
    "- *Comparison operators* (`==`, `!=`, `<`, `<=`, `>`, `>=`) return Boolean values. [(Python docs)](https://docs.python.org/3/library/stdtypes.html#comparisons)\n",
    "- *Logical operators* (`and`, `or`, `not`) are short-circuiting. [(Python docs)](https://docs.python.org/3/library/stdtypes.html#boolean-operations-and-or-not)\n",
    "- *Bitwise operators* (`&`, `|`, `^`, `~`, `<<`, `>>`) act on the binary representations of integers. [(Python docs)](https://docs.python.org/3/library/stdtypes.html#bitwise-operations-on-integer-types)\n",
    "- *Membership operators* (`in`, `not in`) test for sequence/container membership. [(Python docs)](https://docs.python.org/3/reference/expressions.html#membership-test-operations)\n",
    "- *Assignment operators* (`=`, `+=`, `-=`, etc.) assign and optionally combine operations. [(Python docs)](https://docs.python.org/3/reference/simple_stmts.html#assignment-statements)\n"
   ]
  },
  {
   "cell_type": "markdown",
   "metadata": {},
   "source": [
    "### Q1.\n",
    "**Operators Covered:** Arithmetic (`+`, `*`)\n",
    "**Notes for Students:** Arithmetic operators follow order of operations: [Docs](https://docs.python.org/3/library/stdtypes.html#numeric-types-int-float-complex)\n",
    "\n",
    "What is the result of `7 + 3 * 2`?\n",
    "- A) 20\n",
    "- B) 13\n",
    "- C) 14\n",
    "- D) 10"
   ]
  },
  {
   "cell_type": "code",
   "execution_count": 1,
   "metadata": {},
   "outputs": [],
   "source": [
    "# Answer:\n",
    "7 + 3 * 2"
   ]
  },
  {
   "cell_type": "markdown",
   "metadata": {},
   "source": [
    "### Q2.\n",
    "**Operators Covered:** Modulus `%`\n",
    "**Notes for Students:** Returns remainder: [Docs](https://docs.python.org/3/library/stdtypes.html#numeric-types-int-float-complex)\n",
    "\n",
    "The remainder of 10 divided by 3 is `__`."
   ]
  },
  {
   "cell_type": "code",
   "execution_count": null,
   "metadata": {},
   "outputs": [],
   "source": [
    "# Answer:\n",
    "10 % 3"
   ]
  },
  {
   "cell_type": "markdown",
   "metadata": {},
   "source": [
    "### Q3.\n",
    "**Operators Covered:** Boolean `or`\n",
    "**Notes for Students:** Returns first truthy value: [Docs](https://docs.python.org/3/library/stdtypes.html#boolean-operations-and-or-not)\n",
    "\n",
    "What does `[] or [1]` evaluate to?"
   ]
  },
  {
   "cell_type": "code",
   "execution_count": null,
   "metadata": {},
   "outputs": [],
   "source": [
    "# Answer:\n",
    "[] or [1]"
   ]
  },
  {
  "cell_type": "markdown",
  "metadata": {},
  "source": [
  "### Q4.\n",
  "**Operators Covered:** Logical `not`\n",
  "**Notes for Students:** `not` inverts a Boolean value: [Docs](https://docs.python.org/3/library/stdtypes.html#boolean-operations-and-or-not)\n",
  "\n",
  "Predict the output:\n",
  "```python\n",
  "not (5 > 3 and 2 == 2)\n",
  "```"
  ]
  },
  {
  "cell_type": "code",
  "execution_count": null,
  "metadata": {},
  "outputs": [],
  "source": [
  "# Answer:\n",
  "not (5 > 3 and 2 == 2)"
  ]
  },
  {
   "cell_type": "markdown",
   "metadata": {},
   "source": [
    "### Q5.\n",
    "**Operators Covered:** Exponentiation `**`\n",
    "**Notes for Students:** Right-associative: [Docs](https://docs.python.org/3/library/stdtypes.html#numeric-types-int-float-complex)\n",
    "\n",
    "What is the result of `2**3**2`?\n",
    "- A) 64\n",
    "- B) 512\n",
    "- C) 256\n",
    "- D) 128"
   ]
  },
  {
   "cell_type": "code",
   "execution_count": null,
   "metadata": {},
   "outputs": [],
   "source": [
    "# Answer:\n",
    "2**3**2"
   ]
  },
  {
   "cell_type": "markdown",
   "metadata": {},
   "source": [
    "### Q6.\n",
    "**Operators Covered:** Floor division `//`\n",
    "**Notes for Students:** Returns integer division: [Docs](https://docs.python.org/3/library/stdtypes.html#numeric-types-int-float-complex)\n",
    "\n",
    "The integer division of 17 by 5 is `__`."
   ]
  },
  {
   "cell_type": "code",
   "execution_count": null,
   "metadata": {},
   "outputs": [],
   "source": [
    "# Answer:\n",
    "17 // 5"
   ]
  },
  {
   "cell_type": "markdown",
   "metadata": {},
   "source": [
    "### Q7.\n",
    "**Operators Covered:** Bitwise AND `&`\n",
    "**Notes for Students:** Operates on binary representations: [Docs](https://docs.python.org/3/library/stdtypes.html#bitwise-operations-on-integer-types)\n",
    "\n",
    "What does `6 & 3` evaluate to?"
   ]
  },
  {
   "cell_type": "code",
   "execution_count": null,
   "metadata": {},
   "outputs": [],
   "source": [
    "# Answer:\n",
    "6 & 3"
   ]
  },
  {
   "cell_type": "markdown",
   "metadata": {},
   "source": [
    "### Q8.\n",
    "**Operators Covered:** Comparison `<`, `>=`\n",
    "**Notes for Students:** Comparison operators return Boolean: [Docs](https://docs.python.org/3/library/stdtypes.html#comparisons)\n",
    "\n",
    "What is the output of `5 < 3 >= 2`?\n",
    "- A) True\n",
    "- B) False\n",
    "- C) Error\n",
    "- D) None"
   ]
  },
  {
   "cell_type": "code",
   "execution_count": null,
   "metadata": {},
   "outputs": [],
   "source": [
    "# Answer:\n",
    "5 < 3 >= 2"
   ]
  },
  {
   "cell_type": "markdown",
   "metadata": {},
   "source": [
    "### Q9.\n",
    "**Operators Covered:** Membership `in`, `not in`\n",
    "**Notes for Students:** Tests for container membership: [Docs](https://docs.python.org/3/reference/expressions.html#membership-test-operations)\n",
    "\n",
    "Predict the output:\n",
    "```python\n",
    "'a' in 'cat', 'b' not in ['a','b','c']\n",
    "```"
   ]
  },
  {
   "cell_type": "code",
   "execution_count": null,
   "metadata": {},
   "outputs": [],
   "source": [
    "# Answer:\n",
    "'a' in 'cat', 'b' not in ['a','b','c']"
   ]
  },
  {
   "cell_type": "markdown",
   "metadata": {},
   "source": [
    "### Q10.\n",
    "**Operators Covered:** Logical `and`\n",
    "**Notes for Students:** Short-circuits if first operand is False: [Docs](https://docs.python.org/3/library/stdtypes.html#boolean-operations-and-or-not)\n",
    "\n",
    "What is the result of `0 and 10`?\n",
    "- A) 0\n",
    "- B) 10\n",
    "- C) True\n",
    "- D) False"
   ]
  },
  {
   "cell_type": "code",
   "execution_count": null,
   "metadata": {},
   "outputs": [],
   "source": [
    "# Answer:\n",
    "0 and 10"
   ]
  },
  {
   "cell_type": "markdown",
   "metadata": {},
   "source": [
    "### Q11.\n",
    "**Operators Covered:** Unary negation `-`\n",
    "**Notes for Students:** Changes sign of number: [Docs](https://docs.python.org/3/library/stdtypes.html#numeric-types-int-float-complex)\n",
    "\n",
    "The result of `-(-7)` is `__`."
   ]
  },
  {
   "cell_type": "code",
   "execution_count": null,
   "metadata": {},
   "outputs": [],
   "source": [
    "# Answer:\n",
    "-(-7)"
   ]
  },
  {
   "cell_type": "markdown",
   "metadata": {},
   "source": [
    "### Q12.\n",
    "**Operators Covered:** Bitwise OR `|`\n",
    "**Notes for Students:** Operates on binary: [Docs](https://docs.python.org/3/library/stdtypes.html#bitwise-operations-on-integer-types)\n",
    "\n",
    "What is the output of `5 | 2`?"
   ]
  },
  {
   "cell_type": "code",
   "execution_count": null,
   "metadata": {},
   "outputs": [],
   "source": [
    "# Answer:\n",
    "5 | 2"
   ]
  },
  {
   "cell_type": "markdown",
   "metadata": {},
   "source": [
    "### Q13.\n",
    "**Operators Covered:** Modulus `%` with floats\n",
    "**Notes for Students:** Works for floats as well: [Docs](https://docs.python.org/3/library/stdtypes.html#numeric-types-int-float-complex)\n",
    "\n",
    "What is the result of `7.5 % 2.5`?\n",
    "- A) 0.0\n",
    "- B) 2.5\n",
    "- C) 7.5\n",
    "- D) 1.5"
   ]
  },
  {
   "cell_type": "code",
   "execution_count": null,
   "metadata": {},
   "outputs": [],
   "source": [
    "# Answer:\n",
    "7.5 % 2.5"
   ]
  },
  {
   "cell_type": "markdown",
   "metadata": {},
   "source": [
    "### Q14.\n",
    "**Operators Covered:** Exponentiation `**`, Multiplication `*`\n",
    "**Notes for Students:** Operator precedence: [Docs](https://docs.python.org/3/reference/expressions.html#operator-precedence)\n",
    "\n",
    "Predict the output:\n",
    "```python\n",
    "2**3*4\n",
    "```"
   ]
  },
  {
   "cell_type": "code",
   "execution_count": null,
   "metadata": {},
   "outputs": [],
   "source": [
    "2**3*4"
   ]
  },
  {
   "cell_type": "markdown",
   "metadata": {},
   "source": [
    "### Q15.\n",
    "**Operators Covered:** Comparison `>=`, `<=`\n",
    "**Notes for Students:** Comparison chaining: [Docs](https://docs.python.org/3/library/stdtypes.html#comparisons)\n",
    "\n",
    "What is the result of `3 <= 4 <= 5`?\n",
    "- A) True\n",
    "- B) False\n",
    "- C) Error\n",
    "- D) None"
   ]
  },
  {
   "cell_type": "code",
   "execution_count": null,
   "metadata": {},
   "outputs": [],
   "source": [
    "3 <= 4 <= 5"
   ]
  },
  {
  "cell_type": "markdown",
  "metadata": {},
  "source": [
  "### Q16. Read / Interpret Code\n",
  "**Operators Covered:** Identity `is`, Equality `==`\n",
  "**Notes for Students:** `is` checks object identity, `==` checks equality: [Docs](https://docs.python.org/3/reference/expressions.html#is)\n",
  "\n",
  "What is the result of the following code?\n",
  "```python\n",
  "a = []\n",
  "b = []\n",
  "a == b, a is b\n",
  "```"
  ]
  },
  {
  "cell_type": "code",
  "execution_count": null,
  "metadata": {},
  "outputs": [],
  "source": [
  "a = []\n",
  "b = []\n",
  "a == b, a is b"
  ]
  },
  {
   "cell_type": "markdown",
   "metadata": {},
   "source": [
    "### Q17.\n",
    "**Operators Covered:** Logical `or`, `and`\n",
    "**Notes for Students:** Short-circuit evaluation: [Docs](https://docs.python.org/3/library/stdtypes.html#boolean-operations-and-or-not)\n",
    "\n",
    "Predict the output:\n",
    "```python\n",
    "0 or 1 and 0\n",
    "```"
   ]
  },
  {
   "cell_type": "code",
   "execution_count": null,
   "metadata": {},
   "outputs": [],
   "source": [
    "0 or 1 and 0"
   ]
  },
  {
   "cell_type": "markdown",
   "metadata": {},
   "source": [
    "### Q18.\n",
    "**Operators Covered:** Bitwise XOR `^`\n",
    "**Notes for Students:** Operates on bits: [Docs](https://docs.python.org/3/library/stdtypes.html#bitwise-operations-on-integer-types)\n",
    "\n",
    "What is `7 ^ 3`?\n",
    "- A) 4\n",
    "- B) 5\n",
    "- C) 6\n",
    "- D) 1"
   ]
  },
  {
   "cell_type": "code",
   "execution_count": null,
   "metadata": {},
   "outputs": [],
   "source": [
    "7 ^ 3"
   ]
  },
  {
   "cell_type": "markdown",
   "metadata": {},
   "source": [
    "### Q19.\n",
    "**Operators Covered:** Assignment `+=`\n",
    "**Notes for Students:** Assigns and combines: [Docs](https://docs.python.org/3/reference/simple_stmts.html#assignment-statements)\n",
    "\n",
    "If `x = 5`, then after `x += 3`, `x` is `__`."
   ]
  },
  {
   "cell_type": "code",
   "execution_count": null,
   "metadata": {},
   "outputs": [],
   "source": [
    "x = 5\n",
    "x += 3\n",
    "x"
   ]
  },
  {
   "cell_type": "markdown",
   "metadata": {},
   "source": [
    "### Q20.\n",
    "**Operators Covered:** Operator precedence, mixed types\n",
    "**Notes for Students:** Precedence rules: [Docs](https://docs.python.org/3/reference/expressions.html#operator-precedence)\n",
    "\n",
    "Predict the output:\n",
    "```python\n",
    "2 + 3 * 4 ** 2 // 5 % 3\n",
    "```"
   ]
  },
  {
   "cell_type": "code",
   "execution_count": null,
   "metadata": {},
   "outputs": [],
   "source": [
    "2 + 3 * 4 ** 2 // 5 % 3"
   ]
  }
 ],
 "metadata": {
  "kernelspec": {
   "display_name": "Python 3",
   "language": "python",
   "name": "python3"
  },
  "language_info": {
   "codemirror_mode": {
    "name": "ipython",
    "version": 3
   },
   "file_extension": ".py",
   "mimetype": "text/x-python",
   "name": "python",
   "nbconvert_exporter": "python",
   "pygments_lexer": "ipython3",
   "version": "3.8.10"
  }
 },
 "nbformat": 4,
 "nbformat_minor": 5
}
