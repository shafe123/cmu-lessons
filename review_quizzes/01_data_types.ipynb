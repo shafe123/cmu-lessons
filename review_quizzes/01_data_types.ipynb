{
 "cells": [
  {
   "cell_type": "markdown",
   "metadata": {},
   "source": [
    "# Python Data Types Practice Notebook\n",
    "\n",
    "This notebook contains 20 practice questions on Python data types, with mixed difficulty and question types. Notes are sourced directly from the [official Python documentation](https://docs.python.org/3/library/stdtypes.html) and [language reference](https://docs.python.org/3/reference/datamodel.html).\n",
    "\n",
    "Topics covered:\n",
    "- Evaluation, Expressions, and Representation\n",
    "- Integers\n",
    "- Floats\n",
    "- Booleans\n",
    "- Strings\n",
    "- `None`\n",
    "- String concatenation and multiplication\n",
    "- Relational operators for strings\n",
    "- Exact equality of floats\n",
    "- Type conversions"
   ]
  },
  {
   "cell_type": "markdown",
   "metadata": {},
   "source": [
    "### Notes for Students\n",
    "\n",
    "- *Integers* and *floats* are numeric types. Integers have unlimited precision. [(Python docs)](https://docs.python.org/3/library/stdtypes.html#numeric-types-int-float-complex)\n",
    "- *Booleans* are a subclass of integers: `True == 1`, `False == 0`. [(Python docs)](https://docs.python.org/3/library/stdtypes.html#boolean-values)\n",
    "- *Strings* are immutable sequences of Unicode characters. [(Python docs)](https://docs.python.org/3/library/stdtypes.html#text-sequence-type-str)\n",
    "- *None* is the sole value of `NoneType`, often used to signal ‘no value’. [(Python docs)](https://docs.python.org/3/library/constants.html#None)\n",
    "- *String concatenation* uses `+`, and *multiplication* uses `*`. [(Python docs)](https://docs.python.org/3/library/stdtypes.html#common-sequence-operations)\n",
    "- *Relational operators* for strings compare lexicographically (dictionary order). [(Python docs)](https://docs.python.org/3/library/stdtypes.html#typesseq)\n",
    "- *Float equality* can be tricky due to precision. Prefer `math.isclose` for comparisons. [(Python docs)](https://docs.python.org/3/library/math.html#math.isclose)\n"
   ]
  },
  {
   "cell_type": "markdown",
   "metadata": {},
   "source": [
    "### Q1.\n",
    "**Topic:** Integers\n",
    "**Notes:** Python integers can grow arbitrarily large.\n",
    "\n",
    "What is the result of `2**100`?\n",
    "- A) OverflowError\n",
    "- B) A very large integer\n",
    "- C) Infinity\n",
    "- D) 0"
   ]
  },
  {
   "cell_type": "code",
   "execution_count": null,
   "metadata": {},
   "outputs": [],
   "source": [
    "2**100"
   ]
  },
  {
   "cell_type": "markdown",
   "metadata": {},
   "source": [
    "### Q2.\n",
    "**Topic:** Floats\n",
    "**Notes:** Floating-point numbers are approximate.\n",
    "\n",
    "The result of `0.1 + 0.2 == 0.3` is `__`."
   ]
  },
  {
   "cell_type": "code",
   "execution_count": null,
   "metadata": {},
   "outputs": [],
   "source": [
    "0.1 + 0.2 == 0.3"
   ]
  },
  {
   "cell_type": "markdown",
   "metadata": {},
   "source": [
    "### Q3.\n",
    "**Topic:** Booleans\n",
    "**Notes:** Booleans are integers.\n",
    "\n",
    "What does `True + True + False` evaluate to?"
   ]
  },
  {
   "cell_type": "code",
   "execution_count": null,
   "metadata": {},
   "outputs": [],
   "source": [
    "True + True + False"
   ]
  },
  {
   "cell_type": "markdown",
   "metadata": {},
   "source": [
    "### Q4.\n",
    "**Topic:** Strings\n",
    "**Notes:** Strings can be concatenated and multiplied.\n",
    "\n",
    "Predict the output:\n",
    "```python\n",
    "\"ha\" * 3 + \"!\"\n",
    "```"
   ]
  },
  {
   "cell_type": "code",
   "execution_count": null,
   "metadata": {},
   "outputs": [],
   "source": [
    "\"ha\" * 3 + \"!\""
   ]
  },
  {
   "cell_type": "markdown",
   "metadata": {},
   "source": [
    "### Q5.\n",
    "**Topic:** None\n",
    "**Notes:** `None` is a singleton object.\n",
    "\n",
    "What is the type of `None`?\n",
    "- A) `str`\n",
    "- B) `NoneType`\n",
    "- C) `bool`\n",
    "- D) `object`"
   ]
  },
  {
   "cell_type": "code",
   "execution_count": null,
   "metadata": {},
   "outputs": [],
   "source": [
    "type(None)"
   ]
  },
  {
   "cell_type": "markdown",
   "metadata": {},
   "source": [
    "### Q6.\n",
    "**Topic:** String comparison\n",
    "**Notes:** Strings compare lexicographically.\n",
    "\n",
    "The result of `'apple' < 'banana'` is `__`."
   ]
  },
  {
   "cell_type": "code",
   "execution_count": null,
   "metadata": {},
   "outputs": [],
   "source": [
    "'apple' < 'banana'"
   ]
  },
  {
   "cell_type": "markdown",
   "metadata": {},
   "source": [
    "### Q7.\n",
    "**Topic:** Float representation\n",
    "**Notes:** `repr` shows full precision.\n",
    "\n",
    "What does `repr(0.1)` output?"
   ]
  },
  {
   "cell_type": "code",
   "execution_count": null,
   "metadata": {},
   "outputs": [],
   "source": [
    "repr(0.1)"
   ]
  },
  {
   "cell_type": "markdown",
   "metadata": {},
   "source": [
    "### Q8.\n",
    "**Topic:** Boolean conversions\n",
    "**Notes:** Nonzero numbers and non-empty objects are True.\n",
    "\n",
    "What is `bool(0)`?\n",
    "- A) True\n",
    "- B) False\n",
    "- C) None\n",
    "- D) Error"
   ]
  },
  {
   "cell_type": "code",
   "execution_count": null,
   "metadata": {},
   "outputs": [],
   "source": [
    "bool(0)"
   ]
  },
  {
   "cell_type": "markdown",
   "metadata": {},
   "source": [
    "### Q9.\n",
    "**Topic:** Expressions & evaluation\n",
    "**Notes:** Expressions can mix types if supported.\n",
    "\n",
    "Predict the output:\n",
    "```python\n",
    "3 * True + 2 * False\n",
    "```"
   ]
  },
  {
   "cell_type": "code",
   "execution_count": null,
   "metadata": {},
   "outputs": [],
   "source": [
    "3 * True + 2 * False"
   ]
  },
  {
   "cell_type": "markdown",
   "metadata": {},
   "source": [
   "### Q10. Multiple Choice\n",
   "\n",
   "**Topic:** String immutability  \n",
   "**Notes:** Strings cannot be modified in place. [(Docs)](https://docs.python.org/3/library/stdtypes.html#text-sequence-type-str)\n",
   "\n",
   "What happens if you try to assign `s[0] = 'X'` where `s = 'hello'`?\n",
   "\n",
   "A) `'Xello'`  \n",
   "B) `'hello'`  \n",
   "C) `TypeError`  \n",
   "D) `None`  "
  ]
  },
  {
   "cell_type": "code",
   "execution_count": null,
   "metadata": {},
   "outputs": [],
   "source": [
   "s = 'hello'\n",
   "s[0] = 'X'"
  ]
  },
  {
   "cell_type": "markdown",
   "metadata": {},
   "source": [
    "### Q11.\n",
    "**Topic:** Concatenation with numbers\n",
    "**Notes:** Must convert numbers to strings.\n",
    "\n",
    "The expression `'Age: ' + str(30)` evaluates to `__`."
   ]
  },
  {
   "cell_type": "code",
   "execution_count": null,
   "metadata": {},
   "outputs": [],
   "source": [
    "'Age: ' + str(30)"
   ]
  },
  {
   "cell_type": "markdown",
   "metadata": {},
   "source": [
    "### Q12.\n",
    "**Topic:** Float equality\n",
    "**Notes:** Be cautious with precision.\n",
    "\n",
    "What is `0.3 == 0.1 * 3`?"
   ]
  },
  {
   "cell_type": "code",
   "execution_count": null,
   "metadata": {},
   "outputs": [],
   "source": [
    "0.3 == 0.1 * 3"
   ]
  },
  {
   "cell_type": "markdown",
   "metadata": {},
   "source": [
    "### Q13.\n",
    "**Topic:** None vs False\n",
    "**Notes:** `None` is not the same as False.\n",
    "\n",
    "What is `bool(None)`?\n",
    "- A) True\n",
    "- B) False\n",
    "- C) None\n",
    "- D) Error"
   ]
  },
  {
   "cell_type": "code",
   "execution_count": null,
   "metadata": {},
   "outputs": [],
   "source": [
    "bool(None)"
   ]
  },
  {
   "cell_type": "markdown",
   "metadata": {},
   "source": [
    "### Q14.\n",
    "**Topic:** String slicing\n",
    "**Notes:** Slicing returns a new string.\n",
    "\n",
    "Predict the output:\n",
    "```python\n",
    "'Python'[1:4]\n",
    "```"
   ]
  },
  {
   "cell_type": "code",
   "execution_count": null,
   "metadata": {},
   "outputs": [],
   "source": [
    "'Python'[1:4]"
   ]
  },
  {
   "cell_type": "markdown",
   "metadata": {},
   "source": [
    "### Q15.\n",
    "**Topic:** Integer division with floats\n",
    "**Notes:** `/` produces float, `//` produces floor.\n",
    "\n",
    "What is `7 // 2`?\n",
    "- A) 3\n",
    "- B) 3.5\n",
    "- C) 4\n",
    "- D) 2"
   ]
  },
  {
   "cell_type": "code",
   "execution_count": null,
   "metadata": {},
   "outputs": [],
   "source": [
    "7 // 2"
   ]
  },
  {
   "cell_type": "markdown",
   "metadata": {},
   "source": [
    "### Q16.\n",
    "**Topic:** Type conversions\n",
    "**Notes:** `int()` truncates toward zero.\n",
    "\n",
    "The result of `int(-3.7)` is `__`."
   ]
  },
  {
   "cell_type": "code",
   "execution_count": null,
   "metadata": {},
   "outputs": [],
   "source": [
    "int(-3.7)"
   ]
  },
  {
   "cell_type": "markdown",
   "metadata": {},
   "source": [
    "### Q17.\n",
    "**Topic:** Mixed types\n",
    "**Notes:** Integers can be combined with floats.\n",
    "\n",
    "What does `3 + 2.0` evaluate to?"
   ]
  },
  {
   "cell_type": "code",
   "execution_count": null,
   "metadata": {},
   "outputs": [],
   "source": [
    "3 + 2.0"
   ]
  },
  {
   "cell_type": "markdown",
   "metadata": {},
   "source": [
    "### Q18.\n",
    "**Topic:** Boolean logic with None\n",
    "**Notes:** `None` is falsy.\n",
    "\n",
    "What is `None or 'hello'`?\n",
    "- A) `None`\n",
    "- B) `'hello'`\n",
    "- C) `False`\n",
    "- D) Error"
   ]
  },
  {
   "cell_type": "code",
   "execution_count": null,
   "metadata": {},
   "outputs": [],
   "source": [
    "None or 'hello'"
   ]
  },
  {
   "cell_type": "markdown",
   "metadata": {},
   "source": [
    "### Q19.\n",
    "**Topic:** String repetition edge case\n",
    "**Notes:** Negative multipliers give empty string.\n",
    "\n",
    "The result of `'abc' * -2` is `__`."
   ]
  },
  {
   "cell_type": "code",
   "execution_count": null,
   "metadata": {},
   "outputs": [],
   "source": [
    "'abc' * -2"
   ]
  },
  {
   "cell_type": "markdown",
   "metadata": {},
   "source": [
    "### Q20.\n",
    "**Topic:** Mixed evaluation\n",
    "**Notes:** Demonstrates precedence and conversions.\n",
    "\n",
    "Predict the output:\n",
    "```python\n",
    "bool('') or int(True) + float(False)\n",
    "```"
   ]
  },
  {
   "cell_type": "code",
   "execution_count": null,
   "metadata": {},
   "outputs": [],
   "source": [
    "bool('') or int(True) + float(False)"
   ]
  }
 ],
 "metadata": {
  "kernelspec": {
   "display_name": "Python 3",
   "language": "python",
   "name": "python3"
  },
  "language_info": {
   "codemirror_mode": {
    "name": "ipython",
    "version": 3
   },
   "file_extension": ".py",
   "mimetype": "text/x-python",
   "name": "python",
   "nbconvert_exporter": "python",
   "pygments_lexer": "ipython3",
   "version": "3.8.10"
  }
 },
 "nbformat": 4,
 "nbformat_minor": 5
}
