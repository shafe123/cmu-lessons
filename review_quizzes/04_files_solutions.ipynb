{
 "cells": [
  {
   "cell_type": "markdown",
   "id": "b7088703",
   "metadata": {},
   "source": [
    "# Solutions: Quiz 04 — Working with Files\n",
    "\n",
    "This notebook contains reference solutions for Problems 0–5 from the quiz. Each solution is implemented as a small, well-documented Python function and followed by a short demonstration using temporary files. The demos create temporary files using the `tempfile` and `pathlib` modules so you can re-run cells safely."
   ]
  },
  {
   "cell_type": "markdown",
   "id": "5a5bb3d7",
   "metadata": {},
   "source": [
    "### Problem 0 — Count non-empty lines\n",
    "Implement `count_nonempty_lines(path)` that returns the number of non-empty (non-whitespace) lines in a file."
   ]
  },
  {
   "cell_type": "code",
   "execution_count": 13,
   "id": "d1ff7930",
   "metadata": {},
   "outputs": [],
   "source": [
    "def count_nonempty_lines(path):\n",
    "    \"\"\"Return the count of lines that are not empty or whitespace-only.\n",
    "    Streams the file line-by-line.\n",
    "    \"\"\"\n",
    "    count = 0\n",
    "    with open(path, 'r') as f:\n",
    "        for line in f:\n",
    "            if line.strip():\n",
    "                count += 1\n",
    "    return count"
   ]
  },
  {
   "cell_type": "code",
   "execution_count": 14,
   "id": "10c77c84",
   "metadata": {},
   "outputs": [
    {
     "name": "stdout",
     "output_type": "stream",
     "text": [
      "file contents: hello\n",
      "\n",
      "  \n",
      "world\n",
      "\n",
      "count_nonempty_lines -> 2\n"
     ]
    }
   ],
   "source": [
    "# Demo for Problem 0\n",
    "import tempfile\n",
    "from pathlib import Path\n",
    "tmpdir = tempfile.TemporaryDirectory()\n",
    "p = Path(tmpdir.name) / 'demo0.txt'\n",
    "p.write_text('hello\\n\\n  \\nworld\\n')\n",
    "print('file contents:', p.read_text())\n",
    "print('count_nonempty_lines ->', count_nonempty_lines(str(p)))"
   ]
  },
  {
   "cell_type": "markdown",
   "id": "d87c0282",
   "metadata": {},
   "source": [
    "### Problem 1 — Count word frequencies\n",
    "Implement `count_word_freq(path)` which reads a UTF-8 text file and returns a dictionary mapping normalized words to counts. Normalization: lowercase and strip surrounding punctuation."
   ]
  },
  {
   "cell_type": "code",
   "execution_count": 16,
   "id": "93398256",
   "metadata": {},
   "outputs": [],
   "source": [
    "import string\n",
    "\n",
    "def normalize_token(token):\n",
    "    return token.strip(string.punctuation).lower()\n",
    "\n",
    "def count_word_freq(path):\n",
    "    counts = {}\n",
    "    with open(path, 'r') as f:\n",
    "        for line in f:\n",
    "            for raw_token in line.split():\n",
    "                token = normalize_token(raw_token)\n",
    "                if token:\n",
    "                    if token not in counts:\n",
    "                        counts[token] = 0\n",
    "                    counts[token] += 1\n",
    "    return dict(counts)"
   ]
  },
  {
   "cell_type": "code",
   "execution_count": 17,
   "id": "5ce02627",
   "metadata": {},
   "outputs": [
    {
     "name": "stdout",
     "output_type": "stream",
     "text": [
      "Hello hello world.\n",
      "Hi! Hi? Hi...\n",
      "A, B; C: a b\n",
      "count_word_freq -> {'hello': 2, 'world': 1, 'hi': 3, 'a': 2, 'b': 2, 'c': 1}\n"
     ]
    }
   ],
   "source": [
    "# Demo for Problem 1\n",
    "import tempfile\n",
    "from pathlib import Path\n",
    "tmpdir = tempfile.TemporaryDirectory()\n",
    "p = Path(tmpdir.name) / 'demo1.txt'\n",
    "p.write_text('Hello hello world.\\nHi! Hi? Hi...\\nA, B; C: a b')\n",
    "print(p.read_text())\n",
    "print('count_word_freq ->', count_word_freq(str(p)))"
   ]
  },
  {
   "cell_type": "markdown",
   "id": "9e099097",
   "metadata": {},
   "source": [
    "### Problem 2 — Top-N longest lines\n",
    "Implement `top_n_longest_lines(path, n)` which returns the n longest lines (trimmed of trailing newline) in descending length order, ties by file order."
   ]
  },
  {
   "cell_type": "code",
   "execution_count": 18,
   "id": "b0cb174b",
   "metadata": {},
   "outputs": [],
   "source": [
    "def top_n_longest_lines(path, n):\n",
    "    if n <= 0:\n",
    "        return []\n",
    "\n",
    "    result = [] # a heap would be better but we don't know that yet\n",
    "    with open(path, 'r') as f:\n",
    "        for line_number, raw_line in enumerate(f):\n",
    "            line = raw_line.rstrip('\\n')\n",
    "            val = (len(line), -line_number, line) # by storing the -line_number, we can sort easily later\n",
    "            \n",
    "            if len(result) < n:\n",
    "                result.append(val)\n",
    "            elif len(result) >= n and val > result[-1]:\n",
    "                result.pop() # remove the smallest element\n",
    "                result.append(val) # add the new element\n",
    "            \n",
    "            result.sort(reverse=True) # sort such that the longest lengths are first\n",
    "                                      # and then by smallest indices\n",
    "    \n",
    "    # Extract and sort descending by length then by index\n",
    "    return [t[2] for t in result]"
   ]
  },
  {
   "cell_type": "code",
   "execution_count": 20,
   "id": "7fd86827",
   "metadata": {},
   "outputs": [
    {
     "name": "stdout",
     "output_type": "stream",
     "text": [
      "['cherry pie', 'banana']\n",
      "['bb', 'cc', 'a']\n"
     ]
    }
   ],
   "source": [
    "# Demo for Problem 2\n",
    "import tempfile\n",
    "from pathlib import Path\n",
    "tmpdir = tempfile.TemporaryDirectory()\n",
    "p = Path(tmpdir.name) / 'demo2.txt'\n",
    "p.write_text('apple\\nbanana\\ncherry pie\\n')\n",
    "print(top_n_longest_lines(str(p), 2))\n",
    "p.write_text('a\\nbb\\ncc\\n')\n",
    "print(top_n_longest_lines(str(p), 5))"
   ]
  },
  {
   "cell_type": "markdown",
   "id": "bc671c90",
   "metadata": {},
   "source": [
    "### Problem 3 — Merge two sorted integer files\n",
    "Implement `merge_sorted_files(path_a, path_b)` to merge two sorted integer files efficiently (streaming) and return a single list of integers."
   ]
  },
  {
   "cell_type": "code",
   "execution_count": 28,
   "id": "0672863e",
   "metadata": {},
   "outputs": [],
   "source": [
    "def merge_sorted_files(path_a, path_b):\n",
    "    result = []\n",
    "    a, b = 0, 0\n",
    "    with open(path_a, 'r') as ita, open(path_b, 'r') as itb:\n",
    "        try:\n",
    "            a = int(ita.readline())\n",
    "        except:\n",
    "            return [int(b) for b in itb] # get all of b\n",
    "        \n",
    "        try:\n",
    "            b = int(itb.readline())\n",
    "        except:\n",
    "            return [a] + [int(a) for a in ita] # get the remainder of a\n",
    "        \n",
    "        while a and b: # continue while both have values\n",
    "            if a <= b:\n",
    "                result.append(a)\n",
    "                try:\n",
    "                    a = int(ita.readline())\n",
    "                except ValueError:\n",
    "                    a = None\n",
    "            else:\n",
    "                result.append(b)\n",
    "                try:\n",
    "                    b = int(itb.readline())\n",
    "                except ValueError:\n",
    "                    b = None\n",
    "            \n",
    "        if a: # if a has values remaining\n",
    "            result.extend([a] + [int(a) for a in ita])\n",
    "\n",
    "        elif b: # if b has values remaining\n",
    "            result.extend([b] + [int(b) for b in itb])\n",
    "        \n",
    "    return result"
   ]
  },
  {
   "cell_type": "code",
   "execution_count": 29,
   "id": "695fe6b8",
   "metadata": {},
   "outputs": [
    {
     "name": "stdout",
     "output_type": "stream",
     "text": [
      "merge -> [1, 2, 3, 4, 5, 6]\n"
     ]
    }
   ],
   "source": [
    "# Demo for Problem 3\n",
    "import tempfile\n",
    "from pathlib import Path\n",
    "tmpdir = tempfile.TemporaryDirectory()\n",
    "pa = Path(tmpdir.name) / 'a.txt'\n",
    "pb = Path(tmpdir.name) / 'b.txt'\n",
    "pa.write_text('1\\n3\\n5\\n')\n",
    "pb.write_text('2\\n4\\n6\\n')\n",
    "print('merge ->', merge_sorted_files(str(pa), str(pb)))"
   ]
  },
  {
   "cell_type": "markdown",
   "id": "44595062",
   "metadata": {},
   "source": [
    "### Problem 4 — Lines containing all query words\n",
    "Implement `lines_with_all_words(path, queries)` returning lines that contain every query word (case-insensitive, strip surrounding punctuation). Empty queries -> return [] by explicit choice."
   ]
  },
  {
   "cell_type": "code",
   "execution_count": null,
   "id": "a9ccffed",
   "metadata": {},
   "outputs": [],
   "source": [
    "import string\n",
    "\n",
    "def tokenize(line):\n",
    "    result = []\n",
    "    for token in line.split():\n",
    "        token = token.strip(string.punctuation) # this is just a helper for getting punctuation\n",
    "        if token:\n",
    "            result.append(token.lower())\n",
    "    return result\n",
    "\n",
    "def lines_with_all_words(path, queries):\n",
    "    if not queries:\n",
    "        return []\n",
    "    query_words = [query.lower() for query in queries]\n",
    "    result = []\n",
    "    with open(path, 'r') as f:\n",
    "        for line in f:\n",
    "            tokens = set(tokenize(line))\n",
    "            if all(word in tokens for word in query_words):\n",
    "                result.append(line.rstrip('\\n'))\n",
    "    return result"
   ]
  },
  {
   "cell_type": "code",
   "execution_count": 30,
   "id": "c7895193",
   "metadata": {},
   "outputs": [
    {
     "name": "stdout",
     "output_type": "stream",
     "text": [
      "['I like apples and bananas']\n",
      "['I like apples and bananas', 'Bananas are tasty']\n",
      "[]\n"
     ]
    }
   ],
   "source": [
    "# Demo for Problem 4\n",
    "import tempfile\n",
    "from pathlib import Path\n",
    "tmpdir = tempfile.TemporaryDirectory()\n",
    "p = Path(tmpdir.name) / 't.txt'\n",
    "p.write_text('I like apples and bananas\\nBananas are tasty\\n')\n",
    "print(lines_with_all_words(str(p), ['apples','bananas']))\n",
    "print(lines_with_all_words(str(p), ['bananas']))\n",
    "print(lines_with_all_words(str(p), []))"
   ]
  },
  {
   "cell_type": "markdown",
   "id": "d04dc2cf",
   "metadata": {},
   "source": [
    "### Problem 5 — Replace lines in a file safely\n",
    "Implement `replace_lines_in_file(path, predicate, replacer)` that writes to a temporary file and atomically replaces the original. Returns number of replacements."
   ]
  },
  {
   "cell_type": "code",
   "execution_count": 6,
   "id": "c0905f4e",
   "metadata": {},
   "outputs": [],
   "source": [
    "import tempfile\n",
    "import os\n",
    "from pathlib import Path\n",
    "\n",
    "\n",
    "def replace_lines_in_file(path, predicate, replacer):\n",
    "    path = Path(path)\n",
    "    replaced = 0\n",
    "    dirpath = path.parent\n",
    "\n",
    "    temp_file = tempfile.TemporaryFile(\n",
    "        \"w\", dir=dirpath, suffix=\".txt\", delete=False, delete_on_close=False\n",
    "    )\n",
    "    with open(path, \"r\") as src:\n",
    "        for line in src:\n",
    "            if predicate(line):\n",
    "                temp_file.write(replacer(line))\n",
    "                replaced += 1\n",
    "            else:\n",
    "                temp_file.write(line)\n",
    "    temp_file.close()\n",
    "    os.replace(temp_file.name, str(path))\n",
    "    return replaced"
   ]
  },
  {
   "cell_type": "code",
   "execution_count": 8,
   "id": "d3be8a38",
   "metadata": {},
   "outputs": [
    {
     "name": "stdout",
     "output_type": "stream",
     "text": [
      "before -> ['red', 'blue', 'yellow']\n",
      "n replacements -> 1\n",
      "after -> ['red', 'azure', 'yellow']\n"
     ]
    }
   ],
   "source": [
    "# Demo for Problem 5\n",
    "import tempfile\n",
    "from pathlib import Path\n",
    "tmpdir = tempfile.TemporaryDirectory()\n",
    "p = Path(tmpdir.name) / 'colors.txt'\n",
    "p.write_text('red\\nblue\\nyellow\\n')\n",
    "print('before ->', p.read_text().splitlines())\n",
    "n = replace_lines_in_file(str(p), lambda l: l.strip()=='blue', lambda l: 'azure\\n')\n",
    "print('n replacements ->', n)\n",
    "print('after ->', p.read_text().splitlines())"
   ]
  }
 ],
 "metadata": {
  "kernelspec": {
   "display_name": ".venv",
   "language": "python",
   "name": "python3"
  },
  "language_info": {
   "codemirror_mode": {
    "name": "ipython",
    "version": 3
   },
   "file_extension": ".py",
   "mimetype": "text/x-python",
   "name": "python",
   "nbconvert_exporter": "python",
   "pygments_lexer": "ipython3",
   "version": "3.13.5"
  }
 },
 "nbformat": 4,
 "nbformat_minor": 5
}
