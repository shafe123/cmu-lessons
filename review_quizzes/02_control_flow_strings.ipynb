{
 "cells": [
  {
   "cell_type": "markdown",
   "id": "9f8fbc4a",
   "metadata": {},
   "source": [
    "# Quiz XX: Topic YYY\n",
    "Overview of quiz\n",
    "\n",
    "e.g.\n",
    "This quiz is designed to test your understanding of X, Y, Z.  It consists of X multiple choice, Y short answer, Z fill in the blank, and XX programming problems."
   ]
  },
  {
   "cell_type": "markdown",
   "id": "606de2db",
   "metadata": {},
   "source": [
    "## Multiple Choice"
   ]
  },
  {
   "cell_type": "markdown",
   "id": "4038e0e3",
   "metadata": {},
   "source": [
    "### Question name\n",
    "What is the answer?\n",
    "\n",
    "1. this one\n",
    "2. that one\n",
    "3. maybe\n",
    "4. not\n",
    "\n",
    "<details>\n",
    "<summary>Answer</summary>\n",
    "1\n",
    "</details>"
   ]
  },
  {
   "cell_type": "markdown",
   "id": "f7990098",
   "metadata": {},
   "source": [
    "### Second Question\n",
    "This is a second question?\n",
    "1. \n",
    "1. \n",
    "1. \n",
    "\n",
    "<details>\n",
    "<summary>Answer</summary>\n",
    "1\n",
    "</details>"
   ]
  },
  {
   "cell_type": "markdown",
   "id": "e11620b8",
   "metadata": {},
   "source": [
    "## Fill In The Blank"
   ]
  },
  {
   "cell_type": "markdown",
   "id": "a783f80a",
   "metadata": {},
   "source": [
    "### Question name"
   ]
  },
  {
   "cell_type": "markdown",
   "id": "6f9621ea",
   "metadata": {},
   "source": [
    "### Second Question name"
   ]
  },
  {
   "cell_type": "markdown",
   "id": "21c7ae66",
   "metadata": {},
   "source": [
    "## Reading Problems"
   ]
  },
  {
   "cell_type": "markdown",
   "id": "1f8e446e",
   "metadata": {},
   "source": [
    "etc..."
   ]
  },
  {
   "cell_type": "markdown",
   "id": "c0538136",
   "metadata": {},
   "source": [
    "## Software Problems"
   ]
  }
 ],
 "metadata": {
  "kernelspec": {
   "display_name": ".venv",
   "language": "python",
   "name": "python3"
  },
  "language_info": {
   "name": "python",
   "version": "3.13.5"
  }
 },
 "nbformat": 4,
 "nbformat_minor": 5
}
