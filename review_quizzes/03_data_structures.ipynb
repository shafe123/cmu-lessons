{
 "cells": [
  {
   "cell_type": "markdown",
   "id": "9f8fbc4a",
   "metadata": {},
   "source": [
    "# Quiz: Python Data Structures\n",
    "\n",
    "This quiz is designed to test your understanding of fundamental Python data structures. It covers the properties, methods, and use cases for lists, dictionaries, sets, and tuples."
   ]
  },
  {
   "cell_type": "markdown",
   "id": "606de2db",
   "metadata": {},
   "source": [
    "## Multiple Choice"
   ]
  },
  {
   "cell_type": "markdown",
   "id": "b1a4e5f8",
   "metadata": {},
   "source": [
    "### Data Structure Definition\n",
    "Which of the following best describes a data structure?\n",
    "\n",
    "1. A function that performs a specific task.\n",
    "2. A specialized format for organizing, processing, retrieving, and storing data.\n",
    "3. A type of variable that can only hold numbers.\n",
    "4. A conditional statement like `if-else`.\n",
    "\n",
    "<details>\n",
    "<summary>Answer</summary>\n",
    "**2. A specialized format for organizing, processing, retrieving, and storing data.**\n",
    "\n",
    "**Explanation:** A data structure is a way of organizing data so that it can be accessed and used efficiently. The other options describe different programming constructs, not data structures.\n",
    "</details>"
   ]
  },
  {
   "cell_type": "markdown",
   "id": "c7d3e1a9",
   "metadata": {},
   "source": [
    "### List Properties\n",
    "What is a fundamental property of a Python list?\n",
    "\n",
    "1. It is immutable.\n",
    "2. It cannot contain duplicate elements.\n",
    "3. It is an ordered and mutable collection of items.\n",
    "4. It stores items as key-value pairs.\n",
    "\n",
    "<details>\n",
    "<summary>Answer</summary>\n",
    "**3. It is an ordered and mutable collection of items.**\n",
    "\n",
    "**Explanation:** Lists in Python maintain the order of their elements (ordered) and can be changed after creation (mutable). Tuples are immutable, sets cannot have duplicates, and dictionaries use key-value pairs.\n",
    "</details>"
   ]
  },
  {
   "cell_type": "markdown",
   "id": "d9e8f2b0",
   "metadata": {},
   "source": [
    "### Modifying a List\n",
    "Which method is used to add a single element to the end of a list?\n",
    "\n",
    "1. `add()`\n",
    "2. `extend()`\n",
    "3. `push()`\n",
    "4. `append()`\n",
    "\n",
    "<details>\n",
    "<summary>Answer</summary>\n",
    "**4. `append()`**\n",
    "\n",
    "**Explanation:** The `append()` method adds its argument as a single element to the end of a list. `extend()` iterates over its argument and adds each item, `add()` is for sets, and `push()` is not a standard list method in Python.\n",
    "</details>"
   ]
  },
  {
   "cell_type": "markdown",
   "id": "e1f9a3c1",
   "metadata": {},
   "source": [
    "### Dictionary Properties\n",
    "What is the primary purpose of a Python dictionary?\n",
    "\n",
    "1. To store an ordered sequence of elements.\n",
    "2. To store a collection of unique, unordered items.\n",
    "3. To store data in key-value pairs for efficient lookup.\n",
    "4. To store an immutable sequence of elements.\n",
    "\n",
    "<details>\n",
    "<summary>Answer</summary>\n",
    "**3. To store data in key-value pairs for efficient lookup.**\n",
    "\n",
    "**Explanation:** Dictionaries are optimized for retrieving a value when you know the key, making them ideal for associative data storage.\n",
    "</details>"
   ]
  },
  {
   "cell_type": "markdown",
   "id": "f2a0b4d2",
   "metadata": {},
   "source": [
    "### Accessing Dictionary Elements\n",
    "Given `my_dict = {\"name\": \"John\", \"age\": 30}`, how would you access the value `30`?\n",
    "\n",
    "1. `my_dict[1]`\n",
    "2. `my_dict.get(\"age\")`\n",
    "3. `my_dict.value(\"age\")`\n",
    "4. `my_dict[\"value\"][1]`\n",
    "\n",
    "<details>\n",
    "<summary>Answer</summary>\n",
    "**2. `my_dict.get(\"age\")`**\n",
    "\n",
    "**Explanation:** You access dictionary values by their keys. Both `my_dict['age']` and `my_dict.get('age')` work. `get()` is often safer as it returns `None` instead of raising an error if the key doesn't exist. Dictionaries are not accessed by numeric index like lists.\n",
    "</details>"
   ]
  },
  {
   "cell_type": "markdown",
   "id": "a3b1c5e3",
   "metadata": {},
   "source": [
    "### Set Properties\n",
    "Which of these are fundamental properties of a Python set?\n",
    "\n",
    "1. Ordered and mutable.\n",
    "2. Unordered and contains unique elements.\n",
    "3. Ordered and immutable.\n",
    "4. Unordered and allows duplicate elements.\n",
    "\n",
    "<details>\n",
    "<summary>Answer</summary>\n",
    "**2. Unordered and contains unique elements.**\n",
    "\n",
    "**Explanation:** Sets do not maintain any specific order, and they automatically discard any duplicate elements you try to add.\n",
    "</details>"
   ]
  },
  {
   "cell_type": "markdown",
   "id": "b4c2d6f4",
   "metadata": {},
   "source": [
    "### Modifying a Set\n",
    "Which method is used to add a single element to a set?\n",
    "\n",
    "1. `append()`\n",
    "2. `insert()`\n",
    "3. `add()`\n",
    "4. `update()`\n",
    "\n",
    "<details>\n",
    "<summary>Answer</summary>\n",
    "**3. `add()`**\n",
    "\n",
    "**Explanation:** The `add()` method is used to add a single element to a set. `append()` and `insert()` are for lists, while `update()` is used to add multiple elements to a set from an iterable.\n",
    "</details>"
   ]
  },
  {
   "cell_type": "markdown",
   "id": "c5d3e7a5",
   "metadata": {},
   "source": [
    "### Tuple Properties\n",
    "What is the defining characteristic of a Python tuple?\n",
    "\n",
    "1. It is mutable.\n",
    "2. It is unordered.\n",
    "3. It is immutable.\n",
    "4. It must contain elements of the same data type.\n",
    "\n",
    "<details>\n",
    "<summary>Answer</summary>\n",
    "**3. It is immutable.**\n",
    "\n",
    "**Explanation:** The key property of a tuple is its immutability, meaning it cannot be changed after it's created. This makes it a reliable data container for constants.\n",
    "</details>"
   ]
  },
  {
   "cell_type": "markdown",
   "id": "d6e4f8b6",
   "metadata": {},
   "source": [
    "### Data Structure Use Cases\n",
    "You need to store a collection of unique tags for blog posts, and you will need to perform membership tests very quickly. Which data structure is the most appropriate?\n",
    "\n",
    "1. List\n",
    "2. Dictionary\n",
    "3. Set\n",
    "4. Tuple\n",
    "\n",
    "<details>\n",
    "<summary>Answer</summary>\n",
    "**3. Set**\n",
    "\n",
    "**Explanation:** A set is the perfect choice here because it automatically handles uniqueness (no duplicate tags) and is highly optimized for fast membership testing (e.g., checking if a tag already exists).\n",
    "</details>"
   ]
  },
  {
   "cell_type": "markdown",
   "id": "e7f5a9c7",
   "metadata": {},
   "source": [
    "### List vs. Set\n",
    "What are the two primary behavioral differences between a list and a set?\n",
    "\n",
    "1. Lists are mutable while sets are immutable; Lists are ordered while sets are unordered.\n",
    "2. Lists allow duplicates while sets do not; Lists maintain insertion order while sets do not.\n",
    "3. Lists use index-based access while sets use key-based access; Lists are for numbers while sets are for strings.\n",
    "4. Lists are fast for lookups while sets are slow; Lists can be nested while sets cannot.\n",
    "\n",
    "<details>\n",
    "<summary>Answer</summary>\n",
    "**2. Lists allow duplicates while sets do not; Lists maintain insertion order while sets do not.**\n",
    "\n",
    "**Explanation:** The core distinctions are that lists care about order and allow for the same element to appear multiple times, whereas sets are unordered collections of unique elements.\n",
    "</details>"
   ]
  },
  {
   "cell_type": "markdown",
   "id": "f8a6baD8",
   "metadata": {},
   "source": [
    "### List vs. Tuple\n",
    "What is the main reason to choose a tuple over a list?\n",
    "\n",
    "1. You need to frequently add or remove elements.\n",
    "2. The order of elements does not matter.\n",
    "3. You need to store a collection of items that should not be changed after creation.\n",
    "4. You need to store key-value pairs.\n",
    "\n",
    "<details>\n",
    "<summary>Answer</summary>\n",
    "**3. You need to store a collection of items that should not be changed after creation.**\n",
    "\n",
    "**Explanation:** You use a tuple when you want to ensure the data cannot be accidentally or intentionally modified. This property is called immutability.\n",
    "</details>"
   ]
  },
  {
   "cell_type": "markdown",
   "id": "e11620b8",
   "metadata": {},
   "source": [
    "## Fill In The Blank"
   ]
  },
  {
   "cell_type": "markdown",
   "id": "a783f80a",
   "metadata": {},
   "source": [
    "### List Property\n",
    "A Python `list` is an ordered, ______ collection of items.\n",
    "\n",
    "<details>\n",
    "<summary>Answer</summary>\n",
    "**mutable**\n",
    "\n",
    "**Explanation:** Mutable means that the list can be modified after its creation—you can add, remove, or change elements.\n",
    "</details>"
   ]
  },
  {
   "cell_type": "markdown",
   "id": "6f9621ea",
   "metadata": {},
   "source": [
    "### Dictionary Structure\n",
    "A dictionary stores data in a series of ______ pairs.\n",
    "\n",
    "<details>\n",
    "<summary>Answer</summary>\n",
    "**key-value**\n",
    "\n",
    "**Explanation:** Each item in a dictionary consists of a unique key that maps to a value.\n",
    "</details>"
   ]
  },
  {
   "cell_type": "markdown",
   "id": "b8d2e4f5",
   "metadata": {},
   "source": [
    "### Set Uniqueness\n",
    "A `set` is an unordered collection of ______ elements.\n",
    "\n",
    "<details>\n",
    "<summary>Answer</summary>\n",
    "**unique (or distinct)**\n",
    "\n",
    "**Explanation:** A set cannot contain duplicate elements; if you try to add an element that is already present, the set remains unchanged.\n",
    "</details>"
   ]
  },
  {
   "cell_type": "markdown",
   "id": "c9a3f5a6",
   "metadata": {},
   "source": [
    "### Tuple Immutability\n",
    "Because a tuple is ______, its elements cannot be changed after it is created.\n",
    "\n",
    "<details>\n",
    "<summary>Answer</summary>\n",
    "**immutable**\n",
    "\n",
    "**Explanation:** Immutability is the core property of tuples, distinguishing them from lists and making them suitable for representing fixed data.\n",
    "</details>"
   ]
  },
  {
   "cell_type": "markdown",
   "id": "21c7ae66",
   "metadata": {},
   "source": [
    "## Reading Problems"
   ]
  },
  {
   "cell_type": "markdown",
   "id": "reading_problem_1",
   "metadata": {},
   "source": [
    "### Problem 1: Mutability with Functions\n",
    "Read the following code snippet carefully.\n",
    "```python\n",
    "def process_data(items):\n",
    "    items.append(100)\n",
    "    items = [1, 2, 3] \n",
    "    \n",
    "my_data = [10, 20, 30]\n",
    "process_data(my_data)\n",
    "print(my_data)\n",
    "```\n",
    "**Question:** What will be printed to the console when this script is executed?\n",
    "<details>\n",
    "<summary>Answer</summary>\n",
    "**`[10, 20, 30, 100]`**\n",
    "\n",
    "**Explanation:** This question tests your understanding of **list mutability** and **variable scope**. When `my_data` is passed to `process_data`, the function receives a *reference* to the original list. The line `items.append(100)` modifies this original list. However, the next line, `items = [1, 2, 3]`, only reassigns the *local* variable `items` within the function to a new list; it does not affect the original `my_data` list outside the function's scope.\n",
    "</details>"
   ]
  },
  {
   "cell_type": "markdown",
   "id": "reading_problem_2",
   "metadata": {},
   "source": [
    "### Problem 2: Sets for Deduplication\n",
    "Examine the following code that processes a list of user IDs.\n",
    "```python\n",
    "user_ids = [101, 102, 103, 101, 104, 102, 105]\n",
    "\n",
    "unique_ids = set(user_ids)\n",
    "unique_ids.add(100)\n",
    "\n",
    "final_list = sorted(list(unique_ids))\n",
    "```\n",
    "**Question:** What is the final value of the `final_list` variable?\n",
    "<details>\n",
    "<summary>Answer</summary>\n",
    "**`[100, 101, 102, 103, 104, 105]`**\n",
    "\n",
    "**Explanation:** This problem tests the interaction between **lists** and **sets**. First, `set(user_ids)` creates a set, automatically removing duplicate IDs, resulting in `{101, 102, 103, 104, 105}`. Next, `unique_ids.add(100)` adds a new element. Finally, the code converts the set back into a list and sorts it. This demonstrates the use of a set for efficient deduplication and how its unordered nature requires an explicit sort after converting back to a list.\n",
    "</details>"
   ]
  },
  {
   "cell_type": "markdown",
   "id": "reading_problem_3",
   "metadata": {},
   "source": [
    "### Problem 3: Dictionary Keys and Immutability\n",
    "Consider this script that maps geographic coordinates to city names.\n",
    "```python\n",
    "locations = {}\n",
    "pittsburgh_coord = (40.4406, -79.9959)\n",
    "philly_coord_list = [39.9526, -75.1652]\n",
    "\n",
    "# This works\n",
    "locations[pittsburgh_coord] = \"Pittsburgh\"\n",
    "\n",
    "# Does this work?\n",
    "try:\n",
    "    locations[philly_coord_list] = \"Philadelphia\"\n",
    "except TypeError as e:\n",
    "    print(e)\n",
    "```\n",
    "**Question:** **Why** does the first assignment to the `locations` dictionary works, while the second one inside the `try` block fails and prints an error?\n",
    "<details>\n",
    "<summary>Answer</summary>\n",
    "**The first assignment works because tuples are immutable, while the second fails because lists are mutable.**\n",
    "\n",
    "**Explanation:** Dictionary keys must be *immutable* (and therefore \"hashable\") type. Tuples are immutable, so they can be used as dictionary keys. Lists are mutable, meaning their contents can change, which prevents them from being used as keys. The script will print an error message like `unhashable type: 'list'`.\n",
    "</details>"
   ]
  },
  {
   "cell_type": "markdown",
   "id": "reading_problem_4",
   "metadata": {},
   "source": [
    "### Problem 4: Aggregating Data from a List of Dictionaries\n",
    "Analyze this function that processes sales data.\n",
    "```python\n",
    "sales_data = [\n",
    "    {'product': 'Laptop', 'region': 'North', 'amount': 1200},\n",
    "    {'product': 'Mouse', 'region': 'North', 'amount': 25},\n",
    "    {'product': 'Laptop', 'region': 'South', 'amount': 1250},\n",
    "    {'product': 'Monitor', 'region': 'West', 'amount': 300},\n",
    "    {'product': 'Mouse', 'region': 'East', 'amount': 22}\n",
    "]\n",
    "\n",
    "def get_unique_products(sales):\n",
    "    products = set()\n",
    "    for record in sales:\n",
    "        products.add(record['product'])\n",
    "    return products\n",
    "\n",
    "unique_products = get_unique_products(sales_data)\n",
    "```\n",
    "**Question:** What is the value of `unique_products` after the script runs?\n",
    "<details>\n",
    "<summary>Answer</summary>\n",
    "**`{'Laptop', 'Mouse', 'Monitor'}`** (Note: the order of elements in the set may vary).\n",
    "\n",
    "**Explanation:** This problem combines **list iteration**, **dictionary access**, and **set properties**. The function iterates through each dictionary in the `sales_data` list. For each dictionary, it accesses the value associated with the key `'product'`. By adding these values to a `set`, we automatically collect only the unique product names, as sets do not allow duplicates.\n",
    "</details>"
   ]
  },
  {
   "cell_type": "markdown",
   "id": "reading_problem_5",
   "metadata": {},
   "source": [
    "### Problem 5: Advanced Unpacking\n",
    "The following script processes a data record.\n",
    "```python\n",
    "def get_user_record():\n",
    "    # Returns a tuple with user data\n",
    "    return ('jdoe', 'John Doe', 'ADMIN', 'ACTIVE', 2022)\n",
    "\n",
    "record = get_user_record()\n",
    "username, name, *permissions = record\n",
    "```\n",
    "**Question:** After this code is executed, what is the value and type of the `permissions` variable?\n",
    "<details>\n",
    "<summary>Answer</summary>\n",
    "**Value: `['ADMIN', 'ACTIVE', 2022]`**\n",
    "**Type: `list`**\n",
    "\n",
    "**Explanation:** This tests understanding of **tuple unpacking** with the star operator (`*`). When unpacking a sequence, the `*` operator collects all leftover items into a **list**. Here, `username` gets the first element ('jdoe'), `name` gets the second ('John Doe'), and `permissions` gets all remaining elements (`'ADMIN'`, `'ACTIVE'`, `2022`) packed into a new list.\n",
    "</details>"
   ]
  },
  {
   "cell_type": "markdown",
   "id": "c0538136",
   "metadata": {},
   "source": [
    "## Software \n",
    "These questions start off easy and get progressively harder. Since there are multiple ways to go about solving these, see 03_Data_structures_solutions.ipynb for possible solutions."
   ]
  },
  {
   "cell_type": "markdown",
   "id": "c0538136",
   "metadata": {},
   "source": [
    "## Software Problems"
   ]
  },
  {
   "cell_type": "markdown",
   "id": "software_problem_1",
   "metadata": {},
   "source": [
    "### Problem 1 — Robot Component Tally (Easy)\n",
    "Implement `tally_components(component_serials)` which takes a list of component serial numbers and returns a dictionary summarizing the count of each unique component.\n",
    "\n",
    "**Example**: `['CPU-A1', 'SENSOR-B2', 'CPU-A1']` should produce `{'CPU-A1': 2, 'SENSOR-B2': 1}`.\n",
    "\n",
    "**pytest snippet**:\n",
    "```python\n",
    "def test_tally_components_simple():\n",
    "    items = ['CPU-A', 'MOTOR-B', 'SENSOR-C', 'CPU-A']\n",
    "    assert tally_components(items) == {'CPU-A': 2, 'MOTOR-B': 1, 'SENSOR-C': 1}\n",
    "\n",
    "def test_tally_components_empty():\n",
    "    assert tally_components([]) == {}\n",
    "```"
   ]
  },
  {
   "cell_type": "markdown",
   "id": "software_problem_2",
   "metadata": {},
   "source": [
    "### Problem 2 — Mission Checklist Verification (Easy-Medium)\n",
    "Implement `verify_checklist(required_components, onboard_components)`. You are given two lists of component IDs. Your function must identify discrepancies and return a tuple of two sorted lists: `(missing_components, extra_components)`.\n",
    "\n",
    "**Example**: `required_components = ['cpu', 'laser', 'sensor']`, `onboard_components = ['cpu', 'sensor', 'grip']` should produce `(['laser'], ['grip'])`.\n",
    "\n",
    "**pytest snippet**:\n",
    "```python\n",
    "def test_verify_checklist_simple():\n",
    "    required = ['cpu', 'laser', 'sensor']\n",
    "    onboard = ['cpu', 'sensor', 'grip']\n",
    "    assert verify_checklist(required, onboard) == (['laser'], ['grip'])\n",
    "\n",
    "def test_verify_checklist_perfect_match():\n",
    "    required = ['cpu', 'laser']\n",
    "    onboard = ['laser', 'cpu']\n",
    "    assert verify_checklist(required, onboard) == ([], [])\n",
    "```"
   ]
  },
  {
   "cell_type": "markdown",
   "id": "software_problem_3",
   "metadata": {},
   "source": [
    "### Problem 3 — Robot Tool Bay Locator (Medium)\n",
    "Implement `map_tool_locations(tool_bay_strings)`. You are given a list of strings, each formatted as `\"Tool <T-ID> is at Bay <B>, Shelf <S>, Slot <L>\"`. Your function should parse these strings and return a dictionary mapping each Tool ID to its location, which must be stored as an immutable `(B, S, L)` tuple of integers. If a tool's location is updated, the dictionary should store its most recent location. Malformed strings should be ignored.\n",
    "\n",
    "**Example**: `[\"Tool T-800 is at Bay 7, Shelf 3, Slot 5\"]` should produce `{'T-800': (7, 3, 5)}`.\n",
    "\n",
    "**pytest snippet**:\n",
    "```python\n",
    "def test_map_tool_locations_simple():\n",
    "    locs = [\"Tool T-800 is at Bay 7, Shelf 3, Slot 5\", \"Tool G-10 is at Bay 1, Shelf 1, Slot 1\"]\n",
    "    expected = {'T-800': (7, 3, 5), 'G-10': (1, 1, 1)}\n",
    "    assert map_tool_locations(locs) == expected\n",
    "\n",
    "def test_map_tool_locations_update():\n",
    "    locs = [\"Tool T-800 is at Bay 1, Shelf 1, Slot 1\", \"Tool T-800 is at Bay 9, Shelf 9, Slot 9\"]\n",
    "    assert map_tool_locations(locs) == {'T-800': (9, 9, 9)}\n",
    "```"
   ]
  },
  {
   "cell_type": "markdown",
   "id": "software_problem_4",
   "metadata": {},
   "source": [
    "### Problem 4 — Find High-Power Components (Medium)\n",
    "Implement `find_high_power_components(component_specs, power_threshold_watts)`. `component_specs` is a list of dictionaries, where each dict contains `'component_id'`, `'quantity'`, and `'power_draw_watts'`. The function must return a set of `component_id`s for components where the total power draw (`quantity * power_draw_watts`) exceeds the threshold.\n",
    "\n",
    "**Example**: `specs = [{'component_id': 'cpu', 'quantity': 1, 'power_draw_watts': 150}, {'component_id': 'motor', 'quantity': 4, 'power_draw_watts': 50}]`, `threshold = 175` should produce `{'motor'}`.\n",
    "\n",
    "**pytest snippet**:\n",
    "```python\n",
    "def test_find_high_power_simple():\n",
    "    specs = [\n",
    "        {'component_id': 'cpu', 'quantity': 1, 'power_draw_watts': 150},\n",
    "        {'component_id': 'motor', 'quantity': 4, 'power_draw_watts': 50}, # 200W total\n",
    "        {'component_id': 'sensor', 'quantity': 10, 'power_draw_watts': 5}, # 50W total\n",
    "    ]\n",
    "    assert find_high_power_components(specs, 175) == {'motor'}\n",
    "```"
   ]
  },
  {
   "cell_type": "markdown",
   "id": "software_problem_5",
   "metadata": {},
   "source": [
    "### Problem 5 — Group Sensor Readings by ID (Medium-Hard)\n",
    "Implement `group_sensor_readings(readings)`. \n",
    "`readings` is a list of tuples, each representing a sensor reading in the format `(timestamp, sensor_id, value)`. The function must return a dictionary where keys are the sensor IDs and values are a list of `(timestamp, value)` tuples for all readings from that sensor.\n",
    "\n",
    "**Example**: `[(1.0, 'temp', 25), (1.1, 'gyro', 0.5), (1.2, 'temp', 26)]` should produce `{'temp': [(1.0, 25), (1.2, 26)], 'gyro': [(1.1, 0.5)]}`.\n",
    "\n",
    "**pytest snippet**:\n",
    "```python\n",
    "def test_group_sensor_readings_simple():\n",
    "    readings = [\n",
    "        (1.0, 'temp', 25.5),\n",
    "        (1.1, 'gyro', 0.5),\n",
    "        (1.2, 'temp', 26.0),\n",
    "        (1.3, 'gyro', 0.6),\n",
    "    ]\n",
    "    expected = {\n",
    "        'temp': [(1.0, 25.5), (1.2, 26.0)],\n",
    "        'gyro': [(1.1, 0.5), (1.3, 0.6)]\n",
    "    }\n",
    "    assert group_sensor_readings(readings) == expected\n",
    "```"
   ]
  }
 ],
 "metadata": {
  "kernelspec": {
   "display_name": ".venv",
   "language": "python",
   "name": "python3"
  },
  "language_info": {
   "name": "python",
   "version": "3.13.5"
  }
 },
 "nbformat": 4,
 "nbformat_minor": 5
}
