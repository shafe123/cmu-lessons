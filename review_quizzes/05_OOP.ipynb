{
 "cells": [
  {
   "cell_type": "markdown",
   "id": "91021673",
   "metadata": {},
   "source": [
    "# Python OOP Review Quiz  \n",
    "Interactive Assessment 🐍  \n",
    "This notebook contains a comprehensive review quiz on Object-Oriented Programming (OOP) in Python. Please type your answers directly into the provided fields and run the code cells to test your solutions.\n",
    "To enter an answer to a question, double-click on the answer button and type your answer. Compare answers to the solutions document."
   ]
  },
  {
   "cell_type": "markdown",
   "id": "d08291f0",
   "metadata": {},
   "source": [
    "## 1\\. Multiple Choice Questions (20 Questions)\n",
    "\n",
    "### Conceptual Questions"
   ]
  },
  {
   "cell_type": "markdown",
   "id": "f2c0a269",
   "metadata": {},
   "source": [
    "1. Which Python keyword is used to define a new class?\n",
    "    \n",
    "    A.  `def`\n",
    "    \n",
    "    B.  `class`\n",
    "    \n",
    "    C.  `object`\n",
    "    \n",
    "    D.  `type`\n",
    "\n",
    "\n",
    "    <details>\n",
    "    <summary>Answer</summary>\n",
    "    \n",
    "    B.  `class`\n",
    "\n",
    "    </details>  "
   ]
  },
  {
   "cell_type": "markdown",
   "id": "584902e6",
   "metadata": {},
   "source": [
    "2.  What is the term for a concrete instance of a class, which exists in memory and has its own state?\n",
    "\n",
    "    A. Blueprint\n",
    "\n",
    "    B. Object\n",
    "\n",
    "    C. Method\n",
    "\n",
    "    D. Type Hint\n",
    "\n",
    "    <details>\n",
    "    <summary>Answer</summary>\n",
    "\n",
    "    B.  Object\n",
    "    \n",
    "    </details>  "
   ]
  },
  {
   "cell_type": "markdown",
   "id": "c4352528",
   "metadata": {},
   "source": [
    "3.  In Python, what is the name of the special method that serves as the constructor to initialize an object's state?\n",
    "\n",
    "    A.  `__new__`\n",
    "\n",
    "    B.  `__create__`\n",
    "\n",
    "    C.  `__init__`\n",
    "\n",
    "    D.  `__construct__`\n",
    "\n",
    "    <details>\n",
    "    <summary>Answer</summary>\n",
    "\n",
    "    C. `__init__`\n",
    "    \n",
    "    </details> "
   ]
  },
  {
   "cell_type": "markdown",
   "id": "7764afa0",
   "metadata": {},
   "source": [
    "4.  What is the OOP principle of bundling data (attributes) and the methods that operate on that data into a single unit?\n",
    "\n",
    "    A. Inheritance\n",
    "\n",
    "    B. Polymorphism\n",
    "\n",
    "    C. Encapsulation\n",
    "\n",
    "    D. Abstraction\n",
    "\n",
    "    <details>\n",
    "    <summary>Answer</summary>\n",
    "\n",
    "    C. Encapsulation\n",
    "    \n",
    "    </details> "
   ]
  },
  {
   "cell_type": "markdown",
   "id": "95ae4c8b",
   "metadata": {},
   "source": [
    "5.  Which statement about the `self` parameter in a Python instance method is true?\n",
    "\n",
    "    A. It is optional if the method takes no other arguments.\n",
    "\n",
    "    B. It must be named exactly.\n",
    "\n",
    "    C. It refers to the current instance (object) and must be the first parameter.\n",
    "\n",
    "    D. It is a reserved keyword in Python, like `or`.\n",
    "\n",
    "    <details>\n",
    "    <summary>Answer</summary>\n",
    "\n",
    "    C. It refers to the current instance (object) and must be the first parameter.\n",
    "    \n",
    "    </details> "
   ]
  },
  {
   "cell_type": "markdown",
   "id": "6039ed77",
   "metadata": {},
   "source": [
    "6.  Which function is typically used in a child class to call a method or access an attribute from its parent class?\n",
    "\n",
    "    A. `parent()`\n",
    "\n",
    "    B. `Class.method()`\n",
    "\n",
    "    C. `super()`\n",
    "\n",
    "    D. `base()`\n",
    "\n",
    "    <details>\n",
    "    <summary>Answer</summary>\n",
    "\n",
    "    C. `super()`\n",
    "    \n",
    "    </details> "
   ]
  },
  {
   "cell_type": "markdown",
   "id": "31b6db40",
   "metadata": {},
   "source": [
    "7.  Which OOP concept allows a single function or method name to be used to perform different actions depending on the object it is acting upon?\n",
    "\n",
    "    A. Polymorphism\n",
    "\n",
    "    B. Encapsulation\n",
    "\n",
    "    C. Modularity\n",
    "\n",
    "    D. Abstracting\n",
    "\n",
    "    <details>\n",
    "    <summary>Answer</summary>\n",
    "\n",
    "    A. Polymorphism\n",
    "    \n",
    "    </details> "
   ]
  },
  {
   "cell_type": "markdown",
   "id": "09187306",
   "metadata": {},
   "source": [
    "8.  By convention in Python, how do you signify an attribute is **protected** and should not be modified externally? (name mangling)\n",
    "\n",
    "    A. Starting the name with a double underscore `__`\n",
    "\n",
    "    B. Ending the name with a single underscore `_`\n",
    "\n",
    "    C. Using the keyword `private`\n",
    "\n",
    "    D. Declaring it outside the `__init__` method\n",
    "\n",
    "    <details>\n",
    "    <summary>Answer</summary>\n",
    "\n",
    "    A. Starting the name with a double underscore `__`\n",
    "    \n",
    "    </details> "
   ]
  },
  {
   "cell_type": "markdown",
   "id": "8e50d464",
   "metadata": {},
   "source": [
    "9.  What is the process of defining classes and methods that only show essential information to the user and hide the complex implementation details?\n",
    "\n",
    "    A. Inheritance\n",
    "\n",
    "    B. Polymorphism\n",
    "\n",
    "    C. Encapsulation\n",
    "\n",
    "    D. Abstraction\n",
    "\n",
    "    <details>\n",
    "    <summary>Answer</summary>\n",
    "\n",
    "    D. Abstraction\n",
    "    \n",
    "    </details> "
   ]
  },
  {
   "cell_type": "markdown",
   "id": "91d47f02",
   "metadata": {},
   "source": [
    "10. What describes the ability for one class to take on the attributes and methods of another class?\n",
    "\n",
    "    A. Inheritance\n",
    "\n",
    "    B. Polymorphism\n",
    "\n",
    "    C. Encapsulation\n",
    "\n",
    "    D. Abstraction\n",
    "\n",
    "    <details>\n",
    "    <summary>Answer</summary>\n",
    "\n",
    "    A. Inheritance\n",
    "    \n",
    "    </details> "
   ]
  },
  {
   "cell_type": "markdown",
   "id": "707630c0",
   "metadata": {},
   "source": [
    "### Error Identification Questions\n"
   ]
  },
  {
   "cell_type": "markdown",
   "id": "b9702290",
   "metadata": {},
   "source": [
    "11. What is the problem in this code?\n",
    "\n",
    "    ```python\n",
    "    class Car:\n",
    "        def __init__(make, model):\n",
    "            self.model = model \n",
    "    ```\n",
    "\n",
    "    A. Missing parentheses after `__init__`\n",
    "\n",
    "    B. Missing reference to parent class\n",
    "\n",
    "    C. Incorrect attribute assignment\n",
    "\n",
    "    D. The first parameter `make` should be named `self`\n",
    "\n",
    "        <details>\n",
    "    <summary>Answer</summary>\n",
    "\n",
    "    D. The first parameter `make` should be named `self`\n",
    "    \n",
    "    </details> "
   ]
  },
  {
   "cell_type": "markdown",
   "id": "dfa5eb80",
   "metadata": {},
   "source": [
    "12. What is the problem in this code?\n",
    "\n",
    "    ```python\n",
    "    class Dog: \n",
    "        pass\n",
    "    \n",
    "    \n",
    "    my_dog = Dog[]\n",
    "    ```\n",
    "\n",
    "    A. Missing `__init__` method\n",
    "\n",
    "    B. Parentheses should be curly braces\n",
    "\n",
    "    C. Parentheses are missing for instantiation\n",
    "\n",
    "    D. The class name should be lowercase\n",
    "\n",
    "    <details>\n",
    "    <summary>Answer</summary>\n",
    "\n",
    "    C. Parenthesis are missing for instantiation\n",
    "    \n",
    "    </details> "
   ]
  },
  {
   "cell_type": "markdown",
   "id": "8e5a41ad",
   "metadata": {},
   "source": [
    "13. What will happen when this code is executed?\n",
    "\n",
    "    ```python\n",
    "    class Person:\n",
    "        ...\n",
    "        def greet():\n",
    "            print('Hello')\n",
    "    \n",
    "    d = Person()\n",
    "    d.greet()\n",
    "    ```\n",
    "\n",
    "    A. 'Hello' will be stored in the d variable but nothing will be sent to terminal\n",
    "\n",
    "    B. 'Hello' will print to the terminal\n",
    "\n",
    "    C. The code will execute but nothing will print to the terminal\n",
    "\n",
    "    D. The code will fail with error: missing `self` parameter in the `greet()` method signature\n",
    "\n",
    "    <details>\n",
    "    <summary>Answer</summary>\n",
    "\n",
    "    D. The code will fail with error: missing `self` parameter in the `greet()` method signature\n",
    "    \n",
    "    </details> "
   ]
  },
  {
   "cell_type": "markdown",
   "id": "a2800a90",
   "metadata": {},
   "source": [
    "14. What is the primary error in this inheritance definition?\n",
    "\n",
    "    ```python\n",
    "    class Animal: \n",
    "        pass\n",
    "    class Cat(animal): \n",
    "        pass\n",
    "    ```\n",
    "\n",
    "    A. Class `Animal` should have a method.\n",
    "\n",
    "    B. The parent class name `animal` should be capitalized in the inheritance list.\n",
    "\n",
    "    C. Inheritance syntax is wrong.\n",
    "\n",
    "    D. Missing `__init__` method.\n",
    "\n",
    "    <details>\n",
    "    <summary>Answer</summary>\n",
    "\n",
    "    B. The parent class name `animal` should be capitalized in the inheritance list.\n",
    "    \n",
    "    </details> "
   ]
  },
  {
   "cell_type": "markdown",
   "id": "054bbc7e",
   "metadata": {},
   "source": [
    "15. What is the error in the child class `B`?\n",
    "\n",
    "    ```python\n",
    "    class A: \n",
    "        pass\n",
    "    class B(A):\n",
    "        super().__init__()\n",
    "    ```\n",
    "\n",
    "    A. `super().__init__()` must be called from within the `__init__` method of the child class.\n",
    "\n",
    "    B. Class `A` must have an explicit `__init__` method.\n",
    "\n",
    "    C. Class `A` is implicitly abstract.\n",
    "\n",
    "    D. Missing `self` parameter in `super().__init__()`.\n",
    "\n",
    "    <details>\n",
    "    <summary>Answer</summary>\n",
    "\n",
    "    A. `super().__init__()` must be called from within the `__init__` method of the child class.\n",
    "    \n",
    "    </details> "
   ]
  },
  {
   "cell_type": "markdown",
   "id": "76012090",
   "metadata": {},
   "source": [
    "16. What is wrong with the method call?\n",
    "\n",
    "    ```python\n",
    "    class Parent:\n",
    "        def talk(self): \n",
    "            print(\"Hi\")\n",
    "    class Child(Parent):\n",
    "        def talk(self): \n",
    "            print(\"Bye\")\n",
    "\n",
    "    c = Child()\n",
    "    c.talk(\"Hello\")\n",
    "    ```\n",
    "\n",
    "    A. The `talk` method is not defined correctly in `Parent`.\n",
    "\n",
    "    B. Method Overriding is not allowed in Python.\n",
    "\n",
    "    C. The `talk` method is being called with an unexpected argument (\"Hello\") when it is only defined to take `self`.\n",
    "\n",
    "    D. `Parent` should have `super().__init__`.\n",
    "\n",
    "    <details>\n",
    "    <summary>Answer</summary>\n",
    "\n",
    "    C. The `talk` method is being called with an unexpected argument (\"Hello\") when it is only defined to take `self`.\n",
    "    \n",
    "    </details> "
   ]
  },
  {
   "cell_type": "markdown",
   "id": "5665c445",
   "metadata": {},
   "source": [
    "## 2\\. Short Answer Conceptual Questions (20 Questions)"
   ]
  },
  {
   "cell_type": "markdown",
   "id": "8bb85d9f",
   "metadata": {},
   "source": [
    "### Conceptual Questions\n"
   ]
  },
  {
   "cell_type": "markdown",
   "id": "aa2e8982",
   "metadata": {},
   "source": [
    "17. Explain the difference between a **Class** and an **Object** in Python OOP.\n",
    "\n",
    "    <details>\n",
    "    <summary>Answer</summary>\n",
    "\n",
    "    A **Class** is a blueprint/template defining structure and behavior. An **Object** is a specific, concrete instance of a class with its own state/data.\n",
    "\n",
    "    </details>"
   ]
  },
  {
   "cell_type": "markdown",
   "id": "c2084658",
   "metadata": {},
   "source": [
    "18. What are **Attributes** and **Methods**? Provide a real-world analogy.\n",
    "\n",
    "    <details>\n",
    "    <summary>Answer</summary>\n",
    "\n",
    "    **Attributes** are the data (characteristics) of an object. **Methods** are the functions (behaviors) the object can perform. *Analogy:* A **Phone Class** has attributes like `color` and `screen_size` and methods like `call()` and `text()`.\n",
    "    \n",
    "    </details>\n"
   ]
  },
  {
   "cell_type": "markdown",
   "id": "01845d2a",
   "metadata": {},
   "source": [
    "19. What is the primary purpose of the `super()` function in the context of inheritance?\n",
    "\n",
    "    <details>\n",
    "    <summary>Answer</summary>\n",
    "\n",
    "    To allow a subclass to call a method or access an attribute defined in its parent class, usually within the subclass's own overriding method or `__init__`.\n",
    "    \n",
    "    </details>\n"
   ]
  },
  {
   "cell_type": "markdown",
   "id": "901c125f",
   "metadata": {},
   "source": [
    "20. Python doesn't have true private attributes. What is the mechanism Python uses (often referred to as \"name mangling\") to make an attribute \"more private,\" and how is it named?\n",
    "\n",
    "    <details>\n",
    "    <summary>Answer</summary>\n",
    "\n",
    "    The attribute is named with a leading **double underscore `__`**. Python internally renames the attribute to include the class name (e.g., `__attribute` becomes `_ClassName__attribute`), making external access difficult.\n",
    "    \n",
    "    </details>\n"
   ]
  },
  {
   "cell_type": "markdown",
   "id": "4bfbef86",
   "metadata": {},
   "source": [
    "21. Why is OOP generally preferred over procedural programming for large and complex projects? (Mention two key advantages).\n",
    "\n",
    "    <details>\n",
    "    <summary>Answer</summary>\n",
    "\n",
    "    1. **Modularity/Reusability** (classes can be reused easily). \n",
    "    2. **Maintainability** (encapsulation helps prevent unrelated code from being broken by changes).\n",
    "    \n",
    "    </details>\n"
   ]
  },
  {
   "cell_type": "markdown",
   "id": "e5c1a30e",
   "metadata": {},
   "source": [
    "### Error Identification Questions (Explain the Error)\n"
   ]
  },
  {
   "cell_type": "markdown",
   "id": "5ef22994",
   "metadata": {},
   "source": [
    "22. Identify and explain the error:\n",
    "\n",
    "\n",
    "    ```python\n",
    "    class Example:\n",
    "        def method(self): \n",
    "            pass\n",
    "\n",
    "    Example.method()\n",
    "    ```\n",
    "\n",
    "    <details>\n",
    "    <summary>Answer</summary>\n",
    "\n",
    "    `Example.method()` attempts to call a method before an object is generated. Instance methods require an object to be bound to the `self` parameter such as `my_bject = Example()`\n",
    "\n",
    "    </details>"
   ]
  },
  {
   "cell_type": "markdown",
   "id": "c86d964a",
   "metadata": {},
   "source": [
    "23. Identify and explain the error:\n",
    "\n",
    "\n",
    "    ```python\n",
    "    class Item: \n",
    "        pass\n",
    "    \n",
    "    print(Item.new_attr)\n",
    "    ```\n",
    "\n",
    "    <details>\n",
    "    <summary>Answer</summary>\n",
    "\n",
    "    The code attempts to access a class attribute (`new_attr`) that has not been defined on the `Item` class.\n",
    "\n",
    "    </details>"
   ]
  },
  {
   "cell_type": "markdown",
   "id": "dda6c70d",
   "metadata": {},
   "source": [
    "24. Identify and explain the error:\n",
    "\n",
    "\n",
    "    ```python\n",
    "    class Box:\n",
    "        def __init__(self): \n",
    "            self.size = 10\n",
    "    \n",
    "    b = Box()\n",
    "    b.size = b.size + \"cm\"\n",
    "    ```\n",
    "\n",
    "    <details>\n",
    "    <summary>Answer</summary>\n",
    "\n",
    "    The code attempts to mix types `int` and `str` using the addition operator. If a custom addition operation is needed, it could be defined using the `__add__` magic method, which is not present in this code.\n",
    "\n",
    "    </details>"
   ]
  },
  {
   "cell_type": "markdown",
   "id": "6c45b96d",
   "metadata": {},
   "source": [
    "25. Identify and explain why the output is ``P`` and not ``C`` (no error, but conceptual):\n",
    "\n",
    "\n",
    "    ```python\n",
    "    class Parent:\n",
    "        def __str__(self): \n",
    "            return 'P'\n",
    "    \n",
    "    class Child(Parent):\n",
    "        def __repr__(self): \n",
    "            return 'C'\n",
    "    \n",
    "    c = Child()\n",
    "    print(c)\n",
    "    ```\n",
    "\n",
    "    <details>\n",
    "    <summary>Answer</summary>\n",
    "\n",
    "    `print(c)` searches for the `__str__` method first. Since `Child` doesn't have `__str__` method, it inherits it from `Parent`, resulting in the output ``P``. The `__repr__` method is only used if `__str__` is absent.\n",
    "\n",
    "    </details>"
   ]
  },
  {
   "cell_type": "markdown",
   "id": "e540ca77",
   "metadata": {},
   "source": [
    "26. Identify and explain the error:\n",
    "\n",
    "\n",
    "    ```python\n",
    "    class A:\n",
    "        def __init__(self, x): \n",
    "            pass\n",
    "    class B(A): \n",
    "        pass\n",
    "\n",
    "    B(y=5)\n",
    "    ```\n",
    "\n",
    "    <details>\n",
    "    <summary>Answer</summary>\n",
    "\n",
    "    Class `B` inherits `__init__(self, x)` from `A`. The constructor call passes the keyword argument `y=5`, but `__init__` expects a positional or keyword argument named `x`, causing a `TypeError` for an unexpected argument.\n",
    "\n",
    "    </details>"
   ]
  },
  {
   "cell_type": "markdown",
   "id": "e1ad20e2",
   "metadata": {},
   "source": [
    "## 3\\. Fill-in-the-Blank Questions (15 Questions)\n"
   ]
  },
  {
   "cell_type": "markdown",
   "id": "b3a8c565",
   "metadata": {},
   "source": [
    "### Conceptual Questions\n"
   ]
  },
  {
   "cell_type": "markdown",
   "id": "9828cd3d",
   "metadata": {},
   "source": [
    "27. The concept that allows an operation or method to be implemented differently in different classes is called `________________________`.\n",
    "\n",
    "    <details>\n",
    "    <summary>Answer</summary>\n",
    "\n",
    "    Polymorphism\n",
    "\n",
    "    </details>\n"
   ]
  },
  {
   "cell_type": "markdown",
   "id": "3815692b",
   "metadata": {},
   "source": [
    "28. A class variable is shared by all `______________________________` of a class.\n",
    "\n",
    "    <details>\n",
    "    <summary>Answer</summary>\n",
    "\n",
    "    Instances\n",
    "\n",
    "    </details>\n"
   ]
  },
  {
   "cell_type": "markdown",
   "id": "e530e3f5",
   "metadata": {},
   "source": [
    "29. In Python, instance attributes are typically initialized within the `__________________` method.\n",
    "\n",
    "    <details>\n",
    "    <summary>Answer</summary>\n",
    "\n",
    "    `__init__`\n",
    "\n",
    "    </details>\n"
   ]
  },
  {
   "cell_type": "markdown",
   "id": "75f59495",
   "metadata": {},
   "source": [
    "30. To create a new object from a class, you must `_____________________` the class.\n",
    "\n",
    "    <details>\n",
    "    <summary>Answer</summary>\n",
    "\n",
    "    Instantiate (or call)\n",
    "\n",
    "    </details>\n"
   ]
  },
  {
   "cell_type": "markdown",
   "id": "2960a84b",
   "metadata": {},
   "source": [
    "31. By convention, the leading `_________________` (character) on an attribute name signifies that it is a protected member of the class.\n",
    "\n",
    "    <details>\n",
    "    <summary>Answer</summary>\n",
    "\n",
    "    Underscore(s)\n",
    "\n",
    "    </details>\n",
    "\n"
   ]
  },
  {
   "cell_type": "markdown",
   "id": "71929510",
   "metadata": {},
   "source": [
    "32. The term for when a child class implements (defines) a method that is already present in its parent class is Method `__________________________`.\n",
    "\n",
    "    <details>\n",
    "    <summary>Answer</summary>\n",
    "\n",
    "    Overriding\n",
    "\n",
    "    </details>\n",
    "\n"
   ]
  },
  {
   "cell_type": "markdown",
   "id": "26ce6d7f",
   "metadata": {},
   "source": [
    "33. `_____________________` helps in achieving data security by restricting direct access to data members.\n",
    "\n",
    "    <details>\n",
    "    <summary>Answer</summary>\n",
    "\n",
    "    Encapsulation\n",
    "\n",
    "    </details>\n",
    "\n"
   ]
  },
  {
   "cell_type": "markdown",
   "id": "fe2f88fc",
   "metadata": {},
   "source": [
    "34. A `___________________` is an instance of a class, whereas a class is a blueprint.\n",
    "\n",
    "    <details>\n",
    "    <summary>Answer</summary>\n",
    "\n",
    "    Object\n",
    "\n",
    "    </details>\n",
    "\n"
   ]
  },
  {
   "cell_type": "markdown",
   "id": "2a9539f2",
   "metadata": {},
   "source": [
    "35. A property decorator `@property` is often used to implement the `__________________` pattern, which gives controlled access to an attribute.\n",
    "\n",
    "    <details>\n",
    "    <summary>Answer</summary>\n",
    "\n",
    "    getter/setter (or accessor/mutator)\n",
    "\n",
    "    </details>\n",
    "\n"
   ]
  },
  {
   "cell_type": "markdown",
   "id": "77344743",
   "metadata": {},
   "source": [
    "### Code Completion Questions\n",
    "\n"
   ]
  },
  {
   "cell_type": "markdown",
   "id": "8d4471c8",
   "metadata": {},
   "source": [
    "36. Fill in the blank to print the class attribute `10`$.\n",
    "\n",
    "\n",
    "    ```python\n",
    "    class Data:\n",
    "        value = 10\n",
    "    \n",
    "    d = Data()\n",
    "    __________ <<\n",
    "    ```\n",
    "\n",
    "    <details>\n",
    "    <summary>Answer</summary>\n",
    "\n",
    "    `print(Data.value)`\n",
    "\n",
    "    </details>\n",
    "\n"
   ]
  },
  {
   "cell_type": "code",
   "execution_count": 25,
   "id": "af8f5f8e",
   "metadata": {},
   "outputs": [],
   "source": [
    "# Your Answer Here"
   ]
  },
  {
   "cell_type": "markdown",
   "id": "09cbd33e",
   "metadata": {},
   "source": [
    "37. Fill in the blank to ensure `Child` calls `Parent`'s constructor.\n",
    "\n",
    "\n",
    "    ```python\n",
    "    class P:\n",
    "        def __init__(self, x): \n",
    "            self.x = x\n",
    "    \n",
    "    class C(P):\n",
    "        def __init__(self, x, y):\n",
    "            __________ <<\n",
    "            self.y = y\n",
    "    ```\n",
    "\n",
    "    <details>\n",
    "    <summary>Answer</summary>\n",
    "\n",
    "    `super().__init__(x)`\n",
    "\n",
    "    </details>\n",
    "\n"
   ]
  },
  {
   "cell_type": "code",
   "execution_count": 26,
   "id": "07b2fcbe",
   "metadata": {},
   "outputs": [],
   "source": [
    "# Your Answer Here"
   ]
  },
  {
   "cell_type": "markdown",
   "id": "a4aaf2ef",
   "metadata": {},
   "source": [
    "38. Fill in the blank with a **getter** method line to return the attribute `__secret`.\n",
    "\n",
    "\n",
    "    ```python\n",
    "    class Vault:\n",
    "        def __init__(self): \n",
    "            self.__secret = \"Gold\"\n",
    "        \n",
    "        def get_secret(self): \n",
    "            __________ <<\n",
    "    ```\n",
    "\n",
    "    <details>\n",
    "    <summary>Answer</summary>\n",
    "\n",
    "    `return self.__secret`\n",
    "\n",
    "    </details>\n",
    "\n"
   ]
  },
  {
   "cell_type": "code",
   "execution_count": 27,
   "id": "e58d3f14",
   "metadata": {},
   "outputs": [],
   "source": [
    "# Your Answer Here"
   ]
  },
  {
   "cell_type": "markdown",
   "id": "2e3adbb4",
   "metadata": {},
   "source": [
    "39. Fill in the blank to call the `__str__` method implicitly.\n",
    "\n",
    "\n",
    "    ```python\n",
    "    class Item:\n",
    "        def __str__(self): \n",
    "            return \"Box\"\n",
    "    \n",
    "    i = Item()\n",
    "    __________ <<\n",
    "    ```\n",
    "\n",
    "    <details>\n",
    "    <summary>Answer</summary>\n",
    "\n",
    "    `print(i)`\n",
    "\n",
    "    </details>\n",
    "\n"
   ]
  },
  {
   "cell_type": "code",
   "execution_count": 28,
   "id": "d389e3fa",
   "metadata": {},
   "outputs": [],
   "source": [
    "# Your Answer Here"
   ]
  },
  {
   "cell_type": "markdown",
   "id": "ee8f5d50",
   "metadata": {},
   "source": [
    "40. Fill in the blank to create and assign the instance attribute `name`.\n",
    "\n",
    "\n",
    "    ```python\n",
    "    class User:\n",
    "        def __init__(self, name):\n",
    "            ____________________ <<\n",
    "    \n",
    "    u = User(\"Alice\")\n",
    "    ```\n",
    "\n",
    "    <details>\n",
    "    <summary>Answer</summary>\n",
    "\n",
    "    `self.name = name`\n",
    "\n",
    "    </details>\n",
    "\n",
    "\n"
   ]
  },
  {
   "cell_type": "code",
   "execution_count": 29,
   "id": "94859108",
   "metadata": {},
   "outputs": [],
   "source": [
    "# Your Answer Here"
   ]
  },
  {
   "cell_type": "markdown",
   "id": "130155c4",
   "metadata": {},
   "source": [
    "## 4. Building Code Prompts (10 Prompts)\n",
    "\n",
    "*(These prompts build a `LibraryCatalog` program using Pythonic property-based access and PEP 8 style.)*\n",
    "\n",
    "*(Enter your code solution below and compare to the solution document.)*\n",
    "\n",
    "1. The `Book` and `Ebook` Classes (Encapsulation and Inheritance)\n",
    "\n",
    "    1. **Prompt 1 (Class Definition & Constructor):** Define a class named `Book`. The constructor (`__init__`) should accept `title`, `author`, and `isbn`. Store these internally as **private** instance attributes (`__title`, `__author`, `__isbn`).\n",
    "\n",
    "    2.  **Prompt 2 (Explicit Getters):** Implement the explicit **getter** methods: `get_title()`, `get_author()`, and `get_isbn()`. These methods must return the values of their respective private attributes.\n",
    "\n",
    "    3.  **Prompt 3 (Explicit Setters):** Implement the explicit **setter** methods: `set_title(new_title)`, `set_author(new_author)`, and `set_isbn(new_isbn)`. Ensure these setters update the corresponding private attributes.\n",
    "\n",
    "    4.  **Prompt 4 (Inheritance & File Size Methods):** Create a new class called `Ebook` that **inherits** from `Book`. The `Ebook` constructor must call the parent's constructor and additionally accept a `file_size` parameter, storing it as a private attribute (`__file_size`). Implement the explicit `get_file_size()` and `set_file_size(size)` methods.\n",
    "\n",
    "    5.  **Prompt 5 (Polymorphism & Instance Method):** Add an instance method `get_details()` to the **`Book`** class that returns a formatted string of the title and author (using their getter methods). Then, **override** the `get_details()` method in **`Ebook`** to use `super().get_details()` and append the `file_size` (using its getter method) to the returned string.\n",
    "\n",
    "2. The `LibraryCatalog` Class (Composition)\n",
    "\n",
    "    6.  **Prompt 6 (Main/Composite Class):** Define a class named `LibraryCatalog`. The constructor (`__init__`) should initialize a **private** list instance attribute called `__books` to an empty list.\n",
    "\n",
    "    7.  **Prompt 7 (Controlled Access - Property):** Instead of an explicit `get_books()` method, implement a Pythonic `@property` named `books` that returns the internal list (`self.__books`) and a corresponding `@books.setter` that allows replacing the internal list (accepting an iterable of items). Also include a helper method `add_item(self, item)` that appends a single Book/Ebook object to the internal list.\n",
    "\n",
    "    8.  **Prompt 8 (Iteration Method):** In the `LibraryCatalog` class, add a method called `list_all_titles()` that iterates through the `books` property (e.g., `for book in self.books:`) and prints the **title** of each book by calling `book.get_title()`.\n",
    "\n",
    "3. Demonstration\n",
    "\n",
    "    9.  **Prompt 9 (Object Creation & Mutators):** Write the code to:\n",
    "        a. Create one `Book` object: `Title: 'Old Title'`, `Author: 'Original Author'`, `ISBN: '999'`.\n",
    "        b. Use the **setter method** (`set_title`) to change the book's title to `'New Title'` after creation.\n",
    "        c. Create an `Ebook` object and a `LibraryCatalog` object, and add both items to the catalog.\n",
    "\n",
    "    10. **Prompt 10 (Accessors & Method Call):** Write the code to:\n",
    "        a. Print the current `author` and `isbn` of the `Book` object using their respective **getter methods** (e.g., `book.get_author()`).\n",
    "        b. Call the `list_all_titles()` method on your `LibraryCatalog` object.\n"
   ]
  },
  {
   "cell_type": "code",
   "execution_count": 30,
   "id": "00c6f77b",
   "metadata": {},
   "outputs": [],
   "source": [
    "# Enter your solution here!"
   ]
  },
  {
   "cell_type": "markdown",
   "id": "83b7356e",
   "metadata": {},
   "source": [
    "*** Bonus Challenge: use the same techniques to develop a program for a music catalog with each song in the collection having attributes for the artist, song title, album, and year of release. ***"
   ]
  },
  {
   "cell_type": "code",
   "execution_count": 31,
   "id": "63573d22",
   "metadata": {},
   "outputs": [],
   "source": [
    "# Enter your solution here!"
   ]
  }
 ],
 "metadata": {
  "kernelspec": {
   "display_name": "pydev",
   "language": "python",
   "name": "python3"
  },
  "language_info": {
   "codemirror_mode": {
    "name": "ipython",
    "version": 3
   },
   "file_extension": ".py",
   "mimetype": "text/x-python",
   "name": "python",
   "nbconvert_exporter": "python",
   "pygments_lexer": "ipython3",
   "version": "3.12.11"
  }
 },
 "nbformat": 4,
 "nbformat_minor": 5
}
