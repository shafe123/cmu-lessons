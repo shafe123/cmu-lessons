{
 "cells": [
  {
   "cell_type": "markdown",
   "id": "91021673",
   "metadata": {},
   "source": [
    "# Python OOP Review Quiz  \n",
    "Interactive Assessment 🐍  \n",
    "This notebook contains a comprehensive review quiz on Object-Oriented Programming (OOP) in Python. Please type your answers directly into the provided fields and run the code cells to test your solutions.\n",
    "To enter an answer to a question, double-click on the answer button and type your answer. Compare answers to the solutions document."
   ]
  },
  {
   "cell_type": "markdown",
   "id": "d08291f0",
   "metadata": {},
   "source": [
    "## 1\\. Multiple Choice Questions (20 Questions)\n",
    "\n",
    "### Conceptual Questions"
   ]
  },
  {
   "cell_type": "markdown",
   "id": "f2c0a269",
   "metadata": {},
   "source": [
    "1. Which Python keyword is used to define a new class?\n",
    "    \n",
    "    A)  $\\text{def}$\n",
    "    \n",
    "    B)  $\\text{class}$\n",
    "    \n",
    "    C)  $\\text{object}$\n",
    "    \n",
    "    D)  $\\text{type}$"
   ]
  },
  {
   "cell_type": "markdown",
   "id": "34a86681",
   "metadata": {},
   "source": [
    "        Answer:         "
   ]
  },
  {
   "cell_type": "markdown",
   "id": "584902e6",
   "metadata": {},
   "source": [
    "2.  What is the term for a concrete instance of a class, which exists in memory and has its own state?\n",
    "\n",
    "    A) Blueprint\n",
    "\n",
    "    B) Object\n",
    "\n",
    "    C) Method\n",
    "\n",
    "    D) Type Hint"
   ]
  },
  {
   "cell_type": "markdown",
   "id": "58181019",
   "metadata": {},
   "source": [
    "        Answer:         "
   ]
  },
  {
   "cell_type": "markdown",
   "id": "c4352528",
   "metadata": {},
   "source": [
    "3.  In Python, what is the name of the special method that serves as the constructor to initialize an object's state?\n",
    "\n",
    "    A) $\\text{\\_\\_new\\_\\_}$\n",
    "\n",
    "    B) $\\text{\\_\\_create\\_\\_}$\n",
    "\n",
    "    C) $\\text{\\_\\_init\\_\\_}$\n",
    "\n",
    "    D) $\\text{\\_\\_construct}$"
   ]
  },
  {
   "cell_type": "markdown",
   "id": "dcd32e09",
   "metadata": {},
   "source": [
    "        Answer:         "
   ]
  },
  {
   "cell_type": "markdown",
   "id": "7764afa0",
   "metadata": {},
   "source": [
    "4.  What is the OOP principle of bundling data (attributes) and the methods that operate on that data into a single unit?\n",
    "\n",
    "    A) Inheritance\n",
    "\n",
    "    B) Polymorphism\n",
    "\n",
    "    C) Encapsulation\n",
    "\n",
    "    D) Abstraction"
   ]
  },
  {
   "cell_type": "markdown",
   "id": "dbb6d4dd",
   "metadata": {},
   "source": [
    "        Answer:         "
   ]
  },
  {
   "cell_type": "markdown",
   "id": "a126866a",
   "metadata": {},
   "source": [
    "5.  Which statement about the $\\text{self}$ parameter in a Python instance method is true?\n",
    "\n",
    "    A) It is optional if the method takes no other arguments.\n",
    "\n",
    "    B) It must be named $\\text{self}$ exactly.\n",
    "\n",
    "    C) It refers to the current instance (object) and must be the first parameter.\n",
    "\n",
    "    D) It is a reserved keyword in Python, like $\\text{for}$ or $\\text{if}$."
   ]
  },
  {
   "cell_type": "markdown",
   "id": "055118a2",
   "metadata": {},
   "source": [
    "        Answer:         "
   ]
  },
  {
   "cell_type": "markdown",
   "id": "6039ed77",
   "metadata": {},
   "source": [
    "6.  Which function is typically used in a child class to call a method or access an attribute from its parent class?\n",
    "\n",
    "    A) $\\text{parent()}$\n",
    "\n",
    "    B) $\\text{Class.method()}$\n",
    "\n",
    "    C) $\\text{super()}$\n",
    "\n",
    "    D) $\\text{base()}$"
   ]
  },
  {
   "cell_type": "markdown",
   "id": "5bae813b",
   "metadata": {},
   "source": [
    "        Answer:         "
   ]
  },
  {
   "cell_type": "markdown",
   "id": "31b6db40",
   "metadata": {},
   "source": [
    "7.  Which OOP concept allows a single function or method name to be used to perform different actions depending on the object it is acting upon?\n",
    "\n",
    "    A) Polymorphism\n",
    "\n",
    "    B) Encapsulation\n",
    "\n",
    "    C) Modularity\n",
    "\n",
    "    D) Abstracting"
   ]
  },
  {
   "cell_type": "markdown",
   "id": "5797bcda",
   "metadata": {},
   "source": [
    "        Answer:         "
   ]
  },
  {
   "cell_type": "markdown",
   "id": "09187306",
   "metadata": {},
   "source": [
    "8.  By convention in Python, how do you signify an attribute is **protected** and should not be modified externally?\n",
    "\n",
    "    A) Starting the name with a double underscore ($\\text{\\_\\_}$)\n",
    "\n",
    "    B) Starting the name with a single underscore ($\\text{\\_}$)\n",
    "\n",
    "    C) Using the keyword $\\text{private}$\n",
    "\n",
    "    D) Declaring it outside the $\\text{\\_\\_init\\_\\_}$ method"
   ]
  },
  {
   "cell_type": "markdown",
   "id": "c2c07a43",
   "metadata": {},
   "source": [
    "        Answer:         "
   ]
  },
  {
   "cell_type": "markdown",
   "id": "8e50d464",
   "metadata": {},
   "source": [
    "9.  What is the process of defining classes and methods that only show essential information to the user and hide the complex implementation details?\n",
    "\n",
    "    A) Inheritance\n",
    "\n",
    "    B) Polymorphism\n",
    "\n",
    "    C) Encapsulation\n",
    "\n",
    "    D) Abstraction"
   ]
  },
  {
   "cell_type": "markdown",
   "id": "f6c8a117",
   "metadata": {},
   "source": [
    "        Answer:         "
   ]
  },
  {
   "cell_type": "markdown",
   "id": "91d47f02",
   "metadata": {},
   "source": [
    "10. What is a key advantage of using **Class Attributes** over **Instance Attributes**?\n",
    "\n",
    "    A) Class attributes can be initialized later in the program.\n",
    "\n",
    "    B) Class attributes are unique to each object.\n",
    "\n",
    "    C) Class attributes are shared by all instances of the class, saving memory.\n",
    "\n",
    "    D) Class attributes are always protected from modification."
   ]
  },
  {
   "cell_type": "markdown",
   "id": "ab6c793e",
   "metadata": {},
   "source": [
    "        Answer:         "
   ]
  },
  {
   "cell_type": "markdown",
   "id": "707630c0",
   "metadata": {},
   "source": [
    "### Error Identification Questions\n"
   ]
  },
  {
   "cell_type": "markdown",
   "id": "b9702290",
   "metadata": {},
   "source": [
    "11. What is the problem in this code?\n",
    "\n",
    "    ```python\n",
    "    class Car:\n",
    "        def __init__(make, model):\n",
    "            self.make = make \n",
    "    ```\n",
    "\n",
    "    A) Missing parentheses after $\\text{\\_\\_init\\_\\_}$\n",
    "\n",
    "    B) Missing reference to parent class\n",
    "\n",
    "    C) Incorrect attribute assignment\n",
    "\n",
    "    D) The first parameter $\\text{make}$ should be named $\\text{self}$"
   ]
  },
  {
   "cell_type": "markdown",
   "id": "edfcbc3d",
   "metadata": {},
   "source": [
    "        Answer:         "
   ]
  },
  {
   "cell_type": "markdown",
   "id": "dfa5eb80",
   "metadata": {},
   "source": [
    "12. What is the problem in this code?\n",
    "\n",
    "    ```python\n",
    "    class Dog: \n",
    "        pass\n",
    "    \n",
    "    \n",
    "    my_dog = Dog[]\n",
    "    ```\n",
    "\n",
    "    A) Missing $\\text{\\_\\_init\\_\\_}$ method\n",
    "\n",
    "    B) Parentheses should be curly braces\n",
    "\n",
    "    C) Parentheses are missing for instantiation\n",
    "\n",
    "    D) The class name should be lowercase"
   ]
  },
  {
   "cell_type": "markdown",
   "id": "b2dbc2ce",
   "metadata": {},
   "source": [
    "        Answer:         "
   ]
  },
  {
   "cell_type": "markdown",
   "id": "8e5a41ad",
   "metadata": {},
   "source": [
    "13. What will happen when this code is executed?\n",
    "\n",
    "    ```python\n",
    "    class Person:\n",
    "        ...\n",
    "        def greet():\n",
    "            print('Hello')\n",
    "    \n",
    "    d = Person()\n",
    "    d.greet()\n",
    "    ```\n",
    "\n",
    "    A) 'Hello' will be stored in the d variable but nothing will be sent to terminal\n",
    "\n",
    "    B) 'Hello' will print to the terminal\n",
    "\n",
    "    C) the code will execute but nothing will print to the terminal\n",
    "\n",
    "    D) the code will fail with error: missing $\\text{self}$ parameter in the $\\text{greet}$ method signature"
   ]
  },
  {
   "cell_type": "markdown",
   "id": "4fb231b0",
   "metadata": {},
   "source": [
    "        Answer:         "
   ]
  },
  {
   "cell_type": "markdown",
   "id": "37b68a24",
   "metadata": {},
   "source": [
    "14. Why does the print statement fail to access the attribute?\n",
    "\n",
    "    ```python\n",
    "    class A:\n",
    "        def __init__(self):\n",
    "            self.__val = 10\n",
    "        \n",
    "    a = A()\n",
    "    print(a.__val)\n",
    "    ```\n",
    "\n",
    "    A) $\\text{\\_\\_val}$ is protected and requires a getter method.\n",
    "\n",
    "    B) $\\text{\\_\\_val}$ is private due to name mangling.\n",
    "\n",
    "    C) Syntax error in the print statement.\n",
    "\n",
    "    D) Cannot access $\\text{\\_\\_val}$ outside of $\\text{\\_\\_init\\_\\_}$."
   ]
  },
  {
   "cell_type": "markdown",
   "id": "be2b86c2",
   "metadata": {},
   "source": [
    "        Answer:         "
   ]
  },
  {
   "cell_type": "markdown",
   "id": "a2800a90",
   "metadata": {},
   "source": [
    "15. What is the primary error in this inheritance definition?\n",
    "\n",
    "    ```python\n",
    "    class Animal: \n",
    "        pass\n",
    "    class Cat(animal): \n",
    "        pass\n",
    "    ```\n",
    "\n",
    "    A) Class $\\text{Animal}$ should have a method.\n",
    "\n",
    "    B) The parent class name $\\text{animal}$ should be capitalized in the inheritance list.\n",
    "\n",
    "    C) Inheritance syntax is wrong.\n",
    "\n",
    "    D) Missing $\\text{\\_\\_init\\_\\_}$ method."
   ]
  },
  {
   "cell_type": "markdown",
   "id": "1e5d388c",
   "metadata": {},
   "source": [
    "        Answer:         "
   ]
  },
  {
   "cell_type": "markdown",
   "id": "054bbc7e",
   "metadata": {},
   "source": [
    "16. What is the error in the child class $\\text{B}$?\n",
    "\n",
    "    ```python\n",
    "    class A: \n",
    "        pass\n",
    "    class B(A):\n",
    "        super().__init__()\n",
    "    ```\n",
    "\n",
    "    A) $\\text{super().\\_\\_init\\_\\_()}$ must be called from within the $\\text{\\_\\_init\\_\\_}$ method of the child class.\n",
    "\n",
    "    B) Class $\\text{A}$ must have an explicit $\\text{\\_\\_init\\_\\_}$ method.\n",
    "\n",
    "    C) Class $\\text{A}$ is implicitly abstract.\n",
    "\n",
    "    D) Missing $\\text{self}$ parameter in $\\text{super().\\_\\_init\\_\\_()}$."
   ]
  },
  {
   "cell_type": "markdown",
   "id": "f9445323",
   "metadata": {},
   "source": [
    "        Answer:         "
   ]
  },
  {
   "cell_type": "markdown",
   "id": "4fe9cc6f",
   "metadata": {},
   "source": [
    "17. What type of OOP error is demonstrated here?\n",
    "\n",
    "    ```python\n",
    "    class MyClass:\n",
    "        ...\n",
    "        def calculate(self, x, y): \n",
    "            return x + y\n",
    "        def calculate(self, x): \n",
    "            return x * x\n",
    "    ```\n",
    "\n",
    "    A) $\\text{SyntaxError}$\n",
    "\n",
    "    B) $\\text{AttributeError}$\n",
    "\n",
    "    C) Method Overloading is not supported in this way in Python (the second definition overwrites the first).\n",
    "\n",
    "    D) Missing $\\text{self}$ in the second method."
   ]
  },
  {
   "cell_type": "markdown",
   "id": "68449093",
   "metadata": {},
   "source": [
    "        Answer:         "
   ]
  },
  {
   "cell_type": "markdown",
   "id": "49245ab2",
   "metadata": {},
   "source": [
    "18. Why will $\\text{print(c1.count)}$ output $\\text{1}$ after running this code?\n",
    "\n",
    "    ```python\n",
    "    class Counter:\n",
    "        count = 0\n",
    "        def __init__(self):\n",
    "            self.count += 1\n",
    "\n",
    "    c1 = Counter()\n",
    "    c2 = Counter()\n",
    "    print(c1.count)\n",
    "    ```\n",
    "\n",
    "    A) The $\\text{count}$ attribute should be capitalized.\n",
    "\n",
    "    B) $\\text{count}$ is a class attribute and cannot be modified.\n",
    "\n",
    "    C) The instance attribute $\\text{self.count}$ shadows the class attribute, creating a unique instance variable that only increments once.\n",
    "\n",
    "    D) $\\text{c2}$ was created after $\\text{c1}$, so $\\text{c1.count}$ is unaffected."
   ]
  },
  {
   "cell_type": "markdown",
   "id": "db39fd45",
   "metadata": {},
   "source": [
    "        Answer:         "
   ]
  },
  {
   "cell_type": "markdown",
   "id": "76012090",
   "metadata": {},
   "source": [
    "19. What is wrong with the method call?\n",
    "\n",
    "    ```python\n",
    "    class Parent:\n",
    "        def talk(self): \n",
    "            print(\"Hi\")\n",
    "    class Child(Parent):\n",
    "        def talk(self): \n",
    "            print(\"Bye\")\n",
    "\n",
    "    c = Child()\n",
    "    c.talk(\"Hello\")\n",
    "    ```\n",
    "\n",
    "    A) The $\\text{talk}$ method is not defined correctly in $\\text{Parent}$.\n",
    "\n",
    "    B) Method Overriding is not allowed in Python.\n",
    "\n",
    "    C) The $\\text{talk}$ method is being called with an unexpected argument (\"Hello\") when it is only defined to take $\\text{self}$.\n",
    "\n",
    "    D) $\\text{Parent}$ should have $\\text{super().\\_\\_init\\_\\_}$."
   ]
  },
  {
   "cell_type": "markdown",
   "id": "5bf82cf7",
   "metadata": {},
   "source": [
    "        Answer:         "
   ]
  },
  {
   "cell_type": "markdown",
   "id": "fe13c69a",
   "metadata": {},
   "source": [
    "20. What error will this code raise?\n",
    "\n",
    "    ```python\n",
    "    class Data: \n",
    "        pass\n",
    "    \n",
    "    d = Data()\n",
    "    print(d.name)\n",
    "    ```\n",
    "\n",
    "    A) $\\text{SyntaxError}$\n",
    "\n",
    "    B) $\\text{AttributeError}$ because the attribute $\\text{name}$ was never assigned to the instance $\\text{d}$\n",
    "\n",
    "    C) $\\text{TypeError}$ because the $\\text{Data}$ class is empty\n",
    "\n",
    "    D) $\\text{NameError}$ because $\\text{d}$ is not defined"
   ]
  },
  {
   "cell_type": "markdown",
   "id": "1ad8f62a",
   "metadata": {},
   "source": [
    "        Answer:         "
   ]
  },
  {
   "cell_type": "markdown",
   "id": "5665c445",
   "metadata": {},
   "source": [
    "## 2\\. Short Answer Conceptual Questions (20 Questions)"
   ]
  },
  {
   "cell_type": "markdown",
   "id": "8bb85d9f",
   "metadata": {},
   "source": [
    "### Conceptual Questions\n"
   ]
  },
  {
   "cell_type": "markdown",
   "id": "aa2e8982",
   "metadata": {},
   "source": [
    "1.  Explain the difference between a **Class** and an **Object** in Python OOP.\n"
   ]
  },
  {
   "cell_type": "markdown",
   "id": "8233ce70",
   "metadata": {},
   "source": [
    "        Answer:         "
   ]
  },
  {
   "cell_type": "markdown",
   "id": "c2084658",
   "metadata": {},
   "source": [
    "2.  What are **Attributes** and **Methods**? Provide a real-world analogy.\n"
   ]
  },
  {
   "cell_type": "markdown",
   "id": "00e18124",
   "metadata": {},
   "source": [
    "        Answer:         "
   ]
  },
  {
   "cell_type": "markdown",
   "id": "01845d2a",
   "metadata": {},
   "source": [
    "3.  What is the primary purpose of the $\\text{super()}$ function in the context of inheritance?\n"
   ]
  },
  {
   "cell_type": "markdown",
   "id": "079bf91a",
   "metadata": {},
   "source": [
    "        Answer:         "
   ]
  },
  {
   "cell_type": "markdown",
   "id": "2d92bbc0",
   "metadata": {},
   "source": [
    "4.  Define **Method Overriding**. When is it typically used?\n"
   ]
  },
  {
   "cell_type": "markdown",
   "id": "a2281db7",
   "metadata": {},
   "source": [
    "        Answer:         "
   ]
  },
  {
   "cell_type": "markdown",
   "id": "901c125f",
   "metadata": {},
   "source": [
    "5.  Python doesn't have true private attributes. What is the mechanism Python uses (often referred to as \"name mangling\") to make an attribute \"more private,\" and how is it named?\n"
   ]
  },
  {
   "cell_type": "markdown",
   "id": "ea71e97c",
   "metadata": {},
   "source": [
    "        Answer:         "
   ]
  },
  {
   "cell_type": "markdown",
   "id": "e979705e",
   "metadata": {},
   "source": [
    "6.  Briefly describe the **\"Liskov Substitution Principle\"** in relation to inheritance. (internet search recommended)\n"
   ]
  },
  {
   "cell_type": "markdown",
   "id": "cc5139e4",
   "metadata": {},
   "source": [
    "        Answer:         "
   ]
  },
  {
   "cell_type": "markdown",
   "id": "3c35fc58",
   "metadata": {},
   "source": [
    "7.  What are **Dunder Methods** (or Magic Methods) in Python? Give an example of one you would use to provide a human-readable string representation of an object.\n"
   ]
  },
  {
   "cell_type": "markdown",
   "id": "fc411a16",
   "metadata": {},
   "source": [
    "        Answer:         "
   ]
  },
  {
   "cell_type": "markdown",
   "id": "229f50a6",
   "metadata": {},
   "source": [
    "8.  What does it mean for a class to be **abstract**, and what Python built-in module is used to formally define and enforce abstract classes/methods?\n"
   ]
  },
  {
   "cell_type": "markdown",
   "id": "4fc0329b",
   "metadata": {},
   "source": [
    "        Answer:         "
   ]
  },
  {
   "cell_type": "markdown",
   "id": "4bfbef86",
   "metadata": {},
   "source": [
    "9.  Why is OOP generally preferred over procedural programming for large and complex projects? (Mention two key advantages).\n"
   ]
  },
  {
   "cell_type": "markdown",
   "id": "a226ed08",
   "metadata": {},
   "source": [
    "        Answer:         "
   ]
  },
  {
   "cell_type": "markdown",
   "id": "f496a468",
   "metadata": {},
   "source": [
    "10. In Python, what is **Multiple Inheritance**? What is the potential issue that arises with it?\n"
   ]
  },
  {
   "cell_type": "markdown",
   "id": "78920b12",
   "metadata": {},
   "source": [
    "        Answer:         "
   ]
  },
  {
   "cell_type": "markdown",
   "id": "e5c1a30e",
   "metadata": {},
   "source": [
    "### Error Identification Questions (Explain the Error)\n"
   ]
  },
  {
   "cell_type": "markdown",
   "id": "5ef22994",
   "metadata": {},
   "source": [
    "11. Identify and explain the error:\n",
    "    ```python\n",
    "    class Example:\n",
    "        def method(self): \n",
    "            pass\n",
    "\n",
    "    Example.method()\n",
    "    ```"
   ]
  },
  {
   "cell_type": "markdown",
   "id": "db9c5e0a",
   "metadata": {},
   "source": [
    "        Answer:         "
   ]
  },
  {
   "cell_type": "markdown",
   "id": "9ae775e6",
   "metadata": {},
   "source": [
    "12. Identify and explain the error:\n",
    "    ```python\n",
    "    class Base: \n",
    "        pass\n",
    "    class Derived(Base):\n",
    "        def __init__(self):\n",
    "            super().__init__(5)\n",
    "    ```"
   ]
  },
  {
   "cell_type": "markdown",
   "id": "c3c437d4",
   "metadata": {},
   "source": [
    "        Answer:         "
   ]
  },
  {
   "cell_type": "markdown",
   "id": "11f04e3b",
   "metadata": {},
   "source": [
    "13. Identify and explain why the code runs, but might not meet the programmer's expectation:\n",
    "    ```python\n",
    "    class A: \n",
    "        x = 10\n",
    "    \n",
    "    a = A()\n",
    "    A.x = 20\n",
    "    print(A.x + a.x) # Prints 40\n",
    "    ```"
   ]
  },
  {
   "cell_type": "markdown",
   "id": "1c2a2c09",
   "metadata": {},
   "source": [
    "        Answer:         "
   ]
  },
  {
   "cell_type": "markdown",
   "id": "c86d964a",
   "metadata": {},
   "source": [
    "14. Identify and explain the error:\n",
    "    ```python\n",
    "    class Item: \n",
    "        pass\n",
    "    \n",
    "    print(Item.new_attr)\n",
    "    ```"
   ]
  },
  {
   "cell_type": "markdown",
   "id": "c8edcbd0",
   "metadata": {},
   "source": [
    "        Answer:         "
   ]
  },
  {
   "cell_type": "markdown",
   "id": "b8f20733",
   "metadata": {},
   "source": [
    "15. Identify and explain the error:\n",
    "    ```python\n",
    "    class Vehicle:\n",
    "        def move(self): \n",
    "            print(\"Moving\")\n",
    "    \n",
    "    v = Vehicle()\n",
    "    v.move\n",
    "    ```"
   ]
  },
  {
   "cell_type": "markdown",
   "id": "8dbfb5b5",
   "metadata": {},
   "source": [
    "        Answer:         "
   ]
  },
  {
   "cell_type": "markdown",
   "id": "72cb1ce0",
   "metadata": {},
   "source": [
    "16. Identify and explain the error:\n",
    "    ```python\n",
    "    class P:\n",
    "        def get_id(self): \n",
    "            return 1\n",
    "    class C(P):\n",
    "        def get_id(self, arg): \n",
    "            return arg\n",
    "    \n",
    "    c = C()\n",
    "    c.get_id()\n",
    "    ```"
   ]
  },
  {
   "cell_type": "markdown",
   "id": "1bbacb29",
   "metadata": {},
   "source": [
    "        Answer:         "
   ]
  },
  {
   "cell_type": "markdown",
   "id": "dda6c70d",
   "metadata": {},
   "source": [
    "17. Identify and explain the error:\n",
    "    ```python\n",
    "    class Box:\n",
    "        def __init__(self): \n",
    "            self.size = 10\n",
    "    \n",
    "    b = Box()\n",
    "    b.size = b.size + \"cm\"\n",
    "    ```"
   ]
  },
  {
   "cell_type": "markdown",
   "id": "a123b3db",
   "metadata": {},
   "source": [
    "        Answer:         "
   ]
  },
  {
   "cell_type": "markdown",
   "id": "6c45b96d",
   "metadata": {},
   "source": [
    "18. Identify and explain why the output is 'P' and not 'C' (no error, but conceptual):\n",
    "    ```python\n",
    "    class Parent:\n",
    "        def __str__(self): \n",
    "            return 'P'\n",
    "    \n",
    "    class Child(Parent):\n",
    "        def __repr__(self): \n",
    "            return 'C'\n",
    "    \n",
    "    c = Child()\n",
    "    print(c)\n",
    "    ```"
   ]
  },
  {
   "cell_type": "markdown",
   "id": "668b628c",
   "metadata": {},
   "source": [
    "        Answer:         "
   ]
  },
  {
   "cell_type": "markdown",
   "id": "e540ca77",
   "metadata": {},
   "source": [
    "19. Identify and explain the error:\n",
    "    ```python\n",
    "    class A:\n",
    "        def __init__(self, x): \n",
    "            pass\n",
    "    class B(A): \n",
    "        pass\n",
    "\n",
    "    B(y=5)\n",
    "    ```"
   ]
  },
  {
   "cell_type": "markdown",
   "id": "deb89923",
   "metadata": {},
   "source": [
    "        Answer:         "
   ]
  },
  {
   "cell_type": "markdown",
   "id": "d6fb2b4f",
   "metadata": {},
   "source": [
    "20. Identify and explain why this pattern can cause unexpected behavior in multiple inheritance (conceptual issue):\n",
    "    ```python\n",
    "    class Mixin1:\n",
    "        def feature(self): \n",
    "            return \"F1\"\n",
    "    class Mixin2:\n",
    "        def feature(self): \n",
    "            return \"F2\"\n",
    "    class Final(Mixin1, Mixin2):\n",
    "        pass\n",
    "\n",
    "    f = Final()\n",
    "    f.feature()\n",
    "    ```"
   ]
  },
  {
   "cell_type": "markdown",
   "id": "ceac73fb",
   "metadata": {},
   "source": [
    "        Answer:         "
   ]
  },
  {
   "cell_type": "markdown",
   "id": "e1ad20e2",
   "metadata": {},
   "source": [
    "## 3\\. Fill-in-the-Blank Questions (15 Questions)\n"
   ]
  },
  {
   "cell_type": "markdown",
   "id": "b3a8c565",
   "metadata": {},
   "source": [
    "### Conceptual Questions\n"
   ]
  },
  {
   "cell_type": "markdown",
   "id": "9828cd3d",
   "metadata": {},
   "source": [
    "1.  The concept that allows an operation or method to be implemented differently in different classes is called **\\_\\_\\_\\_\\_\\_\\_\\_\\_\\_**.\n"
   ]
  },
  {
   "cell_type": "markdown",
   "id": "a1c8c292",
   "metadata": {},
   "source": [
    "        Answer:         "
   ]
  },
  {
   "cell_type": "markdown",
   "id": "3815692b",
   "metadata": {},
   "source": [
    "2.  A class variable is shared by all **\\_\\_\\_\\_\\_\\_\\_\\_\\_\\_** of a class.\n"
   ]
  },
  {
   "cell_type": "markdown",
   "id": "9c9b8b9f",
   "metadata": {},
   "source": [
    "        Answer:         "
   ]
  },
  {
   "cell_type": "markdown",
   "id": "e530e3f5",
   "metadata": {},
   "source": [
    "3.  In Python, instance attributes are typically initialized within the special method named **\\_\\_\\_\\_\\_\\_\\_\\_\\_\\_**.\n"
   ]
  },
  {
   "cell_type": "markdown",
   "id": "9c8d5dce",
   "metadata": {},
   "source": [
    "        Answer:         "
   ]
  },
  {
   "cell_type": "markdown",
   "id": "75f59495",
   "metadata": {},
   "source": [
    "4.  To create a new object from a class, you must **\\_\\_\\_\\_\\_\\_\\_\\_\\_\\_** the class.\n"
   ]
  },
  {
   "cell_type": "markdown",
   "id": "884f8b9f",
   "metadata": {},
   "source": [
    "        Answer:         "
   ]
  },
  {
   "cell_type": "markdown",
   "id": "2960a84b",
   "metadata": {},
   "source": [
    "5.  By convention, the leading **\\_\\_\\_\\_\\_\\_\\_\\_\\_\\_** (character) on an attribute name signifies that it is a protected member of the class.\n",
    "\n"
   ]
  },
  {
   "cell_type": "markdown",
   "id": "f85f92f3",
   "metadata": {},
   "source": [
    "        Answer:         "
   ]
  },
  {
   "cell_type": "markdown",
   "id": "71929510",
   "metadata": {},
   "source": [
    "6.  The term for when a child class implements (defines) a method that is already present in its parent class is Method **\\_\\_\\_\\_\\_\\_\\_\\_\\_\\_**.\n",
    "\n"
   ]
  },
  {
   "cell_type": "markdown",
   "id": "b37f754e",
   "metadata": {},
   "source": [
    "        Answer:         "
   ]
  },
  {
   "cell_type": "markdown",
   "id": "26ce6d7f",
   "metadata": {},
   "source": [
    "7.  **\\_\\_\\_\\_\\_\\_\\_\\_\\_\\_** helps in achieving data security by restricting direct access to data members.\n",
    "\n"
   ]
  },
  {
   "cell_type": "markdown",
   "id": "d0f5a19a",
   "metadata": {},
   "source": [
    "        Answer:         "
   ]
  },
  {
   "cell_type": "markdown",
   "id": "56a6a89c",
   "metadata": {},
   "source": [
    "8.  The MRO stands for **\\_\\_\\_\\_\\_\\_\\_\\_\\_\\_** and determines the order in which base classes are searched for a method or attribute.\n",
    "\n"
   ]
  },
  {
   "cell_type": "markdown",
   "id": "f6907179",
   "metadata": {},
   "source": [
    "        Answer:         "
   ]
  },
  {
   "cell_type": "markdown",
   "id": "fe2f88fc",
   "metadata": {},
   "source": [
    "9.  A **\\_\\_\\_\\_\\_\\_\\_\\_\\_\\_** is an instance of a class, whereas a class is a blueprint.\n",
    "\n"
   ]
  },
  {
   "cell_type": "markdown",
   "id": "b859d097",
   "metadata": {},
   "source": [
    "        Answer:         "
   ]
  },
  {
   "cell_type": "markdown",
   "id": "2a9539f2",
   "metadata": {},
   "source": [
    "10. A property decorator ($\\text{@property}$) is often used to implement the **\\_\\_\\_\\_\\_\\_\\_\\_\\_\\_** pattern, which gives controlled access to an attribute.\n",
    "\n"
   ]
  },
  {
   "cell_type": "markdown",
   "id": "49b31528",
   "metadata": {},
   "source": [
    "        Answer:         "
   ]
  },
  {
   "cell_type": "markdown",
   "id": "77344743",
   "metadata": {},
   "source": [
    "### Code Completion Questions\n",
    "\n"
   ]
  },
  {
   "cell_type": "markdown",
   "id": "8d4471c8",
   "metadata": {},
   "source": [
    "11. Fill in the blank to print the class attribute $\\text{10}$.\n",
    "    ```python\n",
    "    class Data:\n",
    "        value = 10\n",
    "    \n",
    "    d = Data()\n",
    "    __________ <--\n",
    "    ```\n",
    "\n"
   ]
  },
  {
   "cell_type": "code",
   "execution_count": 2,
   "id": "af8f5f8e",
   "metadata": {},
   "outputs": [],
   "source": [
    "# Your Answer Here"
   ]
  },
  {
   "cell_type": "markdown",
   "id": "09cbd33e",
   "metadata": {},
   "source": [
    "12. Fill in the blank to ensure $\\text{Child}$ calls $\\text{Parent}$'s constructor.\n",
    "    ```python\n",
    "    class P:\n",
    "        def __init__(self, x): \n",
    "            self.x = x\n",
    "    \n",
    "    class C(P):\n",
    "        def __init__(self, x, y):\n",
    "            __________ <--\n",
    "            self.y = y\n",
    "    ```\n",
    "\n"
   ]
  },
  {
   "cell_type": "code",
   "execution_count": 3,
   "id": "07b2fcbe",
   "metadata": {},
   "outputs": [],
   "source": [
    "# Your Answer Here"
   ]
  },
  {
   "cell_type": "markdown",
   "id": "7e4675e1",
   "metadata": {},
   "source": [
    "        Answer:         "
   ]
  },
  {
   "cell_type": "markdown",
   "id": "a4aaf2ef",
   "metadata": {},
   "source": [
    "13. Fill in the blank with a **getter** method line to return the attribute $\\text{\\_secret}$.\n",
    "    ```python\n",
    "    class Vault:\n",
    "        def __init__(self): \n",
    "            self._secret = \"Gold\"\n",
    "        \n",
    "        def get_secret(self): \n",
    "            __________\n",
    "    ```\n",
    "\n"
   ]
  },
  {
   "cell_type": "code",
   "execution_count": 4,
   "id": "e58d3f14",
   "metadata": {},
   "outputs": [],
   "source": [
    "# Your Answer Here"
   ]
  },
  {
   "cell_type": "markdown",
   "id": "84dfd8fb",
   "metadata": {},
   "source": [
    "        Answer:         "
   ]
  },
  {
   "cell_type": "markdown",
   "id": "2e3adbb4",
   "metadata": {},
   "source": [
    "14. Fill in the blank to call the $\\text{\\_\\_str\\_\\_}$ method implicitly.\n",
    "    ```python\n",
    "    class Item:\n",
    "        def __str__(self): \n",
    "            return \"Box\"\n",
    "    \n",
    "    i = Item()\n",
    "    __________\n",
    "    ```\n",
    "\n"
   ]
  },
  {
   "cell_type": "code",
   "execution_count": 5,
   "id": "d389e3fa",
   "metadata": {},
   "outputs": [],
   "source": [
    "# Your Answer Here"
   ]
  },
  {
   "cell_type": "markdown",
   "id": "3c19b509",
   "metadata": {},
   "source": [
    "        Answer:         "
   ]
  },
  {
   "cell_type": "markdown",
   "id": "ee8f5d50",
   "metadata": {},
   "source": [
    "15. Fill in the blank to create and assign the instance attribute $\\text{name}$.\n",
    "    ```python\n",
    "    class User:\n",
    "        def __init__(self, name):\n",
    "            ____________________\n",
    "    \n",
    "    u = User(\"Alice\")\n",
    "    ```\n",
    "\n",
    "\n"
   ]
  },
  {
   "cell_type": "code",
   "execution_count": 6,
   "id": "94859108",
   "metadata": {},
   "outputs": [],
   "source": [
    "# Your Answer Here"
   ]
  },
  {
   "cell_type": "markdown",
   "id": "98b00fef",
   "metadata": {},
   "source": [
    "        Answer:         "
   ]
  },
  {
   "cell_type": "markdown",
   "id": "130155c4",
   "metadata": {},
   "source": [
    "## 4\\. Building Code Prompts (10 Prompts)\n",
    "\n",
    "*(These prompts build a $\\text{LibraryCatalog}$ program using explicit getter/setter methods and PEP 8 style.)*\n",
    "\n",
    "*(Enter your code solution below and compare to the solution document.)*\n",
    "\n",
    "### Part 1: The $\\text{Book}$ and $\\text{Ebook}$ Classes (Encapsulation and Inheritance)\n",
    "\n",
    "1.  **Prompt 1 (Class Definition & Constructor):** Define a class named $\\text{Book}$. The constructor ($\\text{\\_\\_init\\_\\_}$) should accept $\\text{title}$, $\\text{author}$, and $\\text{isbn}$. Store these internally as **private** instance attributes ($\\text{\\_\\_title}$, $\\text{\\_\\_author}$, $\\text{\\_\\_isbn}$).\n",
    "\n",
    "2.  **Prompt 2 (Explicit Getters):** Implement the explicit **getter** methods: $\\text{get\\_title()}$, $\\text{get\\_author()}$, and $\\text{get\\_isbn()}$. These methods must return the values of their respective private attributes.\n",
    "\n",
    "3.  **Prompt 3 (Explicit Setters):** Implement the explicit **setter** methods: $\\text{set\\_title(new\\_title)}$, $\\text{set\\_author(new\\_author)}$, and $\\text{set\\_isbn(new\\_isbn)}$. Ensure these setters update the corresponding private attributes.\n",
    "\n",
    "4.  **Prompt 4 (Inheritance & File Size Methods):** Create a new class called $\\text{Ebook}$ that **inherits** from $\\text{Book}$. The $\\text{Ebook}$ constructor must call the parent's constructor and additionally accept a $\\text{file\\_size}$ parameter, storing it as a private attribute ($\\text{\\_\\_file\\_size}$). Implement the explicit $\\text{get\\_file\\_size()}$ and $\\text{set\\_file\\_size(size)}$ methods.\n",
    "\n",
    "5.  **Prompt 5 (Polymorphism & Instance Method):** Add an instance method $\\text{get\\_details()}$ to the **$\\text{Book}$** class that returns a formatted string of the title and author (using their getter methods). Then, **override** the $\\text{get\\_details()}$ method in **$\\text{Ebook}$** to use $\\text{super().get\\_details()}$ and append the $\\text{file\\_size}$ (using its getter method) to the returned string.\n",
    "\n",
    "### Part 2: The $\\text{LibraryCatalog}$ Class (Composition)\n",
    "\n",
    "6.  **Prompt 6 (Main/Composite Class):** Define a class named $\\text{LibraryCatalog}$. The constructor ($\\text{\\_\\_init\\_\\_}$) should initialize a **private** list instance attribute called $\\text{\\_\\_books}$ to an empty list.\n",
    "\n",
    "7.  **Prompt 7 (Controlled Access):** Implement an explicit **getter** method for the internal $\\text{books}$ list called $\\text{get\\_books()}$ (returning $\\text{self.\\_\\_books}$). Also, add a method called $\\text{add\\_item(self, item)}$ that accepts an item and appends it to the internal list.\n",
    "\n",
    "8.  **Prompt 8 (Iteration Method):** In the $\\text{LibraryCatalog}$ class, add a method called $\\text{list\\_all\\_titles()}$ that iterates through the $\\text{books}$ list (using the getter method $\\text{get\\_books()}$) and prints the **title** of each book (accessing the book's title using its getter method).\n",
    "\n",
    "### Part 3: Demonstration\n",
    "\n",
    "9.  **Prompt 9 (Object Creation & Mutators):** Write the code to:\n",
    "    a. Create one $\\text{Book}$ object: $\\text{Title: 'Old Title'}$, $\\text{Author: 'Original Author'}$, $\\text{ISBN: '999'}$.\n",
    "    b. Use the **setter method** ($\\text{set\\_title}$) to change the book's title to $\\text{'New Title'}$ after creation.\n",
    "    c. Create an $\\text{Ebook}$ object and a $\\text{LibraryCatalog}$ object, and add both items to the catalog.\n",
    "\n",
    "10. **Prompt 10 (Accessors & Method Call):** Write the code to:\n",
    "    a. Print the current $\\text{author}$ and $\\text{isbn}$ of the $\\text{Book}$ object using their respective **getter methods** (e.g., $\\text{book.get\\_author()}$).\n",
    "    b. Call the $\\text{list\\_all\\_titles()}$ method on your $\\text{LibraryCatalog}$ object."
   ]
  },
  {
   "cell_type": "code",
   "execution_count": 7,
   "id": "00c6f77b",
   "metadata": {},
   "outputs": [],
   "source": [
    "# Enter your solution here!"
   ]
  },
  {
   "cell_type": "markdown",
   "id": "83b7356e",
   "metadata": {},
   "source": [
    "*** Bonus Challenge: use the same techniques to develop a program for a music catalog with each song in the collection having attributes for the artist, song title, album, and year of release. ***"
   ]
  },
  {
   "cell_type": "code",
   "execution_count": 8,
   "id": "63573d22",
   "metadata": {},
   "outputs": [],
   "source": [
    "# Enter your solution here!"
   ]
  }
 ],
 "metadata": {
  "kernelspec": {
   "display_name": "pydev",
   "language": "python",
   "name": "python3"
  },
  "language_info": {
   "codemirror_mode": {
    "name": "ipython",
    "version": 3
   },
   "file_extension": ".py",
   "mimetype": "text/x-python",
   "name": "python",
   "nbconvert_exporter": "python",
   "pygments_lexer": "ipython3",
   "version": "3.12.11"
  }
 },
 "nbformat": 4,
 "nbformat_minor": 5
}
