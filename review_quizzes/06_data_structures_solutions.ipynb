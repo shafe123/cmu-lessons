{
 "cells": [
  {
   "cell_type": "markdown",
   "id": "solution_title",
   "metadata": {},
   "source": [
    "# Data Structures Quiz — Software Problem Solutions\n",
    "These solutions are meant to be recommendations rather than end-all be-all \n",
    "verbatim answers."
   ]
  },
  {
   "cell_type": "markdown",
   "id": "solution_expl_1",
   "metadata": {},
   "source": [
    "## Problem 1 — Robot Component Tally\n",
    "\n",
    "### Explanation\n",
    "A **dictionary** would be appropriate here. A dictionary provides a direct mapping from a unique key (the component ID) to a value (its count).\n",
    "\n",
    "The solution initializes an empty dictionary, `component_counts`. It then iterates through the input `component_serials` **list**. For each `component`, it uses the `dict.get(key, default)` method. This method looks for the `component` key in the dictionary. \n",
    "- If the key exists, it returns the current count.\n",
    "- If the key does not exist, it returns the default value, `0`.\n",
    "\n",
    "We then add `1` to this result and update the dictionary. This pattern elegantly handles both the first time a component is seen and all subsequent times."
   ]
  },
  {
   "cell_type": "code",
   "execution_count": null,
   "id": "solution_code_1",
   "metadata": {},
   "outputs": [],
   "source": [
    "def tally_components(component_serials):\n",
    "    \"\"\"Counts the occurrences of each component in a list.\"\"\"\n",
    "    component_counts = {}\n",
    "    for component in component_serials:\n",
    "        component_counts[component] = component_counts.get(component, 0) + 1\n",
    "    return component_counts"
   ]
  },
  {
   "cell_type": "markdown",
   "id": "solution_expl_2",
   "metadata": {},
   "source": [
    "## Problem 2 — Mission Checklist Verification\n",
    "### Explanation\n",
    "This problem requires comparing two collections to find differences.\n",
    "**sets** are perfect for this. While this could be solved with loops and lists, using sets is far more elegant and performant for large inputs.\n",
    "\n",
    "1.  The input **lists** are first converted into sets (`required_set`, `onboard_set`) to enable efficient, high-performance comparison operations.\n",
    "2.  The set difference operator (`-`) is used to find the discrepancies:\n",
    "    - `required_set - onboard_set` yields a new set containing only the components that were required but not onboard (`missing_components`).\n",
    "    - `onboard_set - required_set` yields components that were onboard but not on the required list (`extra_components`).\n",
    "3.  Finally, the resulting sets are converted back into **lists** and sorted as required by the problem description."
   ]
  },
  {
   "cell_type": "code",
   "execution_count": null,
   "id": "solution_code_2",
   "metadata": {},
   "outputs": [],
   "source": [
    "def verify_checklist(required_components, onboard_components):\n",
    "    \"\"\"Compares two lists of components to find missing and extra items.\"\"\"\n",
    "    required_set = set(required_components)\n",
    "    onboard_set = set(onboard_components)\n",
    "\n",
    "    missing_components = sorted(list(required_set - onboard_set))\n",
    "    extra_components = sorted(list(onboard_set - required_set))\n",
    "\n",
    "    return (missing_components, extra_components)"
   ]
  },
  {
   "cell_type": "markdown",
   "id": "solution_expl_3",
   "metadata": {},
   "source": [
    "## Problem 3 — Robot Tool Bay Locator\n",
    "\n",
    "### Explanation\n",
    "This solution combines string parsing with the use of appropriate data structures for storing the results.\n",
    "\n",
    "1.  A **dictionary** (`tool_locations`) is the natural choice to map a unique identifier (the Tool ID) to its data (the location).\n",
    "2.  For each string, we use a `try-except` block to gracefully handle any malformed lines without crashing. Inside the `try` block, we split the string into parts. We parse these parts to extract the tool ID and the integer components of the location.\n",
    "3.  The location `(bay, shelf, slot)` is stored as a **tuple**. This is a deliberate choice that reflects a key objective: tuples are **immutable**. A tool's storage location should be a fixed, unchangeable piece of data, making a tuple a more robust and appropriate choice than a list for this purpose."
   ]
  },
  {
   "cell_type": "code",
   "execution_count": null,
   "id": "solution_code_3",
   "metadata": {},
   "outputs": [],
   "source": [
    "def map_tool_locations(tool_bay_strings):\n",
    "    \"\"\"Parses location strings and maps Tool IDs to a location tuple.\"\"\"\n",
    "    tool_locations = {}\n",
    "    for loc_string in tool_bay_strings:\n",
    "        try:\n",
    "            parts = loc_string.split()\n",
    "            tool_id = parts[1]\n",
    "            bay = int(parts[4].strip(','))\n",
    "            shelf = int(parts[6].strip(','))\n",
    "            slot = int(parts[8].strip(','))\n",
    "            tool_locations[tool_id] = (bay, shelf, slot)\n",
    "        except (ValueError, IndexError):\n",
    "            # Ignore malformed strings\n",
    "            continue\n",
    "    return tool_locations"
   ]
  },
  {
   "cell_type": "markdown",
   "id": "solution_expl_4_new",
   "metadata": {},
   "source": [
    "## Problem 4 — Find High-Power Components\n",
    "\n",
    "### Explanation\n",
    "This problem requires iterating through a **list of dictionaries** and filtering them based on a condition. The goal is to collect the IDs of components that meet the criteria.\n",
    "\n",
    "A **set** would be good for (`high_power_ids`) because it handles uniqueness automagically, even if the same component ID appeared multiple times in the input. The solution iterates through each `component` dictionary in the `component_specs` list, calculates the `total_draw`, and if it exceeds `power_threshold_watts`, adds the component's ID to the set. This is a common filtering pattern in data processing."
   ]
  },
  {
   "cell_type": "code",
   "execution_count": null,
   "id": "solution_code_4_new",
   "metadata": {},
   "outputs": [],
   "source": [
    "def find_high_power_components(component_specs, power_threshold_watts):\n",
    "    \"\"\"Finds components whose total power draw exceeds a threshold.\"\"\"\n",
    "    high_power_ids = set()\n",
    "    for component in component_specs:\n",
    "        total_draw = component['quantity'] * component['power_draw_watts']\n",
    "        if total_draw > power_threshold_watts:\n",
    "            high_power_ids.add(component['component_id'])\n",
    "    return high_power_ids"
   ]
  },
  {
   "cell_type": "markdown",
   "id": "solution_expl_5_new",
   "metadata": {},
   "source": [
    "## Problem 5 — Group Sensor Readings by ID\n",
    "\n",
    "### Explanation\n",
    "This problem involves transforming a flat **list of tuples** into a **dictionary of lists**, which is a common data grouping task. The goal is to create a dictionary where each key is a sensor ID and each value is a list of all readings from that sensor.\n",
    "\n",
    "The solution uses `dict.setdefault(key, [])`, which is a very convenient method for this pattern. For each `reading` tuple, it ensures that a list exists for the given `sensor_id`. If the key is new, `setdefault` creates an empty list `[]` for it. The code then appends the `(timestamp, value)` **tuple** to that list. This is more concise than checking if the key exists before appending."
   ]
  },
  {
   "cell_type": "code",
   "execution_count": null,
   "id": "solution_code_5_new",
   "metadata": {},
   "outputs": [],
   "source": [
    "def group_sensor_readings(readings):\n",
    "    \"\"\"Groups sensor readings by sensor ID into a dictionary of lists.\"\"\"\n",
    "    grouped_readings = {}\n",
    "    for timestamp, sensor_id, value in readings:\n",
    "        # Ensure a list exists for this sensor, then append the relevant data.\n",
    "        grouped_readings.setdefault(sensor_id, []).append((timestamp, value))\n",
    "    return grouped_readings"
   ]
  }
 ],
 "metadata": {
  "kernelspec": {
   "display_name": ".venv",
   "language": "python",
   "name": "python3"
  },
  "language_info": {
   "name": "python",
   "version": "3.13.5"
  }
 },
 "nbformat": 4,
 "nbformat_minor": 5
}
