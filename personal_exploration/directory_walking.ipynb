{
 "cells": [
  {
   "cell_type": "markdown",
   "id": "d9a0da64",
   "metadata": {},
   "source": [
    "# Introduction\n",
    "This material focuses on how python interacts with directory structures.  This exercises focuses on using the built-in `os` module to analyze the files and folders and do some basic operations.  It should help you cement your understanding of the differences between files, folders, and directory traversal.\n",
    "\n",
    "```{warning} \n",
    "[WARNING] The code block below will create files and folders for you.  It will also truncate any existing files with the same names.   Please look at it carefully!\n",
    "```"
   ]
  },
  {
   "cell_type": "code",
   "execution_count": 1,
   "id": "8b9b69d6",
   "metadata": {},
   "outputs": [
    {
     "name": "stdout",
     "output_type": "stream",
     "text": [
      "Sample directory structure created!\n"
     ]
    }
   ],
   "source": [
    "# Read through this block before executing the code and then execute it to create the sample file structure for practice below.\n",
    "\n",
    "import os\n",
    "structure = {\n",
    "    \"project_root\": {\n",
    "        \"docs\": {\n",
    "            \"notes.txt\": \"Python is fun\",\n",
    "            \"todo.txt\": \"Complete project 1\",\n",
    "            \"old\": {\n",
    "                \"archive.docx\": \"Nothing here\",\n",
    "            },\n",
    "        },\n",
    "        \"src\": {\n",
    "            \"main.py\": \"print('hello')\",\n",
    "            \"helper.py\": \"print('I am helping')\",\n",
    "            \"utils\": {\n",
    "                \"calc.py\": \"pass\",\n",
    "                \"strings.py\": \"pass\",\n",
    "            },\n",
    "        },\n",
    "        \"data\": {\n",
    "            \"input.csv\": \"no data\",\n",
    "            \"output.csv\": \"no data\",\n",
    "            \"images\": {\n",
    "                \"logo.png\": \"binary stuff\",\n",
    "                \"chart.jpg\": \"binary stuff again\",\n",
    "                \"old\": {\n",
    "                    \"draft.png\": \"even more binary stuff\",\n",
    "                },\n",
    "            },\n",
    "        },\n",
    "        \"README.md\": \"Use the jupyter notebook to solve some practice problems\",\n",
    "    }\n",
    "}\n",
    "\n",
    "\n",
    "def create_structure(base_path, structure):\n",
    "    for name, content in structure.items():\n",
    "        path = os.path.join(base_path, name)\n",
    "        if isinstance(content, dict):\n",
    "            os.makedirs(path, exist_ok=True)\n",
    "            create_structure(path, content)\n",
    "        else:\n",
    "            with open(path, \"w\") as f:\n",
    "                f.write(content)\n",
    "\n",
    "\n",
    "create_structure(\".\", structure)\n",
    "print(\"Sample directory structure created!\")\n",
    "\n",
    "# os.chdir('project_root')"
   ]
  },
  {
   "cell_type": "markdown",
   "id": "cacbed5e",
   "metadata": {},
   "source": [
    "## Sample Structure\n",
    "\n",
    "If you run the code snippet above, your sample directory structure will look like this.  Solve the problems below using this directory structure as a reference.\n",
    "\n",
    "```\n",
    "project_root/\n",
    "├── docs/\n",
    "│   ├── notes.txt\n",
    "│   ├── todo.txt\n",
    "│   └── old/\n",
    "│       └── archive.docx\n",
    "├── src/\n",
    "│   ├── main.py\n",
    "│   ├── helper.py\n",
    "│   └── utils/\n",
    "│       ├── calc.py\n",
    "│       └── strings.py\n",
    "├── data/\n",
    "│   ├── input.csv\n",
    "│   ├── output.csv\n",
    "│   └── images/\n",
    "│       ├── logo.png\n",
    "│       ├── chart.jpg\n",
    "│       └── old/\n",
    "│           └── draft.png\n",
    "└── README.md\n",
    "```"
   ]
  },
  {
   "cell_type": "markdown",
   "id": "45532ddb",
   "metadata": {},
   "source": [
    "# Problem 0\n",
    "Use the `os.listdir()` method to see which folders and files are available in the current directory.\n",
    "\n",
    "What do you notice about the output?  Is there any difference between a file and a folder?\n",
    "\n",
    "Hint: you may need to use `os.chdir()` to get to the correct directory.  You can use `os.pwd()` to see which directory your interpreter is currently running in."
   ]
  },
  {
   "cell_type": "code",
   "execution_count": null,
   "id": "25fb10ed",
   "metadata": {},
   "outputs": [
    {
     "data": {
      "text/plain": [
       "['data', 'docs', 'README.md', 'src']"
      ]
     },
     "execution_count": 4,
     "metadata": {},
     "output_type": "execute_result"
    }
   ],
   "source": []
  },
  {
   "cell_type": "markdown",
   "id": "cbc21a63",
   "metadata": {},
   "source": [
    "# Problem 1\n",
    "Write a function to list only subdirectories for the given directory.  \n",
    "\n",
    "Hint:  Use the `os.path.isdir()` method along with `os.listdir()` to only print out the directories.\n",
    "\n",
    "Bonus:  Write another function that only gives you files.\n"
   ]
  },
  {
   "cell_type": "code",
   "execution_count": null,
   "id": "6aff5bef",
   "metadata": {},
   "outputs": [
    {
     "name": "stdout",
     "output_type": "stream",
     "text": [
      "['data', 'docs', 'src']\n"
     ]
    }
   ],
   "source": [
    "def list_subdirectories(path):\n",
    "    pass\n",
    "\n",
    "# assert list_subdirectories('data') == ['images']\n",
    "# assert sorted(list_subdirectories('.')) == ['data', 'docs', 'src']\n",
    "\n",
    "print(list_subdirectories('.'))"
   ]
  },
  {
   "cell_type": "markdown",
   "id": "8a0017fc",
   "metadata": {},
   "source": [
    "# Problem 2\n",
    "\n",
    "Use your function from above to get all the subdirectories for a given path.  Each subdirectory should have the parent path included.  Your output for the current directory should look something like this (you might need to replace `project_root` with `.`):\n",
    "\n",
    "Hint: you will have to get a little creative about how you handle navigating the subfolders.  I would suggest using a `while` loop and `append`ing and `pop`ping items off of a list.  (If you're a recursion fan, you can do that too.)\n",
    "\n",
    "```\n",
    "project_root/\n",
    "project_root/docs/\n",
    "project_root/docs/old/\n",
    "project_root/src/\n",
    "project_root/src/utils/\n",
    "project_root/data/\n",
    "project_root/data/images/\n",
    "project_root/data/images/old/\n",
    "```"
   ]
  },
  {
   "cell_type": "code",
   "execution_count": null,
   "id": "a43e36da",
   "metadata": {},
   "outputs": [
    {
     "name": "stdout",
     "output_type": "stream",
     "text": [
      "Added 5 to result, remaining left to process is [4, 3, 2, 1]\n",
      "Added 4 to result, remaining left to process is [3, 2, 1, 3, 2, 1]\n",
      "Added 3 to result, remaining left to process is [2, 1, 3, 2, 1, 2, 1]\n",
      "Added 2 to result, remaining left to process is [1, 3, 2, 1, 2, 1, 1]\n",
      "Added 1 to result, remaining left to process is [3, 2, 1, 2, 1, 1]\n",
      "Added 3 to result, remaining left to process is [2, 1, 2, 1, 1, 2, 1]\n",
      "Added 2 to result, remaining left to process is [1, 2, 1, 1, 2, 1, 1]\n",
      "Added 1 to result, remaining left to process is [2, 1, 1, 2, 1, 1]\n",
      "Added 2 to result, remaining left to process is [1, 1, 2, 1, 1, 1]\n",
      "Added 1 to result, remaining left to process is [1, 2, 1, 1, 1]\n",
      "Added 1 to result, remaining left to process is [2, 1, 1, 1]\n",
      "Added 2 to result, remaining left to process is [1, 1, 1, 1]\n",
      "Added 1 to result, remaining left to process is [1, 1, 1]\n",
      "Added 1 to result, remaining left to process is [1, 1]\n",
      "Added 1 to result, remaining left to process is [1]\n",
      "Added 1 to result, remaining left to process is []\n",
      "[5, 4, 3, 2, 1, 3, 2, 1, 2, 1, 1, 2, 1, 1, 1, 1]\n"
     ]
    }
   ],
   "source": [
    "def sample_loop_processing():\n",
    "    # this is just an idea to get you started\n",
    "\n",
    "    # our final result\n",
    "    result = []\n",
    "\n",
    "    # a list of things that we need to process\n",
    "    to_process = [5]\n",
    "\n",
    "    # while there are elements left to process...\n",
    "    while to_process:\n",
    "        # add this value to our list of results\n",
    "        next_val = to_process.pop(0)\n",
    "        result.append(next_val)\n",
    "\n",
    "        # find any \"sub values\" and add them to our list to process later\n",
    "        to_process.extend(range(next_val - 1, 0, -1))\n",
    "        \n",
    "        print(f\"Added {next_val} to result, remaining left to process is {to_process}\")\n",
    "\n",
    "    return result\n",
    "final = sample_loop_processing()\n",
    "print(f\"Final result is {final}\")\n",
    "\n",
    "# def list_all_subdirectories(path):\n",
    "#     pass\n",
    "\n",
    "# for subdir in list_all_subdirectories('.'):\n",
    "#     print(subdir)"
   ]
  },
  {
   "cell_type": "markdown",
   "id": "79206df5",
   "metadata": {},
   "source": [
    "# Problem 3\n",
    "Notice that for the above problem, you need to keep track of where you are and where the subdirectories are as well.  Thankfully, someone solved that problem for us already.  The `os.walk()` method is a *generator* that yields three values: \n",
    " \n",
    "1. your current directory\n",
    "2. the current directory's subdirectories\n",
    "3. and the current directory's subfiles.\n",
    "\n",
    "Use the `os.walk()` method to solve the problem above.\n",
    "\n",
    "Hint:  This is easier than it might sound, you only need a single for loop and don't actually have to use the subdirectories or the subfiles at all.\n",
    "\n",
    "```\n",
    ".\n",
    ".\\data\n",
    ".\\data\\images\n",
    ".\\data\\images\\old\n",
    ".\\docs\n",
    ".\\docs\\old\n",
    ".\\src\n",
    ".\\src\\utils\n",
    "```"
   ]
  },
  {
   "cell_type": "code",
   "execution_count": null,
   "id": "e74aa8a4",
   "metadata": {},
   "outputs": [
    {
     "name": "stdout",
     "output_type": "stream",
     "text": [
      ".\n",
      ".\\data\n",
      ".\\data\\images\n",
      ".\\data\\images\\old\n",
      ".\\docs\n",
      ".\\docs\\old\n",
      ".\\src\n",
      ".\\src\\utils\n"
     ]
    }
   ],
   "source": [
    "for directory, _, _ in os.walk('.'):\n",
    "    pass"
   ]
  },
  {
   "cell_type": "markdown",
   "id": "2652862c",
   "metadata": {},
   "source": [
    "# Problem 4\n",
    "Modify your solution to problem 3 by also listing each directory's relevant subdirectories below the directory and indented in one level.\n",
    "\n",
    "Notice that in the output below, the images folder actually shows up twice.  Once as a subfolder under `.\\data` and once again as its own folder: `.\\data\\images`.\n",
    "\n",
    "Hint:  In a string, `\\t` represents the tab character.\n",
    "\n",
    "```\n",
    ".\n",
    "\tdata\n",
    "\tdocs\n",
    "\tsrc\n",
    ".\\data\n",
    "\timages\n",
    ".\\data\\images\n",
    "\told\n",
    ".\\data\\images\\old\n",
    ".\\docs\n",
    "\told\n",
    ".\\docs\\old\n",
    ".\\src\n",
    "\tutils\n",
    ".\\src\\utils\n",
    "```"
   ]
  },
  {
   "cell_type": "code",
   "execution_count": null,
   "id": "c62f0b3f",
   "metadata": {},
   "outputs": [
    {
     "name": "stdout",
     "output_type": "stream",
     "text": [
      ".\n",
      "\tdata\n",
      "\tdocs\n",
      "\tsrc\n",
      ".\\data\n",
      "\timages\n",
      ".\\data\\images\n",
      "\told\n",
      ".\\data\\images\\old\n",
      ".\\docs\n",
      "\told\n",
      ".\\docs\\old\n",
      ".\\src\n",
      "\tutils\n",
      ".\\src\\utils\n"
     ]
    }
   ],
   "source": [
    "for directory, subdirectories, _ in os.walk('.'):\n",
    "    pass"
   ]
  },
  {
   "cell_type": "markdown",
   "id": "86b309f0",
   "metadata": {},
   "source": [
    "# Problem 5\n",
    "Modify your solution above to print out the subfiles indented by two levels.  Also include the subfiles' length by using the `os.path.getsize()` method."
   ]
  },
  {
   "cell_type": "code",
   "execution_count": null,
   "id": "e787115b",
   "metadata": {},
   "outputs": [],
   "source": [
    "for directory, subdirectories, subfiles in os.walk('.'):\n",
    "    pass"
   ]
  }
 ],
 "metadata": {
  "kernelspec": {
   "display_name": ".venv",
   "language": "python",
   "name": "python3"
  },
  "language_info": {
   "codemirror_mode": {
    "name": "ipython",
    "version": 3
   },
   "file_extension": ".py",
   "mimetype": "text/x-python",
   "name": "python",
   "nbconvert_exporter": "python",
   "pygments_lexer": "ipython3",
   "version": "3.13.5"
  }
 },
 "nbformat": 4,
 "nbformat_minor": 5
}
