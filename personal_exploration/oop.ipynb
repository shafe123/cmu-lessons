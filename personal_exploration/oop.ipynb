{
 "cells": [
  {
   "cell_type": "markdown",
   "id": "1b42efb3",
   "metadata": {},
   "source": [
    "# Test"
   ]
  },
  {
   "cell_type": "code",
   "execution_count": null,
   "id": "f277292b",
   "metadata": {},
   "outputs": [
    {
     "name": "stdout",
     "output_type": "stream",
     "text": [
      "['_Test__test', '__class__', '__delattr__', '__dict__', '__dir__', '__doc__', '__eq__', '__firstlineno__', '__format__', '__ge__', '__getattribute__', '__getstate__', '__gt__', '__hash__', '__init__', '__init_subclass__', '__le__', '__lt__', '__module__', '__ne__', '__new__', '__reduce__', '__reduce_ex__', '__repr__', '__setattr__', '__sizeof__', '__static_attributes__', '__str__', '__subclasshook__', '__weakref__']\n",
      "caught attribute error\n",
      "hello\n"
     ]
    }
   ],
   "source": [
    "# Test\n",
    "class Test():\n",
    "    def __init__(self) -> None:\n",
    "        self.__test = 'hello'\n",
    "\n",
    "\n",
    "test = Test()\n",
    "print(dir(test))\n",
    "try:\n",
    "    print(test.__test)\n",
    "except AttributeError:\n",
    "    print('caught attribute error')\n",
    "print(test._Test__test) # this works due to \"name mangling\""
   ]
  }
 ],
 "metadata": {
  "kernelspec": {
   "display_name": ".venv",
   "language": "python",
   "name": "python3"
  },
  "language_info": {
   "codemirror_mode": {
    "name": "ipython",
    "version": 3
   },
   "file_extension": ".py",
   "mimetype": "text/x-python",
   "name": "python",
   "nbconvert_exporter": "python",
   "pygments_lexer": "ipython3",
   "version": "3.13.5"
  }
 },
 "nbformat": 4,
 "nbformat_minor": 5
}
