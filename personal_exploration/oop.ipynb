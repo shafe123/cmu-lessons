{
 "cells": [
  {
   "cell_type": "markdown",
   "id": "1b42efb3",
   "metadata": {},
   "source": [
    "# Test"
   ]
  },
  {
   "cell_type": "code",
   "execution_count": null,
   "id": "f277292b",
   "metadata": {},
   "outputs": [
    {
     "name": "stdout",
     "output_type": "stream",
     "text": [
      "['_Test__test', '__add__', '__class__', '__delattr__', '__dict__', '__dir__', '__doc__', '__eq__', '__firstlineno__', '__format__', '__ge__', '__getattribute__', '__getstate__', '__gt__', '__hash__', '__init__', '__init_subclass__', '__le__', '__lt__', '__module__', '__ne__', '__new__', '__reduce__', '__reduce_ex__', '__repr__', '__setattr__', '__sizeof__', '__static_attributes__', '__str__', '__subclasshook__', '__weakref__', 'name']\n",
      "caught attribute error\n",
      "hello\n"
     ]
    }
   ],
   "source": [
    "# Test\n",
    "class Test():\n",
    "    def __init__(self, name = \"bob\") -> None:\n",
    "        self.__test = 'hello'\n",
    "        self.name = name\n",
    "\n",
    "    def __add__(self, other):\n",
    "        return f\"Did the add thing from {self.name} to {other.name}\"\n",
    "\n",
    "\n",
    "test = Test()\n",
    "print(dir(test)) # pay special attention to the dir listing here.  What do you see in the first element??\n",
    "try:\n",
    "    print(test.__test) # this doesn't work because it's 'hidden'\n",
    "except AttributeError:\n",
    "    print('caught attribute error')\n",
    "print(test._Test__test) # this works due to \"name mangling\""
   ]
  },
  {
   "cell_type": "markdown",
   "id": "c624461e",
   "metadata": {},
   "source": [
    "# Adding / overwriting"
   ]
  },
  {
   "cell_type": "code",
   "execution_count": 9,
   "id": "a1a439da",
   "metadata": {},
   "outputs": [
    {
     "name": "stdout",
     "output_type": "stream",
     "text": [
      "Did the add thing from alice to bob\n",
      "Did the add thing from alice to bob\n",
      "Cannot add from Test2 to Test because __add__ is not defined on bob\n",
      "This is a different error because charlie doesn't have a .name attribute\n"
     ]
    }
   ],
   "source": [
    "# Test\n",
    "class Test():\n",
    "    def __init__(self, name) -> None:\n",
    "        self.name = name\n",
    "\n",
    "    def __add__(self, other):\n",
    "        print(f\"Did the add thing from {self.name} to {other.name}\")\n",
    "    \n",
    "class Test2():\n",
    "    def __init__(self, name) -> None:\n",
    "        self.name = name\n",
    "\n",
    "class Test3():\n",
    "    def __init__(self) -> None:\n",
    "        pass # no name attribute here\n",
    "\n",
    "alice = Test(\"alice\")\n",
    "bob = Test2(\"bob\")\n",
    "charlie = Test3()\n",
    "\n",
    "alice + bob\n",
    "alice.__add__(bob) # these two are equivalent\n",
    "\n",
    "try:\n",
    "    print(bob + alice)\n",
    "except TypeError:\n",
    "    print(\"Cannot add from Test2 to Test because __add__ is not defined on bob\")\n",
    "\n",
    "try:\n",
    "    alice + charlie\n",
    "except AttributeError:\n",
    "    print(\"This is a different error because charlie doesn't have a .name attribute\")\n"
   ]
  },
  {
   "cell_type": "markdown",
   "id": "2145197f",
   "metadata": {},
   "source": [
    "# Dirty deeds..."
   ]
  },
  {
   "cell_type": "code",
   "execution_count": 16,
   "id": "c73a8e57",
   "metadata": {},
   "outputs": [
    {
     "name": "stdout",
     "output_type": "stream",
     "text": [
      "my_name test\n",
      "test my_name\n"
     ]
    }
   ],
   "source": [
    "class NewTest():\n",
    "    def __init__(self) -> None:\n",
    "        self.stuff = \"my_name\"\n",
    "\n",
    "    def __str__(self) -> str:\n",
    "        return self.stuff\n",
    "\n",
    "    def __add__(self, other):\n",
    "        return self.__str__() + \" \" + other\n",
    "    \n",
    "    def __radd__(self, other):\n",
    "        return other.__str__() + \" \" + self.__str__()\n",
    "    \n",
    "my_obj = NewTest()\n",
    "print(my_obj + 'test') # this is normal and expected\n",
    "print('test' + my_obj) # this uses the __radd__ method (right-add)\n",
    "\n"
   ]
  }
 ],
 "metadata": {
  "kernelspec": {
   "display_name": ".venv",
   "language": "python",
   "name": "python3"
  },
  "language_info": {
   "codemirror_mode": {
    "name": "ipython",
    "version": 3
   },
   "file_extension": ".py",
   "mimetype": "text/x-python",
   "name": "python",
   "nbconvert_exporter": "python",
   "pygments_lexer": "ipython3",
   "version": "3.13.5"
  }
 },
 "nbformat": 4,
 "nbformat_minor": 5
}
