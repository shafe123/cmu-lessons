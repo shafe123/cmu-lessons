{
 "cells": [
  {
   "cell_type": "markdown",
   "id": "1b42efb3",
   "metadata": {},
   "source": [
    "# Test"
   ]
  },
  {
   "cell_type": "code",
   "execution_count": null,
   "id": "f277292b",
   "metadata": {},
   "outputs": [
    {
     "name": "stdout",
     "output_type": "stream",
     "text": [
      "['_Test__test', '__add__', '__class__', '__delattr__', '__dict__', '__dir__', '__doc__', '__eq__', '__firstlineno__', '__format__', '__ge__', '__getattribute__', '__getstate__', '__gt__', '__hash__', '__init__', '__init_subclass__', '__le__', '__lt__', '__module__', '__ne__', '__new__', '__reduce__', '__reduce_ex__', '__repr__', '__setattr__', '__sizeof__', '__static_attributes__', '__str__', '__subclasshook__', '__weakref__', 'name']\n",
      "caught attribute error\n",
      "hello\n"
     ]
    }
   ],
   "source": [
    "# Test\n",
    "class Test():\n",
    "    def __init__(self, name = \"bob\") -> None:\n",
    "        self.__test = 'hello'\n",
    "        self.name = name\n",
    "\n",
    "    def __add__(self, other):\n",
    "        return f\"Did the add thing from {self.name} to {other.name}\"\n",
    "\n",
    "\n",
    "test = Test()\n",
    "print(dir(test)) # pay special attention to the dir listing here.  What do you see in the first element??\n",
    "try:\n",
    "    print(test.__test) # this doesn't work because it's 'hidden'\n",
    "except AttributeError:\n",
    "    print('caught attribute error')\n",
    "print(test._Test__test) # this works due to \"name mangling\""
   ]
  },
  {
   "cell_type": "markdown",
   "id": "c624461e",
   "metadata": {},
   "source": [
    "# Adding / overwriting"
   ]
  },
  {
   "cell_type": "code",
   "execution_count": null,
   "id": "a1a439da",
   "metadata": {},
   "outputs": [
    {
     "name": "stdout",
     "output_type": "stream",
     "text": [
      "Did the add thing from alice to bob\n",
      "Did the add thing from alice to bob\n",
      "Cannot add from Test2 to Test because it's not defined\n"
     ]
    },
    {
     "ename": "AttributeError",
     "evalue": "'Test3' object has no attribute 'name'",
     "output_type": "error",
     "traceback": [
      "\u001b[31m---------------------------------------------------------------------------\u001b[39m",
      "\u001b[31mAttributeError\u001b[39m                            Traceback (most recent call last)",
      "\u001b[36mCell\u001b[39m\u001b[36m \u001b[39m\u001b[32mIn[7]\u001b[39m\u001b[32m, line 29\u001b[39m\n\u001b[32m     26\u001b[39m \u001b[38;5;28;01mexcept\u001b[39;00m \u001b[38;5;167;01mTypeError\u001b[39;00m:\n\u001b[32m     27\u001b[39m     \u001b[38;5;28mprint\u001b[39m(\u001b[33m\"\u001b[39m\u001b[33mCannot add from Test2 to Test because it\u001b[39m\u001b[33m'\u001b[39m\u001b[33ms not defined\u001b[39m\u001b[33m\"\u001b[39m)\n\u001b[32m---> \u001b[39m\u001b[32m29\u001b[39m \u001b[43malice\u001b[49m\u001b[43m \u001b[49m\u001b[43m+\u001b[49m\u001b[43m \u001b[49m\u001b[43mcharlie\u001b[49m\n",
      "\u001b[36mCell\u001b[39m\u001b[36m \u001b[39m\u001b[32mIn[7]\u001b[39m\u001b[32m, line 7\u001b[39m, in \u001b[36mTest.__add__\u001b[39m\u001b[34m(self, other)\u001b[39m\n\u001b[32m      6\u001b[39m \u001b[38;5;28;01mdef\u001b[39;00m\u001b[38;5;250m \u001b[39m\u001b[34m__add__\u001b[39m(\u001b[38;5;28mself\u001b[39m, other):\n\u001b[32m----> \u001b[39m\u001b[32m7\u001b[39m     \u001b[38;5;28mprint\u001b[39m(\u001b[33mf\u001b[39m\u001b[33m\"\u001b[39m\u001b[33mDid the add thing from \u001b[39m\u001b[38;5;132;01m{\u001b[39;00m\u001b[38;5;28mself\u001b[39m.name\u001b[38;5;132;01m}\u001b[39;00m\u001b[33m to \u001b[39m\u001b[38;5;132;01m{\u001b[39;00m\u001b[43mother\u001b[49m\u001b[43m.\u001b[49m\u001b[43mname\u001b[49m\u001b[38;5;132;01m}\u001b[39;00m\u001b[33m\"\u001b[39m)\n",
      "\u001b[31mAttributeError\u001b[39m: 'Test3' object has no attribute 'name'"
     ]
    }
   ],
   "source": [
    "# Test\n",
    "class Test():\n",
    "    def __init__(self, name) -> None:\n",
    "        self.name = name\n",
    "\n",
    "    def __add__(self, other):\n",
    "        print(f\"Did the add thing from {self.name} to {other.name}\")\n",
    "    \n",
    "class Test2():\n",
    "    def __init__(self, name) -> None:\n",
    "        self.name = name\n",
    "\n",
    "class Test3():\n",
    "    def __init__(self) -> None:\n",
    "        pass # no name attribute here\n",
    "\n",
    "alice = Test(\"alice\")\n",
    "bob = Test2(\"bob\")\n",
    "charlie = Test3()\n",
    "\n",
    "alice + bob\n",
    "alice.__add__(bob) # these two are equivalent\n",
    "\n",
    "try:\n",
    "    print(bob + alice)\n",
    "except TypeError:\n",
    "    print(\"Cannot add from Test2 to Test because __add__ is not defined on bob\")\n",
    "\n",
    "try:\n",
    "    alice + charlie\n",
    "except AttributeError:\n",
    "    print(\"This is a different error because charlie doesn't have a .name attribute\")\n"
   ]
  }
 ],
 "metadata": {
  "kernelspec": {
   "display_name": ".venv",
   "language": "python",
   "name": "python3"
  },
  "language_info": {
   "codemirror_mode": {
    "name": "ipython",
    "version": 3
   },
   "file_extension": ".py",
   "mimetype": "text/x-python",
   "name": "python",
   "nbconvert_exporter": "python",
   "pygments_lexer": "ipython3",
   "version": "3.13.5"
  }
 },
 "nbformat": 4,
 "nbformat_minor": 5
}
