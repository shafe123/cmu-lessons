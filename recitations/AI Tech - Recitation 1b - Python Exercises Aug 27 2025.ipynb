{
 "cells": [
  {
   "cell_type": "markdown",
   "metadata": {
    "id": "8ifs2Dn1yFG_"
   },
   "source": [
    "# Programming exercises and Functions"
   ]
  },
  {
   "cell_type": "code",
   "execution_count": null,
   "metadata": {
    "id": "W0YytlsUL-oA"
   },
   "outputs": [],
   "source": []
  },
  {
   "cell_type": "markdown",
   "metadata": {
    "id": "SIo5UwMrtrZ1"
   },
   "source": [
    "#  Problems"
   ]
  },
  {
   "cell_type": "markdown",
   "metadata": {
    "id": "sPivw1nSQV-z"
   },
   "source": [
    "### PROBLEM 1\n",
    "\n",
    "Find the sum of first and last digits of a 4 digit integer.  \n",
    "(e.g. 4215 ⇒ 9 and 5323 ⇒ 8)"
   ]
  },
  {
   "cell_type": "code",
   "execution_count": null,
   "metadata": {
    "id": "EGgAQ4f5QfHO"
   },
   "outputs": [
    {
     "name": "stdout",
     "output_type": "stream",
     "text": [
      "9\n",
      "8\n"
     ]
    }
   ],
   "source": [
    "x = 4215\n",
    "y = 5323\n",
    "\n",
    "def first_last_sum(n):\n",
    "\n",
    "    # count number of digits\n",
    "    num_length = 0\n",
    "    x = n\n",
    "    while x > 0:\n",
    "        x //= 10\n",
    "        num_length += 1\n",
    "    \n",
    "    last_digit = n % 10\n",
    "    first_digit = n // 10 ** (num_length - 1)\n",
    "    return first_digit + last_digit\n",
    "\n",
    "print(first_last_sum(x))\n",
    "print(first_last_sum(y))"
   ]
  },
  {
   "cell_type": "markdown",
   "metadata": {
    "id": "DjLoon2JQfuP"
   },
   "source": [
    "### PROBLEM 2\n",
    "\n",
    "Convert the number of days stored in a variable into months and days as seen below. (assume 1 month is 30 days)\n",
    "\n",
    "`657 days is 21 months and 27 days`"
   ]
  },
  {
   "cell_type": "code",
   "execution_count": 8,
   "metadata": {
    "id": "U8QmAad8Qnlg"
   },
   "outputs": [
    {
     "name": "stdout",
     "output_type": "stream",
     "text": [
      "657 is 21 months and 27 day(s)\n"
     ]
    }
   ],
   "source": [
    "def days_to_months(days):\n",
    "    months = days // 30\n",
    "    days = days % 30\n",
    "    return months, days\n",
    "\n",
    "num_days = 657\n",
    "months, days  = days_to_months(num_days)\n",
    "print(f'{num_days} is {months} months and {days} day(s)')"
   ]
  },
  {
   "cell_type": "markdown",
   "metadata": {
    "id": "wIddVO0CQrRd"
   },
   "source": [
    "### PROBLEM 3\n",
    "\n",
    "1. Write a function that draws a line \"------------------\"\n",
    "\n",
    "2. Write a function that draws a line of \"-\" for the given length.\n",
    "    * \"---\" for 3  \n",
    "    * \"----------\" for 10\n",
    "\n",
    "3. Write a function that draws a line of given character for the given length  \n",
    "    * \"---\" for the given values of 3 and \"-\"\n",
    "    * \"*****\" for the given values of 5 and \"*\"\n",
    "\n",
    "4. Write a function to display a given string between two lines. Use len() function.\n",
    "\n",
    "    `function_name(\"My program\")` should display:\n",
    "\n",
    "    ```\n",
    "    --------------\n",
    "      My program  \n",
    "    --------------\n",
    "    ```\n",
    "\n"
   ]
  },
  {
   "cell_type": "code",
   "execution_count": 11,
   "metadata": {
    "id": "waXDRXEsSvHD"
   },
   "outputs": [
    {
     "name": "stdout",
     "output_type": "stream",
     "text": [
      "--------------\n",
      "  My program\n",
      "--------------\n"
     ]
    }
   ],
   "source": [
    "def draw_line(character, repetitions):\n",
    "    return character * repetitions\n",
    "\n",
    "def show_header(header):\n",
    "    print(draw_line('-', len(header) + 4))\n",
    "    print(' ' * 2 + header)\n",
    "    print(draw_line('-', len(header) + 4))\n",
    "    \n",
    "show_header('My program')"
   ]
  },
  {
   "cell_type": "markdown",
   "metadata": {
    "id": "pAXfTWj6Rrtb"
   },
   "source": [
    "### PROBLEM 4\n",
    "\n",
    "1. Write a function that takes an integer and returns the remainder of its division by 2\n",
    "2. Write a function that returns True for remainder 1 and False for remainder 0\n",
    "3. Write a function that returns False for remainder 1 and True for remainder 0"
   ]
  },
  {
   "cell_type": "code",
   "execution_count": null,
   "metadata": {
    "id": "8nRHvZ7HQd6I"
   },
   "outputs": [],
   "source": [
    "def remainder_two(num):\n",
    "    return num % 2\n",
    "\n",
    "def is_odd(num):\n",
    "    return num % 2\n",
    "\n",
    "def is_even(num):\n",
    "    return not is_odd(num)"
   ]
  },
  {
   "cell_type": "markdown",
   "metadata": {
    "id": "BEWM2gdUQuPb"
   },
   "source": [
    "### PROBLEM 5\n",
    "\n",
    "1. Write a function that returns the last digit of a given integer.\n",
    "2. Write a function that returns the sum of last two digits of a given integer.\n",
    "3. Write a function that returns the number of digits of a given integer value."
   ]
  },
  {
   "cell_type": "code",
   "execution_count": null,
   "metadata": {
    "id": "Dzf7vmsCbDGV"
   },
   "outputs": [
    {
     "name": "stdout",
     "output_type": "stream",
     "text": [
      "5\n"
     ]
    }
   ],
   "source": [
    "def last_digit(num):\n",
    "    return num % 10\n",
    "\n",
    "def last_two_digits(num):\n",
    "    return num % 100\n",
    "\n",
    "def sum_last_two_digits(num):\n",
    "    if 0 <= num <= 9:\n",
    "        return num\n",
    "    if num >=10:\n",
    "        last_two = last_two_digits(num)\n",
    "        first_digit = last_two // 10\n",
    "        last_digit = last_two % 10\n",
    "        return first_digit + last_digit\n",
    "\n",
    "def num_digits(num):\n",
    "    count = 0\n",
    "    while num > 0:\n",
    "        num //= 10\n",
    "        count += 1\n",
    "    return count\n",
    "\n",
    "print(num_digits(12345))"
   ]
  },
  {
   "cell_type": "markdown",
   "metadata": {
    "id": "O-LgIylWRraa"
   },
   "source": [
    "### PROBLEM 6\n",
    "\n",
    "Write a function named **nth_digit** that gets two integer values as parameters\n",
    "1. the number\n",
    "2. the place of the digit\n",
    "\n",
    "and returns the Nth digit of the number (from the left).\n",
    "\n",
    "For example:\n",
    "* `function_name(54321, 2)` returns 4\n",
    "* `function_name(54321, 4)` returns 2\n",
    "\n",
    "Think about using the digit_count function below, arithmetic expressions and use of necessary variables. Do not use string conversion and getting the nth character of the string."
   ]
  },
  {
   "cell_type": "code",
   "execution_count": null,
   "metadata": {
    "id": "iziPp9QscdUt"
   },
   "outputs": [
    {
     "name": "stdout",
     "output_type": "stream",
     "text": [
      "5\n",
      "2\n",
      "9\n",
      "Good Work\n"
     ]
    }
   ],
   "source": [
    "# function that returns the number of digits of a given integer value.\n",
    "# TODO: Check the digit_count function for 123 and -1234 values. Fix the issue.\n",
    "def digit_count(number):\n",
    "    if number < 0:\n",
    "        number *= -1\n",
    "    return len(str(number))\n",
    "\n",
    "\n",
    "# function that returns the Nth digit of a given number\n",
    "# Write your function here\n",
    "def nth_digit(num, index_from_left):\n",
    "    index_from_right = digit_count(num) - index_from_left + 1\n",
    "    num //= 10 ** (index_from_right - 1)\n",
    "    return num % 10\n",
    "\n",
    "\n",
    "# Test your function\n",
    "print(nth_digit(54321, 1))\n",
    "print(nth_digit(54321, 4))\n",
    "print(nth_digit(7986, 2))\n",
    "\n",
    "\n",
    "# Assert Statements ...\n",
    "assert nth_digit(54321, 1) == 5\n",
    "assert nth_digit(54321, 4) == 2\n",
    "assert nth_digit(7986, 2) == 9\n",
    "\n",
    "\n",
    "print(\"Good Work\")"
   ]
  },
  {
   "cell_type": "code",
   "execution_count": null,
   "metadata": {
    "id": "91heUj2ycETw"
   },
   "outputs": [],
   "source": []
  },
  {
   "cell_type": "code",
   "execution_count": null,
   "metadata": {
    "id": "nTveLVbzRzM_"
   },
   "outputs": [],
   "source": []
  },
  {
   "cell_type": "markdown",
   "metadata": {
    "id": "ntf7VTjZRrME"
   },
   "source": [
    "### PROBLEM 7\n",
    "..."
   ]
  },
  {
   "cell_type": "code",
   "execution_count": null,
   "metadata": {
    "id": "EyKYozWCR3pm"
   },
   "outputs": [],
   "source": []
  },
  {
   "cell_type": "markdown",
   "metadata": {
    "id": "FESYNbZkRqPP"
   },
   "source": [
    "### PROBLEM 8\n",
    "..."
   ]
  },
  {
   "cell_type": "code",
   "execution_count": null,
   "metadata": {
    "id": "fbVGf3s0R_u2"
   },
   "outputs": [],
   "source": []
  },
  {
   "cell_type": "markdown",
   "metadata": {
    "id": "69IZMsF3SAuC"
   },
   "source": [
    "A"
   ]
  },
  {
   "cell_type": "markdown",
   "metadata": {
    "id": "XpThdpsguTP0"
   },
   "source": [
    "## Python tutor sample :  variable scope\n",
    "\n",
    "go to pythontutor.com and copy the code below to visualize\n",
    "\n",
    "\n"
   ]
  },
  {
   "cell_type": "markdown",
   "metadata": {
    "id": "1gywtjIj3Tx6"
   },
   "source": [
    "### sample from conceptual content. You can try with pythontutor.com"
   ]
  },
  {
   "cell_type": "code",
   "execution_count": null,
   "metadata": {
    "id": "39A5h5DPuVt3"
   },
   "outputs": [],
   "source": [
    "def square_area(side):\n",
    "  print(\"... inside square_area\")\n",
    "  area = side * side\n",
    "  print(\"... Area:\", area)\n",
    "  return area\n",
    "\n",
    "def triangle_area(base, height):\n",
    "  print(\"--- inside triangle area\")\n",
    "  area = base * height / 2\n",
    "  print(\"--- x:\", x, \"area:\", area)\n",
    "  return area\n",
    "\n",
    "x = 1\n",
    "area = 50\n",
    "print(\"AREA:\", area)\n",
    "\n",
    "total_area = square_area(10) + triangle_area(5, 10)\n",
    "print(\"after function calls\")\n",
    "print(\"total area:\", total_area)\n",
    "print(\"AREA is\", area)"
   ]
  },
  {
   "cell_type": "markdown",
   "metadata": {
    "id": "K30Jt9Fo3kYY"
   },
   "source": [
    "### another sample to play with python tutor"
   ]
  },
  {
   "cell_type": "code",
   "execution_count": null,
   "metadata": {
    "id": "0d2Rp1R1-1H3"
   },
   "outputs": [],
   "source": [
    "def f(x):\n",
    "  x = x * 10\n",
    "  print(\"--- will return new value of x:\", x)\n",
    "  return x\n",
    "\n",
    "x = 5\n",
    "print(\"x before calling f(x):\", x)\n",
    "a = f(x)\n",
    "print(\"x after calling f(x):\", x)\n",
    "print(\"value of a:\", a)\n",
    "\n",
    "\n",
    "\n",
    "\n"
   ]
  },
  {
   "cell_type": "code",
   "execution_count": null,
   "metadata": {
    "id": "QzK2HoUmDXKj"
   },
   "outputs": [],
   "source": [
    "def f(x):\n",
    "  # print(\"--- inside f(x) ---\")\n",
    "  print(x)\n",
    "  print(x * 10)\n",
    "  # print(\"--- end of f(x) ---\")\n",
    "\n",
    "x = 5\n",
    "print(\"x before calling f(x):\", x)\n",
    "a = f(x)\n",
    "print(\"x after calling f(x):\", x)\n",
    "print(\"value of a:\", a)\n"
   ]
  }
 ],
 "metadata": {
  "colab": {
   "authorship_tag": "ABX9TyNgrmilkXocb+8Yb0iNrK76",
   "provenance": [
    {
     "file_id": "1RmXee-Pte4iozOAKx_dgbIpM-LUkC71d",
     "timestamp": 1756090747317
    }
   ]
  },
  "kernelspec": {
   "display_name": ".venv",
   "language": "python",
   "name": "python3"
  },
  "language_info": {
   "codemirror_mode": {
    "name": "ipython",
    "version": 3
   },
   "file_extension": ".py",
   "mimetype": "text/x-python",
   "name": "python",
   "nbconvert_exporter": "python",
   "pygments_lexer": "ipython3",
   "version": "3.13.5"
  }
 },
 "nbformat": 4,
 "nbformat_minor": 0
}
