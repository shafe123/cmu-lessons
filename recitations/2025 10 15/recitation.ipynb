{
 "cells": [
  {
   "cell_type": "markdown",
   "id": "8a140e1a",
   "metadata": {},
   "source": [
    "# CSVs\n",
    "\n",
    "## Reading CSVs\n",
    "\n",
    "Sample 1:\n",
    "```csv\n",
    "Id,First Name,Middle Name,Surname,Age,City\n",
    "123,Mary,Stephanie,Robertson,19,New York\n",
    "231,John,,\"Merrill Jr.\",18,Pittsburgh\n",
    "354,Margaret,,Elwes,27,London\n",
    "```"
   ]
  },
  {
   "cell_type": "code",
   "execution_count": null,
   "id": "854d7da7",
   "metadata": {},
   "outputs": [
    {
     "name": "stdout",
     "output_type": "stream",
     "text": [
      "<_csv.reader object at 0x0000014DCCE7E500>\n",
      "headers: ['Id', 'First Name', 'Middle Name', 'Surname', 'Age', 'City']\n",
      "['123', 'Mary', 'Stephanie', 'Robertson', '19', 'New York']\n",
      "['231', 'John', '', 'Merrill Jr.', '18', 'Pittsburgh']\n",
      "['354', 'Margaret', '', 'Elwes', '27', 'London']\n",
      "<_csv.reader object at 0x0000014DCCE7E500>\n",
      "File must be remain open for csv reader\n"
     ]
    }
   ],
   "source": [
    "import csv\n",
    "with open('sample1.csv', newline='', encoding='utf-8') as in_file:\n",
    "    dict_reader = csv.reader(in_file)\n",
    "    print(dict_reader)\n",
    "\n",
    "    headers = next(dict_reader)\n",
    "    print(f\"headers: {headers}\")\n",
    "    for row in dict_reader:\n",
    "        print(row)\n",
    "\n",
    "print(dict_reader)\n",
    "try:\n",
    "    for row in dict_reader:\n",
    "        print(row)\n",
    "except ValueError:\n",
    "    print(\"File must be remain open for csv reader\")"
   ]
  },
  {
   "cell_type": "code",
   "execution_count": null,
   "id": "2c1ffad3",
   "metadata": {},
   "outputs": [
    {
     "name": "stdout",
     "output_type": "stream",
     "text": [
      "<csv.DictReader object at 0x0000014DCC813750>\n",
      "headers: ['Id', 'First Name', 'Middle Name', 'Surname', 'Age', 'City']\n",
      "{'Id': '123', 'First Name': 'Mary', 'Middle Name': 'Stephanie', 'Surname': 'Robertson', 'Age': '19', 'City': 'New York'}\n",
      "{'Id': '231', 'First Name': 'John', 'Middle Name': '', 'Surname': 'Merrill Jr.', 'Age': '18', 'City': 'Pittsburgh'}\n",
      "{'Id': '354', 'First Name': 'Margaret', 'Middle Name': '', 'Surname': 'Elwes', 'Age': '27', 'City': 'London'}\n"
     ]
    }
   ],
   "source": [
    "import csv\n",
    "with open('sample1.csv', newline='', encoding='utf-8') as in_file:\n",
    "    dict_reader = csv.DictReader(in_file)\n",
    "    print(dict_reader)\n",
    "    \n",
    "    headers = dict_reader.fieldnames\n",
    "    print(f\"headers: {headers}\")\n",
    "    for row in dict_reader:\n",
    "        print(row)"
   ]
  },
  {
   "cell_type": "code",
   "execution_count": 16,
   "id": "64ba3340",
   "metadata": {},
   "outputs": [
    {
     "name": "stdout",
     "output_type": "stream",
     "text": [
      "\n",
      "         Id              First Name         Middle Name           Surname               Age                 City        \n",
      "                 123                Mary           Stephanie           Robertson                  19            New York\n",
      "                 231                John                             Merrill Jr.                  18          Pittsburgh\n",
      "                 354            Margaret                                   Elwes                  27              London\n"
     ]
    }
   ],
   "source": [
    "def display_csv(target_file, sep_ch=',', quote_char='\"'):\n",
    "    print()\n",
    "    with open(target_file, 'r', newline='', encoding='utf-8') as in_file:\n",
    "        reader = csv.reader(in_file, delimiter=sep_ch, quotechar=quote_char)\n",
    "        for header in next(reader):\n",
    "            print(f\"{header:^20}\", end='')\n",
    "        print()\n",
    "        \n",
    "        for row in reader:\n",
    "            for val in row:\n",
    "                print(f\"{val:>20}\", end='')\n",
    "            print()\n",
    "\n",
    "display_csv('sample1.csv')"
   ]
  },
  {
   "cell_type": "markdown",
   "id": "29e45b42",
   "metadata": {},
   "source": [
    "## Writing CSVs"
   ]
  },
  {
   "cell_type": "code",
   "execution_count": 20,
   "id": "c950ba95",
   "metadata": {},
   "outputs": [],
   "source": [
    "data = [\n",
    "    ['col1', 'col2', 'col'],\n",
    "    ['a', 1, \"my\\nname\"],\n",
    "    ['b', 2, \"my, name\"],\n",
    "    ['c', 3.4, \"\\\"my_name\\\"\"]\n",
    "]\n",
    "\n",
    "with open('write_csv.csv', 'w', newline='') as out_file:\n",
    "    csv_writer = csv.writer(out_file)\n",
    "    csv_writer.writerows(data)\n",
    "\n",
    "with open('write_csv2.csv', 'w', newline='') as out_file:\n",
    "    csv_writer = csv.writer(out_file)\n",
    "    for row in data:\n",
    "        csv_writer.writerow(row)"
   ]
  },
  {
   "cell_type": "markdown",
   "id": "5c661021",
   "metadata": {},
   "source": [
    "Output:\n",
    "```csv\n",
    "col1,col2,col\n",
    "a,1,\"my\n",
    "name\"\n",
    "b,2,\"my, name\"\n",
    "c,3.4,\"\"\"my_name\"\"\"\n",
    "\n",
    "```"
   ]
  },
  {
   "cell_type": "markdown",
   "id": "89b77db9",
   "metadata": {},
   "source": [
    "# JSON\n",
    "\n",
    "## Reading JSON"
   ]
  },
  {
   "cell_type": "code",
   "execution_count": 22,
   "id": "273e1274",
   "metadata": {},
   "outputs": [
    {
     "name": "stdout",
     "output_type": "stream",
     "text": [
      "{'sites': [{'name': 'Charlie Chaplin', 'official': True, 'url': 'https://www.charliechaplin.com/', 'socialmedia': [{'site': 'twitter', 'url': 'https://twitter.com/ChaplinOfficial'}, {'site': 'facebook', 'url': 'https://www.facebook.com/CharlieChaplinOfficial'}, {'site': 'youtube', 'url': 'https://www.youtube.com/channel/UCe7sQfrqTHc-hWXdenf7VxQ'}, {'site': 'instagram', 'url': 'https://www.instagram.com/charliechaplinofficial'}, {'site': 'spotify', 'url': None}]}, {'name': 'Frank Sinatra', 'official': True, 'url': 'http://www.sinatra.com', 'socialmedia': [{'site': 'twitter', 'url': 'https://twitter.com/franksinatra'}, {'site': 'facebook', 'url': 'https://www.facebook.com/sinatra'}, {'site': 'youtube', 'url': 'https://www.youtube.com/user/FrankSinatra'}, {'site': 'instagram', 'url': 'https://instagram.com/sinatra'}, {'site': 'spotify', 'url': 'https://open.spotify.com/artist/1Mxqyy3pSjf8kZZL4QVxS0'}]}]}\n",
      "{\n",
      "    \"sites\": [\n",
      "        {\n",
      "            \"name\": \"Charlie Chaplin\",\n",
      "            \"official\": true,\n",
      "            \"url\": \"https://www.charliechaplin.com/\",\n",
      "            \"socialmedia\": [\n",
      "                {\n",
      "                    \"site\": \"twitter\",\n",
      "                    \"url\": \"https://twitter.com/ChaplinOfficial\"\n",
      "                },\n",
      "                {\n",
      "                    \"site\": \"facebook\",\n",
      "                    \"url\": \"https://www.facebook.com/CharlieChaplinOfficial\"\n",
      "                },\n",
      "                {\n",
      "                    \"site\": \"youtube\",\n",
      "                    \"url\": \"https://www.youtube.com/channel/UCe7sQfrqTHc-hWXdenf7VxQ\"\n",
      "                },\n",
      "                {\n",
      "                    \"site\": \"instagram\",\n",
      "                    \"url\": \"https://www.instagram.com/charliechaplinofficial\"\n",
      "                },\n",
      "                {\n",
      "                    \"site\": \"spotify\",\n",
      "                    \"url\": null\n",
      "                }\n",
      "            ]\n",
      "        },\n",
      "        {\n",
      "            \"name\": \"Frank Sinatra\",\n",
      "            \"official\": true,\n",
      "            \"url\": \"http://www.sinatra.com\",\n",
      "            \"socialmedia\": [\n",
      "                {\n",
      "                    \"site\": \"twitter\",\n",
      "                    \"url\": \"https://twitter.com/franksinatra\"\n",
      "                },\n",
      "                {\n",
      "                    \"site\": \"facebook\",\n",
      "                    \"url\": \"https://www.facebook.com/sinatra\"\n",
      "                },\n",
      "                {\n",
      "                    \"site\": \"youtube\",\n",
      "                    \"url\": \"https://www.youtube.com/user/FrankSinatra\"\n",
      "                },\n",
      "                {\n",
      "                    \"site\": \"instagram\",\n",
      "                    \"url\": \"https://instagram.com/sinatra\"\n",
      "                },\n",
      "                {\n",
      "                    \"site\": \"spotify\",\n",
      "                    \"url\": \"https://open.spotify.com/artist/1Mxqyy3pSjf8kZZL4QVxS0\"\n",
      "                }\n",
      "            ]\n",
      "        }\n",
      "    ]\n",
      "}\n"
     ]
    }
   ],
   "source": [
    "import json\n",
    "with open('sites.json', 'r') as in_file:\n",
    "    data = json.load(in_file)\n",
    "\n",
    "print(data)\n",
    "# make it look nice\n",
    "print(json.dumps(data, indent=4))"
   ]
  },
  {
   "cell_type": "code",
   "execution_count": 24,
   "id": "212da2ae",
   "metadata": {},
   "outputs": [
    {
     "name": "stdout",
     "output_type": "stream",
     "text": [
      "<class 'str'>\n",
      "{'name': 'John Smith', 'birthyear': 1998, 'active': True, 'webpage': None}\n",
      "<class 'dict'>\n"
     ]
    }
   ],
   "source": [
    "sample_data = (\n",
    "    \"{\"\n",
    "    '\"name\": \"John Smith\",'\n",
    "    '\"birthyear\": 1998,'\n",
    "    '\"active\": true,'\n",
    "    '\"webpage\": null'\n",
    "    \"}\"\n",
    ")\n",
    "print(type(sample_data))\n",
    "new_data = json.loads(sample_data)\n",
    "print(new_data)\n",
    "print(type(new_data))"
   ]
  }
 ],
 "metadata": {
  "kernelspec": {
   "display_name": ".venv",
   "language": "python",
   "name": "python3"
  },
  "language_info": {
   "codemirror_mode": {
    "name": "ipython",
    "version": 3
   },
   "file_extension": ".py",
   "mimetype": "text/x-python",
   "name": "python",
   "nbconvert_exporter": "python",
   "pygments_lexer": "ipython3",
   "version": "3.13.5"
  }
 },
 "nbformat": 4,
 "nbformat_minor": 5
}
