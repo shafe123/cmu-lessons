{
 "cells": [
  {
   "cell_type": "markdown",
   "id": "8985abeb",
   "metadata": {},
   "source": [
    "# Create the base class"
   ]
  },
  {
   "cell_type": "code",
   "execution_count": null,
   "id": "d80eb47e",
   "metadata": {},
   "outputs": [],
   "source": [
    "# Base Class (basic blueprint)\n",
    "class Vehicle:\n",
    "    def __init__(self, name, speed):\n",
    "        self.name = name\n",
    "        self.speed = speed  # in mph\n",
    "\n",
    "    def move(self):\n",
    "        print(f\"{self.name} moves at {self.speed} mph.\")"
   ]
  },
  {
   "cell_type": "markdown",
   "id": "012eb808",
   "metadata": {},
   "source": [
    "# Task 1\n",
    "Inherit the base class to create 2 different vehicle classes"
   ]
  },
  {
   "cell_type": "code",
   "execution_count": null,
   "id": "919b1cc4",
   "metadata": {},
   "outputs": [],
   "source": []
  },
  {
   "cell_type": "code",
   "execution_count": null,
   "id": "1d5e7077",
   "metadata": {},
   "outputs": [],
   "source": []
  },
  {
   "cell_type": "markdown",
   "id": "6c8d84c2",
   "metadata": {},
   "source": [
    "# Task 2\n",
    "Create classes of features you want inside of a car"
   ]
  },
  {
   "cell_type": "code",
   "execution_count": null,
   "id": "ce4875ba",
   "metadata": {},
   "outputs": [],
   "source": []
  },
  {
   "cell_type": "markdown",
   "id": "f120132e",
   "metadata": {},
   "source": [
    "# Task 3\n",
    "Compose the features into a Vehicle."
   ]
  },
  {
   "cell_type": "code",
   "execution_count": null,
   "id": "d3be0254",
   "metadata": {},
   "outputs": [],
   "source": []
  },
  {
   "cell_type": "code",
   "execution_count": null,
   "id": "d65853e5",
   "metadata": {},
   "outputs": [],
   "source": [
    "# Use the stuff we created\n",
    "tank = Tank(\"M1 Abrams\", 45, \"120mm armor\")\n",
    "humvee = Humvee(\"Humvee\", 60, 4)\n",
    "armored_car = ArmoredCar(\"LAV-25\", 55, Weapon(\"25mm autocannon\"), Radio(50))\n",
    "\n",
    "tank.move()\n",
    "tank.fire()\n",
    "\n",
    "humvee.move()\n",
    "humvee.transport_troops()\n",
    "\n",
    "armored_car.move()\n",
    "armored_car.attack()\n",
    "armored_car.call_support()"
   ]
  }
 ],
 "metadata": {
  "kernelspec": {
   "display_name": ".venv",
   "language": "python",
   "name": "python3"
  },
  "language_info": {
   "name": "python",
   "version": "3.13.5"
  }
 },
 "nbformat": 4,
 "nbformat_minor": 5
}
