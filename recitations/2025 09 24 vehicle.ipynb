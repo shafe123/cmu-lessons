{
 "cells": [
  {
   "cell_type": "markdown",
   "id": "8985abeb",
   "metadata": {},
   "source": [
    "# Create the base class"
   ]
  },
  {
   "cell_type": "code",
   "execution_count": 2,
   "id": "d80eb47e",
   "metadata": {},
   "outputs": [],
   "source": [
    "# Base Class (basic blueprint)\n",
    "class Vehicle:\n",
    "    def __init__(self, name, speed):\n",
    "        self.name = name\n",
    "        self.speed = speed  # in mph\n",
    "\n",
    "    def move(self):\n",
    "        print(f\"{self.name} moves at {self.speed} mph.\")"
   ]
  },
  {
   "cell_type": "markdown",
   "id": "012eb808",
   "metadata": {},
   "source": [
    "# Task 1\n",
    "Inherit the base class to create 2 different vehicle classes"
   ]
  },
  {
   "cell_type": "code",
   "execution_count": 3,
   "id": "919b1cc4",
   "metadata": {},
   "outputs": [],
   "source": [
    "class Tank(Vehicle):\n",
    "    def __init__(self, name, speed, armor_val, weapon_system):\n",
    "        super().__init__(name, speed)\n",
    "        self.armor = armor_val\n",
    "        self.weapons = [weapon_system]\n",
    "\n",
    "    def fire(self, weapon):\n",
    "        if weapon in self.weapons:\n",
    "            weapon.fire()\n",
    "\n",
    "    def alpha_strike(self):\n",
    "        for weapon in self.weapons:\n",
    "            weapon.fire()\n"
   ]
  },
  {
   "cell_type": "code",
   "execution_count": 4,
   "id": "1d5e7077",
   "metadata": {},
   "outputs": [],
   "source": [
    "class Humvee(Vehicle):\n",
    "    def __init__(self, model):\n",
    "        super().__init__(\"Humvee\", 60)\n",
    "        self.model = model\n",
    "        if model == 'cargo':\n",
    "            self.cargo_cap = 100\n",
    "            self.pax = 2\n",
    "        elif model == 'soft':\n",
    "            self.cargo_cap = 10\n",
    "            self.pax = 4\n"
   ]
  },
  {
   "cell_type": "markdown",
   "id": "6c8d84c2",
   "metadata": {},
   "source": [
    "# Task 2\n",
    "Create classes of features you want inside of a car"
   ]
  },
  {
   "cell_type": "code",
   "execution_count": 9,
   "id": "ce4875ba",
   "metadata": {},
   "outputs": [],
   "source": [
    "class Weapon():\n",
    "    def __init__(self, name, caliber, ammo_count) -> None:\n",
    "        self.name = name\n",
    "        self.caliber = caliber\n",
    "        self.ammo = ammo_count\n",
    "\n",
    "    def fire(self):\n",
    "        if self.ammo:\n",
    "            self.ammo -= 1\n",
    "            print(f\"{self.name} fires one of its {self.caliber} rounds: {self.ammo} remaining\")\n",
    "        else:\n",
    "            print(f\"{self.name} is all out!\")"
   ]
  },
  {
   "cell_type": "markdown",
   "id": "f120132e",
   "metadata": {},
   "source": [
    "# Task 3\n",
    "Compose the features into a Vehicle."
   ]
  },
  {
   "cell_type": "code",
   "execution_count": 10,
   "id": "d65853e5",
   "metadata": {},
   "outputs": [
    {
     "name": "stdout",
     "output_type": "stream",
     "text": [
      "M1 Abrams moves at 45 mph.\n",
      "25mm cannon fires one of its 25 rounds: 99 remaining\n",
      "25mm cannon fires one of its 25 rounds: 98 remaining\n",
      "Humvee moves at 60 mph.\n"
     ]
    }
   ],
   "source": [
    "# Use the stuff we created\n",
    "weapon = Weapon(\"25mm cannon\", 25, 100)\n",
    "tank = Tank(\"M1 Abrams\", 45, 100, weapon)\n",
    "humvee = Humvee('soft')\n",
    "\n",
    "tank.move()\n",
    "tank.fire(weapon)\n",
    "tank.alpha_strike()\n",
    "\n",
    "humvee.move()\n"
   ]
  }
 ],
 "metadata": {
  "kernelspec": {
   "display_name": ".venv",
   "language": "python",
   "name": "python3"
  },
  "language_info": {
   "codemirror_mode": {
    "name": "ipython",
    "version": 3
   },
   "file_extension": ".py",
   "mimetype": "text/x-python",
   "name": "python",
   "nbconvert_exporter": "python",
   "pygments_lexer": "ipython3",
   "version": "3.13.5"
  }
 },
 "nbformat": 4,
 "nbformat_minor": 5
}
