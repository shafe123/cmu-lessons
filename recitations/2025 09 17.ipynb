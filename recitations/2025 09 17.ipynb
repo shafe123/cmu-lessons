{
 "cells": [
  {
   "cell_type": "markdown",
   "id": "7cfe0770",
   "metadata": {},
   "source": [
    "# Data Structures"
   ]
  },
  {
   "cell_type": "code",
   "execution_count": 1,
   "id": "58bbaa5f",
   "metadata": {},
   "outputs": [
    {
     "name": "stdout",
     "output_type": "stream",
     "text": [
      "[20, 30, 40]\n",
      "[[2, 4, 3], 2, ['a', 'c', 'b']]\n",
      "[2, 3, 4]\n",
      "0 apple [1, 2]\n",
      "1 banana [3, 1]\n",
      "2 orange [7, 8]\n"
     ]
    }
   ],
   "source": [
    "my_list = [10, 20, 30, 40, 50]\n",
    "\n",
    "# Slice my_list and print the elements from index 1 to 3\n",
    "print(my_list[1:4])\n",
    "\n",
    "# Slice my_list and print the elements from index 2 to end\n",
    "my_list2 = [10, (1,2,1), [2,4,3], 2, ['a', 'c', 'b']]\n",
    "print(my_list2[2:])\n",
    "\n",
    "# Fetch the 2nd element of my_list2, sort it, and print it\n",
    "print(sorted(my_list2[2]))\n",
    "\n",
    "my_dict = {'apple': [1,2], 'banana': [3,1], 'orange': [7,8]}\n",
    "# Print items in my_dict using enumerate (automatically adds index)\n",
    "for index, (fruit, quantities) in enumerate(my_dict.items()):\n",
    "    print(index, fruit, quantities)"
   ]
  },
  {
   "cell_type": "markdown",
   "id": "8d0f0c79",
   "metadata": {},
   "source": [
    "# OS"
   ]
  },
  {
   "cell_type": "code",
   "execution_count": 7,
   "id": "5abfcbcc",
   "metadata": {},
   "outputs": [
    {
     "name": "stdout",
     "output_type": "stream",
     "text": [
      "c:\\Users\\Ethan Shafer\\Documents\\cmu-lessons\\recitations\n",
      "['2025 08 27 Recitation a.ipynb', '2025 08 27 Recitation b.ipynb', '2025 09 03 Recitation.ipynb', '2025 09 09 Prerecitation.ipynb', '2025 09 10 Recitation.ipynb', '2025 09 17', '2025 09 17.ipynb', 'Data']\n",
      "\n",
      "---All files---\n",
      "Data\\a.py\n",
      "Data\\b.txt\n",
      "Data\\c.txt\n",
      "Data\\d.py\n",
      "Data\\e.py\n",
      "Data\\f.txt\n",
      "\n",
      "---Only .py---\n",
      "Data\\a.py\n",
      "Data\\d.py\n",
      "Data\\e.py\n",
      "c:\\Users\\Ethan Shafer\\Documents\\cmu-lessons\\recitations\\Data\n",
      "c:\\Users\\Ethan Shafer\\Documents\\cmu-lessons\\recitations\n"
     ]
    }
   ],
   "source": [
    "import os\n",
    "from random import choice\n",
    "\n",
    "# Get the current working directory\n",
    "print(os.getcwd())\n",
    "\n",
    "# Get the list of files in the current directory\n",
    "print(os.listdir())\n",
    "\n",
    "# Check if a path \"Data\" exists, if not create a directory with name Data\n",
    "if not os.path.exists('Data'):\n",
    "    os.makedirs('Data')\n",
    "\n",
    "    # also add some random files\n",
    "    for char in 'abcdef':\n",
    "        extension = choice(['txt', 'py'])\n",
    "        with open(os.path.join('Data', f\"{char}.{extension}\"), 'w'):\n",
    "            pass\n",
    "\n",
    "# Get the list of files in the directory \"Data\" -- use join to add the Data path\n",
    "print()\n",
    "print('---All files---')\n",
    "for file in os.listdir('Data'):\n",
    "    print(os.path.join('Data', file))\n",
    "\n",
    "# Get only files ending with .py in the directory\n",
    "print()\n",
    "print('---Only .py---')\n",
    "for file in os.listdir('Data'):\n",
    "    if file.endswith('.py'):\n",
    "        print(os.path.join('Data', file))\n",
    "\n",
    "# Change your working directory to the Data directory\n",
    "os.chdir('Data')\n",
    "print(os.getcwd())\n",
    "\n",
    "# Get the parent directory of the current directory i.e go one level up from the current directory\n",
    "os.chdir('..')\n",
    "print(os.getcwd())"
   ]
  },
  {
   "cell_type": "markdown",
   "id": "27b1e596",
   "metadata": {},
   "source": [
    "# Timestamp"
   ]
  },
  {
   "cell_type": "code",
   "execution_count": 10,
   "id": "be0b4279",
   "metadata": {},
   "outputs": [
    {
     "name": "stdout",
     "output_type": "stream",
     "text": [
      "My name is: Tirth\n",
      "['My name is', ' Tirth']\n",
      "01/01/2010, 00:00:25\n",
      "1\n"
     ]
    }
   ],
   "source": [
    "line = \" My name is: Tirth\"\n",
    "\n",
    "# Remove the leading and trailing whitespaces from the string line and print it\n",
    "line = line.strip()\n",
    "print(line)\n",
    "\n",
    "# Split the string line by the character \":\" and print the resulting list\n",
    "print(line.split(':'))\n",
    "\n",
    "from datetime import datetime\n",
    "timestamp = '2010-01-01 00:00:25'\n",
    "\n",
    "# Convert the string timestamp to a datetime object\n",
    "new_time = datetime.strptime(timestamp, '%Y-%m-%d %H:%M:%S')\n",
    "print(new_time.strftime('%d/%m/%Y, %H:%M:%S'))\n",
    "\n",
    "# Get the month from the datetime object and print it\n",
    "print(new_time.month)"
   ]
  },
  {
   "cell_type": "markdown",
   "id": "d44902c9",
   "metadata": {},
   "source": [
    "# Fruits"
   ]
  },
  {
   "cell_type": "code",
   "execution_count": null,
   "id": "487b718f",
   "metadata": {},
   "outputs": [
    {
     "name": "stdout",
     "output_type": "stream",
     "text": [
      "Top 3 sellers:\n",
      "[('banana', (1.0, 200)), ('mango', (2.0, 180)), ('orange', (1.5, 150))]\n",
      "Top 3 Revenue\n",
      "[('mango', (2.0, 180)), ('kiwi', (3.0, 90)), ('apple', (2.5, 100))]\n"
     ]
    }
   ],
   "source": [
    "# You are tasked with analyzing a file containing data about fruit sales. The file includes information about\n",
    "# different types of fruits, their prices, and the number of units sold. Your task is to:\n",
    "# 1. Read and parse the file\n",
    "# 2. Create a dictionary from the data,\n",
    "# 3. Perform sorting operations to determine the top-selling fruits and the top profit-generating fruits.\n",
    "\n",
    "fruits = {}\n",
    "with open(\"../data/fruits.txt\") as in_file:\n",
    "    for line in in_file:\n",
    "        fruit, price, quantity = line.split(\", \")\n",
    "        fruits[fruit] = (float(price), int(quantity))\n",
    "    \n",
    "print(\"Top 3 sellers:\")\n",
    "print(\n",
    "    sorted(fruits.items(), # keys and values in the dictionary\n",
    "           key=lambda item: item[1][1], # item[1] is the tuple, tuple[1] is the quantity sold\n",
    "           reverse=True # sort descending\n",
    "           ) \n",
    "           [:3] # give me the top 3\n",
    "        ) \n",
    "\n",
    "print(\"Top 3 Revenue\")\n",
    "print(\n",
    "    sorted(fruits.items(), # keys and values in the dictionary\n",
    "           key=lambda item: item[1][1] * item[1][0], # revenue is cost times quantity\n",
    "           reverse=True # sort descending\n",
    "           ) \n",
    "           [:3] # give me the top 3\n",
    "        ) "
   ]
  }
 ],
 "metadata": {
  "kernelspec": {
   "display_name": ".venv",
   "language": "python",
   "name": "python3"
  },
  "language_info": {
   "codemirror_mode": {
    "name": "ipython",
    "version": 3
   },
   "file_extension": ".py",
   "mimetype": "text/x-python",
   "name": "python",
   "nbconvert_exporter": "python",
   "pygments_lexer": "ipython3",
   "version": "3.13.5"
  }
 },
 "nbformat": 4,
 "nbformat_minor": 5
}
