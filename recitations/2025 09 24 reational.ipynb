{
 "cells": [
  {
   "cell_type": "markdown",
   "id": "94412cec",
   "metadata": {},
   "source": [
    "# Task 1\n",
    "1. Create a reational class with numerator / denominator.\n",
    "1. Implement `__repr__` and `__str__`\n",
    "1. Test your code"
   ]
  },
  {
   "cell_type": "code",
   "execution_count": 1,
   "id": "7d4dc0cc",
   "metadata": {},
   "outputs": [],
   "source": [
    "class Rational():\n",
    "    def __init__(self, numerator, denominator) -> None:\n",
    "        self.numerator = numerator\n",
    "        self.denominator = denominator\n",
    "    \n",
    "    def __repr__(self) -> str:\n",
    "        return f\"Rational({self.numerator}, {self.denominator})\"\n",
    "\n",
    "    def __str__(self) -> str:\n",
    "        return f\"{self.numerator} / {self.denominator}\""
   ]
  },
  {
   "cell_type": "code",
   "execution_count": 3,
   "id": "853b757e",
   "metadata": {},
   "outputs": [
    {
     "name": "stdout",
     "output_type": "stream",
     "text": [
      "1 / 2\n"
     ]
    },
    {
     "data": {
      "text/plain": [
       "Rational(1, 2)"
      ]
     },
     "execution_count": 3,
     "metadata": {},
     "output_type": "execute_result"
    }
   ],
   "source": [
    "r1 = Rational(1, 2)\n",
    "print(r1)\n",
    "r1"
   ]
  },
  {
   "cell_type": "code",
   "execution_count": 4,
   "id": "cd803d40",
   "metadata": {},
   "outputs": [
    {
     "name": "stdout",
     "output_type": "stream",
     "text": [
      "8 / 7\n"
     ]
    },
    {
     "data": {
      "text/plain": [
       "Rational(8, 7)"
      ]
     },
     "execution_count": 4,
     "metadata": {},
     "output_type": "execute_result"
    }
   ],
   "source": [
    "r2 = Rational(8, 7)\n",
    "print(r2)\n",
    "r2"
   ]
  },
  {
   "cell_type": "code",
   "execution_count": 12,
   "id": "c2bd016c",
   "metadata": {},
   "outputs": [
    {
     "name": "stdout",
     "output_type": "stream",
     "text": [
      "[Rational(1, 2), Rational(8, 7)]\n"
     ]
    }
   ],
   "source": [
    "my_list = [r1, r2]\n",
    "print(my_list)"
   ]
  },
  {
   "cell_type": "markdown",
   "id": "ba1f245e",
   "metadata": {},
   "source": [
    "# Exploration\n",
    "How can I add two Rational numbers??"
   ]
  },
  {
   "cell_type": "code",
   "execution_count": 25,
   "id": "75c42a4e",
   "metadata": {},
   "outputs": [],
   "source": [
    "from math import lcm, gcd\n",
    "\n",
    "class Rational():\n",
    "    def __init__(self, numerator, denominator) -> None:\n",
    "        if not isinstance(numerator, int) or not isinstance(denominator, int):\n",
    "            raise TypeError('Numerator and denominator must both be ints')\n",
    "        if denominator == 0:  # this was part of task 2\n",
    "            raise ZeroDivisionError()\n",
    "        self.numerator = numerator\n",
    "        self.denominator = denominator\n",
    "    \n",
    "    def __repr__(self) -> str:\n",
    "        return f\"Rational({self.numerator}, {self.denominator})\"\n",
    "\n",
    "    def __str__(self) -> str:\n",
    "        return f\"{self.numerator} / {self.denominator}\"\n",
    "    \n",
    "    def __add__(self, other): # this is the addition operator\n",
    "        if not isinstance(other, Rational):\n",
    "            raise TypeError()\n",
    "        if self.denominator == other.denominator:\n",
    "            return Rational(self.numerator + other.numerator, self.denominator)\n",
    "        else:\n",
    "            new_denominator = lcm(self.denominator, other.denominator)\n",
    "            self_factor = int(new_denominator / self.denominator)\n",
    "            other_factor = int(new_denominator / other.denominator)\n",
    "\n",
    "            return Rational(self.numerator * self_factor + other.numerator * other_factor, new_denominator)\n",
    "    \n",
    "    def __neg__(self): # this is the unary negation (e.g. -3) operator\n",
    "        return Rational(-self.numerator, self.denominator)\n",
    "    \n",
    "    def __sub__(self, other): # this is the subtraction operator\n",
    "        return self + (-other) # this calls the __add__ method from above with the __neg__ method on the second value.\n",
    "    \n",
    "    def __mul__(self, other): # this is the multiplication operator\n",
    "        if not isinstance(other, Rational):\n",
    "            raise TypeError()\n",
    "        return Rational(self.numerator * other.numerator, self.denominator * other.denominator)\n",
    "    \n",
    "    def __truediv__(self, other): # this is division operator\n",
    "        if not isinstance(other, Rational):\n",
    "            raise TypeError()\n",
    "        return self * other.reciprocal() # keep myself, switch the other fraction, then flip the sign (multiply)\n",
    "    \n",
    "    def reduce(self): # this was part of task 2\n",
    "        divisor = gcd(self.numerator, self.denominator)\n",
    "        self.numerator //= divisor\n",
    "        self.denominator //= divisor\n",
    "\n",
    "    def reciprocal(self): # this was part of task 2\n",
    "        return Rational(self.denominator, self.numerator)\n"
   ]
  },
  {
   "cell_type": "code",
   "execution_count": 26,
   "id": "326ff844",
   "metadata": {},
   "outputs": [
    {
     "name": "stdout",
     "output_type": "stream",
     "text": [
      "1 / 2 3 / 4\n",
      "5 / 4\n",
      "-1 / 2\n",
      "-1 / 4\n",
      "3 / 8\n",
      "4 / 6\n",
      "2 / 3\n"
     ]
    }
   ],
   "source": [
    "r3 = Rational(1, 2)\n",
    "r4 = Rational(3, 4)\n",
    "print(r3, r4)\n",
    "print(r3 + r4)\n",
    "print(-r3)\n",
    "print(r3 - r4)\n",
    "print(r3 * r4)\n",
    "divided = r3 / r4\n",
    "print(divided)\n",
    "divided.reduce()\n",
    "print(divided)\n"
   ]
  }
 ],
 "metadata": {
  "kernelspec": {
   "display_name": ".venv",
   "language": "python",
   "name": "python3"
  },
  "language_info": {
   "codemirror_mode": {
    "name": "ipython",
    "version": 3
   },
   "file_extension": ".py",
   "mimetype": "text/x-python",
   "name": "python",
   "nbconvert_exporter": "python",
   "pygments_lexer": "ipython3",
   "version": "3.13.5"
  }
 },
 "nbformat": 4,
 "nbformat_minor": 5
}
