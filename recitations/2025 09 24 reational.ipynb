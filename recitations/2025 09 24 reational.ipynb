{
 "cells": [
  {
   "cell_type": "markdown",
   "id": "94412cec",
   "metadata": {},
   "source": [
    "# Task 1\n",
    "1. Create a reational class with numerator / denominator.\n",
    "1. Implement `__repr__` and `__str__`\n",
    "1. Test your code"
   ]
  },
  {
   "cell_type": "code",
   "execution_count": 1,
   "id": "7d4dc0cc",
   "metadata": {},
   "outputs": [],
   "source": [
    "class Rational():\n",
    "    def __init__(self, numerator, denominator) -> None:\n",
    "        self.numerator = numerator\n",
    "        self.denominator = denominator\n",
    "    \n",
    "    def __repr__(self) -> str:\n",
    "        return f\"Rational({self.numerator}, {self.denominator})\"\n",
    "\n",
    "    def __str__(self) -> str:\n",
    "        return f\"{self.numerator} / {self.denominator}\""
   ]
  },
  {
   "cell_type": "code",
   "execution_count": 3,
   "id": "853b757e",
   "metadata": {},
   "outputs": [
    {
     "name": "stdout",
     "output_type": "stream",
     "text": [
      "1 / 2\n"
     ]
    },
    {
     "data": {
      "text/plain": [
       "Rational(1, 2)"
      ]
     },
     "execution_count": 3,
     "metadata": {},
     "output_type": "execute_result"
    }
   ],
   "source": [
    "r1 = Rational(1, 2)\n",
    "print(r1)\n",
    "r1"
   ]
  },
  {
   "cell_type": "code",
   "execution_count": 4,
   "id": "cd803d40",
   "metadata": {},
   "outputs": [
    {
     "name": "stdout",
     "output_type": "stream",
     "text": [
      "8 / 7\n"
     ]
    },
    {
     "data": {
      "text/plain": [
       "Rational(8, 7)"
      ]
     },
     "execution_count": 4,
     "metadata": {},
     "output_type": "execute_result"
    }
   ],
   "source": [
    "r2 = Rational(8, 7)\n",
    "print(r2)\n",
    "r2"
   ]
  }
 ],
 "metadata": {
  "kernelspec": {
   "display_name": ".venv",
   "language": "python",
   "name": "python3"
  },
  "language_info": {
   "codemirror_mode": {
    "name": "ipython",
    "version": 3
   },
   "file_extension": ".py",
   "mimetype": "text/x-python",
   "name": "python",
   "nbconvert_exporter": "python",
   "pygments_lexer": "ipython3",
   "version": "3.13.5"
  }
 },
 "nbformat": 4,
 "nbformat_minor": 5
}
