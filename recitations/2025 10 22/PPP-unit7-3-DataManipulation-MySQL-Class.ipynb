{
 "cells": [
  {
   "cell_type": "code",
   "execution_count": 1,
   "metadata": {
    "colab": {
     "base_uri": "https://localhost:8080/"
    },
    "id": "JM0o2Xy0iV6x",
    "outputId": "e9537a12-605a-4613-f529-5a70ddd1d235"
   },
   "outputs": [
    {
     "name": "stdout",
     "output_type": "stream",
     "text": [
      "Collecting mysql-connector-python\n",
      "  Downloading mysql_connector_python-9.5.0-cp313-cp313-win_amd64.whl.metadata (7.7 kB)\n",
      "Downloading mysql_connector_python-9.5.0-cp313-cp313-win_amd64.whl (16.5 MB)\n",
      "   ---------------------------------------- 0.0/16.5 MB ? eta -:--:--\n",
      "   -------------- ------------------------- 6.0/16.5 MB 36.8 MB/s eta 0:00:01\n",
      "   ---------------------------------- ----- 14.4/16.5 MB 37.5 MB/s eta 0:00:01\n",
      "   ---------------------------------------- 16.5/16.5 MB 32.6 MB/s eta 0:00:00\n",
      "Installing collected packages: mysql-connector-python\n",
      "Successfully installed mysql-connector-python-9.5.0\n"
     ]
    },
    {
     "name": "stderr",
     "output_type": "stream",
     "text": [
      "\n",
      "[notice] A new release of pip is available: 25.1.1 -> 25.2\n",
      "[notice] To update, run: python.exe -m pip install --upgrade pip\n"
     ]
    }
   ],
   "source": [
    "!pip install mysql-connector-python"
   ]
  },
  {
   "cell_type": "code",
   "execution_count": 2,
   "metadata": {
    "id": "4M8EnlAZij8V"
   },
   "outputs": [],
   "source": [
    "import mysql.connector\n",
    "import csv"
   ]
  },
  {
   "cell_type": "code",
   "execution_count": 3,
   "metadata": {
    "colab": {
     "base_uri": "https://localhost:8080/"
    },
    "id": "ZZ7CHjwsigbk",
    "outputId": "dabb92dd-c77e-4940-a205-afd138e53025"
   },
   "outputs": [
    {
     "name": "stdout",
     "output_type": "stream",
     "text": [
      "Connected to Clever Cloud MySQL!\n"
     ]
    }
   ],
   "source": [
    "db_config = {\n",
    "    'host': 'bt5zlbqm1asxtbl9hr37-mysql.services.clever-cloud.com',\n",
    "    'user': 'uk1kfthcke1knrre',\n",
    "    'password': 'g6fn0sqK1oszeFQREHkl',\n",
    "    'database': 'bt5zlbqm1asxtbl9hr37',\n",
    "    'port': 3306\n",
    "}\n",
    "\n",
    "conn = mysql.connector.connect(**db_config)\n",
    "\n",
    "# Check if the connection is successful\n",
    "if conn.is_connected():\n",
    "    print(\"Connected to Clever Cloud MySQL!\")\n",
    "conn.close()"
   ]
  },
  {
   "cell_type": "markdown",
   "metadata": {
    "id": "kR3va1sE3OgY"
   },
   "source": [
    "Please upload *car_sales.csv* file in the **Files** section on the left hand side before proceeding."
   ]
  },
  {
   "cell_type": "code",
   "execution_count": null,
   "metadata": {
    "id": "cOBIyqywlfgS"
   },
   "outputs": [],
   "source": [
    "def load_csv_to_mysql(csv_file):\n",
    "    # Connect to MySQL\n",
    "    conn = mysql.connector.connect(**db_config)\n",
    "    cursor = conn.cursor()\n",
    "\n",
    "    # [Need to complete] Create the table (if it doesn't exist already)\n",
    "\n",
    "    # Read CSV and insert data into MySQL\n",
    "    with open(csv_file, mode='r', newline='', encoding='utf-8') as file:\n",
    "        reader = csv.DictReader(file)\n",
    "        for row in reader:\n",
    "            #[Need to complete] Insert data into MySQL\n",
    "\n",
    "    # Commit the transaction and close the connection\n",
    "    conn.commit()\n",
    "    cursor.close()\n",
    "    conn.close()"
   ]
  },
  {
   "cell_type": "code",
   "execution_count": null,
   "metadata": {
    "id": "KpQWSFuYmNGd"
   },
   "outputs": [],
   "source": [
    "# Test the function to load the CSV into MySQL\n",
    "load_csv_to_mysql('car_sales.csv')"
   ]
  },
  {
   "cell_type": "code",
   "execution_count": null,
   "metadata": {
    "id": "wid1dpg4m6Mq"
   },
   "outputs": [],
   "source": [
    "def check_table_and_count():\n",
    "    # Connect to MySQL\n",
    "    conn = mysql.connector.connect(**db_config)\n",
    "    cursor = conn.cursor()\n",
    "\n",
    "    # Check if the car_sales table exists\n",
    "    cursor.execute(\"SHOW TABLES;\")\n",
    "    tables = cursor.fetchall()\n",
    "    if ('car_sales',) in tables:\n",
    "        print(\"Table 'car_sales' exists.\")\n",
    "\n",
    "        # Count the number of records in the table\n",
    "        cursor.execute(\"SELECT COUNT(*) FROM car_sales;\")\n",
    "        row_count = cursor.fetchone()[0]\n",
    "        print(f\"Number of records in 'car_sales': {row_count}\")\n",
    "\n",
    "        # Fetch and print the first 5 records from the table\n",
    "        cursor.execute(\"SELECT * FROM car_sales LIMIT 5;\")\n",
    "        records = cursor.fetchall()\n",
    "\n",
    "        print(\"First 5 records:\")\n",
    "        for record in records:\n",
    "            print(record)\n",
    "    else:\n",
    "        print(\"Table 'car_sales' does not exist.\")\n",
    "\n",
    "    # Close the connection\n",
    "    cursor.close()\n",
    "    conn.close()"
   ]
  },
  {
   "cell_type": "code",
   "execution_count": null,
   "metadata": {
    "colab": {
     "base_uri": "https://localhost:8080/"
    },
    "id": "nypqm936m9hI",
    "outputId": "f068e124-24fd-4e45-af5d-c45e346c976a"
   },
   "outputs": [
    {
     "name": "stdout",
     "output_type": "stream",
     "text": [
      "Table 'car_sales' exists.\n",
      "Number of records in 'car_sales': 100\n",
      "First 5 records:\n",
      "(1, 'Ford', 'Elantra', 2017, 8000)\n",
      "(2, 'Audi', 'Malibu', 2021, 9500)\n",
      "(3, 'Chevrolet', 'A4', 2022, 6000)\n",
      "(4, 'Ford', '3 Series', 2020, 1200)\n",
      "(5, 'Nissan', 'Focus', 2019, 4800)\n"
     ]
    }
   ],
   "source": [
    "# Check if table exists or not\n",
    "check_table_and_count()"
   ]
  },
  {
   "cell_type": "code",
   "execution_count": null,
   "metadata": {
    "id": "txJ49uKxntcV"
   },
   "outputs": [],
   "source": [
    "def filter_data_from_mysql(output_csv):\n",
    "    # Connect to MySQL\n",
    "    conn = mysql.connector.connect(**db_config)\n",
    "    cursor = conn.cursor()\n",
    "\n",
    "    # [Need to complete this] SQL query to filter cars from the year 2019 with sales greater than 4000\n",
    "\n",
    "    # Execute query and fetch data\n",
    "    cursor.execute(query)\n",
    "    rows = cursor.fetchall()\n",
    "\n",
    "    # Define column names\n",
    "    columns = ['car_id', 'make', 'model', 'year', 'sales']\n",
    "\n",
    "    # Write the result directly to a CSV file\n",
    "    with open(output_csv, mode='w', newline='', encoding='utf-8') as file:\n",
    "        writer = csv.writer(file)\n",
    "\n",
    "        # Write the header (column names)\n",
    "        writer.writerow(columns)\n",
    "\n",
    "        # Write the data rows\n",
    "        writer.writerows(rows)\n",
    "\n",
    "    # Close the connection\n",
    "    cursor.close()\n",
    "    conn.close()"
   ]
  },
  {
   "cell_type": "code",
   "execution_count": null,
   "metadata": {
    "id": "oef15O2ooANs"
   },
   "outputs": [],
   "source": [
    "# Test the function to filter data and write to CSV\n",
    "filter_data_from_mysql('filtered_car_sales.csv')"
   ]
  },
  {
   "cell_type": "markdown",
   "metadata": {
    "id": "cChipMUQptl_"
   },
   "source": [
    "Click on refresh button on the left hand side in the **Files** section to see the newly created csv file."
   ]
  }
 ],
 "metadata": {
  "colab": {
   "provenance": []
  },
  "kernelspec": {
   "display_name": ".venv",
   "language": "python",
   "name": "python3"
  },
  "language_info": {
   "codemirror_mode": {
    "name": "ipython",
    "version": 3
   },
   "file_extension": ".py",
   "mimetype": "text/x-python",
   "name": "python",
   "nbconvert_exporter": "python",
   "pygments_lexer": "ipython3",
   "version": "3.13.5"
  }
 },
 "nbformat": 4,
 "nbformat_minor": 0
}
