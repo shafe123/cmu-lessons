{
  "cells": [
    {
      "cell_type": "code",
      "execution_count": 1,
      "metadata": {
        "colab": {
          "base_uri": "https://localhost:8080/"
        },
        "id": "B-mNeu0eCU81",
        "outputId": "554205d8-8312-4b69-825c-b8d7bce630df"
      },
      "outputs": [
        {
          "name": "stdout",
          "output_type": "stream",
          "text": [
            "Collecting pymongo\n",
            "  Downloading pymongo-4.15.3-cp313-cp313-win_amd64.whl.metadata (22 kB)\n",
            "Collecting dnspython<3.0.0,>=1.16.0 (from pymongo)\n",
            "  Downloading dnspython-2.8.0-py3-none-any.whl.metadata (5.7 kB)\n",
            "Downloading pymongo-4.15.3-cp313-cp313-win_amd64.whl (962 kB)\n",
            "   ---------------------------------------- 0.0/962.6 kB ? eta -:--:--\n",
            "   --------------------------------------- 962.6/962.6 kB 11.2 MB/s eta 0:00:00\n",
            "Downloading dnspython-2.8.0-py3-none-any.whl (331 kB)\n",
            "Installing collected packages: dnspython, pymongo\n",
            "\n",
            "   ---------------------------------------- 0/2 [dnspython]\n",
            "   ---------------------------------------- 0/2 [dnspython]\n",
            "   ---------------------------------------- 0/2 [dnspython]\n",
            "   ---------------------------------------- 0/2 [dnspython]\n",
            "   ---------------------------------------- 0/2 [dnspython]\n",
            "   ---------------------------------------- 0/2 [dnspython]\n",
            "   ---------------------------------------- 0/2 [dnspython]\n",
            "   ---------------------------------------- 0/2 [dnspython]\n",
            "   ---------------------------------------- 0/2 [dnspython]\n",
            "   ---------------------------------------- 0/2 [dnspython]\n",
            "   ---------------------------------------- 0/2 [dnspython]\n",
            "   ---------------------------------------- 0/2 [dnspython]\n",
            "   ---------------------------------------- 0/2 [dnspython]\n",
            "   ---------------------------------------- 0/2 [dnspython]\n",
            "   ---------------------------------------- 0/2 [dnspython]\n",
            "   ---------------------------------------- 0/2 [dnspython]\n",
            "   ---------------------------------------- 0/2 [dnspython]\n",
            "   ---------------------------------------- 0/2 [dnspython]\n",
            "   ---------------------------------------- 0/2 [dnspython]\n",
            "   ---------------------------------------- 0/2 [dnspython]\n",
            "   ---------------------------------------- 0/2 [dnspython]\n",
            "   ---------------------------------------- 0/2 [dnspython]\n",
            "   ---------------------------------------- 0/2 [dnspython]\n",
            "   ---------------------------------------- 0/2 [dnspython]\n",
            "   ---------------------------------------- 0/2 [dnspython]\n",
            "   ---------------------------------------- 0/2 [dnspython]\n",
            "   ---------------------------------------- 0/2 [dnspython]\n",
            "   ---------------------------------------- 0/2 [dnspython]\n",
            "   ---------------------------------------- 0/2 [dnspython]\n",
            "   ---------------------------------------- 0/2 [dnspython]\n",
            "   ---------------------------------------- 0/2 [dnspython]\n",
            "   ---------------------------------------- 0/2 [dnspython]\n",
            "   ---------------------------------------- 0/2 [dnspython]\n",
            "   ---------------------------------------- 0/2 [dnspython]\n",
            "   ---------------------------------------- 0/2 [dnspython]\n",
            "   -------------------- ------------------- 1/2 [pymongo]\n",
            "   -------------------- ------------------- 1/2 [pymongo]\n",
            "   -------------------- ------------------- 1/2 [pymongo]\n",
            "   -------------------- ------------------- 1/2 [pymongo]\n",
            "   -------------------- ------------------- 1/2 [pymongo]\n",
            "   -------------------- ------------------- 1/2 [pymongo]\n",
            "   -------------------- ------------------- 1/2 [pymongo]\n",
            "   -------------------- ------------------- 1/2 [pymongo]\n",
            "   -------------------- ------------------- 1/2 [pymongo]\n",
            "   -------------------- ------------------- 1/2 [pymongo]\n",
            "   -------------------- ------------------- 1/2 [pymongo]\n",
            "   -------------------- ------------------- 1/2 [pymongo]\n",
            "   -------------------- ------------------- 1/2 [pymongo]\n",
            "   -------------------- ------------------- 1/2 [pymongo]\n",
            "   -------------------- ------------------- 1/2 [pymongo]\n",
            "   -------------------- ------------------- 1/2 [pymongo]\n",
            "   -------------------- ------------------- 1/2 [pymongo]\n",
            "   -------------------- ------------------- 1/2 [pymongo]\n",
            "   -------------------- ------------------- 1/2 [pymongo]\n",
            "   -------------------- ------------------- 1/2 [pymongo]\n",
            "   -------------------- ------------------- 1/2 [pymongo]\n",
            "   -------------------- ------------------- 1/2 [pymongo]\n",
            "   -------------------- ------------------- 1/2 [pymongo]\n",
            "   -------------------- ------------------- 1/2 [pymongo]\n",
            "   -------------------- ------------------- 1/2 [pymongo]\n",
            "   -------------------- ------------------- 1/2 [pymongo]\n",
            "   -------------------- ------------------- 1/2 [pymongo]\n",
            "   -------------------- ------------------- 1/2 [pymongo]\n",
            "   -------------------- ------------------- 1/2 [pymongo]\n",
            "   -------------------- ------------------- 1/2 [pymongo]\n",
            "   -------------------- ------------------- 1/2 [pymongo]\n",
            "   -------------------- ------------------- 1/2 [pymongo]\n",
            "   -------------------- ------------------- 1/2 [pymongo]\n",
            "   -------------------- ------------------- 1/2 [pymongo]\n",
            "   -------------------- ------------------- 1/2 [pymongo]\n",
            "   -------------------- ------------------- 1/2 [pymongo]\n",
            "   -------------------- ------------------- 1/2 [pymongo]\n",
            "   -------------------- ------------------- 1/2 [pymongo]\n",
            "   -------------------- ------------------- 1/2 [pymongo]\n",
            "   -------------------- ------------------- 1/2 [pymongo]\n",
            "   -------------------- ------------------- 1/2 [pymongo]\n",
            "   -------------------- ------------------- 1/2 [pymongo]\n",
            "   -------------------- ------------------- 1/2 [pymongo]\n",
            "   ---------------------------------------- 2/2 [pymongo]\n",
            "\n",
            "Successfully installed dnspython-2.8.0 pymongo-4.15.3\n"
          ]
        },
        {
          "name": "stderr",
          "output_type": "stream",
          "text": [
            "\n",
            "[notice] A new release of pip is available: 25.1.1 -> 25.2\n",
            "[notice] To update, run: python.exe -m pip install --upgrade pip\n"
          ]
        }
      ],
      "source": [
        "!pip install pymongo"
      ]
    },
    {
      "cell_type": "code",
      "execution_count": 2,
      "metadata": {
        "id": "rWZ5srkgC9WU"
      },
      "outputs": [],
      "source": [
        "from pymongo.mongo_client import MongoClient\n",
        "from pymongo.server_api import ServerApi\n",
        "import json"
      ]
    },
    {
      "cell_type": "code",
      "execution_count": null,
      "metadata": {
        "id": "j2ssLlKIC_PD"
      },
      "outputs": [
        {
          "name": "stdout",
          "output_type": "stream",
          "text": [
            "Pra25drA%40%21\n",
            "mongodb+srv://ethanshafer:Pra25drA@!@cluster0.gf9rb.mongodb.net/?retryWrites=true&w=majority&appName=Cluster0\n"
          ]
        },
        {
          "ename": "InvalidURI",
          "evalue": "Username and password must be escaped according to RFC 3986, use urllib.parse.quote_plus",
          "output_type": "error",
          "traceback": [
            "\u001b[31m---------------------------------------------------------------------------\u001b[39m",
            "\u001b[31mInvalidURI\u001b[39m                                Traceback (most recent call last)",
            "\u001b[36mCell\u001b[39m\u001b[36m \u001b[39m\u001b[32mIn[19]\u001b[39m\u001b[32m, line 11\u001b[39m\n\u001b[32m      9\u001b[39m cnx_str.replace(\u001b[33m\"\u001b[39m\u001b[38;5;132;01m{password}\u001b[39;00m\u001b[33m\"\u001b[39m, password)\n\u001b[32m     10\u001b[39m \u001b[38;5;28mprint\u001b[39m(cnx_str)\n\u001b[32m---> \u001b[39m\u001b[32m11\u001b[39m mongo_client = \u001b[43mMongoClient\u001b[49m\u001b[43m(\u001b[49m\u001b[43mcnx_str\u001b[49m\u001b[43m)\u001b[49m\n\u001b[32m     13\u001b[39m \u001b[38;5;66;03m# Connect to the 'recitation-30oct' database\u001b[39;00m\n\u001b[32m     14\u001b[39m db = mongo_client[\u001b[33m'\u001b[39m\u001b[33mrecitation-22oct\u001b[39m\u001b[33m'\u001b[39m]\n",
            "\u001b[36mFile \u001b[39m\u001b[32mc:\\Users\\Ethan Shafer\\Documents\\cmu-lessons\\.venv\\Lib\\site-packages\\pymongo\\synchronous\\mongo_client.py:804\u001b[39m, in \u001b[36mMongoClient.__init__\u001b[39m\u001b[34m(self, host, port, document_class, tz_aware, connect, type_registry, **kwargs)\u001b[39m\n\u001b[32m    799\u001b[39m \u001b[38;5;28;01mfor\u001b[39;00m entity \u001b[38;5;129;01min\u001b[39;00m \u001b[38;5;28mself\u001b[39m._host:\n\u001b[32m    800\u001b[39m     \u001b[38;5;66;03m# A hostname can only include a-z, 0-9, '-' and '.'. If we find a '/'\u001b[39;00m\n\u001b[32m    801\u001b[39m     \u001b[38;5;66;03m# it must be a URI,\u001b[39;00m\n\u001b[32m    802\u001b[39m     \u001b[38;5;66;03m# https://en.wikipedia.org/wiki/Hostname#Restrictions_on_valid_host_names\u001b[39;00m\n\u001b[32m    803\u001b[39m     \u001b[38;5;28;01mif\u001b[39;00m \u001b[33m\"\u001b[39m\u001b[33m/\u001b[39m\u001b[33m\"\u001b[39m \u001b[38;5;129;01min\u001b[39;00m entity:\n\u001b[32m--> \u001b[39m\u001b[32m804\u001b[39m         res = \u001b[43m_validate_uri\u001b[49m\u001b[43m(\u001b[49m\n\u001b[32m    805\u001b[39m \u001b[43m            \u001b[49m\u001b[43mentity\u001b[49m\u001b[43m,\u001b[49m\n\u001b[32m    806\u001b[39m \u001b[43m            \u001b[49m\u001b[43mport\u001b[49m\u001b[43m,\u001b[49m\n\u001b[32m    807\u001b[39m \u001b[43m            \u001b[49m\u001b[43mvalidate\u001b[49m\u001b[43m=\u001b[49m\u001b[38;5;28;43;01mTrue\u001b[39;49;00m\u001b[43m,\u001b[49m\n\u001b[32m    808\u001b[39m \u001b[43m            \u001b[49m\u001b[43mwarn\u001b[49m\u001b[43m=\u001b[49m\u001b[38;5;28;43;01mTrue\u001b[39;49;00m\u001b[43m,\u001b[49m\n\u001b[32m    809\u001b[39m \u001b[43m            \u001b[49m\u001b[43mnormalize\u001b[49m\u001b[43m=\u001b[49m\u001b[38;5;28;43;01mFalse\u001b[39;49;00m\u001b[43m,\u001b[49m\n\u001b[32m    810\u001b[39m \u001b[43m            \u001b[49m\u001b[43msrv_max_hosts\u001b[49m\u001b[43m=\u001b[49m\u001b[43msrv_max_hosts\u001b[49m\u001b[43m,\u001b[49m\n\u001b[32m    811\u001b[39m \u001b[43m        \u001b[49m\u001b[43m)\u001b[49m\n\u001b[32m    812\u001b[39m         is_srv = entity.startswith(SRV_SCHEME)\n\u001b[32m    813\u001b[39m         \u001b[38;5;28mself\u001b[39m._seeds.update(res[\u001b[33m\"\u001b[39m\u001b[33mnodelist\u001b[39m\u001b[33m\"\u001b[39m])\n",
            "\u001b[36mFile \u001b[39m\u001b[32mc:\\Users\\Ethan Shafer\\Documents\\cmu-lessons\\.venv\\Lib\\site-packages\\pymongo\\uri_parser_shared.py:563\u001b[39m, in \u001b[36m_validate_uri\u001b[39m\u001b[34m(uri, default_port, validate, warn, normalize, srv_max_hosts)\u001b[39m\n\u001b[32m    561\u001b[39m \u001b[38;5;28;01mif\u001b[39;00m \u001b[33m\"\u001b[39m\u001b[33m@\u001b[39m\u001b[33m\"\u001b[39m \u001b[38;5;129;01min\u001b[39;00m host_part:\n\u001b[32m    562\u001b[39m     userinfo, _, hosts = host_part.rpartition(\u001b[33m\"\u001b[39m\u001b[33m@\u001b[39m\u001b[33m\"\u001b[39m)\n\u001b[32m--> \u001b[39m\u001b[32m563\u001b[39m     user, passwd = \u001b[43mparse_userinfo\u001b[49m\u001b[43m(\u001b[49m\u001b[43muserinfo\u001b[49m\u001b[43m)\u001b[49m\n\u001b[32m    564\u001b[39m \u001b[38;5;28;01melse\u001b[39;00m:\n\u001b[32m    565\u001b[39m     hosts = host_part\n",
            "\u001b[36mFile \u001b[39m\u001b[32mc:\\Users\\Ethan Shafer\\Documents\\cmu-lessons\\.venv\\Lib\\site-packages\\pymongo\\uri_parser_shared.py:136\u001b[39m, in \u001b[36mparse_userinfo\u001b[39m\u001b[34m(userinfo)\u001b[39m\n\u001b[32m    126\u001b[39m \u001b[38;5;250m\u001b[39m\u001b[33;03m\"\"\"Validates the format of user information in a MongoDB URI.\u001b[39;00m\n\u001b[32m    127\u001b[39m \u001b[33;03mReserved characters that are gen-delimiters (\":\", \"/\", \"?\", \"#\", \"[\",\u001b[39;00m\n\u001b[32m    128\u001b[39m \u001b[33;03m\"]\", \"@\") as per RFC 3986 must be escaped.\u001b[39;00m\n\u001b[32m   (...)\u001b[39m\u001b[32m    133\u001b[39m \u001b[33;03m:param userinfo: A string of the form <username>:<password>\u001b[39;00m\n\u001b[32m    134\u001b[39m \u001b[33;03m\"\"\"\u001b[39;00m\n\u001b[32m    135\u001b[39m \u001b[38;5;28;01mif\u001b[39;00m \u001b[33m\"\u001b[39m\u001b[33m@\u001b[39m\u001b[33m\"\u001b[39m \u001b[38;5;129;01min\u001b[39;00m userinfo \u001b[38;5;129;01mor\u001b[39;00m userinfo.count(\u001b[33m\"\u001b[39m\u001b[33m:\u001b[39m\u001b[33m\"\u001b[39m) > \u001b[32m1\u001b[39m \u001b[38;5;129;01mor\u001b[39;00m _unquoted_percent(userinfo):\n\u001b[32m--> \u001b[39m\u001b[32m136\u001b[39m     \u001b[38;5;28;01mraise\u001b[39;00m InvalidURI(\n\u001b[32m    137\u001b[39m         \u001b[33m\"\u001b[39m\u001b[33mUsername and password must be escaped according to \u001b[39m\u001b[33m\"\u001b[39m\n\u001b[32m    138\u001b[39m         \u001b[33m\"\u001b[39m\u001b[33mRFC 3986, use urllib.parse.quote_plus\u001b[39m\u001b[33m\"\u001b[39m\n\u001b[32m    139\u001b[39m     )\n\u001b[32m    141\u001b[39m user, _, passwd = userinfo.partition(\u001b[33m\"\u001b[39m\u001b[33m:\u001b[39m\u001b[33m\"\u001b[39m)\n\u001b[32m    142\u001b[39m \u001b[38;5;66;03m# No password is expected with GSSAPI authentication.\u001b[39;00m\n",
            "\u001b[31mInvalidURI\u001b[39m: Username and password must be escaped according to RFC 3986, use urllib.parse.quote_plus"
          ]
        }
      ],
      "source": [
        "# MongoDB Atlas connection settings (replace with your credentials)\n",
        "import os\n",
        "mongo_client = MongoClient(\"\")\n",
        "\n",
        "# Connect to the 'recitation-30oct' database\n",
        "db = mongo_client['recitation-22oct']\n",
        "\n",
        "# Connect to the 'car_sales' collection\n",
        "collection = db['car_sales']\n",
        "\n",
        "def load_json_to_mongodb(json_file):\n",
        "    # Read the JSON file\n",
        "    with open(json_file, 'r') as file:\n",
        "        #[Need to complete]\n",
        "        car_sales_data = json.load(file)\n",
        "\n",
        "        # [Need to complete] Insert the JSON data into the MongoDB collection\n",
        "        if isinstance(car_sales_data, list):\n",
        "            collection.insert_many(car_sales_data)  # Insert if it's a list of documents\n",
        "        else:\n",
        "            collection.insert_one(car_sales_data)  # Insert a single document\n",
        "\n",
        "    print(\"Data successfully loaded into MongoDB Atlas!\")"
      ]
    },
    {
      "cell_type": "code",
      "execution_count": 15,
      "metadata": {
        "colab": {
          "base_uri": "https://localhost:8080/"
        },
        "id": "2ELaXIADDz_V",
        "outputId": "be79b359-9e92-4394-cbfa-bb5d23d825cf"
      },
      "outputs": [
        {
          "ename": "ServerSelectionTimeoutError",
          "evalue": "none:27017: [Errno 11001] getaddrinfo failed (configured timeouts: socketTimeoutMS: 20000.0ms, connectTimeoutMS: 20000.0ms), Timeout: 30s, Topology Description: <TopologyDescription id: 68f8eeb4bbaa9882e9e89abb, topology_type: Unknown, servers: [<ServerDescription ('none', 27017) server_type: Unknown, rtt: None, error=AutoReconnect('none:27017: [Errno 11001] getaddrinfo failed (configured timeouts: socketTimeoutMS: 20000.0ms, connectTimeoutMS: 20000.0ms)')>]>",
          "output_type": "error",
          "traceback": [
            "\u001b[31m---------------------------------------------------------------------------\u001b[39m",
            "\u001b[31mServerSelectionTimeoutError\u001b[39m               Traceback (most recent call last)",
            "\u001b[36mCell\u001b[39m\u001b[36m \u001b[39m\u001b[32mIn[15]\u001b[39m\u001b[32m, line 2\u001b[39m\n\u001b[32m      1\u001b[39m \u001b[38;5;66;03m# Load the JSON file into MongoDB Atlas\u001b[39;00m\n\u001b[32m----> \u001b[39m\u001b[32m2\u001b[39m \u001b[43mload_json_to_mongodb\u001b[49m\u001b[43m(\u001b[49m\u001b[33;43m'\u001b[39;49m\u001b[33;43mcar_model_sales.json\u001b[39;49m\u001b[33;43m'\u001b[39;49m\u001b[43m)\u001b[49m\n",
            "\u001b[36mCell\u001b[39m\u001b[36m \u001b[39m\u001b[32mIn[14]\u001b[39m\u001b[32m, line 21\u001b[39m, in \u001b[36mload_json_to_mongodb\u001b[39m\u001b[34m(json_file)\u001b[39m\n\u001b[32m     19\u001b[39m \u001b[38;5;66;03m# [Need to complete] Insert the JSON data into the MongoDB collection\u001b[39;00m\n\u001b[32m     20\u001b[39m \u001b[38;5;28;01mif\u001b[39;00m \u001b[38;5;28misinstance\u001b[39m(car_sales_data, \u001b[38;5;28mlist\u001b[39m):\n\u001b[32m---> \u001b[39m\u001b[32m21\u001b[39m     \u001b[43mcollection\u001b[49m\u001b[43m.\u001b[49m\u001b[43minsert_many\u001b[49m\u001b[43m(\u001b[49m\u001b[43mcar_sales_data\u001b[49m\u001b[43m)\u001b[49m  \u001b[38;5;66;03m# Insert if it's a list of documents\u001b[39;00m\n\u001b[32m     22\u001b[39m \u001b[38;5;28;01melse\u001b[39;00m:\n\u001b[32m     23\u001b[39m     collection.insert_one(car_sales_data)  \u001b[38;5;66;03m# Insert a single document\u001b[39;00m\n",
            "\u001b[36mFile \u001b[39m\u001b[32mc:\\Users\\Ethan Shafer\\Documents\\cmu-lessons\\.venv\\Lib\\site-packages\\pymongo\\_csot.py:125\u001b[39m, in \u001b[36mapply.<locals>.csot_wrapper\u001b[39m\u001b[34m(self, *args, **kwargs)\u001b[39m\n\u001b[32m    123\u001b[39m         \u001b[38;5;28;01mwith\u001b[39;00m _TimeoutContext(timeout):\n\u001b[32m    124\u001b[39m             \u001b[38;5;28;01mreturn\u001b[39;00m func(\u001b[38;5;28mself\u001b[39m, *args, **kwargs)\n\u001b[32m--> \u001b[39m\u001b[32m125\u001b[39m \u001b[38;5;28;01mreturn\u001b[39;00m \u001b[43mfunc\u001b[49m\u001b[43m(\u001b[49m\u001b[38;5;28;43mself\u001b[39;49m\u001b[43m,\u001b[49m\u001b[43m \u001b[49m\u001b[43m*\u001b[49m\u001b[43margs\u001b[49m\u001b[43m,\u001b[49m\u001b[43m \u001b[49m\u001b[43m*\u001b[49m\u001b[43m*\u001b[49m\u001b[43mkwargs\u001b[49m\u001b[43m)\u001b[49m\n",
            "\u001b[36mFile \u001b[39m\u001b[32mc:\\Users\\Ethan Shafer\\Documents\\cmu-lessons\\.venv\\Lib\\site-packages\\pymongo\\synchronous\\collection.py:975\u001b[39m, in \u001b[36mCollection.insert_many\u001b[39m\u001b[34m(self, documents, ordered, bypass_document_validation, session, comment)\u001b[39m\n\u001b[32m    973\u001b[39m blk = _Bulk(\u001b[38;5;28mself\u001b[39m, ordered, bypass_document_validation, comment=comment)\n\u001b[32m    974\u001b[39m blk.ops = \u001b[38;5;28mlist\u001b[39m(gen())\n\u001b[32m--> \u001b[39m\u001b[32m975\u001b[39m \u001b[43mblk\u001b[49m\u001b[43m.\u001b[49m\u001b[43mexecute\u001b[49m\u001b[43m(\u001b[49m\u001b[43mwrite_concern\u001b[49m\u001b[43m,\u001b[49m\u001b[43m \u001b[49m\u001b[43msession\u001b[49m\u001b[43m,\u001b[49m\u001b[43m \u001b[49m\u001b[43m_Op\u001b[49m\u001b[43m.\u001b[49m\u001b[43mINSERT\u001b[49m\u001b[43m)\u001b[49m\n\u001b[32m    976\u001b[39m \u001b[38;5;28;01mreturn\u001b[39;00m InsertManyResult(inserted_ids, write_concern.acknowledged)\n",
            "\u001b[36mFile \u001b[39m\u001b[32mc:\\Users\\Ethan Shafer\\Documents\\cmu-lessons\\.venv\\Lib\\site-packages\\pymongo\\synchronous\\bulk.py:751\u001b[39m, in \u001b[36m_Bulk.execute\u001b[39m\u001b[34m(self, write_concern, session, operation)\u001b[39m\n\u001b[32m    749\u001b[39m         \u001b[38;5;28;01mreturn\u001b[39;00m \u001b[38;5;28;01mNone\u001b[39;00m\n\u001b[32m    750\u001b[39m \u001b[38;5;28;01melse\u001b[39;00m:\n\u001b[32m--> \u001b[39m\u001b[32m751\u001b[39m     \u001b[38;5;28;01mreturn\u001b[39;00m \u001b[38;5;28;43mself\u001b[39;49m\u001b[43m.\u001b[49m\u001b[43mexecute_command\u001b[49m\u001b[43m(\u001b[49m\u001b[43mgenerator\u001b[49m\u001b[43m,\u001b[49m\u001b[43m \u001b[49m\u001b[43mwrite_concern\u001b[49m\u001b[43m,\u001b[49m\u001b[43m \u001b[49m\u001b[43msession\u001b[49m\u001b[43m,\u001b[49m\u001b[43m \u001b[49m\u001b[43moperation\u001b[49m\u001b[43m)\u001b[49m\n",
            "\u001b[36mFile \u001b[39m\u001b[32mc:\\Users\\Ethan Shafer\\Documents\\cmu-lessons\\.venv\\Lib\\site-packages\\pymongo\\synchronous\\bulk.py:604\u001b[39m, in \u001b[36m_Bulk.execute_command\u001b[39m\u001b[34m(self, generator, write_concern, session, operation)\u001b[39m\n\u001b[32m    593\u001b[39m     \u001b[38;5;28mself\u001b[39m._execute_command(\n\u001b[32m    594\u001b[39m         generator,\n\u001b[32m    595\u001b[39m         write_concern,\n\u001b[32m   (...)\u001b[39m\u001b[32m    600\u001b[39m         full_result,\n\u001b[32m    601\u001b[39m     )\n\u001b[32m    603\u001b[39m client = \u001b[38;5;28mself\u001b[39m.collection.database.client\n\u001b[32m--> \u001b[39m\u001b[32m604\u001b[39m _ = \u001b[43mclient\u001b[49m\u001b[43m.\u001b[49m\u001b[43m_retryable_write\u001b[49m\u001b[43m(\u001b[49m\n\u001b[32m    605\u001b[39m \u001b[43m    \u001b[49m\u001b[38;5;28;43mself\u001b[39;49m\u001b[43m.\u001b[49m\u001b[43mis_retryable\u001b[49m\u001b[43m,\u001b[49m\n\u001b[32m    606\u001b[39m \u001b[43m    \u001b[49m\u001b[43mretryable_bulk\u001b[49m\u001b[43m,\u001b[49m\n\u001b[32m    607\u001b[39m \u001b[43m    \u001b[49m\u001b[43msession\u001b[49m\u001b[43m,\u001b[49m\n\u001b[32m    608\u001b[39m \u001b[43m    \u001b[49m\u001b[43moperation\u001b[49m\u001b[43m,\u001b[49m\n\u001b[32m    609\u001b[39m \u001b[43m    \u001b[49m\u001b[43mbulk\u001b[49m\u001b[43m=\u001b[49m\u001b[38;5;28;43mself\u001b[39;49m\u001b[43m,\u001b[49m\u001b[43m  \u001b[49m\u001b[38;5;66;43;03m# type: ignore[arg-type]\u001b[39;49;00m\n\u001b[32m    610\u001b[39m \u001b[43m    \u001b[49m\u001b[43moperation_id\u001b[49m\u001b[43m=\u001b[49m\u001b[43mop_id\u001b[49m\u001b[43m,\u001b[49m\n\u001b[32m    611\u001b[39m \u001b[43m\u001b[49m\u001b[43m)\u001b[49m\n\u001b[32m    613\u001b[39m \u001b[38;5;28;01mif\u001b[39;00m full_result[\u001b[33m\"\u001b[39m\u001b[33mwriteErrors\u001b[39m\u001b[33m\"\u001b[39m] \u001b[38;5;129;01mor\u001b[39;00m full_result[\u001b[33m\"\u001b[39m\u001b[33mwriteConcernErrors\u001b[39m\u001b[33m\"\u001b[39m]:\n\u001b[32m    614\u001b[39m     _raise_bulk_write_error(full_result)\n",
            "\u001b[36mFile \u001b[39m\u001b[32mc:\\Users\\Ethan Shafer\\Documents\\cmu-lessons\\.venv\\Lib\\site-packages\\pymongo\\synchronous\\mongo_client.py:2082\u001b[39m, in \u001b[36mMongoClient._retryable_write\u001b[39m\u001b[34m(self, retryable, func, session, operation, bulk, operation_id)\u001b[39m\n\u001b[32m   2068\u001b[39m \u001b[38;5;250m\u001b[39m\u001b[33;03m\"\"\"Execute an operation with consecutive retries if possible\u001b[39;00m\n\u001b[32m   2069\u001b[39m \n\u001b[32m   2070\u001b[39m \u001b[33;03mReturns func()'s return value on success. On error retries the same\u001b[39;00m\n\u001b[32m   (...)\u001b[39m\u001b[32m   2079\u001b[39m \u001b[33;03m:param bulk: bulk abstraction to execute operations in bulk, defaults to None\u001b[39;00m\n\u001b[32m   2080\u001b[39m \u001b[33;03m\"\"\"\u001b[39;00m\n\u001b[32m   2081\u001b[39m \u001b[38;5;28;01mwith\u001b[39;00m \u001b[38;5;28mself\u001b[39m._tmp_session(session) \u001b[38;5;28;01mas\u001b[39;00m s:\n\u001b[32m-> \u001b[39m\u001b[32m2082\u001b[39m     \u001b[38;5;28;01mreturn\u001b[39;00m \u001b[38;5;28;43mself\u001b[39;49m\u001b[43m.\u001b[49m\u001b[43m_retry_with_session\u001b[49m\u001b[43m(\u001b[49m\u001b[43mretryable\u001b[49m\u001b[43m,\u001b[49m\u001b[43m \u001b[49m\u001b[43mfunc\u001b[49m\u001b[43m,\u001b[49m\u001b[43m \u001b[49m\u001b[43ms\u001b[49m\u001b[43m,\u001b[49m\u001b[43m \u001b[49m\u001b[43mbulk\u001b[49m\u001b[43m,\u001b[49m\u001b[43m \u001b[49m\u001b[43moperation\u001b[49m\u001b[43m,\u001b[49m\u001b[43m \u001b[49m\u001b[43moperation_id\u001b[49m\u001b[43m)\u001b[49m\n",
            "\u001b[36mFile \u001b[39m\u001b[32mc:\\Users\\Ethan Shafer\\Documents\\cmu-lessons\\.venv\\Lib\\site-packages\\pymongo\\synchronous\\mongo_client.py:1968\u001b[39m, in \u001b[36mMongoClient._retry_with_session\u001b[39m\u001b[34m(self, retryable, func, session, bulk, operation, operation_id)\u001b[39m\n\u001b[32m   1963\u001b[39m \u001b[38;5;66;03m# Ensure that the options supports retry_writes and there is a valid session not in\u001b[39;00m\n\u001b[32m   1964\u001b[39m \u001b[38;5;66;03m# transaction, otherwise, we will not support retry behavior for this txn.\u001b[39;00m\n\u001b[32m   1965\u001b[39m retryable = \u001b[38;5;28mbool\u001b[39m(\n\u001b[32m   1966\u001b[39m     retryable \u001b[38;5;129;01mand\u001b[39;00m \u001b[38;5;28mself\u001b[39m.options.retry_writes \u001b[38;5;129;01mand\u001b[39;00m session \u001b[38;5;129;01mand\u001b[39;00m \u001b[38;5;129;01mnot\u001b[39;00m session.in_transaction\n\u001b[32m   1967\u001b[39m )\n\u001b[32m-> \u001b[39m\u001b[32m1968\u001b[39m \u001b[38;5;28;01mreturn\u001b[39;00m \u001b[38;5;28;43mself\u001b[39;49m\u001b[43m.\u001b[49m\u001b[43m_retry_internal\u001b[49m\u001b[43m(\u001b[49m\n\u001b[32m   1969\u001b[39m \u001b[43m    \u001b[49m\u001b[43mfunc\u001b[49m\u001b[43m=\u001b[49m\u001b[43mfunc\u001b[49m\u001b[43m,\u001b[49m\n\u001b[32m   1970\u001b[39m \u001b[43m    \u001b[49m\u001b[43msession\u001b[49m\u001b[43m=\u001b[49m\u001b[43msession\u001b[49m\u001b[43m,\u001b[49m\n\u001b[32m   1971\u001b[39m \u001b[43m    \u001b[49m\u001b[43mbulk\u001b[49m\u001b[43m=\u001b[49m\u001b[43mbulk\u001b[49m\u001b[43m,\u001b[49m\n\u001b[32m   1972\u001b[39m \u001b[43m    \u001b[49m\u001b[43moperation\u001b[49m\u001b[43m=\u001b[49m\u001b[43moperation\u001b[49m\u001b[43m,\u001b[49m\n\u001b[32m   1973\u001b[39m \u001b[43m    \u001b[49m\u001b[43mretryable\u001b[49m\u001b[43m=\u001b[49m\u001b[43mretryable\u001b[49m\u001b[43m,\u001b[49m\n\u001b[32m   1974\u001b[39m \u001b[43m    \u001b[49m\u001b[43moperation_id\u001b[49m\u001b[43m=\u001b[49m\u001b[43moperation_id\u001b[49m\u001b[43m,\u001b[49m\n\u001b[32m   1975\u001b[39m \u001b[43m\u001b[49m\u001b[43m)\u001b[49m\n",
            "\u001b[36mFile \u001b[39m\u001b[32mc:\\Users\\Ethan Shafer\\Documents\\cmu-lessons\\.venv\\Lib\\site-packages\\pymongo\\_csot.py:125\u001b[39m, in \u001b[36mapply.<locals>.csot_wrapper\u001b[39m\u001b[34m(self, *args, **kwargs)\u001b[39m\n\u001b[32m    123\u001b[39m         \u001b[38;5;28;01mwith\u001b[39;00m _TimeoutContext(timeout):\n\u001b[32m    124\u001b[39m             \u001b[38;5;28;01mreturn\u001b[39;00m func(\u001b[38;5;28mself\u001b[39m, *args, **kwargs)\n\u001b[32m--> \u001b[39m\u001b[32m125\u001b[39m \u001b[38;5;28;01mreturn\u001b[39;00m \u001b[43mfunc\u001b[49m\u001b[43m(\u001b[49m\u001b[38;5;28;43mself\u001b[39;49m\u001b[43m,\u001b[49m\u001b[43m \u001b[49m\u001b[43m*\u001b[49m\u001b[43margs\u001b[49m\u001b[43m,\u001b[49m\u001b[43m \u001b[49m\u001b[43m*\u001b[49m\u001b[43m*\u001b[49m\u001b[43mkwargs\u001b[49m\u001b[43m)\u001b[49m\n",
            "\u001b[36mFile \u001b[39m\u001b[32mc:\\Users\\Ethan Shafer\\Documents\\cmu-lessons\\.venv\\Lib\\site-packages\\pymongo\\synchronous\\mongo_client.py:2014\u001b[39m, in \u001b[36mMongoClient._retry_internal\u001b[39m\u001b[34m(self, func, session, bulk, operation, is_read, address, read_pref, retryable, operation_id)\u001b[39m\n\u001b[32m   1977\u001b[39m \u001b[38;5;129m@_csot\u001b[39m.apply\n\u001b[32m   1978\u001b[39m \u001b[38;5;28;01mdef\u001b[39;00m\u001b[38;5;250m \u001b[39m\u001b[34m_retry_internal\u001b[39m(\n\u001b[32m   1979\u001b[39m     \u001b[38;5;28mself\u001b[39m,\n\u001b[32m   (...)\u001b[39m\u001b[32m   1988\u001b[39m     operation_id: Optional[\u001b[38;5;28mint\u001b[39m] = \u001b[38;5;28;01mNone\u001b[39;00m,\n\u001b[32m   1989\u001b[39m ) -> T:\n\u001b[32m   1990\u001b[39m \u001b[38;5;250m    \u001b[39m\u001b[33;03m\"\"\"Internal retryable helper for all client transactions.\u001b[39;00m\n\u001b[32m   1991\u001b[39m \n\u001b[32m   1992\u001b[39m \u001b[33;03m    :param func: Callback function we want to retry\u001b[39;00m\n\u001b[32m   (...)\u001b[39m\u001b[32m   2001\u001b[39m \u001b[33;03m    :return: Output of the calling func()\u001b[39;00m\n\u001b[32m   2002\u001b[39m \u001b[33;03m    \"\"\"\u001b[39;00m\n\u001b[32m   2003\u001b[39m     \u001b[38;5;28;01mreturn\u001b[39;00m \u001b[43m_ClientConnectionRetryable\u001b[49m\u001b[43m(\u001b[49m\n\u001b[32m   2004\u001b[39m \u001b[43m        \u001b[49m\u001b[43mmongo_client\u001b[49m\u001b[43m=\u001b[49m\u001b[38;5;28;43mself\u001b[39;49m\u001b[43m,\u001b[49m\n\u001b[32m   2005\u001b[39m \u001b[43m        \u001b[49m\u001b[43mfunc\u001b[49m\u001b[43m=\u001b[49m\u001b[43mfunc\u001b[49m\u001b[43m,\u001b[49m\n\u001b[32m   2006\u001b[39m \u001b[43m        \u001b[49m\u001b[43mbulk\u001b[49m\u001b[43m=\u001b[49m\u001b[43mbulk\u001b[49m\u001b[43m,\u001b[49m\n\u001b[32m   2007\u001b[39m \u001b[43m        \u001b[49m\u001b[43moperation\u001b[49m\u001b[43m=\u001b[49m\u001b[43moperation\u001b[49m\u001b[43m,\u001b[49m\n\u001b[32m   2008\u001b[39m \u001b[43m        \u001b[49m\u001b[43mis_read\u001b[49m\u001b[43m=\u001b[49m\u001b[43mis_read\u001b[49m\u001b[43m,\u001b[49m\n\u001b[32m   2009\u001b[39m \u001b[43m        \u001b[49m\u001b[43msession\u001b[49m\u001b[43m=\u001b[49m\u001b[43msession\u001b[49m\u001b[43m,\u001b[49m\n\u001b[32m   2010\u001b[39m \u001b[43m        \u001b[49m\u001b[43mread_pref\u001b[49m\u001b[43m=\u001b[49m\u001b[43mread_pref\u001b[49m\u001b[43m,\u001b[49m\n\u001b[32m   2011\u001b[39m \u001b[43m        \u001b[49m\u001b[43maddress\u001b[49m\u001b[43m=\u001b[49m\u001b[43maddress\u001b[49m\u001b[43m,\u001b[49m\n\u001b[32m   2012\u001b[39m \u001b[43m        \u001b[49m\u001b[43mretryable\u001b[49m\u001b[43m=\u001b[49m\u001b[43mretryable\u001b[49m\u001b[43m,\u001b[49m\n\u001b[32m   2013\u001b[39m \u001b[43m        \u001b[49m\u001b[43moperation_id\u001b[49m\u001b[43m=\u001b[49m\u001b[43moperation_id\u001b[49m\u001b[43m,\u001b[49m\n\u001b[32m-> \u001b[39m\u001b[32m2014\u001b[39m \u001b[43m    \u001b[49m\u001b[43m)\u001b[49m\u001b[43m.\u001b[49m\u001b[43mrun\u001b[49m\u001b[43m(\u001b[49m\u001b[43m)\u001b[49m\n",
            "\u001b[36mFile \u001b[39m\u001b[32mc:\\Users\\Ethan Shafer\\Documents\\cmu-lessons\\.venv\\Lib\\site-packages\\pymongo\\synchronous\\mongo_client.py:2765\u001b[39m, in \u001b[36m_ClientConnectionRetryable.run\u001b[39m\u001b[34m(self)\u001b[39m\n\u001b[32m   2763\u001b[39m \u001b[38;5;28mself\u001b[39m._check_last_error(check_csot=\u001b[38;5;28;01mTrue\u001b[39;00m)\n\u001b[32m   2764\u001b[39m \u001b[38;5;28;01mtry\u001b[39;00m:\n\u001b[32m-> \u001b[39m\u001b[32m2765\u001b[39m     \u001b[38;5;28;01mreturn\u001b[39;00m \u001b[38;5;28mself\u001b[39m._read() \u001b[38;5;28;01mif\u001b[39;00m \u001b[38;5;28mself\u001b[39m._is_read \u001b[38;5;28;01melse\u001b[39;00m \u001b[38;5;28;43mself\u001b[39;49m\u001b[43m.\u001b[49m\u001b[43m_write\u001b[49m\u001b[43m(\u001b[49m\u001b[43m)\u001b[49m\n\u001b[32m   2766\u001b[39m \u001b[38;5;28;01mexcept\u001b[39;00m ServerSelectionTimeoutError:\n\u001b[32m   2767\u001b[39m     \u001b[38;5;66;03m# The application may think the write was never attempted\u001b[39;00m\n\u001b[32m   2768\u001b[39m     \u001b[38;5;66;03m# if we raise ServerSelectionTimeoutError on the retry\u001b[39;00m\n\u001b[32m   2769\u001b[39m     \u001b[38;5;66;03m# attempt. Raise the original exception instead.\u001b[39;00m\n\u001b[32m   2770\u001b[39m     \u001b[38;5;28mself\u001b[39m._check_last_error()\n",
            "\u001b[36mFile \u001b[39m\u001b[32mc:\\Users\\Ethan Shafer\\Documents\\cmu-lessons\\.venv\\Lib\\site-packages\\pymongo\\synchronous\\mongo_client.py:2875\u001b[39m, in \u001b[36m_ClientConnectionRetryable._write\u001b[39m\u001b[34m(self)\u001b[39m\n\u001b[32m   2873\u001b[39m max_wire_version = \u001b[32m0\u001b[39m\n\u001b[32m   2874\u001b[39m is_mongos = \u001b[38;5;28;01mFalse\u001b[39;00m\n\u001b[32m-> \u001b[39m\u001b[32m2875\u001b[39m \u001b[38;5;28mself\u001b[39m._server = \u001b[38;5;28;43mself\u001b[39;49m\u001b[43m.\u001b[49m\u001b[43m_get_server\u001b[49m\u001b[43m(\u001b[49m\u001b[43m)\u001b[49m\n\u001b[32m   2876\u001b[39m \u001b[38;5;28;01mwith\u001b[39;00m \u001b[38;5;28mself\u001b[39m._client._checkout(\u001b[38;5;28mself\u001b[39m._server, \u001b[38;5;28mself\u001b[39m._session) \u001b[38;5;28;01mas\u001b[39;00m conn:\n\u001b[32m   2877\u001b[39m     max_wire_version = conn.max_wire_version\n",
            "\u001b[36mFile \u001b[39m\u001b[32mc:\\Users\\Ethan Shafer\\Documents\\cmu-lessons\\.venv\\Lib\\site-packages\\pymongo\\synchronous\\mongo_client.py:2858\u001b[39m, in \u001b[36m_ClientConnectionRetryable._get_server\u001b[39m\u001b[34m(self)\u001b[39m\n\u001b[32m   2853\u001b[39m \u001b[38;5;28;01mdef\u001b[39;00m\u001b[38;5;250m \u001b[39m\u001b[34m_get_server\u001b[39m(\u001b[38;5;28mself\u001b[39m) -> Server:\n\u001b[32m   2854\u001b[39m \u001b[38;5;250m    \u001b[39m\u001b[33;03m\"\"\"Retrieves a server object based on provided object context\u001b[39;00m\n\u001b[32m   2855\u001b[39m \n\u001b[32m   2856\u001b[39m \u001b[33;03m    :return: Abstraction to connect to server\u001b[39;00m\n\u001b[32m   2857\u001b[39m \u001b[33;03m    \"\"\"\u001b[39;00m\n\u001b[32m-> \u001b[39m\u001b[32m2858\u001b[39m     \u001b[38;5;28;01mreturn\u001b[39;00m \u001b[38;5;28;43mself\u001b[39;49m\u001b[43m.\u001b[49m\u001b[43m_client\u001b[49m\u001b[43m.\u001b[49m\u001b[43m_select_server\u001b[49m\u001b[43m(\u001b[49m\n\u001b[32m   2859\u001b[39m \u001b[43m        \u001b[49m\u001b[38;5;28;43mself\u001b[39;49m\u001b[43m.\u001b[49m\u001b[43m_server_selector\u001b[49m\u001b[43m,\u001b[49m\n\u001b[32m   2860\u001b[39m \u001b[43m        \u001b[49m\u001b[38;5;28;43mself\u001b[39;49m\u001b[43m.\u001b[49m\u001b[43m_session\u001b[49m\u001b[43m,\u001b[49m\n\u001b[32m   2861\u001b[39m \u001b[43m        \u001b[49m\u001b[38;5;28;43mself\u001b[39;49m\u001b[43m.\u001b[49m\u001b[43m_operation\u001b[49m\u001b[43m,\u001b[49m\n\u001b[32m   2862\u001b[39m \u001b[43m        \u001b[49m\u001b[43maddress\u001b[49m\u001b[43m=\u001b[49m\u001b[38;5;28;43mself\u001b[39;49m\u001b[43m.\u001b[49m\u001b[43m_address\u001b[49m\u001b[43m,\u001b[49m\n\u001b[32m   2863\u001b[39m \u001b[43m        \u001b[49m\u001b[43mdeprioritized_servers\u001b[49m\u001b[43m=\u001b[49m\u001b[38;5;28;43mself\u001b[39;49m\u001b[43m.\u001b[49m\u001b[43m_deprioritized_servers\u001b[49m\u001b[43m,\u001b[49m\n\u001b[32m   2864\u001b[39m \u001b[43m        \u001b[49m\u001b[43moperation_id\u001b[49m\u001b[43m=\u001b[49m\u001b[38;5;28;43mself\u001b[39;49m\u001b[43m.\u001b[49m\u001b[43m_operation_id\u001b[49m\u001b[43m,\u001b[49m\n\u001b[32m   2865\u001b[39m \u001b[43m    \u001b[49m\u001b[43m)\u001b[49m\n",
            "\u001b[36mFile \u001b[39m\u001b[32mc:\\Users\\Ethan Shafer\\Documents\\cmu-lessons\\.venv\\Lib\\site-packages\\pymongo\\synchronous\\mongo_client.py:1833\u001b[39m, in \u001b[36mMongoClient._select_server\u001b[39m\u001b[34m(self, server_selector, session, operation, address, deprioritized_servers, operation_id)\u001b[39m\n\u001b[32m   1831\u001b[39m             \u001b[38;5;28;01mraise\u001b[39;00m AutoReconnect(\u001b[33m\"\u001b[39m\u001b[33mserver \u001b[39m\u001b[38;5;132;01m%s\u001b[39;00m\u001b[33m:\u001b[39m\u001b[38;5;132;01m%s\u001b[39;00m\u001b[33m no longer available\u001b[39m\u001b[33m\"\u001b[39m % address)  \u001b[38;5;66;03m# noqa: UP031\u001b[39;00m\n\u001b[32m   1832\u001b[39m     \u001b[38;5;28;01melse\u001b[39;00m:\n\u001b[32m-> \u001b[39m\u001b[32m1833\u001b[39m         server = \u001b[43mtopology\u001b[49m\u001b[43m.\u001b[49m\u001b[43mselect_server\u001b[49m\u001b[43m(\u001b[49m\n\u001b[32m   1834\u001b[39m \u001b[43m            \u001b[49m\u001b[43mserver_selector\u001b[49m\u001b[43m,\u001b[49m\n\u001b[32m   1835\u001b[39m \u001b[43m            \u001b[49m\u001b[43moperation\u001b[49m\u001b[43m,\u001b[49m\n\u001b[32m   1836\u001b[39m \u001b[43m            \u001b[49m\u001b[43mdeprioritized_servers\u001b[49m\u001b[43m=\u001b[49m\u001b[43mdeprioritized_servers\u001b[49m\u001b[43m,\u001b[49m\n\u001b[32m   1837\u001b[39m \u001b[43m            \u001b[49m\u001b[43moperation_id\u001b[49m\u001b[43m=\u001b[49m\u001b[43moperation_id\u001b[49m\u001b[43m,\u001b[49m\n\u001b[32m   1838\u001b[39m \u001b[43m        \u001b[49m\u001b[43m)\u001b[49m\n\u001b[32m   1839\u001b[39m     \u001b[38;5;28;01mreturn\u001b[39;00m server\n\u001b[32m   1840\u001b[39m \u001b[38;5;28;01mexcept\u001b[39;00m PyMongoError \u001b[38;5;28;01mas\u001b[39;00m exc:\n\u001b[32m   1841\u001b[39m     \u001b[38;5;66;03m# Server selection errors in a transaction are transient.\u001b[39;00m\n",
            "\u001b[36mFile \u001b[39m\u001b[32mc:\\Users\\Ethan Shafer\\Documents\\cmu-lessons\\.venv\\Lib\\site-packages\\pymongo\\synchronous\\topology.py:409\u001b[39m, in \u001b[36mTopology.select_server\u001b[39m\u001b[34m(self, selector, operation, server_selection_timeout, address, deprioritized_servers, operation_id)\u001b[39m\n\u001b[32m    399\u001b[39m \u001b[38;5;28;01mdef\u001b[39;00m\u001b[38;5;250m \u001b[39m\u001b[34mselect_server\u001b[39m(\n\u001b[32m    400\u001b[39m     \u001b[38;5;28mself\u001b[39m,\n\u001b[32m    401\u001b[39m     selector: Callable[[Selection], Selection],\n\u001b[32m   (...)\u001b[39m\u001b[32m    406\u001b[39m     operation_id: Optional[\u001b[38;5;28mint\u001b[39m] = \u001b[38;5;28;01mNone\u001b[39;00m,\n\u001b[32m    407\u001b[39m ) -> Server:\n\u001b[32m    408\u001b[39m \u001b[38;5;250m    \u001b[39m\u001b[33;03m\"\"\"Like select_servers, but choose a random server if several match.\"\"\"\u001b[39;00m\n\u001b[32m--> \u001b[39m\u001b[32m409\u001b[39m     server = \u001b[38;5;28;43mself\u001b[39;49m\u001b[43m.\u001b[49m\u001b[43m_select_server\u001b[49m\u001b[43m(\u001b[49m\n\u001b[32m    410\u001b[39m \u001b[43m        \u001b[49m\u001b[43mselector\u001b[49m\u001b[43m,\u001b[49m\n\u001b[32m    411\u001b[39m \u001b[43m        \u001b[49m\u001b[43moperation\u001b[49m\u001b[43m,\u001b[49m\n\u001b[32m    412\u001b[39m \u001b[43m        \u001b[49m\u001b[43mserver_selection_timeout\u001b[49m\u001b[43m,\u001b[49m\n\u001b[32m    413\u001b[39m \u001b[43m        \u001b[49m\u001b[43maddress\u001b[49m\u001b[43m,\u001b[49m\n\u001b[32m    414\u001b[39m \u001b[43m        \u001b[49m\u001b[43mdeprioritized_servers\u001b[49m\u001b[43m,\u001b[49m\n\u001b[32m    415\u001b[39m \u001b[43m        \u001b[49m\u001b[43moperation_id\u001b[49m\u001b[43m=\u001b[49m\u001b[43moperation_id\u001b[49m\u001b[43m,\u001b[49m\n\u001b[32m    416\u001b[39m \u001b[43m    \u001b[49m\u001b[43m)\u001b[49m\n\u001b[32m    417\u001b[39m     \u001b[38;5;28;01mif\u001b[39;00m _csot.get_timeout():\n\u001b[32m    418\u001b[39m         _csot.set_rtt(server.description.min_round_trip_time)\n",
            "\u001b[36mFile \u001b[39m\u001b[32mc:\\Users\\Ethan Shafer\\Documents\\cmu-lessons\\.venv\\Lib\\site-packages\\pymongo\\synchronous\\topology.py:387\u001b[39m, in \u001b[36mTopology._select_server\u001b[39m\u001b[34m(self, selector, operation, server_selection_timeout, address, deprioritized_servers, operation_id)\u001b[39m\n\u001b[32m    378\u001b[39m \u001b[38;5;28;01mdef\u001b[39;00m\u001b[38;5;250m \u001b[39m\u001b[34m_select_server\u001b[39m(\n\u001b[32m    379\u001b[39m     \u001b[38;5;28mself\u001b[39m,\n\u001b[32m    380\u001b[39m     selector: Callable[[Selection], Selection],\n\u001b[32m   (...)\u001b[39m\u001b[32m    385\u001b[39m     operation_id: Optional[\u001b[38;5;28mint\u001b[39m] = \u001b[38;5;28;01mNone\u001b[39;00m,\n\u001b[32m    386\u001b[39m ) -> Server:\n\u001b[32m--> \u001b[39m\u001b[32m387\u001b[39m     servers = \u001b[38;5;28;43mself\u001b[39;49m\u001b[43m.\u001b[49m\u001b[43mselect_servers\u001b[49m\u001b[43m(\u001b[49m\n\u001b[32m    388\u001b[39m \u001b[43m        \u001b[49m\u001b[43mselector\u001b[49m\u001b[43m,\u001b[49m\u001b[43m \u001b[49m\u001b[43moperation\u001b[49m\u001b[43m,\u001b[49m\u001b[43m \u001b[49m\u001b[43mserver_selection_timeout\u001b[49m\u001b[43m,\u001b[49m\u001b[43m \u001b[49m\u001b[43maddress\u001b[49m\u001b[43m,\u001b[49m\u001b[43m \u001b[49m\u001b[43moperation_id\u001b[49m\n\u001b[32m    389\u001b[39m \u001b[43m    \u001b[49m\u001b[43m)\u001b[49m\n\u001b[32m    390\u001b[39m     servers = _filter_servers(servers, deprioritized_servers)\n\u001b[32m    391\u001b[39m     \u001b[38;5;28;01mif\u001b[39;00m \u001b[38;5;28mlen\u001b[39m(servers) == \u001b[32m1\u001b[39m:\n",
            "\u001b[36mFile \u001b[39m\u001b[32mc:\\Users\\Ethan Shafer\\Documents\\cmu-lessons\\.venv\\Lib\\site-packages\\pymongo\\synchronous\\topology.py:294\u001b[39m, in \u001b[36mTopology.select_servers\u001b[39m\u001b[34m(self, selector, operation, server_selection_timeout, address, operation_id)\u001b[39m\n\u001b[32m    291\u001b[39m     \u001b[38;5;28mself\u001b[39m.cleanup_monitors()\n\u001b[32m    293\u001b[39m \u001b[38;5;28;01mwith\u001b[39;00m \u001b[38;5;28mself\u001b[39m._lock:\n\u001b[32m--> \u001b[39m\u001b[32m294\u001b[39m     server_descriptions = \u001b[38;5;28;43mself\u001b[39;49m\u001b[43m.\u001b[49m\u001b[43m_select_servers_loop\u001b[49m\u001b[43m(\u001b[49m\n\u001b[32m    295\u001b[39m \u001b[43m        \u001b[49m\u001b[43mselector\u001b[49m\u001b[43m,\u001b[49m\u001b[43m \u001b[49m\u001b[43mserver_timeout\u001b[49m\u001b[43m,\u001b[49m\u001b[43m \u001b[49m\u001b[43moperation\u001b[49m\u001b[43m,\u001b[49m\u001b[43m \u001b[49m\u001b[43moperation_id\u001b[49m\u001b[43m,\u001b[49m\u001b[43m \u001b[49m\u001b[43maddress\u001b[49m\n\u001b[32m    296\u001b[39m \u001b[43m    \u001b[49m\u001b[43m)\u001b[49m\n\u001b[32m    298\u001b[39m     \u001b[38;5;28;01mreturn\u001b[39;00m [\n\u001b[32m    299\u001b[39m         cast(Server, \u001b[38;5;28mself\u001b[39m.get_server_by_address(sd.address)) \u001b[38;5;28;01mfor\u001b[39;00m sd \u001b[38;5;129;01min\u001b[39;00m server_descriptions\n\u001b[32m    300\u001b[39m     ]\n",
            "\u001b[36mFile \u001b[39m\u001b[32mc:\\Users\\Ethan Shafer\\Documents\\cmu-lessons\\.venv\\Lib\\site-packages\\pymongo\\synchronous\\topology.py:344\u001b[39m, in \u001b[36mTopology._select_servers_loop\u001b[39m\u001b[34m(self, selector, timeout, operation, operation_id, address)\u001b[39m\n\u001b[32m    333\u001b[39m     \u001b[38;5;28;01mif\u001b[39;00m _SERVER_SELECTION_LOGGER.isEnabledFor(logging.DEBUG):\n\u001b[32m    334\u001b[39m         _debug_log(\n\u001b[32m    335\u001b[39m             _SERVER_SELECTION_LOGGER,\n\u001b[32m    336\u001b[39m             message=_ServerSelectionStatusMessage.FAILED,\n\u001b[32m   (...)\u001b[39m\u001b[32m    342\u001b[39m             failure=\u001b[38;5;28mself\u001b[39m._error_message(selector),\n\u001b[32m    343\u001b[39m         )\n\u001b[32m--> \u001b[39m\u001b[32m344\u001b[39m     \u001b[38;5;28;01mraise\u001b[39;00m ServerSelectionTimeoutError(\n\u001b[32m    345\u001b[39m         \u001b[33mf\u001b[39m\u001b[33m\"\u001b[39m\u001b[38;5;132;01m{\u001b[39;00m\u001b[38;5;28mself\u001b[39m._error_message(selector)\u001b[38;5;132;01m}\u001b[39;00m\u001b[33m, Timeout: \u001b[39m\u001b[38;5;132;01m{\u001b[39;00mtimeout\u001b[38;5;132;01m}\u001b[39;00m\u001b[33ms, Topology Description: \u001b[39m\u001b[38;5;132;01m{\u001b[39;00m\u001b[38;5;28mself\u001b[39m.description\u001b[38;5;132;01m!r}\u001b[39;00m\u001b[33m\"\u001b[39m\n\u001b[32m    346\u001b[39m     )\n\u001b[32m    348\u001b[39m \u001b[38;5;28;01mif\u001b[39;00m \u001b[38;5;129;01mnot\u001b[39;00m logged_waiting:\n\u001b[32m    349\u001b[39m     _debug_log(\n\u001b[32m    350\u001b[39m         _SERVER_SELECTION_LOGGER,\n\u001b[32m    351\u001b[39m         message=_ServerSelectionStatusMessage.WAITING,\n\u001b[32m   (...)\u001b[39m\u001b[32m    357\u001b[39m         remainingTimeMS=\u001b[38;5;28mint\u001b[39m(\u001b[32m1000\u001b[39m * (end_time - time.monotonic())),\n\u001b[32m    358\u001b[39m     )\n",
            "\u001b[31mServerSelectionTimeoutError\u001b[39m: none:27017: [Errno 11001] getaddrinfo failed (configured timeouts: socketTimeoutMS: 20000.0ms, connectTimeoutMS: 20000.0ms), Timeout: 30s, Topology Description: <TopologyDescription id: 68f8eeb4bbaa9882e9e89abb, topology_type: Unknown, servers: [<ServerDescription ('none', 27017) server_type: Unknown, rtt: None, error=AutoReconnect('none:27017: [Errno 11001] getaddrinfo failed (configured timeouts: socketTimeoutMS: 20000.0ms, connectTimeoutMS: 20000.0ms)')>]>"
          ]
        }
      ],
      "source": [
        "# Load the JSON file into MongoDB Atlas\n",
        "load_json_to_mongodb('car_model_sales.json')"
      ]
    },
    {
      "cell_type": "markdown",
      "metadata": {
        "id": "tYsknbqyvlPv"
      },
      "source": []
    },
    {
      "cell_type": "code",
      "execution_count": null,
      "metadata": {
        "id": "R1cfmdSjG4Mb"
      },
      "outputs": [],
      "source": [
        "# Function to check number of records in the collection\n",
        "def check_number_of_records():\n",
        "    # Count the number of documents in the 'car_sales' collection\n",
        "    record_count = collection.count_documents({})\n",
        "    print(f\"Number of records in the 'car_sales' collection: {record_count}\")"
      ]
    },
    {
      "cell_type": "code",
      "execution_count": null,
      "metadata": {
        "colab": {
          "base_uri": "https://localhost:8080/"
        },
        "id": "y4XZQu5nG6L-",
        "outputId": "97993453-8302-4863-d883-c1df3a27bede"
      },
      "outputs": [
        {
          "name": "stdout",
          "output_type": "stream",
          "text": [
            "Number of records in the 'car_sales' collection: 100\n"
          ]
        }
      ],
      "source": [
        "# Check the number of records after loading data\n",
        "check_number_of_records()"
      ]
    },
    {
      "cell_type": "code",
      "execution_count": null,
      "metadata": {
        "id": "JJYY4bfyFmPM"
      },
      "outputs": [],
      "source": [
        "def filter_data_from_mongodb(output_json):\n",
        "    # [Need to complete] Query MongoDB to filter cars from the year 2019 with sales greater than 4000\n",
        "    query = {\n",
        "    }\n",
        "\n",
        "    # Execute the query and fetch the filtered data\n",
        "    filtered_data = list(collection.find(query))  # Convert the result cursor to a list\n",
        "    print(len(filtered_data))\n",
        "\n",
        "    # Remove the MongoDB-specific '_id' field if you don't want it in the output\n",
        "    for car in filtered_data:\n",
        "        car.pop('_id', None)\n",
        "\n",
        "    # Write the filtered data to a JSON file\n",
        "    with open(output_json, mode='w', encoding='utf-8') as file:\n",
        "        json.dump(filtered_data, file, indent=4)\n",
        "\n",
        "    print(f\"Filtered data written to {output_json}\")"
      ]
    },
    {
      "cell_type": "code",
      "execution_count": null,
      "metadata": {
        "colab": {
          "base_uri": "https://localhost:8080/"
        },
        "id": "7RQ7blg4Fn7m",
        "outputId": "427a61e5-91bc-4ac3-8634-06f890cb6678"
      },
      "outputs": [
        {
          "name": "stdout",
          "output_type": "stream",
          "text": [
            "16\n",
            "Filtered data written to filtered_car_sales.json\n"
          ]
        }
      ],
      "source": [
        "# Test the function to filter data and write to JSON\n",
        "filter_data_from_mongodb('filtered_car_sales.json')"
      ]
    },
    {
      "cell_type": "markdown",
      "metadata": {
        "id": "SqF2rNK-MwX8"
      },
      "source": [
        "Click on refresh button on the left hand side in the Files section to see the newly created json file."
      ]
    }
  ],
  "metadata": {
    "colab": {
      "provenance": []
    },
    "kernelspec": {
      "display_name": ".venv",
      "language": "python",
      "name": "python3"
    },
    "language_info": {
      "codemirror_mode": {
        "name": "ipython",
        "version": 3
      },
      "file_extension": ".py",
      "mimetype": "text/x-python",
      "name": "python",
      "nbconvert_exporter": "python",
      "pygments_lexer": "ipython3",
      "version": "3.13.5"
    }
  },
  "nbformat": 4,
  "nbformat_minor": 0
}
