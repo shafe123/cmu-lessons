{
 "cells": [
  {
   "cell_type": "markdown",
   "metadata": {
    "id": "IHsvu6uBcHDH"
   },
   "source": [
    "# RECITATION 2\n",
    "## Table of Contents\n",
    "\n",
    "\n"
   ]
  },
  {
   "cell_type": "markdown",
   "metadata": {
    "colab_type": "toc",
    "id": "B5l6fKK0car2"
   },
   "source": [
    ">[RECITATION 2](#scrollTo=IHsvu6uBcHDH)\n",
    "\n",
    ">>[Table of Contents](#scrollTo=IHsvu6uBcHDH)\n",
    "\n",
    ">>[BOOLEAN EXPRESSIONS](#scrollTo=2oOLVGLaX1Gu)\n",
    "\n",
    ">>[IF STATEMENTS](#scrollTo=2Ed0-s4mbLV_)\n",
    "\n",
    ">>>[Problem 1](#scrollTo=aPtXdWb4icPD)\n",
    "\n",
    ">>>[Problem 2](#scrollTo=rVlrUwd1kRNI)\n",
    "\n",
    ">>>[Problem 3](#scrollTo=At-R0I3VliaH)\n",
    "\n",
    ">>[ITERATION](#scrollTo=ONSP6vYibOKH)\n",
    "\n",
    ">>>[Problem 4.1](#scrollTo=oaUT5Y1OoXcF)\n",
    "\n",
    ">>>[Problem 4.2](#scrollTo=oaUT5Y1OoXcF)\n",
    "\n",
    ">>>[Problem 5.1](#scrollTo=h3mO2-fxkIsi)\n",
    "\n",
    ">>>[Problem 5.2](#scrollTo=h3mO2-fxkIsi)\n",
    "\n",
    ">>>[Problem 5.3](#scrollTo=h3mO2-fxkIsi)\n",
    "\n",
    ">>[STRINGS](#scrollTo=GbjFsb10bHW6)\n",
    "\n",
    ">>>[NOTE: Strings are immutable. The characters cannot be changed independently.](#scrollTo=GbjFsb10bHW6)\n",
    "\n",
    ">>>[Problem 6:](#scrollTo=FrTBWaWg26i7)\n",
    "\n",
    ">>>[Problem 7.1:](#scrollTo=4ohE-KJOAYqi)\n",
    "\n",
    ">>>[Problem 7.2](#scrollTo=5rPEOpotBxY9)\n",
    "\n",
    ">>>[Problem 8:](#scrollTo=9n5gMu-9GfjZ)\n",
    "\n"
   ]
  },
  {
   "cell_type": "markdown",
   "metadata": {
    "id": "2oOLVGLaX1Gu"
   },
   "source": [
    "## BOOLEAN EXPRESSIONS"
   ]
  },
  {
   "cell_type": "code",
   "execution_count": null,
   "metadata": {
    "colab": {
     "base_uri": "https://localhost:8080/"
    },
    "executionInfo": {
     "elapsed": 11295,
     "status": "ok",
     "timestamp": 1725467555900,
     "user": {
      "displayName": "Can Kultur",
      "userId": "13635009398630472528"
     },
     "user_tz": 240
    },
    "id": "iiiaRgEefEAn",
    "outputId": "1350349c-b23b-467a-a681-8c2dd6955f43"
   },
   "outputs": [
    {
     "name": "stdout",
     "output_type": "stream",
     "text": [
      "Enter a value: 5\n"
     ]
    }
   ],
   "source": [
    "\n",
    "# Complete the missing conditions with boolean expressions\n",
    "number = int(input(\"Enter a value: \"))\n",
    "replace_this_condition = False\n",
    "\n",
    "if number % 2 == 0 :\n",
    "    print(f\"{number} is divisible by 2\")\n",
    "\n",
    "if number % 13 == 0 :\n",
    "    print(f\"{number} is divisible by 13\")\n",
    "\n",
    "if number > 0 :\n",
    "    print(f\"{number} is an even positive value\")\n",
    "\n",
    "if -10 < number < 10 :\n",
    "    print(f\"{number} is a single digit number\")\n",
    "\n",
    "if -10 < number < 0 :\n",
    "    print(f\"{number} is a single digit negative number\")\n",
    "\n",
    "if number > 9 :\n",
    "    print(f\"{number} is not a single digit number\")\n",
    "\n"
   ]
  },
  {
   "cell_type": "markdown",
   "metadata": {
    "id": "2Ed0-s4mbLV_"
   },
   "source": [
    "## IF STATEMENTS\n"
   ]
  },
  {
   "cell_type": "markdown",
   "metadata": {
    "id": "aPtXdWb4icPD"
   },
   "source": [
    "### Problem 1\n",
    "\n",
    "Write a function that return utilization cost of a resource. This function inputs the number of hours it is used and the hourly rate of a resource. Consider the following while calculating the cost:\n",
    "- **if the usage is more than 30 hours than 10% discount will be applied**.\n",
    "\n",
    "**Sample run** for\n",
    "```\n",
    "print(your_function_name(20, 40))\n",
    "print(your_function_name(40, 20))\n",
    "```\n",
    "will display\n",
    "\n",
    "```\n",
    "800\n",
    "720.0\n",
    "```\n",
    "\n"
   ]
  },
  {
   "cell_type": "code",
   "execution_count": 1,
   "metadata": {
    "colab": {
     "base_uri": "https://localhost:8080/"
    },
    "executionInfo": {
     "elapsed": 319,
     "status": "ok",
     "timestamp": 1725459872846,
     "user": {
      "displayName": "Can Kultur",
      "userId": "13635009398630472528"
     },
     "user_tz": 240
    },
    "id": "peg46mJEj6px",
    "outputId": "5ff8183a-c835-44ed-b827-354a4e07c5c6"
   },
   "outputs": [
    {
     "name": "stdout",
     "output_type": "stream",
     "text": [
      "800\n",
      "720.0\n"
     ]
    }
   ],
   "source": [
    "# Write your function here\n",
    "def your_function_name(hours, rate):\n",
    "    cost = hours * rate\n",
    "    if hours > 30:\n",
    "        cost *= 0.9\n",
    "    return cost\n",
    "\n",
    "print(your_function_name(20, 40))\n",
    "print(your_function_name(40, 20))"
   ]
  },
  {
   "cell_type": "markdown",
   "metadata": {
    "id": "rVlrUwd1kRNI"
   },
   "source": [
    "### Problem 2\n",
    "Write a function that return utilization cost of a resource. This function inputs the number of hours it is used and the hourly rate of a resource. Consider the following while calculating the cost:\n",
    "- **after 30 hours of use, the hourly rate will be 80% of the standard hourly rate for each extra hour.**\n",
    "\n",
    "\n",
    "**Sample run** for\n",
    "```\n",
    "print(your_function_name(20, 40))\n",
    "print(your_function_name(40, 20))\n",
    "```\n",
    "will display\n",
    "\n",
    "```\n",
    "800\n",
    "760.0\n",
    "```"
   ]
  },
  {
   "cell_type": "code",
   "execution_count": null,
   "metadata": {
    "colab": {
     "base_uri": "https://localhost:8080/"
    },
    "executionInfo": {
     "elapsed": 378,
     "status": "ok",
     "timestamp": 1725460210155,
     "user": {
      "displayName": "Can Kultur",
      "userId": "13635009398630472528"
     },
     "user_tz": 240
    },
    "id": "KEUe_0PglhSz",
    "outputId": "df631093-cfd4-45f8-eca2-e8f22efe5533"
   },
   "outputs": [
    {
     "name": "stdout",
     "output_type": "stream",
     "text": [
      "800.0\n",
      "760.0\n"
     ]
    }
   ],
   "source": [
    "# after 30 hours of use, the hourly rate will be 80% of the standard hourly rate for each extra hour.\n",
    "def util_cost2(hours: int, rate: float) -> float:\n",
    "    THRESHOLD = 30\n",
    "    DISCOUNT = 0.80\n",
    "\n",
    "    first_hours = max(min(hours, THRESHOLD), 0) # make sure first_hours is between 0 and 30\n",
    "    second_hours = max(hours - THRESHOLD, 0) # make sure second_hours is between 0 and inf\n",
    "    return first_hours * rate + second_hours * rate * DISCOUNT\n",
    "\n",
    "print(your_function_name(20, 40))\n",
    "print(your_function_name(40, 20))"
   ]
  },
  {
   "cell_type": "markdown",
   "metadata": {
    "id": "At-R0I3VliaH"
   },
   "source": [
    "### Problem 3\n",
    "Write a function that generates a random integer between 1 and 5 (including 5) and returns the name of this random number.  \n",
    "\n",
    "Use the ```randint()``` function from the ```random``` module.  \n",
    "\n",
    "Call the function to fill in the blank\n",
    "\n",
    "```\n",
    "print(\"Your random number is_______\")\n",
    "```\n",
    "\n",
    "\n",
    "\n",
    "**Sample Run:**\n",
    "```\n",
    "Your random number is five.\n",
    "```\n",
    "\n",
    "_Hint: use ```help()``` to see what ```randint()``` can do_\n"
   ]
  },
  {
   "cell_type": "code",
   "execution_count": null,
   "metadata": {
    "colab": {
     "base_uri": "https://localhost:8080/"
    },
    "executionInfo": {
     "elapsed": 374,
     "status": "ok",
     "timestamp": 1725460567230,
     "user": {
      "displayName": "Can Kultur",
      "userId": "13635009398630472528"
     },
     "user_tz": 240
    },
    "id": "nfYUfsLWphyA",
    "outputId": "531eb469-2efa-42b3-cdd1-7a7e39f35dc0"
   },
   "outputs": [
    {
     "name": "stdout",
     "output_type": "stream",
     "text": [
      "Your random number is two.\n"
     ]
    }
   ],
   "source": [
    "from random import randint\n",
    "def random_name_ifs():\n",
    "    val = randint(1, 5)\n",
    "    if val == 1:\n",
    "        return 'one'\n",
    "    elif val == 2:\n",
    "        return 'two'\n",
    "    elif val == 3:\n",
    "        return 'three'\n",
    "    elif val == 4:\n",
    "        return 'four'\n",
    "    elif val == 5:\n",
    "        return 'five'\n",
    "    else:\n",
    "        raise NotImplementedError('Only handles 1 - 5')\n",
    "\n",
    "def random_name_match():\n",
    "    val = randint(1, 5)\n",
    "    match val:\n",
    "        case 1:\n",
    "            return 'one'\n",
    "        case 2:\n",
    "            return 'two'\n",
    "        case 3:\n",
    "            return 'three'\n",
    "        case 4:\n",
    "            return 'four'\n",
    "        case 5:\n",
    "            return 'five'\n",
    "        case _:\n",
    "            raise SystemError('Cosmic bit flip occurred')\n",
    "\n",
    "def random_name_dict():\n",
    "    names = {1: 'one', 2: 'two', 3: 'three', 4: 'four', 5: 'five'}\n",
    "    return names[randint(1, 5)]\n",
    "\n",
    "def random_name_list():\n",
    "    names = ['one', 'two', 'three', 'four', 'five']\n",
    "    return names[randint(1, 5) - 1]\n",
    "\n",
    "print(f\"Your random number is {random_name_list()}.\")"
   ]
  },
  {
   "cell_type": "markdown",
   "metadata": {
    "id": "ONSP6vYibOKH"
   },
   "source": [
    "## ITERATION"
   ]
  },
  {
   "cell_type": "markdown",
   "metadata": {
    "id": "oaUT5Y1OoXcF"
   },
   "source": [
    "### Problem 4.1\n",
    "Write a Python script that inputs positive integers until a negative value is input. The program should count the entries and report at the end.\n",
    "\n",
    "**Sample Run:**\n",
    "```\n",
    "Enter an integer (negative or zero to quit): 4\n",
    "Enter an integer (negative or zero to quit): 2\n",
    "Enter an integer (negative or zero to quit): -1\n",
    "You entered 2 positive integers\n",
    "```\n",
    "\n",
    "\n",
    "---\n",
    "### Problem 4.2\n",
    "\n",
    "Modify your code to calculate abd display the average of the entered values.\n",
    "\n",
    "**Sample Run:**\n",
    "\n",
    "```\n",
    "Enter an integer (negative or zero to quit): 4\n",
    "Enter an integer (negative or zero to quit): 2\n",
    "Enter an integer (negative or zero to quit): 3\n",
    "Enter an integer (negative or zero to quit): 0\n",
    "You entered 3 positive integers\n",
    "Their average is 3.00\n",
    "```\n",
    "\n",
    "\n",
    "\n"
   ]
  },
  {
   "cell_type": "code",
   "execution_count": 24,
   "metadata": {
    "colab": {
     "base_uri": "https://localhost:8080/"
    },
    "executionInfo": {
     "elapsed": 3448,
     "status": "ok",
     "timestamp": 1725461835668,
     "user": {
      "displayName": "Can Kultur",
      "userId": "13635009398630472528"
     },
     "user_tz": 240
    },
    "id": "LG9MqFd5qEGl",
    "outputId": "f798b859-9d57-4b9d-d801-965fb292bd29"
   },
   "outputs": [
    {
     "name": "stdout",
     "output_type": "stream",
     "text": [
      "You entered 3 positive integers\n",
      "Their average is 10.00\n"
     ]
    }
   ],
   "source": [
    "from statistics import mean\n",
    "def input_until_negative_list():\n",
    "    user_num = 1\n",
    "    all_nums = []\n",
    "    while user_num > 0:\n",
    "        user_num = int(input(\"Enter an integer (negative or zero to quit): \"))\n",
    "        all_nums.append(user_num)\n",
    "    # get rid of last input\n",
    "    all_nums.pop()\n",
    "    print(f\"You entered {len(all_nums)} positive integers\")\n",
    "    if len(all_nums) > 0:\n",
    "        print(f\"Their average is {mean(all_nums):.2f}\")\n",
    "\n",
    "def input_until_negative():\n",
    "    user_num = 1\n",
    "    total = 0\n",
    "    count = 0\n",
    "    while user_num > 0:\n",
    "        user_num = int(input(\"Enter an integer (negative or zero to quit): \"))\n",
    "        count += 1\n",
    "        total += user_num\n",
    "    # get rid of last input\n",
    "    total -= user_num\n",
    "    count -= 1\n",
    "\n",
    "    print(f\"You entered {count} positive integers\")\n",
    "    if count > 0:\n",
    "        print(f\"Their average is {total / count:.2f}\")\n",
    "\n",
    "input_until_negative()"
   ]
  },
  {
   "cell_type": "markdown",
   "metadata": {
    "id": "h3mO2-fxkIsi"
   },
   "source": [
    "### Problem 5.1\n",
    "Write a function named **show_even_between** to **display** the even numbers within a given range. The function gets two integer values as parameters and you can assume that the first value is always smaller than the second.\n",
    "\n",
    "**Sample Run-1** for show_even_between(30, 35)\n",
    "```\n",
    "Even numbers from 30 to 35:\n",
    "30\n",
    "32\n",
    "34\n",
    "```\n",
    "\n",
    "**Sample Run-2** for show_even_between(3, 6)\n",
    "```\n",
    "Even numbers from 3 to 6:\n",
    "4\n",
    "6\n",
    "```\n",
    "\n",
    "\n",
    "### Problem 5.2\n",
    "Modify your program so that the output is in the same row. Consider\n",
    "1. using string concatanation, or\n",
    "2. using the 'end' parameter of the print() function\n",
    "\n",
    "**Sample Run-1** for show_even_between(30, 47)\n",
    "```\n",
    "Even numbers from 30 to 47:\n",
    "30 32 34 36 38 40 42 44 46\n",
    "```\n",
    "\n",
    "**Sample Run-2** for show_even_between(3, 6)\n",
    "```\n",
    "Even numbers from 3 to 6:\n",
    "4 6\n",
    "```\n",
    "\n",
    "### Problem 5.3\n",
    "Modify your program so that the initial parameter can be bigger than the second parameter.\n",
    "\n",
    "**Sample Run-1** for show_even_between(**30, 47**)\n",
    "```\n",
    "Even numbers from 30 to 47:\n",
    "30 32 34 36 38 40 42 44 46\n",
    "```\n",
    "\n",
    "**Sample Run-2** for show_even_between(**47, 30**)\n",
    "```\n",
    "Even numbers from 30 to 47:\n",
    "30 32 34 36 38 40 42 44 46\n",
    "```\n",
    "\n"
   ]
  },
  {
   "cell_type": "code",
   "execution_count": 2,
   "metadata": {
    "colab": {
     "base_uri": "https://localhost:8080/"
    },
    "executionInfo": {
     "elapsed": 284,
     "status": "ok",
     "timestamp": 1725463213602,
     "user": {
      "displayName": "Can Kultur",
      "userId": "13635009398630472528"
     },
     "user_tz": 240
    },
    "id": "NZQvEVdjQWXy",
    "outputId": "60a903d3-d788-4f74-96eb-aebff4801c60"
   },
   "outputs": [
    {
     "name": "stdout",
     "output_type": "stream",
     "text": [
      "30 32 34 36 38 40 42 44 46 \n",
      "30 32 34 36 38 40 42 44 46 "
     ]
    }
   ],
   "source": [
    "# For problem 5 write your solution here\n",
    "def show_even_between(num_one, num_two):\n",
    "    if num_one > num_two:\n",
    "        num_one, num_two = num_two, num_one\n",
    "    [print(num, end=\" \") for num in range(num_one, num_two + 1, 2) if num % 2 == 0]\n",
    "\n",
    "show_even_between(47, 30)\n",
    "print()\n",
    "\n",
    "def show_even_between_one_line(num_one, num_two):\n",
    "    [print(num, end=\" \") for num in range(min(num_one, num_two), max(num_one, num_two) + 1, 2) if num % 2 == 0]\n",
    "\n",
    "show_even_between_one_line(47, 30)"
   ]
  },
  {
   "cell_type": "markdown",
   "metadata": {
    "id": "GbjFsb10bHW6"
   },
   "source": [
    "## STRINGS\n",
    "\n",
    "### NOTE: Strings are immutable. The characters cannot be changed independently.\n"
   ]
  },
  {
   "cell_type": "code",
   "execution_count": null,
   "metadata": {
    "colab": {
     "base_uri": "https://localhost:8080/"
    },
    "executionInfo": {
     "elapsed": 459,
     "status": "ok",
     "timestamp": 1725463589345,
     "user": {
      "displayName": "Can Kultur",
      "userId": "13635009398630472528"
     },
     "user_tz": 240
    },
    "id": "m59aleJo025l",
    "outputId": "6ee7a1f1-cc1c-4ad5-c01c-482352c6f564"
   },
   "outputs": [
    {
     "name": "stdout",
     "output_type": "stream",
     "text": [
      "r\n",
      "Recitation\n"
     ]
    }
   ],
   "source": [
    "title = 'recitation'\n",
    "\n",
    "# If we want to change title to 'Recitation' can we write the following\n",
    "\n",
    "print(title[0])\n",
    "# title[0] = 'R'\n",
    "\n",
    "\n",
    "# How can we change it?\n",
    "title = \"R\" + title[1:]\n",
    "print(title)"
   ]
  },
  {
   "cell_type": "markdown",
   "metadata": {
    "id": "FrTBWaWg26i7"
   },
   "source": [
    "### Problem 6:\n",
    "\n",
    "Write a function (named as **is_palindrome**) that returns if a given string is palindrome (e.g. mom, dad, eye, noon, anna, radar, level, madam)\n",
    "\n",
    "Write a program which inputs data from user and checks if the given word is a plandrome or not. Continue getting input until user enters 'exit'.\n",
    "\n",
    "Palindrome check should be case insensitive and ignore the leading and trailing whitespaces.\n",
    "\n",
    "**Sample run:**\n",
    "```\n",
    "Enter word (write exit to stop): mom\n",
    "mom is a palindrome\n",
    "\n",
    "Enter word (write exit to stop): Noon\n",
    "Noon is a palindrome\n",
    "\n",
    "Enter word (write exit to stop): never\n",
    "never is NOT a palindrome\n",
    "\n",
    "Enter word (write exit to stop):          Anna\n",
    "Anna is a palindrome\n",
    "\n",
    "Enter word (write exit to stop): exit\n",
    "End of program\n",
    "```"
   ]
  },
  {
   "cell_type": "code",
   "execution_count": 11,
   "metadata": {
    "colab": {
     "base_uri": "https://localhost:8080/"
    },
    "executionInfo": {
     "elapsed": 51130,
     "status": "ok",
     "timestamp": 1725464287717,
     "user": {
      "displayName": "Can Kultur",
      "userId": "13635009398630472528"
     },
     "user_tz": 240
    },
    "id": "uEVWQx66TTSQ",
    "outputId": "46f13ea1-b6d7-4e10-f96f-3297f27e24b7"
   },
   "outputs": [
    {
     "data": {
      "text/plain": [
       "True"
      ]
     },
     "execution_count": 11,
     "metadata": {},
     "output_type": "execute_result"
    }
   ],
   "source": [
    "def is_palindrome(word):\n",
    "    return word.lower() == word.lower()[::-1]\n",
    "\n",
    "is_palindrome('Anna')"
   ]
  },
  {
   "cell_type": "markdown",
   "metadata": {
    "id": "4ohE-KJOAYqi"
   },
   "source": [
    "### Problem 7.1:\n",
    "\n",
    "Write a program that inputs a string value and repetitively displays it but removing the first and last characters each time until a single or no character remains.\n",
    "\n",
    "**Sample Run:**\n",
    "\n",
    "\n",
    "```\n",
    "Enter a word: Abracadabra\n",
    "\n",
    "Abracadabra\n",
    "bracadabr\n",
    "racadab\n",
    "acada\n",
    "cad\n",
    "a\n",
    "```\n",
    "\n"
   ]
  },
  {
   "cell_type": "code",
   "execution_count": 14,
   "metadata": {
    "id": "s8UKVzspBI-1"
   },
   "outputs": [
    {
     "name": "stdout",
     "output_type": "stream",
     "text": [
      "Abracadabra\n",
      "bracadabr\n",
      "racadab\n",
      "acada\n",
      "cad\n",
      "a\n"
     ]
    }
   ],
   "source": [
    "def pyramid(word):\n",
    "    while len(word) > 0:\n",
    "        print(word)\n",
    "        word = word[1:-1]\n",
    "\n",
    "pyramid('Abracadabra')"
   ]
  },
  {
   "cell_type": "markdown",
   "metadata": {
    "id": "5rPEOpotBxY9"
   },
   "source": [
    "### Problem 7.2\n",
    "\n",
    "Copy and modify your code to display it as below\n",
    "```\n",
    "Enter a word: Abracadabra\n",
    "\n",
    "Abracadabra\n",
    " bracadabr\n",
    "  racadab\n",
    "   acada\n",
    "    cad\n",
    "     a\n",
    "```\n"
   ]
  },
  {
   "cell_type": "code",
   "execution_count": 16,
   "metadata": {
    "id": "nM2jAyk0BwsD"
   },
   "outputs": [
    {
     "name": "stdout",
     "output_type": "stream",
     "text": [
      "abracadabra\n",
      " bracadabr \n",
      "  racadab  \n",
      "   acada   \n",
      "    cad    \n",
      "     a     \n"
     ]
    }
   ],
   "source": [
    "def pyramid(word):\n",
    "    original_len = len(word)\n",
    "    while len(word) > 0:\n",
    "        print(word.center(original_len))\n",
    "        word = word[1:-1]\n",
    "pyramid('abracadabra')"
   ]
  },
  {
   "cell_type": "markdown",
   "metadata": {
    "id": "9n5gMu-9GfjZ"
   },
   "source": [
    "### Problem 8:\n",
    "Change the following code so that you can display the words listed by using slicing\n",
    "\n",
    "**Sample Run:**\n",
    "```\n",
    "star desserts\n",
    "0123456789012\n",
    "-------------\n",
    "star        : star\n",
    "dessert     : dessert\n",
    "desserts    : desserts\n",
    "\n",
    "Reverse of 'star desserts': stressed rats\n",
    "\n",
    "stressed rat : stressed rat\n",
    "stress       : stress\n",
    "```\n",
    "\n"
   ]
  },
  {
   "cell_type": "code",
   "execution_count": 18,
   "metadata": {
    "colab": {
     "base_uri": "https://localhost:8080/"
    },
    "executionInfo": {
     "elapsed": 192,
     "status": "ok",
     "timestamp": 1725421275193,
     "user": {
      "displayName": "Can Kultur",
      "userId": "13635009398630472528"
     },
     "user_tz": 240
    },
    "id": "Q9OF1OPcbZtu",
    "outputId": "013d3a56-ea19-4ddb-de08-207b55ff2931"
   },
   "outputs": [
    {
     "name": "stdout",
     "output_type": "stream",
     "text": [
      "star desserts\n",
      "0123456789012\n",
      "-------------\n",
      "star        : star \n",
      "dessert     : dessert \n",
      "desserts    : desserts \n",
      "\n",
      "Reverse of 'star desserts': stressed rats \n",
      "\n",
      "stressed rat : stressed rat \n",
      "stress       : stress \n"
     ]
    }
   ],
   "source": [
    "phrase = \"star desserts\"\n",
    "index  = \"0123456789012\"\n",
    "\n",
    "print(phrase)\n",
    "print(index)\n",
    "print('-' * len(phrase))\n",
    "\n",
    "print(f\"star        : {phrase[:4]} \")\n",
    "print(f\"dessert     : {phrase[5:-1]} \")\n",
    "print(f\"desserts    : {phrase[5:]} \")\n",
    "\n",
    "# Display the reversed phrase using slicing\n",
    "print()\n",
    "print(f\"Reverse of '{phrase}': {phrase[::-1]} \")\n",
    "print()\n",
    "print(f\"stressed rat : {phrase[:-13:-1]} \")\n",
    "print(f\"stress       : {phrase[:-7:-1]} \")\n"
   ]
  },
  {
   "cell_type": "code",
   "execution_count": null,
   "metadata": {
    "id": "u3A6VC-iX8H2"
   },
   "outputs": [],
   "source": []
  }
 ],
 "metadata": {
  "colab": {
   "collapsed_sections": [
    "2oOLVGLaX1Gu",
    "GbjFsb10bHW6"
   ],
   "provenance": [
    {
     "file_id": "1ancWQtlfR0wl1EVkDJzH2p_38K2zSFbt",
     "timestamp": 1756905879032
    }
   ]
  },
  "kernelspec": {
   "display_name": ".venv",
   "language": "python",
   "name": "python3"
  },
  "language_info": {
   "codemirror_mode": {
    "name": "ipython",
    "version": 3
   },
   "file_extension": ".py",
   "mimetype": "text/x-python",
   "name": "python",
   "nbconvert_exporter": "python",
   "pygments_lexer": "ipython3",
   "version": "3.13.5"
  }
 },
 "nbformat": 4,
 "nbformat_minor": 0
}
