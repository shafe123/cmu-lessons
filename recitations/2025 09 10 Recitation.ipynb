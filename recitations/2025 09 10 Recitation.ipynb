{
  "cells": [
    {
      "cell_type": "markdown",
      "metadata": {
        "id": "4LSOBV2Mv4vZ"
      },
      "source": [
        "# DATA STRUCTURES - RECITATION"
      ]
    },
    {
      "cell_type": "markdown",
      "metadata": {
        "id": "F0Tzwh3fwLe6"
      },
      "source": [
        "## LISTS"
      ]
    },
    {
      "cell_type": "markdown",
      "metadata": {
        "id": "eS0gQL2wwXSm"
      },
      "source": [
        "### Create, Add, Modify, Remove Items\n",
        "\n"
      ]
    },
    {
      "cell_type": "code",
      "execution_count": 2,
      "metadata": {
        "colab": {
          "base_uri": "https://localhost:8080/"
        },
        "id": "LhQSapV9INop",
        "outputId": "652095bb-d000-43b2-86cd-187b74e39366"
      },
      "outputs": [
        {
          "name": "stdout",
          "output_type": "stream",
          "text": [
            "------\n",
            "Digits (extended)  : [0, 1, 2, 3, 4, 5, 6, 7, 8, 9, 'A', 'B', 'C', 'D', 'E', 'F', 'G']\n",
            "Digits - last item : [0, 1, 2, 3, 4, 5, 6, 7, 8, 9, 'A', 'B', 'C', 'D', 'E', 'F']\n",
            "Digits - 'B'.      : [0, 1, 2, 3, 4, 5, 6, 7, 8, 9, 'A', 'C', 'D', 'E', 'F']\n",
            "Digits - 'C'.      : [0, 1, 2, 3, 4, 5, 6, 7, 8, 9, 'A', 'D', 'E', 'F']\n",
            "Digits - 'A', 'D'  : [0, 1, 2, 3, 4, 5, 6, 7, 8, 9, 'E', 'F']\n",
            "Digits             : [0, 1, 2, 3, 4, 5, 6, 7, 8, 9]\n"
          ]
        }
      ],
      "source": [
        "digits = [0, 1, 2, 3, 4, 5, 6, 7, 8, 9]\n",
        "print(\"------\")\n",
        "\n",
        "digits.extend(['A', 'B', 'C', 'D', 'E', 'F', 'G'])\n",
        "print(f\"Digits (extended)  : {digits}\")\n",
        "\n",
        "# remove last item using the pop method\n",
        "digits.pop()\n",
        "\n",
        "\n",
        "print(f\"Digits - last item : {digits}\")\n",
        "\n",
        "# use pop method for to delete item 'B'\n",
        "digits.pop(digits.index('B'))\n",
        "\n",
        "print(f\"Digits - 'B'.      : {digits}\")\n",
        "\n",
        "# use remove method to delete item 'C'\n",
        "digits.remove('C')\n",
        "\n",
        "print(f\"Digits - 'C'.      : {digits}\")\n",
        "\n",
        "# use del statement to delete items 'A', 'D'\n",
        "del digits[digits.index('A')]\n",
        "del digits[digits.index('D')]\n",
        "\n",
        "\n",
        "print(f\"Digits - 'A', 'D'  : {digits}\")\n",
        "\n",
        "# use slicing and assignment to get rid of 'E', 'F'\n",
        "digits = digits[:-2]\n",
        "\n",
        "print(f\"Digits             : {digits}\")"
      ]
    },
    {
      "cell_type": "markdown",
      "metadata": {
        "id": "5jCNXaYAIzjv"
      },
      "source": [
        "## Alias vs Copies\n",
        "***\n",
        "\n",
        "#### we need another list (rev_digits) which is sorted in descending order. Generate this list using the *digits* list. Then display both lists"
      ]
    },
    {
      "cell_type": "code",
      "execution_count": 6,
      "metadata": {
        "colab": {
          "base_uri": "https://localhost:8080/"
        },
        "id": "Jl012i5BE5ww",
        "outputId": "8054e7d9-5893-4682-f544-b383f550a5e0"
      },
      "outputs": [
        {
          "name": "stdout",
          "output_type": "stream",
          "text": [
            "Digits (sorted): [0, 1, 2, 3, 4, 5, 6, 7, 8, 9]\n",
            "Digits (reversed): [9, 8, 7, 6, 5, 4, 3, 2, 1, 0]\n"
          ]
        }
      ],
      "source": [
        "digits = [0, 1, 2, 3, 4, 5, 6, 7, 8, 9]\n",
        "reversed = digits[::-1]\n",
        "\n",
        "# or...\n",
        "reversed = digits[:]\n",
        "reversed.sort(reverse=True)\n",
        "\n",
        "# why not reversed.reverse()?  How is that different than \"sorted in descending order\"?\n",
        "\n",
        "print(f\"Digits (sorted): {digits}\")\n",
        "print(f\"Digits (reversed): {reversed}\")\n"
      ]
    },
    {
      "cell_type": "markdown",
      "metadata": {
        "id": "WTlUxMqZ61ab"
      },
      "source": [
        "### PROBLEM\n",
        "\n",
        "A hexadecimal color is expressed as #RRGGBB. The RR (red), GG (green) and BB (blue) hexadecimal integers specify the components of the color.\n",
        "\n",
        "```\n",
        "#ff0000 : red\n",
        "#00ff00 : green\n",
        "#0000ff : blue\n",
        "#000000 : black\n",
        "#ffffff : white\n",
        "```"
      ]
    },
    {
      "cell_type": "code",
      "execution_count": null,
      "metadata": {
        "colab": {
          "base_uri": "https://localhost:8080/"
        },
        "id": "7OLdPS8UwjYz",
        "outputId": "0f0e6bb3-7813-4329-c88d-a525042979aa"
      },
      "outputs": [
        {
          "name": "stdout",
          "output_type": "stream",
          "text": [
            "Available colors: ['#ff0000', '#00ff00', '#0000ff', '#000000', '#ffffff']\n",
            "1 red (#ff0000) t-shirts\n",
            "2 green (#00ff00) t-shirts\n",
            "3 blue (#0000ff) t-shirts\n",
            "4 black (#000000) t-shirts\n",
            "5 white (#ffffff) t-shirts\n",
            "15 t-shirts total\n",
            "The most requested t-shirt is white\n"
          ]
        }
      ],
      "source": [
        "# Create two lists: one includes names of three colors that you select\n",
        "# and the other one includes their hex codes in a parallel way\n",
        "colors = ['#ff0000', '#00ff00', '#0000ff', '#000000', '#ffffff']\n",
        "names = ['red', 'green', 'blue', 'black', 'white']\n",
        "\n",
        "\n",
        "# Display the colors on the screen as \"Available colors: ... \"\n",
        "print(f\"Available colors: {colors}\")\n",
        "\n",
        "# For each color input/ask 'How many {color} t-shirts do you want?'\n",
        "# and store these into a list\n",
        "orders = []\n",
        "for name in names:\n",
        "    user_num = input(f\"how many {name} t-shirts do you want? \")\n",
        "    orders.append(int(user_num))\n",
        "\n",
        "\n",
        "# Display the orders of the user\n",
        "# eg. \"5 red (#ff0000) t-shirts\"  ...\n",
        "# and at the end \"in total 13 t-shirts\"\n",
        "for line_index, name in enumerate(names):\n",
        "    print(f\"{orders[line_index]} {name} ({colors[line_index]}) t-shirts\")\n",
        "print(f\"{sum(orders)} t-shirts total\")\n",
        "\n",
        "# Display the color of the most requested t-shirt\n",
        "max_index = orders.index(max(orders))\n",
        "print(f\"The most requested t-shirt is {names[max_index]}\")\n",
        "\n",
        "\n",
        "# Question: can we find max_order by sorting and geting the last item\n",
        "# Yes, but then getting the corresponding color is not possible\n"
      ]
    },
    {
      "cell_type": "markdown",
      "metadata": {
        "id": "73mRjF1S2XiW"
      },
      "source": [
        "## TUPLES\n"
      ]
    },
    {
      "cell_type": "markdown",
      "metadata": {
        "id": "428jFKlDOxx7"
      },
      "source": [
        "### Create, access,  modify tuples\n"
      ]
    },
    {
      "cell_type": "code",
      "execution_count": 9,
      "metadata": {
        "colab": {
          "base_uri": "https://localhost:8080/"
        },
        "id": "smMNXuDKXCGf",
        "outputId": "9eff2430-da13-4413-f2cb-6646518793f8"
      },
      "outputs": [
        {
          "name": "stdout",
          "output_type": "stream",
          "text": [
            "Colors: ('red', '#ff0000', 'green', '#00ff00', 'blue', '#0000ff')\n",
            "Colors: ('red', '#ff0000', 'green', '#00ff00', 'blue', '#0000ff', 'white', '#ffffff', 'black', '#000000')\n",
            "red\n",
            "green\n",
            "blue\n",
            "white\n",
            "black\n",
            "#ff0000\n",
            "#00ff00\n",
            "#0000ff\n",
            "#ffffff\n",
            "#000000\n"
          ]
        },
        {
          "data": {
            "text/plain": [
              "[None, None, None, None, None]"
            ]
          },
          "execution_count": 9,
          "metadata": {},
          "output_type": "execute_result"
        }
      ],
      "source": [
        "# Assume that you got the tuple given below\n",
        "colors = ('red', '#ff0000', 'green', '#00ff00', 'blue', '#0000ff')\n",
        "print(f\"Colors: {colors}\")\n",
        "\n",
        "# add white (#ffffff) and black (#000000) to the colors tuple similar to others\n",
        "colors = colors + ('white', '#ffffff', 'black', '#000000')\n",
        "print(f\"Colors: {colors}\")\n",
        "\n",
        "# display only the color names\n",
        "[print(color) for color in colors[::2]]\n",
        "\n",
        "# display only the color hex codes\n",
        "[print(color) for color in colors[1::2]]"
      ]
    },
    {
      "cell_type": "code",
      "execution_count": null,
      "metadata": {
        "colab": {
          "base_uri": "https://localhost:8080/"
        },
        "id": "b1qBIWNlao0Y",
        "outputId": "46e48b49-0b57-4335-b03b-b7e3bf81360c"
      },
      "outputs": [
        {
          "name": "stdout",
          "output_type": "stream",
          "text": [
            "New list: [('red', '#ff0000'), ('green', '#00ff00'), ('blue', '#0000ff'), ('white', '#ffffff'), ('black', '#000000')]\n",
            "red\n",
            "green\n",
            "blue\n",
            "white\n",
            "black\n",
            "----\n",
            "#ff0000\n",
            "#00ff00\n",
            "#0000ff\n",
            "#ffffff\n",
            "#000000\n"
          ]
        }
      ],
      "source": [
        "# -----------------\n",
        "# We need a new LIST which contains the same information about the colors\n",
        "# but this time each list item should be a tuple about a color (name and code)\n",
        "# e.g. [ ('red', '#ff0000'), ('green', '#00ff00'), ... ]\n",
        "# generate it using the colors tuple\n",
        "colors_list = []\n",
        "for line_index, hex in enumerate(colors):\n",
        "    if line_index % 2:\n",
        "        colors_list.append((colors[line_index - 1], hex))\n",
        "\n",
        "print(f\"New list: {colors_list}\")\n",
        "\n",
        "\n",
        "# display only the color names\n",
        "[print(color[0]) for color in colors_list]\n",
        "\n",
        "\n",
        "print(\"----\")\n",
        "\n",
        "# display only the color hex codes by using indexes\n",
        "for item in colors_list:\n",
        "    print(item[1])\n"
      ]
    },
    {
      "cell_type": "code",
      "execution_count": null,
      "metadata": {
        "colab": {
          "base_uri": "https://localhost:8080/"
        },
        "id": "XVnpzyA2sVul",
        "outputId": "f0cb62a4-2535-4a52-c8ba-dfc5bc6015db"
      },
      "outputs": [
        {
          "name": "stdout",
          "output_type": "stream",
          "text": [
            "New list : [] \n",
            "New tuple: () \n"
          ]
        }
      ],
      "source": [
        "colors = ('red', '#ff0000', 'green', '#00ff00', 'blue', '#0000ff')\n",
        "\n",
        "# Create colors_tuple similar to the list above.\n",
        "# This tupple should include tuples each of which contains color name and hex code\n",
        "# e.g. (('red', '#ff0000'), ('green', '#00ff00'), ('blue', '#0000ff'))\n",
        "\n",
        "colors_tuple = tuple()\n",
        "\n",
        "\n",
        "\n",
        "print(f\"New list : {colors_list} \")   # added here to compare the results\n",
        "print(f\"New tuple: {colors_tuple} \")\n"
      ]
    },
    {
      "cell_type": "markdown",
      "metadata": {
        "id": "9n98WPb3syzV"
      },
      "source": [
        "## DICTIONARIES"
      ]
    },
    {
      "cell_type": "markdown",
      "metadata": {
        "id": "ANNDFuhSs2L2"
      },
      "source": [
        "### Creating, accessing, modifying, deleting dictionary and its items"
      ]
    },
    {
      "cell_type": "code",
      "execution_count": 14,
      "metadata": {
        "id": "KtL3WPmRsPWh"
      },
      "outputs": [
        {
          "name": "stdout",
          "output_type": "stream",
          "text": [
            "Fruits dictionary:  {'Cherries': 'red', 'Strawberries': 'red', 'Avocados': 'green', 'Apple': 'yellow', 'Spinach': 'green'}\n",
            "Fruits (after additions):  {'Cherries': 'red', 'Strawberries': 'red', 'Avocados': 'green', 'Apple': 'yellow', 'Spinach': 'green', 'Blueberries': 'blue', 'Limes': 'green'}\n",
            "dict_keys(['Cherries', 'Strawberries', 'Avocados', 'Apple', 'Spinach', 'Blueberries', 'Limes'])\n",
            "{'blue', 'green', 'yellow', 'red'}\n",
            "Fruits (after update):  {'Cherries': 'red', 'Strawberries': 'red', 'Avocados': 'green', 'Apple': 'red', 'Spinach': 'green', 'Blueberries': 'blue', 'Limes': 'green'}\n",
            "Number of green fruits: 3\n",
            "Fruits (after deletion):  {'Cherries': 'red', 'Strawberries': 'red', 'Avocados': 'green', 'Apple': 'red', 'Blueberries': 'blue', 'Limes': 'green'}\n"
          ]
        }
      ],
      "source": [
        "_replace_this_with_your_code_ = None # THIS IS JUST TO MAKE THIS CELL EXECUTABLE\n",
        "\n",
        "# -------------------\n",
        "# TASK 1: Create a dictionary called fruit_colors for the following data\n",
        "#   Cherries --> red\n",
        "#   Strawberries --> red\n",
        "#   Avocados --> green\n",
        "#   Apple --> yellow\n",
        "#   Spinach --> green\n",
        "\n",
        "fruit_colors = {'Cherries': 'red',\n",
        "                'Strawberries': 'red',\n",
        "                'Avocados': 'green',\n",
        "                'Apple': 'yellow',\n",
        "                'Spinach': 'green'}\n",
        "\n",
        "print(\"Fruits dictionary: \", fruit_colors)\n",
        "\n",
        "\n",
        "# -------------------\n",
        "# TASK 2: Add new fruits\n",
        "#   - Blueberries --> blue\n",
        "#   - Limes --> green\n",
        "fruit_colors['Blueberries'] = 'blue'\n",
        "fruit_colors['Limes'] = 'green'\n",
        "\n",
        "# Display the dictionary after additions\n",
        "print(\"Fruits (after additions): \", fruit_colors)\n",
        "\n",
        "# -------------------\n",
        "# TASK 3: List the fruit names only\n",
        "print(fruit_colors.keys())\n",
        "\n",
        "\n",
        "# -------------------\n",
        "# TASK 4: List the colors of the fruits in the dictionary\n",
        "# try not to repeat the same color name\n",
        "print(set(fruit_colors.values()))\n",
        "\n",
        "# -------------------\n",
        "# TASK 5: Update values\n",
        "#   - Change the color of \"Apple\" to red\n",
        "fruit_colors['Apple'] = 'red'\n",
        "\n",
        "# Display the dictionary after update\n",
        "print(\"Fruits (after update): \", fruit_colors)\n",
        "\n",
        "\n",
        "# -------------------\n",
        "# TASK 6: Count by color\n",
        "#   - Display how many fruits are green\n",
        "green_fruits = list(fruit_colors.values()).count('green')\n",
        "print(f\"Number of green fruits: {green_fruits}\")\n",
        "\n",
        "\n",
        "# -------------------\n",
        "# TASK 7: Deleting items\n",
        "#   - Remove \"Spinach\" from the fruits dictionary\n",
        "del fruit_colors['Spinach']\n",
        "\n",
        "# Display the dictionary after deletion\n",
        "print(\"Fruits (after deletion): \", fruit_colors)"
      ]
    },
    {
      "cell_type": "markdown",
      "metadata": {
        "id": "KHES1lU_zlR9"
      },
      "source": [
        "### two dictionaries"
      ]
    },
    {
      "cell_type": "code",
      "execution_count": null,
      "metadata": {
        "id": "H0Ta-Bp44eXy"
      },
      "outputs": [
        {
          "ename": "AssertionError",
          "evalue": "These fruits are not present in the fruits dict: {'Rambutan'}",
          "output_type": "error",
          "traceback": [
            "\u001b[31m---------------------------------------------------------------------------\u001b[39m",
            "\u001b[31mAssertionError\u001b[39m                            Traceback (most recent call last)",
            "\u001b[36mCell\u001b[39m\u001b[36m \u001b[39m\u001b[32mIn[19]\u001b[39m\u001b[32m, line 31\u001b[39m\n\u001b[32m     28\u001b[39m     color_counts[color] = \u001b[32m0\u001b[39m\n\u001b[32m     30\u001b[39m \u001b[38;5;66;03m# make sure the fruit in the amounts dict exist in the fruits dict\u001b[39;00m\n\u001b[32m---> \u001b[39m\u001b[32m31\u001b[39m \u001b[38;5;28;01massert\u001b[39;00m \u001b[38;5;28mall\u001b[39m(\n\u001b[32m     32\u001b[39m     [fruit \u001b[38;5;129;01min\u001b[39;00m fruits \u001b[38;5;28;01mfor\u001b[39;00m fruit \u001b[38;5;129;01min\u001b[39;00m amounts]\n\u001b[32m     33\u001b[39m ), \u001b[33mf\u001b[39m\u001b[33m\"\u001b[39m\u001b[33mThese fruits are not present in the fruits dict: \u001b[39m\u001b[38;5;132;01m{\u001b[39;00m\u001b[38;5;28mset\u001b[39m(amounts.keys()).difference(\u001b[38;5;28mset\u001b[39m(fruits.keys()))\u001b[38;5;132;01m}\u001b[39;00m\u001b[33m\"\u001b[39m\n\u001b[32m     35\u001b[39m \u001b[38;5;28;01mfor\u001b[39;00m fruit, amount \u001b[38;5;129;01min\u001b[39;00m amounts.items():\n\u001b[32m     36\u001b[39m     \u001b[38;5;28;01mif\u001b[39;00m fruit \u001b[38;5;129;01min\u001b[39;00m fruits:\n",
            "\u001b[31mAssertionError\u001b[39m: These fruits are not present in the fruits dict: {'Rambutan'}"
          ]
        }
      ],
      "source": [
        "fruits = {\n",
        "    \"Cherries\": \"red\",\n",
        "    \"Strawberries\": \"red\",\n",
        "    \"Avacados\": \"green\",\n",
        "    \"Apple\": \"red\",\n",
        "    \"Blueberries\": \"blue\",\n",
        "    \"Limes\": \"green\",\n",
        "    \"Banana\": \"yellow\",\n",
        "}\n",
        "\n",
        "amounts = {\n",
        "    \"Cherries\": 5,\n",
        "    \"Strawberries\": 7,\n",
        "    \"Avacados\": 10,\n",
        "    \"Banana\": 20,\n",
        "    \"Blueberries\": 4,\n",
        "    \"Limes\": 15,\n",
        "}\n",
        "\n",
        "\n",
        "# given the list of order amounts display the total amounts for each color of the fruits.\n",
        "# display the results as a dictionary\n",
        "color_counts = {}\n",
        "\n",
        "# initialize the dictionary\n",
        "for color in set(fruits.values()):\n",
        "    color_counts[color] = 0\n",
        "\n",
        "# make sure the fruit in the amounts dict exist in the fruits dict\n",
        "assert all(\n",
        "    [fruit in fruits for fruit in amounts]\n",
        "), f\"These fruits are not present in the fruits dict: {set(amounts.keys()).difference(set(fruits.keys()))}\"\n",
        "\n",
        "for fruit, amount in amounts.items():\n",
        "    if fruit in fruits:\n",
        "        color_counts[fruits[fruit]] += amount\n",
        "\n",
        "print(color_counts)"
      ]
    },
    {
      "cell_type": "markdown",
      "metadata": {
        "id": "SIXhwyANEVFF"
      },
      "source": [
        "## SETS"
      ]
    },
    {
      "cell_type": "markdown",
      "metadata": {
        "id": "BkDuV90REXmV"
      },
      "source": [
        "..."
      ]
    },
    {
      "cell_type": "code",
      "execution_count": 18,
      "metadata": {
        "colab": {
          "base_uri": "https://localhost:8080/"
        },
        "id": "bhRVhIqDErwd",
        "outputId": "a06f62d8-e4a5-4583-a1ea-25eea80a8ab3"
      },
      "outputs": [
        {
          "name": "stdout",
          "output_type": "stream",
          "text": [
            "{'b', 'i', 'm', 'a', 'c'}\n",
            "{'s', 'p', 'i', 'm'}\n"
          ]
        }
      ],
      "source": [
        "letters = 'a', 'a', 'a', 'b', 'c', 'i', 'm'\n",
        "\n",
        "# find unique letters\n",
        "\n",
        "print(set(letters))\n",
        "\n",
        "# find the unique characters of the word\n",
        "word = 'mississippi'\n",
        "\n",
        "print(set(word))\n",
        "\n",
        "# create a function that determines if a letter is in the set you just created\n",
        "# the function should accept one letter as input and return True or False\n",
        "\n",
        "# Use set operations like difference(-), union(|), intersection(&) and xor(^)\n",
        "# what are the results of combining your letters and mississippi sets?\n"
      ]
    },
    {
      "cell_type": "markdown",
      "metadata": {
        "id": "fFG33nz3b4-M"
      },
      "source": [
        "# DICTIONARIES: FOLLOW-UP QUESTIONS\n",
        "\n",
        "## Try to develop similar solutions using these different dictionaries to compare the ease of coding, readability?"
      ]
    },
    {
      "cell_type": "markdown",
      "metadata": {
        "id": "OXIVfBqvAMlm"
      },
      "source": [
        "\n",
        "***\n",
        "###  dictionary that contains dictionaries"
      ]
    },
    {
      "cell_type": "code",
      "execution_count": null,
      "metadata": {
        "id": "ILBLU2cutQwl"
      },
      "outputs": [],
      "source": [
        "# display all fruits data in the format below\n",
        "# Cherries (red) : 5\n",
        "# Strawberries (red) : 7\n",
        "# ...\n",
        "\n",
        "fruits = {\n",
        "        \"Cherries\"\t\t: {\"color\": \"red\", \t\t\"amount\": 5},\n",
        "        \"Strawberries\"\t: {\"color\": \"red\", \t\t\"amount\": 7},\n",
        "        \"Avacados\"\t\t: {\"amount\": 10,        \"color\": \"green\"},\n",
        "        \"Apple\"\t\t\t: {\"color\": \"red\", \t\t\"amount\": 0},\n",
        "        \"Blueberries\"\t: {\"color\": \"blue\", \t\"amount\": 4},\n",
        "        \"Limes\"\t\t\t: {\"color\": \"green\", \t\"amount\": 15},\n",
        "        \"Banana\"\t\t: {\"color\": \"yellow\", \t\"amount\": 20}\n",
        "    }\n",
        "\n"
      ]
    },
    {
      "cell_type": "markdown",
      "metadata": {
        "id": "4XErEc01bm1e"
      },
      "source": [
        "###  dictionary that contains tuples"
      ]
    },
    {
      "cell_type": "code",
      "execution_count": null,
      "metadata": {
        "id": "5QzdJwhl91Rf"
      },
      "outputs": [],
      "source": [
        "# Do the same thing with another dictionary structure that includes a tuple\n",
        "\n",
        "fruits = {\"Cherries\":     (\"red\", 5),\n",
        "          \"Strawberries\": (\"red\", 7),\n",
        "          \"Avacados\":     (\"green\", 10),\n",
        "          \"Apple\":        (\"red\", 0),\n",
        "          \"Blueberries\":  (\"blue\", 4),\n",
        "          \"Limes\":        (\"green\", 15),\n",
        "          \"Banana\":       (\"yellow\", 20)\n",
        "          }\n",
        "\n"
      ]
    },
    {
      "cell_type": "code",
      "execution_count": null,
      "metadata": {
        "id": "T-d6zP1tuEtO"
      },
      "outputs": [],
      "source": []
    },
    {
      "cell_type": "markdown",
      "metadata": {
        "id": "9EaEzNM3t6KZ"
      },
      "source": [
        "# Optional Questions / Practices (Try Yourself)"
      ]
    },
    {
      "cell_type": "markdown",
      "metadata": {
        "id": "2zw1B650bGZJ"
      },
      "source": [
        "## Using list as a **stack** or **queue**"
      ]
    },
    {
      "cell_type": "code",
      "execution_count": 22,
      "metadata": {
        "id": "Zwu1MpHQbNur"
      },
      "outputs": [
        {
          "name": "stdout",
          "output_type": "stream",
          "text": [
            "Stack: LIFO\n",
            "c\n",
            "b\n",
            "a\n",
            "Queue: FIFO\n",
            "a\n",
            "b\n",
            "c\n"
          ]
        }
      ],
      "source": [
        "entries = []\n",
        "\n",
        "def add_to_stack(lst, item):\n",
        "    # Complete the function\n",
        "    lst.append(item)\n",
        "\n",
        "def get_from_stack(lst):\n",
        "    # Complete the function\n",
        "    return lst.pop()\n",
        "\n",
        "add_to_stack(entries, 'a')\n",
        "add_to_stack(entries, 'b')\n",
        "add_to_stack(entries, 'c')\n",
        "\n",
        "print('Stack: LIFO')\n",
        "print(get_from_stack(entries))\n",
        "print(get_from_stack(entries))\n",
        "print(get_from_stack(entries))\n",
        "# get_from_stack(entries)\n",
        "\n",
        "# -- QUEUE ---------------\n",
        "def add_to_queue(lst, item):\n",
        "    # Complete the function\n",
        "    lst.insert(0, item)\n",
        "\n",
        "def get_from_queue(lst):\n",
        "    # Complete the function\n",
        "    return lst.pop()\n",
        "\n",
        "add_to_queue(entries, 'a')\n",
        "add_to_queue(entries, 'b')\n",
        "add_to_queue(entries, 'c')\n",
        "\n",
        "print('Queue: FIFO')\n",
        "print(get_from_queue(entries))\n",
        "print(get_from_queue(entries))\n",
        "print(get_from_queue(entries))\n",
        "# get_from_queue(entries)\n"
      ]
    },
    {
      "cell_type": "markdown",
      "metadata": {
        "id": "pDI4ANNwGfpT"
      },
      "source": [
        "# Extra Problems to try:\n",
        "\n",
        "---\n",
        "\n",
        "## Problem 1\n",
        "\n",
        "Find how many peaks are there? (4, 2, 5, 7, 6, 6, 4, 3, 5, 2, 6, 7)\n"
      ]
    },
    {
      "cell_type": "code",
      "execution_count": null,
      "metadata": {},
      "outputs": [
        {
          "name": "stdout",
          "output_type": "stream",
          "text": [
            "There are 2 peaks at indices [2, 10].\n"
          ]
        }
      ],
      "source": [
        "heights = [4, 2, 5, 7, 6, 6, 4, 3, 5, 2, 6, 7]\n",
        "peaks = []\n",
        "for line_index in range(len(heights)):\n",
        "    # skip the first and last entries\n",
        "    if line_index == 0 or line_index == len(heights) - 1:\n",
        "        continue\n",
        "\n",
        "    # this is a height\n",
        "    if heights[line_index - 1] < heights[line_index] < heights[line_index + 1]:\n",
        "    # ^^ this is equivalent to :  \n",
        "    # if heights[index - 1] < heights[index] and heights[index] < heights[index + 1]\n",
        "        peaks.append(line_index)\n",
        "\n",
        "print(f\"There are {len(peaks)} peaks at indices {peaks}.\")"
      ]
    },
    {
      "cell_type": "markdown",
      "metadata": {},
      "source": [
        "\n",
        "---\n",
        "\n",
        "## Problem 2\n",
        "\n",
        "From a list of words, organize a new dictioanry (key: length of the word, value: list of words)\n"
      ]
    },
    {
      "cell_type": "code",
      "execution_count": 4,
      "metadata": {},
      "outputs": [],
      "source": [
        "# clean the text\n",
        "characters_to_remove = \"“”,.—-)(:*!?;[]\"\n",
        "with open('../data/alice.txt', encoding='utf8') as in_file:\n",
        "    contents = in_file.read()\n",
        "for character in characters_to_remove:\n",
        "    # replace with a space for now\n",
        "    contents = contents.replace(character, \" \")\n",
        "# this is less fun...\n",
        "# Some of the words have '‘' or '’' at the end or beginning of the word... but some of them are legitimate apostrophes in the middle of a word\n",
        "\n",
        "# I want to keep the line breaks for now, so let's be careful about how we handle this\n",
        "# split into lines\n",
        "all_lines = contents.splitlines()\n",
        "for line_index, line in enumerate(all_lines):\n",
        "\n",
        "    # split into words\n",
        "    line_words = line.split()\n",
        "    for word_index, word in enumerate(line_words):\n",
        "        \n",
        "        # remove the beginning '‘'\n",
        "        if word.startswith('‘'):\n",
        "\n",
        "            # This is where immutability and mutability come into play...\n",
        "            # if I just write\n",
        "            # word = word[1:]\n",
        "            # then I get a new word and the old word in my list stays the same\n",
        "            # so I need to index into my list and overwrite the value of that list item like this\n",
        "            line_words[word_index] = line_words[word_index][1:]\n",
        "        \n",
        "        # remove the trailing '’'\n",
        "        if word.endswith('’'):\n",
        "            line_words[word_index] = line_words[word_index][:-1]\n",
        "\n",
        "    # join this line's words back together\n",
        "    # same thing here with immutability and mutability\n",
        "    all_lines[line_index] = ' '.join(line_words)\n",
        "\n",
        "# join all the lines back together\n",
        "contents = '\\n'.join(all_lines)\n",
        "\n",
        "# write the clean text out so I never have to do this ever again\n",
        "with open('../data/alice_clean.txt', 'w', encoding='utf8') as out_file:\n",
        "    out_file.write(contents)\n",
        "\n",
        "# I should make this a function called clean_gutenberg_text_file or something..."
      ]
    },
    {
      "cell_type": "code",
      "execution_count": 5,
      "metadata": {},
      "outputs": [
        {
          "name": "stdout",
          "output_type": "stream",
          "text": [
            "length 1: {'W', 'e', 'A', 'X', 'T', 'M', 'V', 'a', 'I', 'p', 'O', 'm', 'C', 'D'}\n",
            "length 2: {'Ah', 'it', 'so', 'He', 'No', 'To', 'On', 'us', 'of', 'My', 'up', 'an', 'oh', 'ME', 'Oh', 'by', 'my', 'We', 'At', 'at', 'Où', 'Ma', 'to', 'In', 'be', 'Go', 'II', 'Do', 'Is', 'me', 'VI', 'Up', 'Sh', 'ma', 'IV', 'Hm', 'Of', 'as', 'By', 'IX', 'sh', 'OF', 'eh', 'in', 'if', 'or', 'on', 'am', 'As', 'It', 'is', 'do', 'XI', 'If', 'ye', 'An', 'So', 'go', 'Be', 'we', 'he', 'Or', 'no'}\n",
            "all lengths:  [1, 2, 3, 4, 5, 6, 7, 8, 9, 10, 11, 12, 13, 14]\n",
            "length 14: {'affectionately', 'Multiplication', 'disappointment', 'contemptuously'}\n",
            "--------------------\n",
            "length 1: Counter({'a': 617, 'I': 410, 'A': 15, 'e': 6, 'O': 3, 'M': 3, 'C': 1, 'D': 1, 'W': 1, 'V': 1, 'm': 1, 'X': 1, 'p': 1, 'T': 1})\n",
            "length 2: Counter({'to': 728, 'of': 502, 'it': 488, 'in': 357, 'as': 246, 'at': 203, 'on': 189, 'be': 146, 'so': 125, 'is': 105, 'he': 100, 'up': 98, 'if': 78, 'or': 76, 'no': 70, 'do': 67, 'me': 65, 'my': 55, 'by': 54, 'an': 52, 'go': 47, 'It': 42, 'Oh': 35, 'So': 27, 'No': 20, 'He': 20, 'we': 19, 'If': 18, 'As': 17, 'am': 15, 'us': 14, 'Do': 13, 'In': 11, 'We': 11, 'Of': 11, 'oh': 10, 'At': 9, 'Ah': 5, 'An': 5, 'On': 4, 'By': 4, 'ME': 3, 'Is': 3, 'My': 3, 'Go': 3, 'Be': 2, 'Up': 2, 'II': 1, 'Où': 1, 'ma': 1, 'Ma': 1, 'IV': 1, 'ye': 1, 'VI': 1, 'To': 1, 'Sh': 1, 'sh': 1, 'eh': 1, 'OF': 1, 'IX': 1, 'Or': 1, 'Hm': 1, 'XI': 1})\n",
            "all lengths:  [1, 2, 3, 4, 5, 6, 7, 8, 9, 10, 11, 12, 13, 14]\n",
            "length 14: Counter({'contemptuously': 2, 'disappointment': 1, 'Multiplication': 1, 'affectionately': 1})\n"
          ]
        }
      ],
      "source": [
        "# Now to the actual problem....\n",
        "length_dictionary = {}\n",
        "list_of_words = []\n",
        "with open('../data/alice_clean.txt', encoding='utf8') as in_file:\n",
        "    contents = in_file.read()\n",
        "for word in contents.split():\n",
        "    if len(word) not in length_dictionary:\n",
        "        length_dictionary[len(word)] = []\n",
        "    \n",
        "    length_dictionary[len(word)].append(word)\n",
        "\n",
        "print(\"length 1:\", set(length_dictionary[1]))\n",
        "print(\"length 2:\", set(length_dictionary[2]))\n",
        "print(\"all lengths: \", sorted(length_dictionary.keys()))\n",
        "print(\"length 14:\", set(length_dictionary[14]))\n",
        "\n",
        "from collections import Counter\n",
        "count_dictionary = {}\n",
        "for length, word_list in length_dictionary.items():\n",
        "    count_dictionary[length] = Counter(word_list)\n",
        "print('--------------------')\n",
        "print(\"length 1:\", count_dictionary[1])\n",
        "print(\"length 2:\", count_dictionary[2])\n",
        "print(\"all lengths: \", sorted(count_dictionary.keys()))\n",
        "print(\"length 14:\", count_dictionary[14])"
      ]
    }
  ],
  "metadata": {
    "colab": {
      "provenance": []
    },
    "kernelspec": {
      "display_name": ".venv",
      "language": "python",
      "name": "python3"
    },
    "language_info": {
      "codemirror_mode": {
        "name": "ipython",
        "version": 3
      },
      "file_extension": ".py",
      "mimetype": "text/x-python",
      "name": "python",
      "nbconvert_exporter": "python",
      "pygments_lexer": "ipython3",
      "version": "3.13.5"
    }
  },
  "nbformat": 4,
  "nbformat_minor": 0
}
