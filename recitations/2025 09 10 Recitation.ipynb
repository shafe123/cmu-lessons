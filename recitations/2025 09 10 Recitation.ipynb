{
  "cells": [
    {
      "cell_type": "markdown",
      "metadata": {
        "id": "4LSOBV2Mv4vZ"
      },
      "source": [
        "# DATA STRUCTURES - RECITATION"
      ]
    },
    {
      "cell_type": "markdown",
      "metadata": {
        "id": "F0Tzwh3fwLe6"
      },
      "source": [
        "## LISTS"
      ]
    },
    {
      "cell_type": "markdown",
      "metadata": {
        "id": "eS0gQL2wwXSm"
      },
      "source": [
        "### Create, Add, Modify, Remove Items\n",
        "\n"
      ]
    },
    {
      "cell_type": "code",
      "execution_count": 2,
      "metadata": {
        "colab": {
          "base_uri": "https://localhost:8080/"
        },
        "id": "LhQSapV9INop",
        "outputId": "652095bb-d000-43b2-86cd-187b74e39366"
      },
      "outputs": [
        {
          "name": "stdout",
          "output_type": "stream",
          "text": [
            "------\n",
            "Digits (extended)  : [0, 1, 2, 3, 4, 5, 6, 7, 8, 9, 'A', 'B', 'C', 'D', 'E', 'F', 'G']\n",
            "Digits - last item : [0, 1, 2, 3, 4, 5, 6, 7, 8, 9, 'A', 'B', 'C', 'D', 'E', 'F']\n",
            "Digits - 'B'.      : [0, 1, 2, 3, 4, 5, 6, 7, 8, 9, 'A', 'C', 'D', 'E', 'F']\n",
            "Digits - 'C'.      : [0, 1, 2, 3, 4, 5, 6, 7, 8, 9, 'A', 'D', 'E', 'F']\n",
            "Digits - 'A', 'D'  : [0, 1, 2, 3, 4, 5, 6, 7, 8, 9, 'E', 'F']\n",
            "Digits             : [0, 1, 2, 3, 4, 5, 6, 7, 8, 9]\n"
          ]
        }
      ],
      "source": [
        "digits = [0, 1, 2, 3, 4, 5, 6, 7, 8, 9]\n",
        "print(\"------\")\n",
        "\n",
        "digits.extend(['A', 'B', 'C', 'D', 'E', 'F', 'G'])\n",
        "print(f\"Digits (extended)  : {digits}\")\n",
        "\n",
        "# remove last item using the pop method\n",
        "digits.pop()\n",
        "\n",
        "\n",
        "print(f\"Digits - last item : {digits}\")\n",
        "\n",
        "# use pop method for to delete item 'B'\n",
        "digits.pop(digits.index('B'))\n",
        "\n",
        "print(f\"Digits - 'B'.      : {digits}\")\n",
        "\n",
        "# use remove method to delete item 'C'\n",
        "digits.remove('C')\n",
        "\n",
        "print(f\"Digits - 'C'.      : {digits}\")\n",
        "\n",
        "# use del statement to delete items 'A', 'D'\n",
        "del digits[digits.index('A')]\n",
        "del digits[digits.index('D')]\n",
        "\n",
        "\n",
        "print(f\"Digits - 'A', 'D'  : {digits}\")\n",
        "\n",
        "# use slicing and assignment to get rid of 'E', 'F'\n",
        "digits = digits[:-2]\n",
        "\n",
        "print(f\"Digits             : {digits}\")"
      ]
    },
    {
      "cell_type": "markdown",
      "metadata": {
        "id": "5jCNXaYAIzjv"
      },
      "source": [
        "## Alias vs Copies\n",
        "***\n",
        "\n",
        "#### we need another list (rev_digits) which is sorted in descending order. Generate this list using the *digits* list. Then display both lists"
      ]
    },
    {
      "cell_type": "code",
      "execution_count": 6,
      "metadata": {
        "colab": {
          "base_uri": "https://localhost:8080/"
        },
        "id": "Jl012i5BE5ww",
        "outputId": "8054e7d9-5893-4682-f544-b383f550a5e0"
      },
      "outputs": [
        {
          "name": "stdout",
          "output_type": "stream",
          "text": [
            "Digits (sorted): [0, 1, 2, 3, 4, 5, 6, 7, 8, 9]\n",
            "Digits (reversed): [9, 8, 7, 6, 5, 4, 3, 2, 1, 0]\n"
          ]
        }
      ],
      "source": [
        "digits = [0, 1, 2, 3, 4, 5, 6, 7, 8, 9]\n",
        "reversed = digits[::-1]\n",
        "\n",
        "# or...\n",
        "reversed = digits[:]\n",
        "reversed.sort(reverse=True)\n",
        "\n",
        "# why not reversed.reverse()?  How is that different than \"sorted in descending order\"?\n",
        "\n",
        "print(f\"Digits (sorted): {digits}\")\n",
        "print(f\"Digits (reversed): {reversed}\")\n"
      ]
    },
    {
      "cell_type": "markdown",
      "metadata": {
        "id": "WTlUxMqZ61ab"
      },
      "source": [
        "### PROBLEM\n",
        "\n",
        "A hexadecimal color is expressed as #RRGGBB. The RR (red), GG (green) and BB (blue) hexadecimal integers specify the components of the color.\n",
        "\n",
        "```\n",
        "#ff0000 : red\n",
        "#00ff00 : green\n",
        "#0000ff : blue\n",
        "#000000 : black\n",
        "#ffffff : white\n",
        "```"
      ]
    },
    {
      "cell_type": "code",
      "execution_count": null,
      "metadata": {
        "colab": {
          "base_uri": "https://localhost:8080/"
        },
        "id": "7OLdPS8UwjYz",
        "outputId": "0f0e6bb3-7813-4329-c88d-a525042979aa"
      },
      "outputs": [
        {
          "name": "stdout",
          "output_type": "stream",
          "text": [
            "Available colors: ['#ff0000', '#00ff00', '#0000ff', '#000000', '#ffffff']\n",
            "1 red (#ff0000) t-shirts\n",
            "2 green (#00ff00) t-shirts\n",
            "3 blue (#0000ff) t-shirts\n",
            "4 black (#000000) t-shirts\n",
            "5 white (#ffffff) t-shirts\n",
            "15 t-shirts total\n",
            "The most requested t-shirt is white\n"
          ]
        }
      ],
      "source": [
        "# Create two lists: one includes names of three colors that you select\n",
        "# and the other one includes their hex codes in a parallel way\n",
        "colors = ['#ff0000', '#00ff00', '#0000ff', '#000000', '#ffffff']\n",
        "names = ['red', 'green', 'blue', 'black', 'white']\n",
        "\n",
        "\n",
        "# Display the colors on the screen as \"Available colors: ... \"\n",
        "print(f\"Available colors: {colors}\")\n",
        "\n",
        "# For each color input/ask 'How many {color} t-shirts do you want?'\n",
        "# and store these into a list\n",
        "orders = []\n",
        "for name in names:\n",
        "    user_num = input(f\"how many {name} t-shirts do you want? \")\n",
        "    orders.append(int(user_num))\n",
        "\n",
        "\n",
        "# Display the orders of the user\n",
        "# eg. \"5 red (#ff0000) t-shirts\"  ...\n",
        "# and at the end \"in total 13 t-shirts\"\n",
        "for line_index, name in enumerate(names):\n",
        "    print(f\"{orders[line_index]} {name} ({colors[line_index]}) t-shirts\")\n",
        "print(f\"{sum(orders)} t-shirts total\")\n",
        "\n",
        "# Display the color of the most requested t-shirt\n",
        "max_index = orders.index(max(orders))\n",
        "print(f\"The most requested t-shirt is {names[max_index]}\")\n",
        "\n",
        "\n",
        "# Question: can we find max_order by sorting and geting the last item\n",
        "# Yes, but then getting the corresponding color is not possible\n"
      ]
    },
    {
      "cell_type": "markdown",
      "metadata": {
        "id": "73mRjF1S2XiW"
      },
      "source": [
        "## TUPLES\n"
      ]
    },
    {
      "cell_type": "markdown",
      "metadata": {
        "id": "428jFKlDOxx7"
      },
      "source": [
        "### Create, access,  modify tuples\n"
      ]
    },
    {
      "cell_type": "code",
      "execution_count": 9,
      "metadata": {
        "colab": {
          "base_uri": "https://localhost:8080/"
        },
        "id": "smMNXuDKXCGf",
        "outputId": "9eff2430-da13-4413-f2cb-6646518793f8"
      },
      "outputs": [
        {
          "name": "stdout",
          "output_type": "stream",
          "text": [
            "Colors: ('red', '#ff0000', 'green', '#00ff00', 'blue', '#0000ff')\n",
            "Colors: ('red', '#ff0000', 'green', '#00ff00', 'blue', '#0000ff', 'white', '#ffffff', 'black', '#000000')\n",
            "red\n",
            "green\n",
            "blue\n",
            "white\n",
            "black\n",
            "#ff0000\n",
            "#00ff00\n",
            "#0000ff\n",
            "#ffffff\n",
            "#000000\n"
          ]
        },
        {
          "data": {
            "text/plain": [
              "[None, None, None, None, None]"
            ]
          },
          "execution_count": 9,
          "metadata": {},
          "output_type": "execute_result"
        }
      ],
      "source": [
        "# Assume that you got the tuple given below\n",
        "colors = ('red', '#ff0000', 'green', '#00ff00', 'blue', '#0000ff')\n",
        "print(f\"Colors: {colors}\")\n",
        "\n",
        "# add white (#ffffff) and black (#000000) to the colors tuple similar to others\n",
        "colors = colors + ('white', '#ffffff', 'black', '#000000')\n",
        "print(f\"Colors: {colors}\")\n",
        "\n",
        "# display only the color names\n",
        "[print(color) for color in colors[::2]]\n",
        "\n",
        "# display only the color hex codes\n",
        "[print(color) for color in colors[1::2]]"
      ]
    },
    {
      "cell_type": "code",
      "execution_count": null,
      "metadata": {
        "colab": {
          "base_uri": "https://localhost:8080/"
        },
        "id": "b1qBIWNlao0Y",
        "outputId": "46e48b49-0b57-4335-b03b-b7e3bf81360c"
      },
      "outputs": [
        {
          "name": "stdout",
          "output_type": "stream",
          "text": [
            "New list: [('red', '#ff0000'), ('green', '#00ff00'), ('blue', '#0000ff'), ('white', '#ffffff'), ('black', '#000000')]\n",
            "red\n",
            "green\n",
            "blue\n",
            "white\n",
            "black\n",
            "----\n",
            "#ff0000\n",
            "#00ff00\n",
            "#0000ff\n",
            "#ffffff\n",
            "#000000\n"
          ]
        }
      ],
      "source": [
        "# -----------------\n",
        "# We need a new LIST which contains the same information about the colors\n",
        "# but this time each list item should be a tuple about a color (name and code)\n",
        "# e.g. [ ('red', '#ff0000'), ('green', '#00ff00'), ... ]\n",
        "# generate it using the colors tuple\n",
        "colors_list = []\n",
        "for line_index, hex in enumerate(colors):\n",
        "    if line_index % 2:\n",
        "        colors_list.append((colors[line_index - 1], hex))\n",
        "\n",
        "print(f\"New list: {colors_list}\")\n",
        "\n",
        "\n",
        "# display only the color names\n",
        "[print(color[0]) for color in colors_list]\n",
        "\n",
        "\n",
        "print(\"----\")\n",
        "\n",
        "# display only the color hex codes by using indexes\n",
        "for item in colors_list:\n",
        "    print(item[1])\n"
      ]
    },
    {
      "cell_type": "code",
      "execution_count": null,
      "metadata": {
        "colab": {
          "base_uri": "https://localhost:8080/"
        },
        "id": "XVnpzyA2sVul",
        "outputId": "f0cb62a4-2535-4a52-c8ba-dfc5bc6015db"
      },
      "outputs": [
        {
          "name": "stdout",
          "output_type": "stream",
          "text": [
            "New list : [] \n",
            "New tuple: () \n"
          ]
        }
      ],
      "source": [
        "colors = ('red', '#ff0000', 'green', '#00ff00', 'blue', '#0000ff')\n",
        "\n",
        "# Create colors_tuple similar to the list above.\n",
        "# This tupple should include tuples each of which contains color name and hex code\n",
        "# e.g. (('red', '#ff0000'), ('green', '#00ff00'), ('blue', '#0000ff'))\n",
        "\n",
        "colors_tuple = tuple()\n",
        "\n",
        "\n",
        "\n",
        "print(f\"New list : {colors_list} \")   # added here to compare the results\n",
        "print(f\"New tuple: {colors_tuple} \")\n"
      ]
    },
    {
      "cell_type": "markdown",
      "metadata": {
        "id": "9n98WPb3syzV"
      },
      "source": [
        "## DICTIONARIES"
      ]
    },
    {
      "cell_type": "markdown",
      "metadata": {
        "id": "ANNDFuhSs2L2"
      },
      "source": [
        "### Creating, accessing, modifying, deleting dictionary and its items"
      ]
    },
    {
      "cell_type": "code",
      "execution_count": 14,
      "metadata": {
        "id": "KtL3WPmRsPWh"
      },
      "outputs": [
        {
          "name": "stdout",
          "output_type": "stream",
          "text": [
            "Fruits dictionary:  {'Cherries': 'red', 'Strawberries': 'red', 'Avocados': 'green', 'Apple': 'yellow', 'Spinach': 'green'}\n",
            "Fruits (after additions):  {'Cherries': 'red', 'Strawberries': 'red', 'Avocados': 'green', 'Apple': 'yellow', 'Spinach': 'green', 'Blueberries': 'blue', 'Limes': 'green'}\n",
            "dict_keys(['Cherries', 'Strawberries', 'Avocados', 'Apple', 'Spinach', 'Blueberries', 'Limes'])\n",
            "{'blue', 'green', 'yellow', 'red'}\n",
            "Fruits (after update):  {'Cherries': 'red', 'Strawberries': 'red', 'Avocados': 'green', 'Apple': 'red', 'Spinach': 'green', 'Blueberries': 'blue', 'Limes': 'green'}\n",
            "Number of green fruits: 3\n",
            "Fruits (after deletion):  {'Cherries': 'red', 'Strawberries': 'red', 'Avocados': 'green', 'Apple': 'red', 'Blueberries': 'blue', 'Limes': 'green'}\n"
          ]
        }
      ],
      "source": [
        "_replace_this_with_your_code_ = None # THIS IS JUST TO MAKE THIS CELL EXECUTABLE\n",
        "\n",
        "# -------------------\n",
        "# TASK 1: Create a dictionary called fruit_colors for the following data\n",
        "#   Cherries --> red\n",
        "#   Strawberries --> red\n",
        "#   Avocados --> green\n",
        "#   Apple --> yellow\n",
        "#   Spinach --> green\n",
        "\n",
        "fruit_colors = {'Cherries': 'red',\n",
        "                'Strawberries': 'red',\n",
        "                'Avocados': 'green',\n",
        "                'Apple': 'yellow',\n",
        "                'Spinach': 'green'}\n",
        "\n",
        "print(\"Fruits dictionary: \", fruit_colors)\n",
        "\n",
        "\n",
        "# -------------------\n",
        "# TASK 2: Add new fruits\n",
        "#   - Blueberries --> blue\n",
        "#   - Limes --> green\n",
        "fruit_colors['Blueberries'] = 'blue'\n",
        "fruit_colors['Limes'] = 'green'\n",
        "\n",
        "# Display the dictionary after additions\n",
        "print(\"Fruits (after additions): \", fruit_colors)\n",
        "\n",
        "# -------------------\n",
        "# TASK 3: List the fruit names only\n",
        "print(fruit_colors.keys())\n",
        "\n",
        "\n",
        "# -------------------\n",
        "# TASK 4: List the colors of the fruits in the dictionary\n",
        "# try not to repeat the same color name\n",
        "print(set(fruit_colors.values()))\n",
        "\n",
        "# -------------------\n",
        "# TASK 5: Update values\n",
        "#   - Change the color of \"Apple\" to red\n",
        "fruit_colors['Apple'] = 'red'\n",
        "\n",
        "# Display the dictionary after update\n",
        "print(\"Fruits (after update): \", fruit_colors)\n",
        "\n",
        "\n",
        "# -------------------\n",
        "# TASK 6: Count by color\n",
        "#   - Display how many fruits are green\n",
        "green_fruits = list(fruit_colors.values()).count('green')\n",
        "print(f\"Number of green fruits: {green_fruits}\")\n",
        "\n",
        "\n",
        "# -------------------\n",
        "# TASK 7: Deleting items\n",
        "#   - Remove \"Spinach\" from the fruits dictionary\n",
        "del fruit_colors['Spinach']\n",
        "\n",
        "# Display the dictionary after deletion\n",
        "print(\"Fruits (after deletion): \", fruit_colors)"
      ]
    },
    {
      "cell_type": "markdown",
      "metadata": {
        "id": "KHES1lU_zlR9"
      },
      "source": [
        "### two dictionaries"
      ]
    },
    {
      "cell_type": "code",
      "execution_count": null,
      "metadata": {
        "id": "H0Ta-Bp44eXy"
      },
      "outputs": [
        {
          "ename": "AssertionError",
          "evalue": "These fruits are not present in the fruits dict: {'Rambutan'}",
          "output_type": "error",
          "traceback": [
            "\u001b[31m---------------------------------------------------------------------------\u001b[39m",
            "\u001b[31mAssertionError\u001b[39m                            Traceback (most recent call last)",
            "\u001b[36mCell\u001b[39m\u001b[36m \u001b[39m\u001b[32mIn[19]\u001b[39m\u001b[32m, line 31\u001b[39m\n\u001b[32m     28\u001b[39m     color_counts[color] = \u001b[32m0\u001b[39m\n\u001b[32m     30\u001b[39m \u001b[38;5;66;03m# make sure the fruit in the amounts dict exist in the fruits dict\u001b[39;00m\n\u001b[32m---> \u001b[39m\u001b[32m31\u001b[39m \u001b[38;5;28;01massert\u001b[39;00m \u001b[38;5;28mall\u001b[39m(\n\u001b[32m     32\u001b[39m     [fruit \u001b[38;5;129;01min\u001b[39;00m fruits \u001b[38;5;28;01mfor\u001b[39;00m fruit \u001b[38;5;129;01min\u001b[39;00m amounts]\n\u001b[32m     33\u001b[39m ), \u001b[33mf\u001b[39m\u001b[33m\"\u001b[39m\u001b[33mThese fruits are not present in the fruits dict: \u001b[39m\u001b[38;5;132;01m{\u001b[39;00m\u001b[38;5;28mset\u001b[39m(amounts.keys()).difference(\u001b[38;5;28mset\u001b[39m(fruits.keys()))\u001b[38;5;132;01m}\u001b[39;00m\u001b[33m\"\u001b[39m\n\u001b[32m     35\u001b[39m \u001b[38;5;28;01mfor\u001b[39;00m fruit, amount \u001b[38;5;129;01min\u001b[39;00m amounts.items():\n\u001b[32m     36\u001b[39m     \u001b[38;5;28;01mif\u001b[39;00m fruit \u001b[38;5;129;01min\u001b[39;00m fruits:\n",
            "\u001b[31mAssertionError\u001b[39m: These fruits are not present in the fruits dict: {'Rambutan'}"
          ]
        }
      ],
      "source": [
        "fruits = {\n",
        "    \"Cherries\": \"red\",\n",
        "    \"Strawberries\": \"red\",\n",
        "    \"Avacados\": \"green\",\n",
        "    \"Apple\": \"red\",\n",
        "    \"Blueberries\": \"blue\",\n",
        "    \"Limes\": \"green\",\n",
        "    \"Banana\": \"yellow\",\n",
        "}\n",
        "\n",
        "amounts = {\n",
        "    \"Cherries\": 5,\n",
        "    \"Strawberries\": 7,\n",
        "    \"Avacados\": 10,\n",
        "    \"Banana\": 20,\n",
        "    \"Blueberries\": 4,\n",
        "    \"Limes\": 15,\n",
        "}\n",
        "\n",
        "\n",
        "# given the list of order amounts display the total amounts for each color of the fruits.\n",
        "# display the results as a dictionary\n",
        "color_counts = {}\n",
        "\n",
        "# initialize the dictionary\n",
        "for color in set(fruits.values()):\n",
        "    color_counts[color] = 0\n",
        "\n",
        "# make sure the fruit in the amounts dict exist in the fruits dict\n",
        "assert all(\n",
        "    [fruit in fruits for fruit in amounts]\n",
        "), f\"These fruits are not present in the fruits dict: {set(amounts.keys()).difference(set(fruits.keys()))}\"\n",
        "\n",
        "for fruit, amount in amounts.items():\n",
        "    if fruit in fruits:\n",
        "        color_counts[fruits[fruit]] += amount\n",
        "\n",
        "print(color_counts)"
      ]
    },
    {
      "cell_type": "markdown",
      "metadata": {
        "id": "SIXhwyANEVFF"
      },
      "source": [
        "## SETS"
      ]
    },
    {
      "cell_type": "markdown",
      "metadata": {
        "id": "BkDuV90REXmV"
      },
      "source": [
        "..."
      ]
    },
    {
      "cell_type": "code",
      "execution_count": 18,
      "metadata": {
        "colab": {
          "base_uri": "https://localhost:8080/"
        },
        "id": "bhRVhIqDErwd",
        "outputId": "a06f62d8-e4a5-4583-a1ea-25eea80a8ab3"
      },
      "outputs": [
        {
          "name": "stdout",
          "output_type": "stream",
          "text": [
            "{'b', 'i', 'm', 'a', 'c'}\n",
            "{'s', 'p', 'i', 'm'}\n"
          ]
        }
      ],
      "source": [
        "letters = 'a', 'a', 'a', 'b', 'c', 'i', 'm'\n",
        "\n",
        "# find unique letters\n",
        "\n",
        "print(set(letters))\n",
        "\n",
        "# find the unique characters of the word\n",
        "word = 'mississippi'\n",
        "\n",
        "print(set(word))\n",
        "\n",
        "# create a function that determines if a letter is in the set you just created\n",
        "# the function should accept one letter as input and return True or False\n",
        "\n",
        "# Use set operations like difference(-), union(|), intersection(&) and xor(^)\n",
        "# what are the results of combining your letters and mississippi sets?\n"
      ]
    },
    {
      "cell_type": "markdown",
      "metadata": {
        "id": "fFG33nz3b4-M"
      },
      "source": [
        "# DICTIONARIES: FOLLOW-UP QUESTIONS\n",
        "\n",
        "## Try to develop similar solutions using these different dictionaries to compare the ease of coding, readability?"
      ]
    },
    {
      "cell_type": "markdown",
      "metadata": {
        "id": "OXIVfBqvAMlm"
      },
      "source": [
        "\n",
        "***\n",
        "###  dictionary that contains dictionaries"
      ]
    },
    {
      "cell_type": "code",
      "execution_count": null,
      "metadata": {
        "id": "ILBLU2cutQwl"
      },
      "outputs": [],
      "source": [
        "# display all fruits data in the format below\n",
        "# Cherries (red) : 5\n",
        "# Strawberries (red) : 7\n",
        "# ...\n",
        "\n",
        "fruits = {\n",
        "        \"Cherries\"\t\t: {\"color\": \"red\", \t\t\"amount\": 5},\n",
        "        \"Strawberries\"\t: {\"color\": \"red\", \t\t\"amount\": 7},\n",
        "        \"Avacados\"\t\t: {\"amount\": 10,        \"color\": \"green\"},\n",
        "        \"Apple\"\t\t\t: {\"color\": \"red\", \t\t\"amount\": 0},\n",
        "        \"Blueberries\"\t: {\"color\": \"blue\", \t\"amount\": 4},\n",
        "        \"Limes\"\t\t\t: {\"color\": \"green\", \t\"amount\": 15},\n",
        "        \"Banana\"\t\t: {\"color\": \"yellow\", \t\"amount\": 20}\n",
        "    }\n",
        "\n"
      ]
    },
    {
      "cell_type": "markdown",
      "metadata": {
        "id": "4XErEc01bm1e"
      },
      "source": [
        "###  dictionary that contains tuples"
      ]
    },
    {
      "cell_type": "code",
      "execution_count": null,
      "metadata": {
        "id": "5QzdJwhl91Rf"
      },
      "outputs": [],
      "source": [
        "# Do the same thing with another dictionary structure that includes a tuple\n",
        "\n",
        "fruits = {\"Cherries\":     (\"red\", 5),\n",
        "          \"Strawberries\": (\"red\", 7),\n",
        "          \"Avacados\":     (\"green\", 10),\n",
        "          \"Apple\":        (\"red\", 0),\n",
        "          \"Blueberries\":  (\"blue\", 4),\n",
        "          \"Limes\":        (\"green\", 15),\n",
        "          \"Banana\":       (\"yellow\", 20)\n",
        "          }\n",
        "\n"
      ]
    },
    {
      "cell_type": "code",
      "execution_count": null,
      "metadata": {
        "id": "T-d6zP1tuEtO"
      },
      "outputs": [],
      "source": []
    },
    {
      "cell_type": "markdown",
      "metadata": {
        "id": "9EaEzNM3t6KZ"
      },
      "source": [
        "# Optional Questions / Practices (Try Yourself)"
      ]
    },
    {
      "cell_type": "markdown",
      "metadata": {
        "id": "2zw1B650bGZJ"
      },
      "source": [
        "## Using list as a **stack** or **queue**"
      ]
    },
    {
      "cell_type": "code",
      "execution_count": 22,
      "metadata": {
        "id": "Zwu1MpHQbNur"
      },
      "outputs": [
        {
          "name": "stdout",
          "output_type": "stream",
          "text": [
            "Stack: LIFO\n",
            "c\n",
            "b\n",
            "a\n",
            "Queue: FIFO\n",
            "a\n",
            "b\n",
            "c\n"
          ]
        }
      ],
      "source": [
        "entries = []\n",
        "\n",
        "def add_to_stack(lst, item):\n",
        "    # Complete the function\n",
        "    lst.append(item)\n",
        "\n",
        "def get_from_stack(lst):\n",
        "    # Complete the function\n",
        "    return lst.pop()\n",
        "\n",
        "add_to_stack(entries, 'a')\n",
        "add_to_stack(entries, 'b')\n",
        "add_to_stack(entries, 'c')\n",
        "\n",
        "print('Stack: LIFO')\n",
        "print(get_from_stack(entries))\n",
        "print(get_from_stack(entries))\n",
        "print(get_from_stack(entries))\n",
        "# get_from_stack(entries)\n",
        "\n",
        "# -- QUEUE ---------------\n",
        "def add_to_queue(lst, item):\n",
        "    # Complete the function\n",
        "    lst.insert(0, item)\n",
        "\n",
        "def get_from_queue(lst):\n",
        "    # Complete the function\n",
        "    return lst.pop()\n",
        "\n",
        "add_to_queue(entries, 'a')\n",
        "add_to_queue(entries, 'b')\n",
        "add_to_queue(entries, 'c')\n",
        "\n",
        "print('Queue: FIFO')\n",
        "print(get_from_queue(entries))\n",
        "print(get_from_queue(entries))\n",
        "print(get_from_queue(entries))\n",
        "# get_from_queue(entries)\n"
      ]
    },
    {
      "cell_type": "markdown",
      "metadata": {
        "id": "pDI4ANNwGfpT"
      },
      "source": [
        "# Extra Problems to try:\n",
        "\n",
        "---\n",
        "\n",
        "## Problem 1\n",
        "\n",
        "Find how many peaks are there? (4, 2, 5, 7, 6, 6, 4, 3, 5, 2, 6, 7)\n"
      ]
    },
    {
      "cell_type": "code",
      "execution_count": null,
      "metadata": {},
      "outputs": [
        {
          "name": "stdout",
          "output_type": "stream",
          "text": [
            "There are 2 peaks at indices [2, 10].\n"
          ]
        }
      ],
      "source": [
        "heights = [4, 2, 5, 7, 6, 6, 4, 3, 5, 2, 6, 7]\n",
        "peaks = []\n",
        "for line_index in range(len(heights)):\n",
        "    # skip the first and last entries\n",
        "    if line_index == 0 or line_index == len(heights) - 1:\n",
        "        continue\n",
        "\n",
        "    # this is a height\n",
        "    if heights[line_index - 1] < heights[line_index] < heights[line_index + 1]:\n",
        "    # if heights[index - 1] < heights[index] and heights[index] < heights[index + 1]\n",
        "        peaks.append(line_index)\n",
        "\n",
        "print(f\"There are {len(peaks)} peaks at indices {peaks}.\")"
      ]
    },
    {
      "cell_type": "markdown",
      "metadata": {},
      "source": [
        "\n",
        "---\n",
        "\n",
        "## Problem 2\n",
        "\n",
        "From a list of words, organize a new dictioanry (key: length of the word, value: list of words)\n"
      ]
    },
    {
      "cell_type": "code",
      "execution_count": null,
      "metadata": {},
      "outputs": [],
      "source": [
        "# clean the text\n",
        "characters_to_remove = \"“”,.—-)(:*!?;\"\n",
        "with open('../data/alice.txt', encoding='utf8') as in_file:\n",
        "    contents = in_file.read()\n",
        "for character in characters_to_remove:\n",
        "    # replace with a space for now\n",
        "    contents = contents.replace(character, \" \")\n",
        "# this is less fun...\n",
        "# Some of the words have '‘' or '’' at the end or beginning of the word... but some of them are legitimate apostrophes in the middle of a word\n",
        "\n",
        "# I want to keep the line breaks for now, so let's be careful about how we handle this\n",
        "# split into lines\n",
        "all_lines = contents.splitlines()\n",
        "for line_index, line in enumerate(all_lines):\n",
        "    # split into words\n",
        "    line_words = line.split()\n",
        "    for word_index, word in enumerate(line_words):\n",
        "        # remove the beginning '‘'\n",
        "        if word.startswith('‘'):\n",
        "            line_words[word_index] = line_words[word_index][1:]\n",
        "        \n",
        "        # remove the trailing '’'\n",
        "        if word.endswith('’'):\n",
        "            line_words[word_index] = line_words[word_index][:-1]\n",
        "\n",
        "    # join this line's words back together\n",
        "    all_lines[line_index] = ' '.join(line_words)\n",
        "\n",
        "# join all the lines back together\n",
        "contents = '\\n'.join(all_lines)\n",
        "\n",
        "# write the clean text out so I never have to do this ever again\n",
        "with open('../data/alice_clean.txt', 'w', encoding='utf8') as out_file:\n",
        "    out_file.write(contents)"
      ]
    },
    {
      "cell_type": "code",
      "execution_count": 38,
      "metadata": {},
      "outputs": [
        {
          "name": "stdout",
          "output_type": "stream",
          "text": [
            "length 1: ['I', 'a', 'a', 'a', 'I', 'a', 'a', 'a', 'a', 'a', 'a', 'a', 'a', 'a', 'a', 'I', 'I', 'I', 'I', 'I', 'I', 'a', 'I', 'I', 'I', 'I', 'I', 'I', 'I', 'I', 'I', 'a', 'a', 'I', 'a', 'a', 'a', 'a', 'a', 'a', 'a', 'a', 'a', 'a', 'a', 'a', 'a', 'a', 'a', 'I', 'I', 'a', 'I', 'I', 'I', 'a', 'a', 'a', 'a', 'a', 'a', 'a', 'a', 'a', 'I', 'a', 'a', 'a', 'a', 'I', 'I', 'a', 'a', 'a', 'I', 'a', 'a', 'a', 'I', 'I', 'I', 'a', 'I', 'I', 'I', 'a', 'I', 'I', 'a', 'a', 'I', 'a', 'a', 'a', 'a', 'a', 'a', 'a', 'I', 'I', 'I', 'I', 'I', 'a', 'I', 'I', 'I', 'a', 'I', 'I', 'I', 'I', 'I', 'I', 'I', 'I', 'I', 'I', 'a', 'I', 'I', 'I', 'I', 'a', 'a', 'I', 'I', 'I', 'a', 'a', 'a', 'I', 'I', 'I', 'I', 'a', 'a', 'a', 'a', 'I', 'O', 'I', 'O', 'a', 'a', 'A', 'a', 'a', 'a', 'O', 'I', 'a', 'a', 'I', 'I', 'a', 'a', 'I', 'I', 'I', 'a', 'a', 'a', 'a', 'I', 'I', 'a', 'I', 'a', 'a', 'I', 'A', 'I', 'a', 'a', 'a', 'a', 'a', 'I', 'a', 'a', 'a', 'A', 'a', 'a', 'a', 'a', 'a', 'I', 'a', 'a', 'a', 'I', 'a', 'I', 'I', 'I', 'I', 'I', 'I', 'a', 'a', 'a', 'a', 'I', 'I', 'I', 'a', 'I', 'a', 'a', 'I', 'a', 'a', 'a', 'a', 'a', 'a', 'a', 'a', 'a', 'a', 'a', 'C', 'D', 'a', 'a', 'a', 'a', 'a', 'I', 'a', 'a', 'I', 'I', 'I', 'A', 'I', 'I', 'a', 'a', 'a', 'a', 'I', 'I', 'I', 'I', 'I', 'a', 'I', 'a', 'a', 'I', 'a', 'a', 'I', 'I', 'a', 'I', 'I', 'a', 'a', 'a', 'I', 'I', 'a', 'a', 'a', 'I', 'I', 'a', 'a', 'W', 'a', 'I', 'a', 'I', 'a', 'a', 'a', 'a', 'a', 'I', 'I', 'I', 'a', 'I', 'I', 'I', 'I', 'I', 'a', 'I', 'I', 'I', 'I', 'I', 'I', 'I', 'a', 'I', 'a', 'I', 'I', 'a', 'I', 'a', 'a', 'a', 'a', 'a', 'a', 'a', 'a', 'a', 'a', 'a', 'a', 'a', 'I', 'I', 'a', 'I', 'I', 'I', 'a', 'a', 'I', 'a', 'I', 'I', 'I', 'I', 'a', 'I', 'I', 'a', 'a', 'a', 'a', 'I', 'a', 'I', 'a', 'I', 'a', 'a', 'I', 'a', 'A', 'A', 'a', 'a', 'a', 'I', 'I', 'a', 'a', 'a', 'a', 'I', 'a', 'a', 'a', 'a', 'a', 'a', 'a', 'a', 'a', 'a', 'a', 'a', 'a', 'a', 'a', 'I', 'I', 'I', 'a', 'a', 'a', 'V', 'a', 'a', 'a', 'I', 'I', 'I', 'I', 'I', 'I', 'I', 'I', 'I', 'I', 'I', 'a', 'a', 'a', 'I', 'a', 'a', 'I', 'a', 'I', 'a', 'I', 'I', 'I', 'I', 'a', 'I', 'I', 'I', 'I', 'a', 'I', 'a', 'I', 'I', 'I', 'I', 'I', 'a', 'a', 'a', 'a', 'I', 'a', 'a', 'a', 'a', 'a', 'a', 'a', 'a', 'a', 'a', 'a', 'I', 'a', 'a', 'a', 'a', 'a', 'a', 'a', 'I', 'a', 'a', 'I', 'I', 'I', 'a', 'a', 'I', 'I', 'a', 'I', 'a', 'a', 'I', 'I', 'a', 'A', 'a', 'a', 'a', 'a', 'I', 'I', 'a', 'I', 'a', 'I', 'a', 'a', 'I', 'a', 'a', 'a', 'I', 'I', 'I', 'a', 'a', 'a', 'I', 'a', 'I', 'a', 'a', 'a', 'a', 'a', 'a', 'a', 'a', 'a', 'a', 'a', 'a', 'a', 'a', 'a', 'I', 'I', 'I', 'I', 'a', 'I', 'a', 'a', 'I', 'I', 'a', 'a', 'a', 'a', 'a', 'a', 'a', 'a', 'I', 'I', 'I', 'a', 'a', 'a', 'a', 'a', 'a', 'I', 'I', 'I', 'a', 'a', 'I', 'I', 'a', 'I', 'a', 'a', 'a', 'a', 'a', 'I', 'a', 'a', 'a', 'a', 'a', 'a', 'a', 'I', 'I', 'a', 'a', 'a', 'I', 'a', 'a', 'a', 'a', 'a', 'a', 'I', 'a', 'I', 'I', 'a', 'a', 'I', 'a', 'I', 'a', 'I', 'I', 'I', 'I', 'a', 'a', 'I', 'a', 'a', 'a', 'a', 'I', 'I', 'a', 'a', 'a', 'a', 'I', 'a', 'I', 'A', 'a', 'a', 'a', 'a', 'I', 'a', 'a', 'I', 'I', 'a', 'a', 'a', 'I', 'I', 'I', 'I', 'I', 'a', 'I', 'I', 'I', 'I', 'I', 'I', 'I', 'I', 'I', 'I', 'I', 'I', 'a', 'a', 'I', 'a', 'a', 'I', 'a', 'I', 'I', 'I', 'I', 'I', 'I', 'I', 'I', 'I', 'I', 'I', 'a', 'a', 'I', 'a', 'I', 'I', 'I', 'I', 'a', 'a', 'a', 'I', 'A', 'a', 'I', 'I', 'a', 'I', 'I', 'a', 'I', 'a', 'a', 'a', 'a', 'a', 'a', 'a', 'I', 'a', 'a', 'a', 'I', 'I', 'I', 'a', 'a', 'I', 'a', 'I', 'a', 'M', 'M', 'a', 'a', 'M', 'a', 'a', 'a', 'a', 'I', 'I', 'a', 'I', 'I', 'a', 'a', 'A', 'a', 'I', 'a', 'I', 'a', 'a', 'a', 'a', 'a', 'a', 'a', 'a', 'a', 'a', 'I', 'I', 'a', 'a', 'a', 'a', 'a', 'I', 'a', 'a', 'a', 'a', 'a', 'a', 'I', 'I', 'a', 'I', 'a', 'a', 'a', 'a', 'a', 'a', 'a', 'a', 'a', 'a', 'a', 'a', 'a', 'a', 'a', 'I', 'I', 'a', 'I', 'a', 'a', 'a', 'I', 'A', 'a', 'I', 'I', 'a', 'a', 'a', 'a', 'a', 'a', 'a', 'a', 'a', 'a', 'I', 'a', 'a', 'a', 'I', 'a', 'I', 'a', 'I', 'I', 'a', 'a', 'a', 'I', 'I', 'a', 'I', 'a', 'a', 'a', 'a', 'I', 'a', 'I', 'a', 'I', 'I', 'I', 'I', 'I', 'I', 'I', 'a', 'I', 'a', 'A', 'a', 'a', 'm', 'a', 'A', 'a', 'I', 'a', 'a', 'a', 'I', 'a', 'I', 'a', 'a', 'a', 'a', 'I', 'I', 'I', 'a', 'a', 'a', 'I', 'a', 'I', 'a', 'a', 'a', 'a', 'I', 'I', 'a', 'a', 'a', 'a', 'I', 'a', 'I', 'I', 'I', 'a', 'a', 'I', 'I', 'I', 'a', 'a', 'a', 'a', 'a', 'a', 'a', 'a', 'X', 'a', 'a', 'I', 'a', 'I', 'a', 'a', 'a', 'a', 'a', 'a', 'a', 'a', 'a', 'a', 'a', 'a', 'a', 'a', 'a', 'a', 'I', 'I', 'I', 'a', 'I', 'a', 'I', 'a', 'I', 'a', 'I', 'a', 'I', 'a', 'a', 'a', 'a', 'a', 'a', 'a', 'I', 'I', 'I', 'I', 'a', 'I', 'a', 'a', 'a', 'a', 'I', 'I', 'I', 'I', 'a', 'a', 'a', ']', 'I', 'I', 'a', 'I', 'a', 'I', 'I', 'a', 'I', 'a', 'a', 'a', ']', 'I', 'I', 'a', 'a', 'a', 'a', 'a', 'e', 'e', 'p', 'e', 'e', 'a', 'e', 'e', 'a', 'a', 'a', 'a', 'a', 'a', 'I', 'a', 'I', 'a', 'A', 'a', 'a', 'a', 'a', 'a', 'I', 'I', 'I', 'I', 'a', 'I', 'a', 'a', 'a', 'a', 'I', 'I', 'I', 'I', 'a', 'a', 'a', 'I', 'a', 'a', 'T', 'a', 'a', 'I', 'a', 'I', 'I', 'I', 'a', 'a', 'a', 'I', 'a', 'I', 'I', 'a', 'I', 'I', 'a', 'a', 'a', 'a', 'a', 'I', 'a', 'a', 'a', 'a', 'I', 'a', 'a', 'a', 'I', 'a', 'a', 'a', 'I', 'a', 'a', 'a', 'I', 'a', 'a', 'a', 'I', 'I', 'a', 'I', 'a', 'I', 'I', 'I', 'I', 'A', 'a', 'I', 'a', 'I', 'I', 'I', 'I', 'I', 'I', 'a', 'a', 'a', 'I', 'a', 'a', 'a', 'a', 'a', 'a', 'a', 'a', 'a', 'a']\n",
            "length 2: ['to', 'of', 'by', 'on', 'of', 'to', 'do', 'or', 'it', 'no', 'or', 'in', 'it', 'is', 'of', 'or', 'So', 'in', 'as', 'as', 'of', 'be', 'of', 'up', 'by', 'so', 'in', 'it', 'so', 'of', 'to', 'to', 'Oh', 'Oh', 'be', 'it', 'it', 'to', 'to', 'at', 'at', 'it', 'of', 'at', 'it', 'on', 'to', 'it', 'or', 'to', 'of', 'it', 'it', 'in', 'to', 'it', 'In', 'it', 'in', 'to', 'on', 'so', 'to', 'or', 'of', 'as', 'to', 'to', 'to', 'to', 'to', 'it', 'to', 'at', 'of', 'of', 'as', 'it', 'to', 'it', 'to', 'of', 'so', 'to', 'it', 'of', 'as', 'it', 'to', 'as', 'of', 'me', 'at', 'it', 'if', 'of', 'to', 'an', 'by', 'be', 'of', 'me', 'be', 'of', 'in', 'in', 'as', 'no', 'to', 'to', 'it', 'to', 'it', 'or', 'to', 'no', 'or', 'to', 'if', 'to', 'no', 'as', 'it', 'at', 'to', 'of', 'is', 'is', 'or', 'to', 'as', 'as', 'Do', 'it', 'an', 'me', 'No', 'do', 'to', 'it', 'up', 'to', 'do', 'so', 'me', 'to', 'of', 'at', 'my', 'me', 'no', 'in', 'do', 'to', 'on', 'to', 'in', 'of', 'Do', 'Do', 'Do', 'as', 'it', 'it', 'to', 'in', 'to', 'me', 'of', 'up', 'on', 'to', 'in', 'up', 'it', 'in', 'it', 'to', 'be', 'in', 'to', 'it', 'as', 'it', 'Oh', 'my', 'it', 'no', 'to', 'be', 'in', 'up', 'by', 'of', 'up', 'to', 'of', 'on', 'it', 'it', 'to', 'of', 'of', 'or', 'at', 'it', 'of', 'on', 'it', 'in', 'to', 'it', 'it', 'to', 'of', 'of', 'if', 'my', 'go', 'it', 'be', 'of', 'my', 'Oh', 'up', 'if', 'to', 'so', 'of', 'to', 'to', 'be', 'no', 'in', 'by', 'so', 'to', 'on', 'it', 'or', 'at', 'of', 'up', 'on', 'it', 'of', 'ME', 'on', 'it', 'in', 'It', 'to', 'me', 'to', 'do', 'in', 'No', 'or', 'up', 'by', 'as', 'if', 'it', 'if', 'it', 'if', 'it', 'is', 'to', 'or', 'so', 'to', 'it', 'it', 'it', 'in', 'of', 'of', 'it', 'be', 'up', 'so', 'it', 'up', 'at', 'to', 'if', 'to', 'it', 'to', 'in', 'my', 'be', 'to', 'of', 'is', 'is', 'on', 'at', 'to', 'to', 'it', 'it', 'it', 'to', 'up', 'of', 'of', 'it', 'no', 'in', 'to', 'to', 'it', 'so', 'as', 'to', 'to', 'in', 'of', 'of', 'to', 'be', 'no', 'to', 'to', 'be', 'of', 'me', 'to', 'on', 'it', 'in', 'it', 'on', 'ME', 'in', 'it', 'if', 'it', 'me', 'if', 'it', 'me', 'so', 'to', 'on', 'of', 'to', 'it', 'to', 'to', 'be', 'so', 'of', 'of', 'to', 'it', 'to', 'go', 'on', 'in', 'So', 'to', 'II', 'of', 'so', 'to', 'at', 'to', 'be', 'of', 'so', 'Oh', 'my', 'on', 'be', 'be', 'to', 'be', 'to', 'or', 'to', 'go', 'me', 'of', 'on', 'to', 'it', 'go', 'by', 'to', 'Oh', 'of', 'in', 'at', 'up', 'to', 'It', 'as', 'as', 'do', 'on', 'to', 'to', 'to', 'to', 'be', 'of', 'to', 'go', 'on', 'in', 'on', 'of', 'of', 'in', 'to', 'It', 'of', 'in', 'in', 'he', 'in', 'to', 'as', 'he', 'Oh', 'Oh', 'be', 'if', 'so', 'to', 'of', 'so', 'in', 'If', 'as', 'as', 'he', 'go', 'up', 'as', 'on', 'is', 'to', 'on', 'as', 'if', 'in', 'me', 'up', 'if', 'is', 'in', 'am', 'Ah', 'of', 'as', 'to', 'if', 'of', 'in', 'go', 'in', 'at', 'be', 'of', 'oh', 'oh', 'it', 'is', 'if', 'to', 'me', 'is', 'is', 'is', 'oh', 'to', 'at', 'is', 'of', 'is', 'of', 'no', 'on', 'as', 'if', 'to', 'it', 'as', 'to', 'do', 'of', 'On', 'he', 'to', 'in', 'as', 'on', 'be', 'to', 'go', 'in', 'to', 'no', 'to', 'oh', 'so', 'to', 'No', 'up', 'my', 'it', 'if', 'be', 'no', 'up', 'up', 'am', 'me', 'if', 'up', 'if', 'oh', 'of', 'do', 'am', 'so', 'of', 'As', 'at', 'to', 'on', 'of', 'be', 'up', 'to', 'to', 'by', 'it', 'as', 'as', 'on', 'of', 'it', 'in', 'to', 'at', 'to', 'in', 'to', 'on', 'as', 'so', 'as', 'it', 'is', 'As', 'in', 'up', 'to', 'in', 'in', 'go', 'by', 'to', 'to', 'in', 'to', 'go', 'to', 'on', 'of', 'in', 'in', 'of', 'in', 'of', 'so', 'as', 'to', 'be', 'it', 'by', 'in', 'my', 'be', 'to', 'be', 'is', 'to', 'in', 'to', 'it', 'at', 'it', 'be', 'or', 'it', 'in', 'it', 'be', 'of', 'to', 'to', 'is', 'so', 'of', 'it', 'at', 'no', 'in', 'So', 'do', 'of', 'am', 'of', 'be', 'of', 'to', 'in', 'of', 'to', 'at', 'to', 'to', 'of', 'it', 'it', 'of', 'no', 'So', 'Où', 'ma', 'in', 'of', 'to', 'Oh', 'in', 'if', 'me', 'in', 'be', 'it', 'to', 'if', 'is', 'on', 'to', 'as', 'in', 'so', 'by', 'is', 'to', 'oh', 'it', 'be', 'We', 'if', 'We', 'to', 'of', 'As', 'if', 'on', 'me', 'in', 'to', 'of', 'of', 'of', 'so', 'on', 'is', 'to', 'oh', 'up', 'of', 'of', 'it', 'to', 'he', 'so', 'He', 'it', 'oh', 'in', 'it', 'as', 'as', 'it', 'go', 'in', 'as', 'it', 'So', 'it', 'Do', 'we', 'or', 'if', 'it', 'to', 'it', 'in', 'us', 'to', 'my', 'it', 'is', 'It', 'to', 'go', 'it', 'an', 'to', 'on', 'to', 'of', 'to', 'it', 'to', 'to', 'as', 'if', 'at', 'am', 'it', 'as', 'to', 'no', 'to', 'be', 'At', 'to', 'be', 'of', 'of', 'to', 'me', 'at', 'in', 'in', 'on', 'it', 'if', 'an', 'is', 'if', 'by', 'to', 'by', 'of', 'to', 'of', 'of', 'of', 'it', 'it', 'of', 'it', 'it', 'or', 'is', 'on', 'it', 'to', 'go', 'to', 'at', 'of', 'on', 'my', 'it', 'to', 'as', 'it', 'As', 'as', 'in', 'it', 'to', 'me', 'at', 'In', 'to', 'of', 'of', 'do', 'to', 'of', 'to', 'in', 'an', 'to', 'us', 'be', 'is', 'to', 'as', 'if', 'it', 'to', 'no', 'to', 'to', 'it', 'is', 'to', 'do', 'it', 'as', 'to', 'it', 'it', 'in', 'of', 'it', 'no', 'so', 'it', 'to', 'an', 'or', 'so', 'is', 'it', 'of', 'it', 'in', 'in', 'of', 'in', 'At', 'is', 'to', 'of', 'of', 'to', 'at', 'in', 'no', 'to', 'do', 'in', 'in', 'of', 'it', 'as', 'Of', 'in', 'he', 'on', 'to', 'it', 'We', 'of', 'it', 'so', 'to', 'as', 'of', 'to', 'as', 'as', 'to', 'as', 'to', 'be', 'on', 'it', 'at', 'in', 'to', 'to', 'me', 'it', 'is', 'in', 'it', 'be', 'is', 'to', 'It', 'is', 'at', 'do', 'it', 'on', 'it', 'so', 'of', 'to', 'he', 'in', 'us', 'go', 'to', 'no', 'We', 'to', 'do', 'to', 'no', 'or', 'be', 'be', 'be', 'to', 'to', 'of', 'to', 'to', 'Oh', 'do', 'me', 'to', 'it', 'do', 'of', 'up', 'me', 'by', 'it', 'so', 'in', 'it', 'in', 'do', 'it', 'as', 'as', 'it', 'of', 'an', 'of', 'to', 'Ah', 'my', 'be', 'to', 'to', 'Ma', 'to', 'of', 'an', 'do', 'in', 'it', 'is', 'if', 'to', 'to', 'oh', 'as', 'as', 'at', 'it', 'of', 'at', 'up', 'be', 'my', 'in', 'to', 'my', 'in', 'On', 'to', 'in', 'to', 'in', 'Oh', 'my', 'if', 'to', 'In', 'of', 'in', 'up', 'to', 'IV', 'in', 'It', 'as', 'it', 'as', 'if', 'it', 'it', 'to', 'Oh', 'my', 'Oh', 'my', 'me', 'as', 'as', 'in', 'it', 'of', 'to', 'be', 'to', 'in', 'as', 'to', 'in', 'an', 'me', 'of', 'so', 'at', 'in', 'it', 'to', 'to', 'it', 'He', 'me', 'to', 'as', 'be', 'he', 'am', 'is', 'if', 'As', 'on', 'of', 'it', 'in', 'in', 'be', 'of', 'it', 'to', 'to', 'be', 'be', 'me', 'on', 'of', 'in', 'to', 'on', 'in', 'if', 'it', 'By', 'in', 'on', 'it', 'as', 'or', 'of', 'up', 'of', 'to', 'no', 'ME', 'it', 'it', 'to', 'is', 'to', 'to', 'or', 'so', 'do', 'me', 'of', 'It', 'so', 'to', 'to', 'to', 'As', 'it', 'is', 'at', 'do', 'so', 'it', 'to', 'on', 'to', 'on', 'in', 'of', 'on', 'as', 'of', 'up', 'to', 'do', 'no', 'of', 'me', 'no', 'it', 'as', 'to', 'be', 'no', 'of', 'of', 'of', 'no', 'It', 'at', 'by', 'of', 'do', 'to', 'me', 'to', 'of', 'am', 'in', 'of', 'to', 'be', 'me', 'up', 'up', 'in', 'at', 'no', 'to', 'up', 'am', 'be', 'to', 'be', 'an', 'to', 'to', 'Oh', 'Oh', 'in', 'no', 'at', 'so', 'on', 'of', 'it', 'to', 'me', 'my', 'of', 'on', 'it', 'to', 'as', 'as', 'no', 'to', 'be', 'of', 'it', 'up', 'to', 'to', 'it', 'as', 'it', 'it', 'to', 'go', 'in', 'at', 'in', 'of', 'of', 'it', 'it', 'or', 'of', 'an', 'me', 'of', 'of', 'me', 'in', 'an', 'He', 'it', 'An', 'it', 'it', 'an', 'no', 'at', 'go', 'it', 'as', 'it', 'at', 'at', 'Do', 'as', 'at', 'in', 'of', 'of', 'be', 'do', 'As', 'me', 'of', 'to', 'in', 'at', 'of', 'of', 'to', 'it', 'up', 'at', 'No', 'Oh', 'do', 'be', 'of', 'Oh', 'It', 'to', 'go', 'do', 'it', 'to', 'go', 'to', 'go', 'Oh', 'So', 'to', 'he', 'to', 'to', 'be', 'in', 'is', 'to', 'be', 'as', 'as', 'of', 'it', 'in', 'to', 'is', 'to', 'of', 'by', 'of', 'up', 'it', 'to', 'us', 'it', 'No', 'ye', 'to', 'is', 'at', 'me', 'in', 'up', 'So', 'We', 'as', 'as', 'If', 'do', 'at', 'to', 'do', 'If', 'or', 'do', 'to', 'of', 'to', 'of', 'in', 'at', 'of', 'in', 'to', 'to', 'do', 'as', 'on', 'If', 'of', 'to', 'in', 'my', 'as', 'it', 'me', 'it', 'me', 'So', 'of', 'to', 'As', 'as', 'to', 'of', 'of', 'in', 'up', 'by', 'it', 'of', 'at', 'as', 'as', 'in', 'to', 'do', 'to', 'as', 'in', 'is', 'to', 'to', 'my', 'is', 'to', 'my', 'be', 'It', 'an', 'no', 'to', 'it', 'up', 'in', 'An', 'at', 'to', 'in', 'to', 'to', 'it', 'at', 'it', 'be', 'in', 'it', 'be', 'to', 'up', 'in', 'of', 'up', 'of', 'it', 'to', 'at', 'of', 'at', 'to', 'it', 'to', 'on', 'at', 'in', 'to', 'of', 'it', 'it', 'of', 'to', 'be', 'of', 'at', 'at', 'it', 'of', 'to', 'so', 'at', 'of', 'in', 'it', 'as', 'to', 'of', 'it', 'if', 'if', 'to', 'do', 'it', 'Oh', 'to', 'up', 'me', 'is', 'it', 'to', 'be', 'to', 'or', 'or', 'is', 'at', 'of', 'to', 'or', 'as', 'it', 'on', 'of', 'it', 'it', 'it', 'to', 'as', 'on', 'of', 'it', 'up', 'on', 'of', 'of', 'on', 'of', 'or', 'of', 'at', 'in', 'at', 'of', 'in', 'an', 'at', 'at', 'up', 'do', 'by', 'it', 'it', 'to', 'so', 'in', 'is', 'It', 'it', 'so', 'to', 'it', 'be', 'is', 'it', 'to', 'me', 'to', 'of', 'at', 'up', 'to', 'me', 'as', 'of', 'as', 'to', 'be', 'in', 'of', 'to', 'Is', 'as', 'as', 'No', 'as', 'as', 'to', 'do', 'it', 'it', 'at', 'it', 'of', 'So', 'do', 'am', 'as', 'to', 'it', 'in', 'on', 'Do', 'at', 'it', 'is', 'In', 'my', 'to', 'it', 'do', 'it', 'as', 'in', 'at', 'is', 'of', 'In', 'my', 'as', 'he', 'my', 'By', 'of', 'me', 'to', 'to', 'do', 'it', 'In', 'my', 'to', 'my', 'it', 'to', 'my', 'of', 'my', 'as', 'as', 'an', 'on', 'of', 'so', 'is', 'Do', 'to', 'Be', 'or', 'is', 'of', 'It', 'is', 'to', 'to', 'do', 'to', 'be', 'it', 'Oh', 'as', 'to', 'so', 'so', 'in', 'to', 'be', 'if', 'is', 'to', 'be', 'It', 'is', 'as', 'it', 'it', 'to', 'it', 'in', 'of', 'be', 'so', 'to', 'it', 'in', 'it', 'it', 'to', 'In', 'or', 'of', 'or', 'it', 'in', 'as', 'it', 'of', 'of', 'to', 'Of', 'as', 'if', 'it', 'in', 'it', 'of', 'at', 'to', 'of', 'it', 'as', 'it', 'at', 'it', 'as', 'as', 'go', 'of', 'is', 'to', 'of', 'to', 'it', 'by', 'no', 'to', 'be', 'as', 'so', 'to', 'at', 'to', 'of', 'so', 'to', 'it', 'at', 'to', 'of', 'my', 'at', 'in', 'of', 'in', 'to', 'be', 'an', 'of', 'to', 'of', 'of', 'be', 'my', 'to', 'oh', 'my', 'is', 'it', 'as', 'no', 'to', 'As', 'to', 'be', 'no', 'of', 'up', 'to', 'to', 'to', 'to', 'in', 'in', 'it', 'to', 'in', 'to', 'be', 'of', 'in', 'me', 'in', 'of', 'to', 'of', 'on', 'to', 'no', 'no', 'in', 'As', 'if', 'it', 'be', 'on', 'of', 'to', 'as', 'in', 'to', 'as', 'be', 'of', 'at', 'to', 'as', 'of', 'in', 'of', 'in', 'my', 'as', 'No', 'no', 'no', 'it', 'be', 'me', 'an', 'as', 'as', 'do', 'it', 'if', 'do', 'of', 'to', 'or', 'of', 'it', 'to', 'me', 'or', 'It', 'to', 'me', 'as', 'it', 'if', 'be', 'in', 'as', 'it', 'as', 'as', 'to', 'it', 'of', 'in', 'to', 'at', 'at', 'in', 'to', 'It', 'so', 'it', 'at', 'to', 'it', 'in', 'to', 'as', 'my', 'to', 'be', 'to', 'to', 'my', 'is', 'to', 'is', 'to', 'be', 'As', 'an', 'in', 'it', 'do', 'to', 'of', 'So', 'at', 'to', 'go', 'to', 'VI', 'or', 'at', 'to', 'do', 'in', 'of', 'to', 'be', 'he', 'in', 'by', 'at', 'It', 'by', 'in', 'to', 'it', 'of', 'to', 'by', 'as', 'as', 'he', 'to', 'in', 'An', 'to', 'in', 'of', 'An', 'to', 'so', 'at', 'to', 'of', 'on', 'up', 'up', 'to', 'no', 'of', 'in', 'on', 'of', 'as', 'no', 'on', 'as', 'if', 'or', 'to', 'am', 'to', 'in', 'be', 'in', 'on', 'to', 'if', 'we', 'us', 'if', 'He', 'up', 'he', 'he', 'it', 'to', 'so', 'at', 'of', 'at', 'he', 'am', 'to', 'in', 'At', 'of', 'at', 'it', 'to', 'of', 'or', 'in', 'as', 'if', 'am', 'to', 'in', 'in', 'to', 'in', 'at', 'It', 'no', 'to', 'be', 'so', 'to', 'to', 'to', 'he', 'on', 'am', 'to', 'do', 'Oh', 'no', 'in', 'to', 'in', 'of', 'to', 'on', 'in', 'to', 'be', 'of', 'in', 'to', 'as', 'as', 'of', 'it', 'in', 'as', 'it', 'in', 'on', 'to', 'me', 'it', 'to', 'in', 'it', 'to', 'to', 'so', 'on', 'in', 'of', 'do', 'of', 'do', 'to', 'at', 'of', 'it', 'be', 'as', 'to', 'of', 'to', 'on', 'of', 'at', 'to', 'at', 'of', 'no', 'of', 'so', 'it', 'to', 'it', 'or', 'Oh', 'up', 'in', 'an', 'of', 'Oh', 'as', 'an', 'by', 'it', 'it', 'If', 'in', 'go', 'it', 'be', 'an', 'to', 'an', 'of', 'of', 'of', 'it', 'to', 'on', 'of', 'at', 'to', 'if', 'to', 'to', 'be', 'so', 'on', 'or', 'is', 'it', 'Oh', 'me', 'of', 'to', 'it', 'as', 'so', 'it', 'at', 'of', 'to', 'he', 'He', 'it', 'to', 'he', 'it', 'In', 'of', 'up', 'so', 'to', 'my', 'he', 'he', 'he', 'it', 'if', 'to', 'at', 'as', 'go', 'to', 'of', 'as', 'it', 'as', 'it', 'in', 'it', 'up', 'so', 'or', 'it', 'as', 'as', 'do', 'to', 'it', 'As', 'as', 'of', 'it', 'to', 'it', 'up', 'of', 'of', 'so', 'as', 'to', 'it', 'If', 'me', 'to', 'it', 'in', 'or', 'it', 'be', 'to', 'it', 'in', 'it', 'by', 'at', 'of', 'to', 'it', 'be', 'no', 'it', 'up', 'of', 'at', 'it', 'to', 'if', 'No', 'no', 'If', 'to', 'my', 'to', 'do', 'or', 'it', 'to', 'on', 'in', 'to', 'to', 'am', 'to', 'do', 'it', 'it', 'so', 'in', 'be', 'no', 'it', 'it', 'it', 'be', 'to', 'it', 'So', 'to', 'it', 'If', 'it', 'up', 'to', 'it', 'it', 'do', 'as', 'to', 'if', 'to', 'by', 'on', 'of', 'it', 'It', 'it', 'so', 'it', 'to', 'be', 'as', 'at', 'it', 'it', 'so', 'on', 'me', 'to', 'go', 'on', 'to', 'to', 'it', 'go', 'so', 'as', 'as', 'an', 'Oh', 'to', 'do', 'if', 'be', 'so', 'of', 'In', 'in', 'to', 'go', 'Oh', 'do', 'be', 'or', 'it', 'at', 'on', 'do', 'To', 'so', 'on', 'my', 'it', 'it', 'Do', 'to', 'it', 'me', 'at', 'so', 'to', 'at', 'it', 'it', 'By', 'of', 'to', 'It', 'as', 'if', 'it', 'in', 'it', 'to', 'it', 'it', 'or', 'on', 'in', 'in', 'to', 'to', 'be', 'as', 'is', 'it', 'be', 'at', 'so', 'as', 'it', 'in', 'As', 'up', 'on', 'of', 'or', 'so', 'it', 'of', 'of', 'it', 'in', 'my', 'in', 'of', 'of', 'it', 'be', 'It', 'so', 'to', 'go', 'of', 'of', 'to', 'up', 'it', 'to', 'it', 'be', 'to', 'in', 'of', 'at', 'it', 'it', 'as', 'on', 'it', 'as', 'it', 'at', 'of', 'it', 'No', 'No', 'of', 'in', 'at', 'of', 'in', 'an', 'on', 'it', 'it', 'of', 'to', 'it', 'It', 'of', 'to', 'it', 'He', 'at', 'to', 'on', 'he', 'is', 'we', 'Do', 'to', 'it', 'so', 'on', 'do', 'at', 'at', 'as', 'is', 'as', 'as', 'is', 'as', 'as', 'to', 'be', 'in', 'is', 'as', 'It', 'is', 'to', 'of', 'is', 'it', 'he', 'to', 'he', 'of', 'at', 'it', 'it', 'it', 'to', 'he', 'at', 'It', 'in', 'as', 'it', 'in', 'at', 'it', 'he', 'it', 'of', 'at', 'it', 'he', 'of', 'to', 'It', 'It', 'of', 'it', 'is', 'it', 'it', 'is', 'Of', 'it', 'is', 'to', 'no', 'of', 'in', 'it', 'it', 'as', 'as', 'is', 'he', 'Of', 'of', 'to', 'to', 'No', 'it', 'up', 'do', 'it', 'in', 'no', 'If', 'as', 'as', 'do', 'it', 'Of', 'to', 'to', 'Ah', 'it', 'He', 'if', 'on', 'do', 'it', 'in', 'to', 'to', 'to', 'in', 'it', 'to', 'in', 'be', 'be', 'it', 'at', 'it', 'to', 'as', 'as', 'Is', 'he', 'We', 'he', 'at', 'it', 'at', 'by', 'of', 'to', 'at', 'it', 'It', 'on', 'in', 'Up', 'in', 'in', 'on', 'so', 'to', 'it', 'to', 'it', 'up', 'on', 'in', 'he', 'do', 'Is', 'so', 'it', 'no', 'to', 'so', 'as', 'up', 'to', 'to', 'we', 'of', 'us', 'at', 'up', 'it', 'on', 'at', 'he', 'in', 'us', 'do', 'be', 'it', 'or', 'be', 'in', 'at', 'of', 'on', 'in', 'of', 'on', 'or', 'So', 'to', 'to', 'an', 'of', 'be', 'it', 'so', 'on', 'at', 'of', 'to', 'in', 'an', 'so', 'to', 'to', 'to', 'so', 'to', 'to', 'at', 'of', 'or', 'to', 'it', 'It', 'no', 'Sh', 'sh', 'If', 'be', 'No', 'go', 'on', 'be', 'he', 'to', 'go', 'on', 'so', 'to', 'at', 'on', 'He', 'on', 'as', 'he', 'of', 'as', 'to', 'so', 'of', 'so', 'of', 'eh', 'in', 'to', 'to', 'Of', 'in', 'so', 'go', 'on', 'it', 'to', 'on', 'it', 'of', 'an', 'an', 'by', 'on', 'by', 'it', 'up', 'on', 'an', 'as', 'of', 'as', 'of', 'me', 'of', 'up', 'in', 'of', 'of', 'or', 'to', 'At', 'go', 'as', 'at', 'in', 'my', 'as', 'of', 'it', 'as', 'go', 'in', 'at', 'in', 'in', 'to', 'to', 'by', 'to', 'at', 'of', 'it', 'in', 'at', 'in', 'of', 'on', 'it', 'at', 'it', 'to', 'as', 'up', 'to', 'of', 'go', 'me', 'it', 'in', 'my', 'On', 'up', 'on', 'to', 'be', 'of', 'it', 'is', 'it', 'of', 'of', 'to', 'as', 'he', 'of', 'me', 'at', 'in', 'is', 'to', 'we', 'in', 'by', 'if', 'to', 'it', 'we', 'So', 'to', 'At', 'of', 'to', 'at', 'as', 'of', 'in', 'in', 'it', 'in', 'at', 'by', 'of', 'on', 'of', 'OF', 'to', 'on', 'of', 'at', 'be', 'of', 'if', 'to', 'so', 'it', 'So', 'to', 'at', 'is', 'it', 'to', 'of', 'in', 'to', 'on', 'My', 'is', 'so', 'to', 'of', 'be', 'of', 'to', 'as', 'on', 'on', 'as', 'of', 'or', 'or', 'or', 'of', 'at', 'no', 'of', 'at', 'my', 'is', 'to', 'so', 'up', 'in', 'up', 'to', 'me', 'to', 'on', 'it', 'in', 'on', 'as', 'he', 'we', 'on', 'of', 'to', 'to', 'be', 'or', 'if', 'it', 'in', 'at', 'as', 'on', 'at', 'by', 'in', 'He', 'as', 'he', 'to', 'of', 'No', 'at', 'of', 'Oh', 'in', 'to', 'in', 'of', 'in', 'up', 'in', 'or', 'in', 'it', 'to', 'up', 'to', 'on', 'to', 'at', 'in', 'in', 'as', 'to', 'it', 'up', 'in', 'to', 'it', 'to', 'in', 'of', 'or', 'in', 'to', 'to', 'as', 'up', 'up', 'to', 'of', 'to', 'it', 'at', 'in', 'in', 'or', 'in', 'to', 'to', 'be', 'as', 'it', 'of', 'me', 'of', 'is', 'of', 'in', 'it', 'at', 'it', 'or', 'it', 'to', 'be', 'to', 'to', 'to', 'on', 'as', 'as', 'it', 'to', 'no', 'to', 'it', 'or', 'at', 'of', 'In', 'an', 'of', 'to', 'to', 'to', 'of', 'it', 'in', 'no', 'of', 'it', 'at', 'in', 'so', 'to', 'in', 'at', 'if', 'to', 'no', 'it', 'is', 'to', 'go', 'at', 'of', 'it', 'it', 'do', 'in', 'at', 'so', 'so', 'on', 'to', 'on', 'to', 'up', 'to', 'at', 'of', 'me', 'to', 'it', 'of', 'it', 'at', 'it', 'my', 'if', 'it', 'be', 'at', 'me', 'He', 'as', 'he', 'at', 'in', 'it', 'be', 'he', 'at', 'My', 'of', 'or', 'he', 'as', 'go', 'on', 'as', 'in', 'of', 'to', 'be', 'of', 'at', 'as', 'in', 'it', 'or', 'So', 'in', 'of', 'in', 'to', 'an', 'of', 'to', 'of', 'it', 'in', 'of', 'to', 'up', 'By', 'it', 'of', 'it', 'as', 'of', 'So', 'it', 'it', 'to', 'to', 'it', 'on', 'at', 'to', 'by', 'to', 'to', 'as', 'at', 'it', 'to', 'to', 'it', 'he', 'to', 'do', 'he', 'to', 'at', 'of', 'be', 'to', 'if', 'it', 'in', 'no', 'It', 'so', 'of', 'to', 'It', 'to', 'it', 'in', 'to', 'an', 'he', 'by', 'he', 'it', 'so', 'up', 'it', 'of', 'to', 'IX', 'am', 'to', 'as', 'to', 'in', 'to', 'it', 'so', 'in', 'to', 'in', 'in', 'my', 'at', 'on', 'at', 'of', 'be', 'so', 'it', 'by', 'to', 'my', 'to', 'of', 'is', 'it', 'in', 'it', 'to', 'if', 'it', 'up', 'to', 'as', 'so', 'to', 'to', 'it', 'an', 'to', 'be', 'so', 'it', 'as', 'as', 'on', 'by', 'of', 'up', 'so', 'of', 'is', 'Oh', 'go', 'by', 'Ah', 'It', 'as', 'of', 'is', 'of', 'of', 'is', 'of', 'in', 'to', 'my', 'is', 'of', 'He', 'at', 'to', 'of', 'is', 'of', 'as', 'of', 'Of', 'it', 'is', 'to', 'to', 'of', 'is', 'is', 'of', 'is', 'of', 'Oh', 'to', 'It', 'it', 'is', 'of', 'is', 'Be', 'to', 'be', 'or', 'if', 'it', 'to', 'be', 'it', 'to', 'or', 'to', 'to', 'be', 'if', 'it', 'it', 'as', 'it', 'to', 'if', 'in', 'to', 'it', 'Oh', 'of', 'as', 'of', 'to', 'it', 'of', 'to', 'to', 'as', 'as', 'to', 'to', 'in', 'of', 'to', 'up', 'in', 'of', 'in', 'on', 'as', 'or', 'be', 'in', 'no', 'in', 'go', 'on', 'to', 'to', 'to', 'of', 'in', 'to', 'or', 'by', 'of', 'to', 'to', 'do', 'so', 'by', 'of', 'an', 'or', 'so', 'no', 'in', 'of', 'of', 'to', 'No', 'is', 'is', 'or', 'of', 'on', 'he', 'As', 'in', 'to', 'to', 'at', 'of', 'in', 'If', 'is', 'at', 'Up', 'to', 'to', 'go', 'of', 'on', 'it', 'be', 'as', 'to', 'it', 'as', 'to', 'go', 'so', 'up', 'it', 'of', 'it', 'to', 'to', 'is', 'on', 'on', 'as', 'it', 'so', 'in', 'my', 'in', 'on', 'of', 'as', 'as', 'if', 'is', 'in', 'as', 'he', 'no', 'on', 'So', 'up', 'to', 'at', 'of', 'to', 'do', 'it', 'in', 'of', 'So', 'to', 'he', 'if', 'he', 'at', 'by', 'by', 'an', 'of', 'of', 'up', 'be', 'to', 'so', 'we', 'on', 'at', 'we', 'to', 'in', 'an', 'we', 'to', 'if', 'he', 'We', 'he', 'us', 'to', 'be', 'of', 'at', 'to', 'At', 'to', 'on', 'be', 'it', 'he', 'on', 'in', 'we', 'to', 'in', 'it', 'on', 'We', 'of', 'in', 'we', 'to', 'to', 'be', 'so', 'as', 'we', 'Ah', 'in', 'of', 'at', 'at', 'of', 'it', 'at', 'of', 'to', 'it', 'of', 'to', 'of', 'of', 'to', 'is', 'it', 'up', 'in', 'of', 'it', 'to', 'is', 'it', 'to', 'on', 'if', 'to', 'is', 'to', 'it', 'so', 'to', 'to', 'on', 'an', 'to', 'he', 'us', 'in', 'it', 'it', 'to', 'He', 'an', 'he', 'to', 'he', 'to', 'So', 'he', 'so', 'he', 'in', 'in', 'do', 'in', 'to', 'so', 'on', 'to', 'to', 'it', 'Of', 'it', 'on', 'on', 'in', 'of', 'He', 'at', 'to', 'or', 'as', 'if', 'he', 'in', 'it', 'to', 'in', 'At', 'he', 'on', 'to', 'to', 'No', 'so', 'no', 'is', 'No', 'of', 'is', 'it', 'so', 'on', 'of', 'as', 'Of', 'to', 'in', 'on', 'as', 'to', 'as', 'in', 'at', 'of', 'to', 'at', 'It', 'be', 'to', 'of', 'it', 'to', 'We', 'do', 'Oh', 'So', 'on', 'to', 'to', 'us', 'on', 'my', 'on', 'no', 'it', 'be', 'us', 'up', 'us', 'to', 'he', 'he', 'it', 'we', 'go', 'is', 'is', 'to', 'to', 'it', 'at', 'do', 'so', 'Oh', 'as', 'to', 'of', 'at', 'be', 'if', 'so', 'of', 'so', 'in', 'in', 'in', 'is', 'he', 'to', 'is', 'go', 'to', 'So', 'to', 'So', 'to', 'So', 'in', 'So', 'so', 'if', 'Do', 'it', 'It', 'in', 'so', 'at', 'on', 'in', 'of', 'in', 'of', 'of', 'If', 'on', 'to', 'we', 'us', 'to', 'no', 'go', 'it', 'in', 'of', 'Of', 'if', 'to', 'me', 'me', 'he', 'in', 'an', 'of', 'my', 'no', 'to', 'No', 'no', 'in', 'an', 'So', 'it', 'at', 'so', 'to', 'on', 'so', 'as', 'on', 'to', 'to', 'as', 'as', 'it', 'be', 'It', 'to', 'to', 'He', 'at', 'as', 'if', 'he', 'it', 'of', 'up', 'of', 'as', 'be', 'at', 'at', 'up', 'to', 'it', 'so', 'of', 'of', 'me', 'my', 'As', 'so', 'he', 'as', 'he', 'is', 'as', 'in', 'of', 'to', 'it', 'it', 'in', 'if', 'in', 'to', 'it', 'it', 'Go', 'on', 'he', 'in', 'by', 'to', 'Go', 'on', 'it', 'by', 'to', 'it', 'on', 'in', 'by', 'as', 'as', 'of', 'as', 'to', 'is', 'of', 'if', 'it', 'as', 'go', 'on', 'by', 'to', 'do', 'so', 'we', 'of', 'on', 'Or', 'to', 'Oh', 'if', 'be', 'so', 'so', 'in', 'Hm', 'No', 'in', 'to', 'so', 'in', 'of', 'of', 'of', 'or', 'of', 'of', 'of', 'to', 'it', 'of', 'in', 'on', 'by', 'it', 'of', 'is', 'it', 'as', 'on', 'on', 'of', 'XI', 'of', 'on', 'of', 'as', 'as', 'of', 'in', 'on', 'to', 'in', 'of', 'in', 'In', 'of', 'of', 'it', 'so', 'it', 'to', 'at', 'to', 'be', 'no', 'of', 'so', 'at', 'to', 'in', 'of', 'in', 'to', 'of', 'to', 'of', 'by', 'as', 'he', 'at', 'if', 'to', 'he', 'it', 'he', 'at', 'it', 'to', 'of', 'or', 'to', 'of', 'it', 'of', 'of', 'it', 'at', 'as', 'on', 'to', 'to', 'in', 'of', 'in', 'in', 'on', 'to', 'as', 'as', 'if', 'on', 'of', 'to', 'he', 'to', 'to', 'be', 'in', 'of', 'of', 'an', 'of', 'it', 'it', 'so', 'it', 'at', 'of', 'it', 'so', 'it', 'he', 'to', 'of', 'of', 'as', 'it', 'no', 'on', 'On', 'on', 'as', 'of', 'on', 'of', 'he', 'to', 'to', 'on', 'He', 'in', 'in', 'of', 'in', 'he', 'in', 'my', 'to', 'at', 'in', 'of', 'it', 'he', 'to', 'on', 'up', 'to', 'to', 'It', 'to', 'of', 'to', 'as', 'an', 'of', 'my', 'on', 'at', 'be', 'or', 'on', 'to', 'at', 'he', 'to', 'at', 'in', 'he', 'of', 'of', 'at', 'it', 'to', 'at', 'up', 'on', 'to', 'as', 'as', 'so', 'to', 'it', 'no', 'to', 'at', 'in', 'he', 'up', 'to', 'of', 'at', 'as', 'to', 'of', 'of', 'me', 'of', 'in', 'on', 'so', 'he', 'or', 'or', 'in', 'my', 'or', 'so', 'so', 'of', 'of', 'It', 'Of', 'Do', 'me', 'Go', 'on', 'on', 'in', 'it', 'He', 'it', 'at', 'on', 'to', 'if', 'he', 'it', 'of', 'or', 'on', 'he', 'of', 'by', 'of', 'As', 'is', 'to', 'it', 'up', 'at', 'it', 'so', 'in', 'at', 'of', 'at', 'by', 'of', 'it', 'If', 'it', 'go', 'no', 'on', 'as', 'it', 'is', 'we', 'on', 'my', 'an', 'at', 'of', 'go', 'to', 'on', 'to', 'of', 'of', 'to', 'in', 'it', 'by', 'at', 'at', 'in', 'if', 'at', 'of', 'he', 'in', 'of', 'of', 'in', 'by', 'an', 'of', 'he', 'in', 'an', 'to', 'my', 'It', 'my', 'as', 'he', 'to', 'be', 'to', 'at', 'of', 'in', 'of', 'in', 'up', 'in', 'of', 'on', 'to', 'of', 'of', 'of', 'Oh', 'in', 'of', 'up', 'as', 'as', 'of', 'in', 'of', 'be', 'at', 'or', 'in', 'in', 'he', 'at', 'as', 'he', 'so', 'at', 'in', 'in', 'in', 'to', 'it', 'it', 'it', 'to', 'it', 'be', 'as', 'in', 'up', 'as', 'As', 'as', 'of', 'to', 'to', 'to', 'of', 'to', 'do', 'up', 'of', 'do', 'to', 'to', 'to', 'on', 'of', 'he', 'in', 'at', 'as', 'he', 'of', 'on', 'to', 'in', 'an', 'as', 'if', 'he', 'of', 'it', 'as', 'to', 'it', 'to', 'At', 'in', 'to', 'at', 'go', 'at', 'it', 'in', 'it', 'to', 'be', 'he', 'to', 'in', 'to', 'up', 'in', 'up', 'in', 'it', 'it', 'it', 'to', 'be', 'by', 'to', 'to', 'It', 'it', 'to', 'is', 'it', 'to', 'of', 'It', 'at', 'in', 'on', 'He', 'as', 'he', 'It', 'of', 'in', 'of', 'No', 'it', 'He', 'up', 'it', 'no', 'at', 'If', 'it', 'or', 'an', 'of', 'at', 'it', 'It', 'of', 'on', 'he', 'at', 'go', 'on', 'to', 'me', 'to', 'me', 'to', 'me', 'He', 'We', 'it', 'to', 'be', 'If', 'on', 'of', 'us', 'or', 'to', 'If', 'or', 'to', 'be', 'in', 'He', 'to', 'to', 'as', 'we', 'My', 'An', 'it', 'be', 'me', 'of', 'so', 'If', 'of', 'it', 'so', 'in', 'of', 'an', 'of', 'in', 'it', 'on', 'an', 'of', 'in', 'it', 'of', 'to', 'If', 'no', 'in', 'it', 'of', 'as', 'we', 'to', 'he', 'on', 'on', 'at', 'to', 'in', 'he', 'to', 'Do', 'it', 'he', 'he', 'of', 'so', 'he', 'on', 'to', 'We', 'it', 'to', 'be', 'of', 'be', 'he', 'it', 'on', 'to', 'to', 'on', 'be', 'my', 'he', 'to', 'an', 'at', 'as', 'on', 'as', 'he', 'it', 'no', 'he', 'as', 'as', 'it', 'in', 'an', 'No', 'no', 'of', 'at', 'of', 'to', 'by', 'of', 'At', 'up', 'of', 'of', 'to', 'on', 'in', 'of', 'up', 'Oh', 'as', 'as', 'of', 'It', 'in', 'to', 'So', 'up', 'as', 'it', 'as', 'on', 'of', 'of', 'up', 'of', 'of', 'to', 'as', 'or', 'to', 'of', 'at', 'as', 'by', 'of', 'as', 'of', 'to', 'on', 'it', 'of', 'of', 'of', 'up', 'of', 'So', 'on', 'in', 'to', 'to', 'be', 'in', 'to', 'of', 'to', 'to', 'of', 'of', 'of', 'to', 'of', 'of', 'in', 'of', 'to', 'of', 'in', 'be', 'of', 'of', 'of', 'in']\n",
            "all lengths:  [1, 2, 3, 4, 5, 6, 7, 8, 9, 10, 11, 12, 13, 14]\n",
            "length 14: ['disappointment', 'Multiplication', 'contemptuously', 'contemptuously', 'affectionately']\n"
          ]
        }
      ],
      "source": [
        "# Now to the actual problem....\n",
        "length_dictionary = {}\n",
        "list_of_words = []\n",
        "with open('../data/alice_clean.txt', encoding='utf8') as in_file:\n",
        "    contents = in_file.read()\n",
        "for word in contents.split():\n",
        "    if len(word) not in length_dictionary:\n",
        "        length_dictionary[len(word)] = []\n",
        "    \n",
        "    length_dictionary[len(word)].append(word)\n",
        "\n",
        "print(\"length 1:\", length_dictionary[1])\n",
        "print(\"length 2:\", length_dictionary[2])\n",
        "print(\"all lengths: \", sorted(length_dictionary.keys()))\n",
        "print(\"length 14:\", length_dictionary[14])"
      ]
    }
  ],
  "metadata": {
    "colab": {
      "provenance": []
    },
    "kernelspec": {
      "display_name": "Python 3",
      "name": "python3"
    },
    "language_info": {
      "codemirror_mode": {
        "name": "ipython",
        "version": 3
      },
      "file_extension": ".py",
      "mimetype": "text/x-python",
      "name": "python",
      "nbconvert_exporter": "python",
      "pygments_lexer": "ipython3",
      "version": "3.13.2"
    }
  },
  "nbformat": 4,
  "nbformat_minor": 0
}
