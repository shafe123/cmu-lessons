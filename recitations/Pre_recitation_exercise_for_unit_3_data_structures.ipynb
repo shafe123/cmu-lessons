{
  "cells": [
    {
      "cell_type": "markdown",
      "metadata": {
        "id": "Mw82AA0fGZ-H"
      },
      "source": [
        "# LISTS"
      ]
    },
    {
      "cell_type": "code",
      "execution_count": 1,
      "metadata": {
        "colab": {
          "base_uri": "https://localhost:8080/"
        },
        "id": "-fkzsWaf3WKQ",
        "outputId": "1c6e1ee3-a9a2-4c91-c1f5-5ae76e67ac41"
      },
      "outputs": [
        {
          "name": "stdout",
          "output_type": "stream",
          "text": [
            "Odd digits: [7, 3, 1]\n",
            "Even digits: [0, 6]\n",
            "Even digits (updated):  [0, 2, 4, 6, 8]\n",
            "Digits: [0, 2, 4, 6, 8, 7, 3, 1]\n",
            "Sum of odd digits:  11\n",
            "Sum of even digits:  20\n",
            "Min value in odd digits list:  1\n",
            "Max value in odd digits list:  7\n",
            "Digits (sorted):  [0, 1, 2, 3, 4, 6, 7, 8]\n",
            "Digits (extended):  [0, 1, 2, 3, 4, 6, 7, 8, 5, 9]\n",
            "Digits (sorted):  [0, 1, 2, 3, 4, 5, 6, 7, 8, 9]\n"
          ]
        }
      ],
      "source": [
        "_replace_this_with_your_code_ = None # THIS IS JUST TO MAKE THIS CELL EXECUTABLE\n",
        "\n",
        "# -------------------\n",
        "# TASK 1: Create two lists\n",
        "#   - lst_odds with 3 odd digits: 7, 3, and 1\n",
        "#   - lst_evens with 2 even digits: 0 and 6\n",
        "\n",
        "lst_odds = [7, 3, 1]\n",
        "lst_evens = [0, 6]\n",
        "\n",
        "# Display the lists\n",
        "print(f\"Odd digits: {lst_odds}\")\n",
        "print(f\"Even digits: {lst_evens}\")\n",
        "\n",
        "\n",
        "# -------------------\n",
        "# TASK 2: Modify lst_evens\n",
        "#   - Add three digits (2, 4, 8) using appropriate list methods\n",
        "#   - Add 2 and 4 between 0 and 6\n",
        "#   - Add 8 after 6\n",
        "lst_evens.insert(1, 4)\n",
        "lst_evens.insert(1, 2)\n",
        "lst_evens.append(8)\n",
        "\n",
        "# Display the updated list\n",
        "print(f\"Even digits (updated): \", lst_evens)\n",
        "\n",
        "\n",
        "# -------------------\n",
        "# TASK 3: Create another list called lst_digits\n",
        "#   - combine lst_odds and lst_evens into one list\n",
        "lst_digits = lst_evens + lst_odds\n",
        "\n",
        "# Display the digits list\n",
        "print(f\"Digits: {lst_digits}\")\n",
        "\n",
        "\n",
        "# -------------------\n",
        "# TASK 4: Work with numbers\n",
        "#   - Display the sum of odd digits\n",
        "#   - Display the sum of even digits\n",
        "print(\"Sum of odd digits: \", sum(lst_odds))\n",
        "print(\"Sum of even digits: \", sum(lst_evens))\n",
        "\n",
        "#   - Display the minimum and maximum values in the lst_odds list\n",
        "print(\"Min value in odd digits list: \", min(lst_odds))\n",
        "print(\"Max value in odd digits list: \", max(lst_odds))\n",
        "\n",
        "\n",
        "# -------------------\n",
        "# TASK 5: Sorting\n",
        "#   - Sort the lst_digits list and display it\n",
        "lst_digits.sort()\n",
        "print(f\"Digits (sorted): \", lst_digits)\n",
        "\n",
        "\n",
        "# -------------------\n",
        "# TASK 6: Extending\n",
        "#   - Add the missing digits (5 and 9) using extend()\n",
        "lst_digits.extend([5, 9])\n",
        "\n",
        "# Display the extended list\n",
        "print(f\"Digits (extended): \", lst_digits)\n",
        "\n",
        "#   - Finally, display the sorted version again\n",
        "lst_digits.sort()\n",
        "print(f\"Digits (sorted): \", lst_digits)"
      ]
    },
    {
      "cell_type": "markdown",
      "metadata": {
        "id": "TolIkp5jGgvn"
      },
      "source": [
        "# TUPLES"
      ]
    },
    {
      "cell_type": "code",
      "execution_count": 3,
      "metadata": {
        "id": "7KgQU842BpvL"
      },
      "outputs": [
        {
          "name": "stdout",
          "output_type": "stream",
          "text": [
            "Odd digits: (7, 3, 1)\n",
            "Even digits: (0, 6)\n",
            "Even digits (updated):  (0, 2, 4, 6)\n",
            "Digits: (0, 2, 4, 6, 7, 3, 1)\n",
            "Sum of odd digits:  11\n",
            "Sum of even digits:  12\n",
            "Min value in odd digits tuple:  1\n",
            "Max value in odd digits tuple:  7\n",
            "Digits (sorted):  (0, 1, 2, 3, 4, 6, 7)\n",
            "Digits (extended):  (0, 1, 2, 3, 4, 6, 7, 5, 9)\n",
            "Digits (sorted):  (0, 1, 2, 3, 4, 5, 6, 7, 9)\n"
          ]
        }
      ],
      "source": [
        "_replace_this_with_your_code_ = None # THIS IS JUST TO MAKE THIS CELL EXECUTABLE\n",
        "\n",
        "# -------------------\n",
        "# TASK 1: Create two tuples\n",
        "#   - tpl_odds with 3 odd digits: 7, 3, and 1\n",
        "#   - tpl_evens with 2 even digits: 0 and 6\n",
        "\n",
        "\n",
        "tpl_odds = (7, 3, 1)\n",
        "tpl_evens = (0, 6)\n",
        "\n",
        "# Display the tuples\n",
        "print(f\"Odd digits: {tpl_odds}\")\n",
        "print(f\"Even digits: {tpl_evens}\")\n",
        "\n",
        "\n",
        "# -------------------\n",
        "# TASK 2: Modify tpl_evens to add the missing digits\n",
        "# Note that tuples are immutable!\n",
        "#   - 2 and 4 should be between 0 and 6, and 8 after 6\n",
        "tpl_evens = tpl_evens[0], 2, 4, tpl_evens[1]\n",
        "\n",
        "\n",
        "# Display the updated tuple\n",
        "print(f\"Even digits (updated): \", tpl_evens)\n",
        "\n",
        "\n",
        "# -------------------\n",
        "# TASK 3: Create another tuple called tpl_digits\n",
        "#   - combine tpl_odds and tpl_evens into one tuple\n",
        "tpl_digits = tpl_evens + tpl_odds\n",
        "\n",
        "# Display the digits tuple\n",
        "print(f\"Digits: {tpl_digits}\")\n",
        "\n",
        "\n",
        "# -------------------\n",
        "# TASK 4: Work with numbers\n",
        "#   - Display the sum of odd digits\n",
        "#   - Display the sum of even digits\n",
        "print(\"Sum of odd digits: \", sum(tpl_odds))\n",
        "print(\"Sum of even digits: \", sum(tpl_evens))\n",
        "\n",
        "#   - Display the minimum and maximum values in the tpl_odds tuple\n",
        "print(\"Min value in odd digits tuple: \", min(tpl_odds))\n",
        "print(\"Max value in odd digits tuple: \", max(tpl_odds))\n",
        "\n",
        "# compare with lists\n",
        "\n",
        "# -------------------\n",
        "# TASK 5: Sorting\n",
        "# Tuples cannot be sorted in place. You will need to find another way to sort compared to lists.\n",
        "tpl_digits_sorted = tuple(sorted(tpl_digits))\n",
        "print(f\"Digits (sorted): \", tpl_digits_sorted)\n",
        "\n",
        "\n",
        "# -------------------\n",
        "# TASK 6: Extending\n",
        "# Tuples cannot use extend() like lists so consider finding a way to do this.\n",
        "tpl_digits_extended = tpl_digits_sorted + (5, 9)\n",
        "\n",
        "# Display the extended tuple\n",
        "print(f\"Digits (extended): \", tpl_digits_extended)\n",
        "\n",
        "#   - Finally, display the sorted version again\n",
        "tpl_digits_extended_sorted = tuple(sorted(tpl_digits_extended))\n",
        "print(f\"Digits (sorted): \", tpl_digits_extended_sorted)\n"
      ]
    },
    {
      "cell_type": "markdown",
      "metadata": {
        "id": "RUgVueZRGjy-"
      },
      "source": [
        "# SETS"
      ]
    },
    {
      "cell_type": "code",
      "execution_count": 5,
      "metadata": {
        "colab": {
          "base_uri": "https://localhost:8080/"
        },
        "id": "XpMAraDOGTf8",
        "outputId": "4c4fe05e-23d3-4ac9-a032-5b96427f616d"
      },
      "outputs": [
        {
          "name": "stdout",
          "output_type": "stream",
          "text": [
            "Odd digits: {1, 3, 7}\n",
            "Even digits: {0, 6}\n",
            "Even digits (updated):  {0, 2, 4, 6, 8}\n",
            "Digits: {0, 1, 2, 3, 4, 6, 7, 8}\n",
            "Sum of odd digits:  11\n",
            "Sum of even digits:  20\n",
            "Min value in odd digits set:  1\n",
            "Max value in odd digits set:  7\n",
            "Digits (sorted):  [0, 1, 2, 3, 4, 6, 7, 8]\n",
            "Digits (extended):  {0, 1, 2, 3, 4, 5, 6, 7, 8, 9}\n",
            "Digits (sorted):  [0, 1, 2, 3, 4, 5, 6, 7, 8, 9]\n"
          ]
        }
      ],
      "source": [
        "_replace_this_with_your_code_ = None # THIS IS JUST TO MAKE THIS CELL EXECUTABLE\n",
        "\n",
        "# -------------------\n",
        "# TASK 1: Create two sets\n",
        "#   - set_odds with 3 odd digits: 7, 3, and 1\n",
        "#   - set_evens with 2 even digits: 0 and 6\n",
        "\n",
        "set_odds = {7, 3, 1}\n",
        "set_evens = {0, 6}\n",
        "\n",
        "# Display the sets\n",
        "print(f\"Odd digits: {set_odds}\")\n",
        "print(f\"Even digits: {set_evens}\")\n",
        "\n",
        "\n",
        "# -------------------\n",
        "# TASK 2: Modify set_evens\n",
        "#   - Add three digits (2, 4, 8) to the evens set\n",
        "set_evens.update((2, 4, 8))\n",
        "\n",
        "# Display the updated set\n",
        "print(f\"Even digits (updated): \", set_evens)\n",
        "\n",
        "\n",
        "# -------------------\n",
        "# TASK 3: Create another set called set_digits\n",
        "#   - combine set_odds and set_evens into one digits set\n",
        "set_digits = set_evens.union(set_odds)\n",
        "\n",
        "# Display the digits set\n",
        "print(f\"Digits: {set_digits}\")\n",
        "\n",
        "\n",
        "# -------------------\n",
        "# TASK 4: Work with numbers\n",
        "#   - Display the sum of odd digits\n",
        "#   - Display the sum of even digits\n",
        "print(\"Sum of odd digits: \", sum(set_odds))\n",
        "print(\"Sum of even digits: \", sum(set_evens))\n",
        "\n",
        "#   - Display the minimum and maximum values in set_odds\n",
        "print(\"Min value in odd digits set: \", min(set_odds))\n",
        "print(\"Max value in odd digits set: \", max(set_odds))\n",
        "\n",
        "\n",
        "# -------------------\n",
        "# TASK 5: Sorting\n",
        "# Display the digits in the set in a sorted way.\n",
        "\n",
        "set_digits_sorted = list(sorted(set_digits))\n",
        "print(f\"Digits (sorted): \", set_digits_sorted)\n",
        "\n",
        "\n",
        "# -------------------\n",
        "# TASK 6: Add the missing digits (5 and 9) to set_digits\n",
        "set_digits.update({5, 9})\n",
        "\n",
        "# Display the set\n",
        "print(f\"Digits (extended): \", set_digits)\n",
        "\n",
        "#   - Finally, display the sorted version again\n",
        "set_digits_sorted = list(sorted(set_digits))\n",
        "print(f\"Digits (sorted): \", set_digits_sorted)\n"
      ]
    },
    {
      "cell_type": "code",
      "execution_count": null,
      "metadata": {
        "id": "q9GBZpF2Mxm9"
      },
      "outputs": [],
      "source": []
    },
    {
      "cell_type": "markdown",
      "metadata": {
        "id": "UtuSuuYMIM0p"
      },
      "source": [
        "# REMOVING AND MODIFYING ITEMS\n",
        "\n",
        "Try removing items from different data structures you created previously.\n",
        "\n"
      ]
    },
    {
      "cell_type": "code",
      "execution_count": 6,
      "metadata": {
        "colab": {
          "base_uri": "https://localhost:8080/"
        },
        "id": "JaH6yc4BMMoF",
        "outputId": "46657954-482e-4cdb-cb80-2da31ee27672"
      },
      "outputs": [
        {
          "name": "stdout",
          "output_type": "stream",
          "text": [
            "[0, 1, 2, 3, 4, 5, 6, 7, 8, 9]\n",
            "------------\n",
            "[10, 12, 14, 16, 18, 20, 22, 24, 26, 28]\n",
            "[18, 20, 22, 24, 26, 28]\n",
            "------------\n",
            "[10, 12, 14, 16, 18, 20, 22, 24, 26, 28]\n",
            "[18, 20, 22, 24, 26, 28]\n",
            "===========================\n",
            "(1, 2, 3, 4, 5, 6, 7, 8, 9)\n",
            "(1, 2, 3, 4, 5, 6, 7, 8)\n",
            "(2, 3, 4, 5, 6, 7, 8)\n",
            "------------\n",
            "(10, 12, 14, 16, 18, 20, 22, 24, 26, 28)\n",
            "(18, 20, 22, 24, 26, 28)\n",
            "------------\n",
            "(10, 12, 14, 16, 18, 20, 22, 24, 26, 28)\n",
            "(18, 20, 22, 24, 26, 28)\n"
          ]
        }
      ],
      "source": [
        "_replace_this_with_your_code_ = None # THIS IS JUST TO MAKE THIS CELL EXECUTABLE\n",
        "\n",
        "print(lst_digits)\n",
        "\n",
        "# Remove the last item from lst_digits\n",
        "lst_digits.pop()\n",
        "\n",
        "# Remove the first item from lst_digits\n",
        "lst_digits.pop(0)\n",
        "\n",
        "\n",
        "print('------------')\n",
        "# Remove the FIRST 4 items using the following for statement\n",
        "lst_numbers = list(range(10, 30, 2))\n",
        "print(lst_numbers)\n",
        "for i in range(4):\n",
        "    lst_numbers.pop(0)\n",
        "print(lst_numbers)\n",
        "\n",
        "print('------------')\n",
        "# Remove the FIRST 4 items using another method\n",
        "lst_numbers = list(range(10, 30, 2))\n",
        "print(lst_numbers)\n",
        "lst_numbers = lst_numbers[4:]\n",
        "print(lst_numbers)\n",
        "\n",
        "\n",
        "print('===========================')\n",
        "\n",
        "tpl_digits = (1, 2, 3, 4, 5, 6, 7, 8, 9)\n",
        "print(tpl_digits)\n",
        "\n",
        "# -------------------\n",
        "# Remove the last item from tpl_digits\n",
        "tpl_digits = tuple(tpl_digits[:-1])\n",
        "print(tpl_digits)\n",
        "\n",
        "# Remove the first item from tpl_digits\n",
        "tpl_digits = tuple(tpl_digits[1:])\n",
        "print(tpl_digits)\n",
        "\n",
        "\n",
        "print('------------')\n",
        "# Remove the FIRST 4 items using slicing\n",
        "tpl_numbers = tuple(range(10, 30, 2))\n",
        "print(tpl_numbers)\n",
        "\n",
        "tpl_numbers = tuple(tpl_numbers[4:])\n",
        "print(tpl_numbers)\n",
        "\n",
        "\n",
        "print('------------')\n",
        "# Remove the FIRST 4 items by first converting t to a list\n",
        "tpl_numbers = tuple(range(10, 30, 2))\n",
        "print(tpl_numbers)\n",
        "\n",
        "tpl_numbers = tuple(list(tpl_numbers)[4:])\n",
        "print(tpl_numbers)\n",
        "\n"
      ]
    },
    {
      "cell_type": "markdown",
      "metadata": {
        "id": "dJ0YRaRnGeb9"
      },
      "source": [
        "# DICTIONARIES"
      ]
    },
    {
      "cell_type": "code",
      "execution_count": null,
      "metadata": {
        "colab": {
          "base_uri": "https://localhost:8080/"
        },
        "id": "g-wsFsYiIQ5b",
        "outputId": "56bf80cf-5c6e-4a33-ef2e-89ab449db420"
      },
      "outputs": [
        {
          "name": "stdout",
          "output_type": "stream",
          "text": [
            "Fruits dictionary:  None\n",
            "Fruits (after additions):  None\n",
            "Fruits (after update):  None\n",
            "Number of green fruits: \n",
            "Fruits (after deletion):  None\n"
          ]
        }
      ],
      "source": [
        "_replace_this_with_your_code_ = None # THIS IS JUST TO MAKE THIS CELL EXECUTABLE\n",
        "\n",
        "# -------------------\n",
        "# TASK 1: Create a dictionary called fruit_colors for the following data\n",
        "#   Cherries --> red\n",
        "#   Strawberries --> red\n",
        "#   Avocados --> green\n",
        "#   Apple --> yellow\n",
        "#   Spinach --> green\n",
        "\n",
        "fruit_colors = {\n",
        "    \"cherries\": \"red\",\n",
        "    \"strawberries\": \"red\",\n",
        "    \"avocados\": \"green\",\n",
        "    \"apple\": \"yellow\",\n",
        "    \"spinach\": \"green\",\n",
        "}\n",
        "\n",
        "print(\"Fruits dictionary: \", fruit_colors)\n",
        "\n",
        "\n",
        "# -------------------\n",
        "# TASK 2: Add new fruits\n",
        "#   - Blueberries --> blue\n",
        "#   - Limes --> green\n",
        "fruit_colors[\"blueberries\"] = \"blue\"\n",
        "fruit_colors[\"limes\"] = \"green\"\n",
        "\n",
        "# Display the dictionary after additions\n",
        "print(\"Fruits (after additions): \", fruit_colors)\n",
        "\n",
        "# -------------------\n",
        "# TASK 3: List the fruit names only\n",
        "print(fruit_colors.keys())\n",
        "\n",
        "\n",
        "# -------------------\n",
        "# TASK 4: List the colors of the fruits in the dictionary\n",
        "# try not to repeat the same color name\n",
        "print(set(fruit_colors.values()))\n",
        "\n",
        "# -------------------\n",
        "# TASK 5: Update values\n",
        "#   - Change the color of \"Apple\" to red\n",
        "fruit_colors[\"apple\"] = \"red\"\n",
        "\n",
        "# Display the dictionary after update\n",
        "print(\"Fruits (after update): \", fruit_colors)\n",
        "\n",
        "\n",
        "# -------------------\n",
        "# TASK 6: Count by color\n",
        "#   - Display how many fruits are green\n",
        "print(\"Number of green fruits: \", len([color for color in fruit_colors.values() if color == \"green\"]))\n",
        "\n",
        "# -------------------\n",
        "# TASK 7: Deleting items\n",
        "#   - Remove \"Spinach\" from the fruits dictionary\n",
        "del fruit_colors[\"spinach\"]\n",
        "\n",
        "# Display the dictionary after deletion\n",
        "print(\"Fruits (after deletion): \", fruit_colors)\n"
      ]
    }
  ],
  "metadata": {
    "colab": {
      "provenance": []
    },
    "kernelspec": {
      "display_name": "Python 3",
      "name": "python3"
    },
    "language_info": {
      "codemirror_mode": {
        "name": "ipython",
        "version": 3
      },
      "file_extension": ".py",
      "mimetype": "text/x-python",
      "name": "python",
      "nbconvert_exporter": "python",
      "pygments_lexer": "ipython3",
      "version": "3.13.2"
    }
  },
  "nbformat": 4,
  "nbformat_minor": 0
}
