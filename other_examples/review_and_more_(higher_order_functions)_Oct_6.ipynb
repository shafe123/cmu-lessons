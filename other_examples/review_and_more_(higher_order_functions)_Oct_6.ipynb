{
  "cells": [
    {
      "cell_type": "markdown",
      "metadata": {
        "id": "OjXXlZnymlz-"
      },
      "source": [
        "### What is the output when the following program is executed?"
      ]
    },
    {
      "cell_type": "code",
      "execution_count": 21,
      "metadata": {
        "colab": {
          "base_uri": "https://localhost:8080/"
        },
        "id": "xqkeRTOSlx77",
        "outputId": "93162ecb-bf95-4565-ea05-963ec453f303"
      },
      "outputs": [
        {
          "name": "stdout",
          "output_type": "stream",
          "text": [
            "[4, 2, 1, 0, 0]\n"
          ]
        }
      ],
      "source": [
        "a = [3, 2, 3, 4, 0]\n",
        "i = 0\n",
        "while i < len(a):\n",
        "    a[a[i]] = i\n",
        "    i += 1\n",
        "print(a)"
      ]
    },
    {
      "cell_type": "markdown",
      "metadata": {
        "id": "ZScfF5iWnwtZ"
      },
      "source": [
        "### What is the output when the following program is executed?"
      ]
    },
    {
      "cell_type": "code",
      "execution_count": 22,
      "metadata": {
        "colab": {
          "base_uri": "https://localhost:8080/"
        },
        "id": "bPfnrqZ-yCS1",
        "outputId": "9fdeeff7-e6c0-475e-b55f-1f79d33531b6"
      },
      "outputs": [
        {
          "name": "stdout",
          "output_type": "stream",
          "text": [
            "('de', (1, 2, 3), 6, ['a', 'b', 'c', 'x', 'y'])\n",
            "(2, 2) <class 'tuple'>\n",
            "['b', 'b'] <class 'list'>\n"
          ]
        }
      ],
      "source": [
        "tup = ('de', (1, 2, 3), 6, ['a','b','c'])\n",
        "\n",
        "e1 = tup[1][1:2]\n",
        "e1 += e1\n",
        "\n",
        "e2 = tup[3][1:2]\n",
        "e2 += e2\n",
        "\n",
        "tup[3].extend(['x','y'])\n",
        "\n",
        "print(tup)\n",
        "print(e1, type(e1))\n",
        "print(e2, type(e2))"
      ]
    },
    {
      "cell_type": "markdown",
      "metadata": {
        "id": "IPeaAOrvc-Do"
      },
      "source": [
        "### Nested Loop and Tables"
      ]
    },
    {
      "cell_type": "code",
      "execution_count": 27,
      "metadata": {
        "colab": {
          "base_uri": "https://localhost:8080/",
          "height": 454
        },
        "id": "r6fSGOQ2dIiR",
        "outputId": "73fd80db-dec9-4256-eb41-5f9b7ee2b4a8"
      },
      "outputs": [
        {
          "name": "stdout",
          "output_type": "stream",
          "text": [
            "-- Outer loop for rows and inner loop for columns -- \n",
            "10 11 12 13 \n",
            "14 15 16 17 \n",
            "\n",
            "-- Outer loop for columns and inner loop for rows -- \n",
            "10 14 \n",
            "11 15 \n",
            "12 16 \n",
            "13 17 \n",
            "\n",
            "-- Outer loop for rows and inner loop for cols --\n",
            "-- BUT variable names are used in a very confusing way -- \n",
            "10 11 \n",
            "14 15 \n"
          ]
        },
        {
          "ename": "IndexError",
          "evalue": "list index out of range",
          "output_type": "error",
          "traceback": [
            "\u001b[0;31m---------------------------------------------------------------------------\u001b[0m",
            "\u001b[0;31mIndexError\u001b[0m                                Traceback (most recent call last)",
            "\u001b[0;32m/tmp/ipython-input-1994468693.py\u001b[0m in \u001b[0;36m<cell line: 0>\u001b[0;34m()\u001b[0m\n\u001b[1;32m     21\u001b[0m \u001b[0;32mfor\u001b[0m \u001b[0mc\u001b[0m \u001b[0;32min\u001b[0m \u001b[0mrange\u001b[0m\u001b[0;34m(\u001b[0m\u001b[0;36m4\u001b[0m\u001b[0;34m)\u001b[0m\u001b[0;34m:\u001b[0m\u001b[0;34m\u001b[0m\u001b[0;34m\u001b[0m\u001b[0m\n\u001b[1;32m     22\u001b[0m     \u001b[0;32mfor\u001b[0m \u001b[0mr\u001b[0m \u001b[0;32min\u001b[0m \u001b[0mrange\u001b[0m\u001b[0;34m(\u001b[0m\u001b[0;36m2\u001b[0m\u001b[0;34m)\u001b[0m\u001b[0;34m:\u001b[0m\u001b[0;34m\u001b[0m\u001b[0;34m\u001b[0m\u001b[0m\n\u001b[0;32m---> 23\u001b[0;31m         \u001b[0mprint\u001b[0m\u001b[0;34m(\u001b[0m\u001b[0mtable\u001b[0m\u001b[0;34m[\u001b[0m\u001b[0mc\u001b[0m\u001b[0;34m]\u001b[0m\u001b[0;34m[\u001b[0m\u001b[0mr\u001b[0m\u001b[0;34m]\u001b[0m\u001b[0;34m,\u001b[0m \u001b[0mend\u001b[0m\u001b[0;34m=\u001b[0m\u001b[0;34m' '\u001b[0m\u001b[0;34m)\u001b[0m\u001b[0;34m\u001b[0m\u001b[0;34m\u001b[0m\u001b[0m\n\u001b[0m\u001b[1;32m     24\u001b[0m     \u001b[0mprint\u001b[0m\u001b[0;34m(\u001b[0m\u001b[0;34m)\u001b[0m\u001b[0;34m\u001b[0m\u001b[0;34m\u001b[0m\u001b[0m\n\u001b[1;32m     25\u001b[0m \u001b[0;34m\u001b[0m\u001b[0m\n",
            "\u001b[0;31mIndexError\u001b[0m: list index out of range"
          ]
        }
      ],
      "source": [
        "table = [ [10, 11, 12, 13], [14, 15, 16, 17] ]\n",
        "\n",
        "print('-- Outer loop for rows and inner loop for columns -- ')\n",
        "for r in range(2):\n",
        "    for c in range(4):\n",
        "        print(table[r][c], end=' ')\n",
        "    print()\n",
        "\n",
        "print()\n",
        "\n",
        "print('-- Outer loop for columns and inner loop for rows -- ')\n",
        "for c in range(4):\n",
        "    for r in range(2):\n",
        "        print(table[r][c], end=' ')\n",
        "    print()\n",
        "\n",
        "print()\n",
        "\n",
        "print('-- Outer loop for rows and inner loop for cols --')\n",
        "print('-- BUT variable names are used in a very confusing way -- ')\n",
        "for c in range(4):\n",
        "    for r in range(2):\n",
        "        print(table[c][r], end=' ')\n",
        "    print()\n",
        "\n"
      ]
    },
    {
      "cell_type": "markdown",
      "metadata": {
        "id": "iJP7AedN5KYK"
      },
      "source": [
        "### Nested loop\n",
        "\n",
        "Write a function, `max_chars()` that takes a 2D list of strings as a parameter and returns a list containing the maximum length of the strings in each **column**.\n",
        "\n",
        "\n",
        "Sample Data (words may change):\n",
        "\n",
        "words_table = [ ['lion', 'house',     'bird'],\n",
        "                ['cat',  'dog',       'snake'],\n",
        "                ['cat',  'ox',        'dragon'],\n",
        "                ['dog',  'dragonfly', 'bird'] ]\n",
        "\n",
        "\n",
        "`max_chars(words_table)` returns `[4, 5, 6]`"
      ]
    },
    {
      "cell_type": "code",
      "execution_count": 6,
      "metadata": {
        "id": "_Tburitp5d86"
      },
      "outputs": [],
      "source": [
        "words_table = [ ['lion', 'house',     'bird'],\n",
        "                ['cat',  'dog',       'snake'],\n",
        "                ['cat',  'ox',        'dragon'],\n",
        "                ['dog',  'dragonfly', 'bird']]\n",
        "\n"
      ]
    },
    {
      "cell_type": "markdown",
      "metadata": {
        "id": "_U1Dw43W6Fgi"
      },
      "source": [
        "#### solution"
      ]
    },
    {
      "cell_type": "code",
      "execution_count": 9,
      "metadata": {
        "colab": {
          "base_uri": "https://localhost:8080/"
        },
        "id": "S7ZLrG6Q5oD_",
        "outputId": "9c3eeb02-1608-433b-d01a-2ec8ecdcf373"
      },
      "outputs": [
        {
          "name": "stdout",
          "output_type": "stream",
          "text": [
            "[4, 9, 6]\n",
            "[3, 2, 4]\n"
          ]
        }
      ],
      "source": [
        "import sys\n",
        "\n",
        "words_table = [ ['lion', 'house',     'bird'  ],\n",
        "                ['cat',  'dog',       'snake' ],\n",
        "                ['cat',  'ox',        'dragon'],\n",
        "                ['dog',  'dragonfly', 'bird'  ] ]\n",
        "\n",
        "def max_chars(table):\n",
        "    output_list = []\n",
        "    for col in range(len(table[0])):\n",
        "        max_length = 0\n",
        "        for row in range(len(table)):\n",
        "            if len(table[row][col]) > max_length:\n",
        "                max_length = len(table[row][col])\n",
        "        output_list.append(max_length)\n",
        "\n",
        "    return output_list\n",
        "\n",
        "def min_chars(table):\n",
        "    output_list = []\n",
        "    for col in range(len(table[0])):\n",
        "        min_length = sys.maxsize\n",
        "        for row in range(len(table)):\n",
        "            if len(table[row][col]) < min_length:\n",
        "                min_length = len(table[row][col])\n",
        "        output_list.append(min_length)\n",
        "\n",
        "    return output_list\n",
        "\n",
        "print(max_chars(sentences))\n",
        "print(min_chars(sentences))"
      ]
    },
    {
      "cell_type": "markdown",
      "metadata": {
        "id": "XBJCST4ul8i0"
      },
      "source": [
        "### simple function\n",
        "\n",
        "Write a function, reverse_dictionary() that takes a dictionary as a parameter and creates and returns a new dictionary where the keys and values from the input dictionary are swapped (the keys become the values and the values become the keys).\n",
        "\n",
        "\n",
        "**Important Notes:**\n",
        "* You may assume that all values are unique in the dictionary.\n",
        "* You may assume that all values are of immutable types in the dictionary.\n",
        "* The input dictionary should NOT be modified.\n",
        "\n",
        "\n",
        "**For example:**\n",
        "\n",
        "`reverse_dictionary({'a':1, 'b':2})` returns `{1:'a', 2:'b'}`"
      ]
    },
    {
      "cell_type": "code",
      "execution_count": 1,
      "metadata": {
        "id": "KBtkrnDYmlaO"
      },
      "outputs": [],
      "source": [
        "def reverse_dictionary( dict1 ):\n",
        "    \"\"\"Assumes dict1 is a dictionary.\n",
        "    Returns a NEW dictionary where the values\n",
        "    are the keys and the keys are the values, from the input dictionary\n",
        "    \"\"\"\n",
        "    result = {}\n",
        "    for key, val in dict1.items():\n",
        "        result[val] = key\n",
        "    return result"
      ]
    },
    {
      "cell_type": "code",
      "execution_count": null,
      "metadata": {
        "id": "Rqeh3kc9x8np"
      },
      "outputs": [],
      "source": []
    },
    {
      "cell_type": "markdown",
      "metadata": {
        "id": "IOsBjTuDnmU6"
      },
      "source": [
        "### Another simple Function with default parameter\n"
      ]
    },
    {
      "cell_type": "code",
      "execution_count": null,
      "metadata": {
        "id": "gP3FGWnuqOdj"
      },
      "outputs": [],
      "source": [
        "def printName(firstName, lastName, reverse = False):\n",
        "    if reverse:\n",
        "        print(lastName + ',' + firstName)\n",
        "    else:\n",
        "        print(firstName, lastName)\n",
        "\n",
        "contacts = [ {'name': 'Clark', 'surname': 'Gable'},\n",
        "             {'name': 'Jane', 'surname': 'Fonda'}]\n",
        "\n"
      ]
    },
    {
      "cell_type": "markdown",
      "metadata": {
        "id": "iX0gaRGosulf"
      },
      "source": [
        "### Question\n",
        "\n",
        "What is the difference between\n",
        "\n",
        " `my_function = round(2.39)`\n",
        "\n",
        " and\n",
        "\n",
        " `my_function = round`\n"
      ]
    },
    {
      "cell_type": "code",
      "execution_count": 14,
      "metadata": {
        "colab": {
          "base_uri": "https://localhost:8080/"
        },
        "id": "jfDSdITry-DZ",
        "outputId": "7b796e36-79fa-436b-cfde-6d71195e76a3"
      },
      "outputs": [
        {
          "name": "stdout",
          "output_type": "stream",
          "text": [
            "2.4\n",
            "<built-in function round>\n",
            "----------\n",
            "2.4\n",
            "2.4\n"
          ]
        }
      ],
      "source": [
        "my_function = round(2.39, 1)\n",
        "print(my_function)\n",
        "\n",
        "my_function = round\n",
        "print(my_function)\n",
        "\n",
        "print(\"----------\")\n",
        "\n",
        "my_function = round\n",
        "print(my_function(2.39, 1))\n",
        "print(round(2.39, 1))\n"
      ]
    },
    {
      "cell_type": "markdown",
      "metadata": {
        "id": "aFIM3WrEq-qn"
      },
      "source": [
        "A function is called **Higher Order Function** if it contains other functions as a parameter or returns a function as an output.\n",
        "\n",
        "**Properties of higher-order functions:**\n",
        "\n",
        "* A function is an instance of the Object type.\n",
        "* You can store the function in a variable.\n",
        "* You can pass the function as a parameter to another function.\n",
        "* You can return the function from a function.\n",
        "* You can store them in data structures such as hash tables, lists, …\n",
        "\n",
        "\n",
        "### What is the output of the following"
      ]
    },
    {
      "cell_type": "code",
      "execution_count": 23,
      "metadata": {
        "colab": {
          "base_uri": "https://localhost:8080/"
        },
        "id": "OwhA-z75rgrW",
        "outputId": "c3d40c6f-3eef-4f6e-a477-d0f12ff28829"
      },
      "outputs": [
        {
          "name": "stdout",
          "output_type": "stream",
          "text": [
            "Enter a number to see its ceil, sqrt and int value: 3.56\n",
            "Ceiling  of 3.56 is 4\n",
            "int representation of 3.56 is 3\n",
            "Rounded square root of 3.56 is 2\n"
          ]
        }
      ],
      "source": [
        "import math\n",
        "\n",
        "def do_this(num, this):\n",
        "    return this(num)\n",
        "\n",
        "val = float(input('Enter a number to see its ceil, sqrt and int value: '))\n",
        "\n",
        "# do this - find the ceiling of the value\n",
        "result = do_this(val, math.ceil)\n",
        "print(f'Ceiling  of {val} is {result}')\n",
        "\n",
        "# do this - find the int representation of the value\n",
        "result = do_this(val, int)\n",
        "print(f'int representation of {val} is {result}')\n",
        "\n",
        "# do this - find the square root of the value\n",
        "result = do_this( val, math.sqrt)\n",
        "print(f'Rounded square root of {val} is {do_this(result,round)}')"
      ]
    },
    {
      "cell_type": "markdown",
      "metadata": {
        "id": "YYnL0Ikvr2eZ"
      },
      "source": [
        "### Returning functions from a function"
      ]
    },
    {
      "cell_type": "code",
      "execution_count": 22,
      "metadata": {
        "colab": {
          "base_uri": "https://localhost:8080/"
        },
        "id": "y46kHzBKr6W4",
        "outputId": "f9c2fe8f-1a00-4055-bcb9-e28197ee53e9"
      },
      "outputs": [
        {
          "name": "stdout",
          "output_type": "stream",
          "text": [
            "Enter a value to convert to int, float or bool: 1\n",
            "Convert value to:\n",
            "   1 - int\n",
            "   2 - float\n",
            "   3 - bool\n",
            " choice: 2\n",
            "Type of the returned value 1.0 is <class 'float'>\n"
          ]
        }
      ],
      "source": [
        "def find_function(choice):\n",
        "    if choice == 1:\n",
        "        return int\n",
        "    elif choice == 2:\n",
        "        return float\n",
        "    else:\n",
        "        return bool\n",
        "\n",
        "value = float(input('Enter a value to convert to int, float or bool: '))\n",
        "\n",
        "print('Convert value to:')\n",
        "choice = int(input('   1 - int\\n   2 - float\\n   3 - bool\\n choice: '))\n",
        "\n",
        "chosen_func = find_function(choice)\n",
        "value = chosen_func(value)\n",
        "\n",
        "print(f'Type of the returned value {value} is {type(value)}')\n"
      ]
    }
  ],
  "metadata": {
    "colab": {
      "provenance": []
    },
    "kernelspec": {
      "display_name": ".venv",
      "language": "python",
      "name": "python3"
    },
    "language_info": {
      "codemirror_mode": {
        "name": "ipython",
        "version": 3
      },
      "file_extension": ".py",
      "mimetype": "text/x-python",
      "name": "python",
      "nbconvert_exporter": "python",
      "pygments_lexer": "ipython3",
      "version": "3.13.5"
    }
  },
  "nbformat": 4,
  "nbformat_minor": 0
}
