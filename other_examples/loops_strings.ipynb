{
 "cells": [
  {
   "cell_type": "markdown",
   "id": "0a9153be",
   "metadata": {},
   "source": [
    "## Replacing Vowels\n",
    "Write a program which prompts the user to enter a phrase until the word 'exit' (not case-sensitive) is entered. \n",
    "\n",
    "For each phrase entered, the program outputs a modified version of the given phrase by changing each vowel to an underscore '_' character. \n",
    "\n",
    "The program also displays the number of vowels replaced "
   ]
  },
  {
   "cell_type": "code",
   "execution_count": null,
   "id": "2f0301e5",
   "metadata": {},
   "outputs": [
    {
     "name": "stdout",
     "output_type": "stream",
     "text": [
      "t_st\n",
      "1 vowels replaced.\n",
      "\n"
     ]
    }
   ],
   "source": [
    "def replace_vowels(phrase, character=\"_\"):\n",
    "    count = 0\n",
    "    for letter in 'aeiouAEIOU':\n",
    "        count += phrase.count(letter)\n",
    "        phrase = phrase.replace(letter, character)\n",
    "    return phrase, count\n",
    "\n",
    "assert replace_vowels('hello') == ('h_ll_', 2)\n",
    "assert replace_vowels('GOODbye') == ('G__Dby_', 3)\n",
    "\n",
    "user_input = \"\"\n",
    "while user_input.lower().strip() != \"exit\":\n",
    "    user_input = input(\"Enter a phrase (or 'exit'): \")\n",
    "    if user_input == \"\" or user_input.lower().strip() == \"exit\":\n",
    "        continue\n",
    "    cleaned, num_vowels = replace_vowels(user_input)\n",
    "    print(cleaned)\n",
    "    print(f\"{num_vowels} vowels replaced.\")\n",
    "    print()\n"
   ]
  },
  {
   "cell_type": "markdown",
   "id": "ce205445",
   "metadata": {},
   "source": [
    "## Isogram\n",
    "A word in which no letter of the alphabet occurs more than once is called an isogram. \n",
    "\n",
    "Write a program that inputs a word, and displays a message explaining if the entered word is an isogram or not and why. In your solution: \n",
    "\n",
    "- Please do NOT use lists, tuples, dictionaries. \n",
    "- Consider writing necessary function(s). "
   ]
  },
  {
   "cell_type": "code",
   "execution_count": 3,
   "id": "65fc539e",
   "metadata": {},
   "outputs": [
    {
     "name": "stdout",
     "output_type": "stream",
     "text": [
      "'t' occurs repeatedly!\n",
      "No foul letters present\n"
     ]
    }
   ],
   "source": [
    "def is_isogram(word):\n",
    "    word = word.lower()\n",
    "    old_char = ''\n",
    "    for char in sorted(word):\n",
    "        if char == old_char:\n",
    "            return char\n",
    "        old_char = char\n",
    "    return None\n",
    "\n",
    "assert is_isogram('hello') == 'l'\n",
    "assert is_isogram('back') == None\n",
    "\n",
    "user_input = \"\"\n",
    "while user_input.lower().strip() != \"exit\":\n",
    "    user_input = input(\"Enter a word (or 'exit'): \")\n",
    "    if user_input == \"\" or user_input.lower().strip() == \"exit\":\n",
    "        continue\n",
    "\n",
    "    offending_letter = is_isogram(user_input)\n",
    "    if offending_letter:\n",
    "        print(f\"'{offending_letter}' occurs repeatedly!\")\n",
    "    else:\n",
    "        print(\"No foul letters present\")"
   ]
  },
  {
   "cell_type": "markdown",
   "id": "46168755",
   "metadata": {},
   "source": [
    "## N-th Letter\n",
    "You are asked to develop a solution to check if the sentences in a given text file conform with a specific rule or not. The rule is given below. \n",
    "\n",
    "Rule: The nth word in a text must contain nth letter of the alphabet. For example; \n",
    "\n",
    "The following sentences conform to the rule:\n",
    "\n",
    "    A bear can discover precious food disguised beneath ice. \n",
    "    Any butcher certainly needs meat freezer.\n",
    "\n",
    "The following sentence does not follow the rule:\n",
    "\n",
    "    A beautifully crafted diamond necklace for girl was gifted by the groom. \n",
    "    (Here the rule is violated in the 8th word 'was'.)\n",
    "\n",
    "The input file (e.g. sentences.txt) contains one sentence per line as below.\n",
    "A bear can discover precious food disguised beneath ice. \n",
    "Any butcher certainly needs meat freezer.\n",
    "A beautifully crafted diamond necklace for girl was gifted by the groom. \n",
    "\n",
    "Your program should create a an output file (e.g. results.txt) as shown below\n",
    "\n",
    "    The sentence in line 1 conforms to the rule.\n",
    "    The sentence in line 2 conforms to the rule.\n",
    "    The sentence in line 3 does not conform to the rule. (word number: 8)\n"
   ]
  },
  {
   "cell_type": "code",
   "execution_count": 5,
   "id": "1de77775",
   "metadata": {},
   "outputs": [],
   "source": [
    "def nth_letter(sentence):\n",
    "    sentence = sentence.lower().strip()\n",
    "    words = sentence.split()\n",
    "    start = ord('a')\n",
    "    for offset, word in enumerate(words):\n",
    "        if not chr(start + offset) in word:\n",
    "            return offset + 1\n",
    "    return -1\n",
    "\n",
    "assert nth_letter('A bear can discover precious food') == -1\n",
    "assert nth_letter('A beautifully crafted diamond necklace for girl was') == 8\n",
    "\n",
    "lines = []\n",
    "with open('sentences.txt') as input_file:\n",
    "    lines = input_file.readlines()\n",
    "\n",
    "with open('results.txt', 'w') as output_file:\n",
    "    for row, line in enumerate(lines):\n",
    "        bad_word = nth_letter(line)\n",
    "        if bad_word == -1:\n",
    "            output_file.write(f\"The sentence in line {row} conforms to the rule.\\n\")\n",
    "        else:\n",
    "            output_file.write(f\"The sentence in line {row} does not conform to the rule. (word number: {bad_word})\\n\")\n"
   ]
  }
 ],
 "metadata": {
  "kernelspec": {
   "display_name": "Python 3",
   "language": "python",
   "name": "python3"
  },
  "language_info": {
   "codemirror_mode": {
    "name": "ipython",
    "version": 3
   },
   "file_extension": ".py",
   "mimetype": "text/x-python",
   "name": "python",
   "nbconvert_exporter": "python",
   "pygments_lexer": "ipython3",
   "version": "3.13.2"
  }
 },
 "nbformat": 4,
 "nbformat_minor": 5
}
