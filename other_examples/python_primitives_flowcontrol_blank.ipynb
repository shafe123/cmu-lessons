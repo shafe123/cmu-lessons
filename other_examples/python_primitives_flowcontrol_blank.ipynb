{
  "cells": [
    {
      "cell_type": "markdown",
      "metadata": {},
      "source": [
        "# Python Primitives and Flow Control - Blank Practice Notebook\n",
        "This notebook provides **prompts only**. Fill in the code yourself!\n"
      ]
    },
    {
      "cell_type": "code",
      "execution_count": null,
      "metadata": {},
      "outputs": [],
      "source": [
        "# --- Section 1: Primitive Data Types ---\n",
        "\n",
        "# Problem 1: Integers and Floats\n",
        "# Create two variables (an integer and a float) and add them together.\n",
        "# Predict the type of the result before checking with type().\n",
        "\n",
        "# Your code here\n",
        "\n"
      ]
    },
    {
      "cell_type": "code",
      "execution_count": null,
      "metadata": {},
      "outputs": [],
      "source": [
        "\n",
        "# Problem 2: Strings\n",
        "# Concatenate the strings \"Hello\" and \"World\" with a space in between.\n",
        "\n",
        "# Your code here\n",
        "\n"
      ]
    },
    {
      "cell_type": "code",
      "execution_count": null,
      "metadata": {},
      "outputs": [],
      "source": [
        "\n",
        "# Problem 3: Booleans\n",
        "# Use a comparison operator to check if one number is greater than another.\n",
        "\n",
        "# Your code here\n",
        "\n"
      ]
    },
    {
      "cell_type": "code",
      "execution_count": null,
      "metadata": {},
      "outputs": [],
      "source": [
        "\n",
        "# --- Section 2: Type Conversion ---\n",
        "\n",
        "# Problem 4: Convert the string \"42\" into an integer and add 10.\n",
        "\n",
        "# Your code here\n",
        "\n"
      ]
    },
    {
      "cell_type": "code",
      "execution_count": null,
      "metadata": {},
      "outputs": [],
      "source": [
        "\n",
        "# Problem 5: Convert a float (e.g., 3.9) to an integer. Observe what happens.\n",
        "\n",
        "# Your code here\n",
        "\n"
      ]
    },
    {
      "cell_type": "code",
      "execution_count": null,
      "metadata": {},
      "outputs": [],
      "source": [
        "\n",
        "# --- Section 3: Conditionals ---\n",
        "\n",
        "# Problem 6: Write an if/else statement to check if a number is even or odd.\n",
        "\n",
        "# Your code here\n",
        "\n"
      ]
    },
    {
      "cell_type": "code",
      "execution_count": null,
      "metadata": {},
      "outputs": [],
      "source": [
        "\n",
        "# Problem 7: Classify a number as positive, negative, or zero.\n",
        "\n",
        "# Your code here\n",
        "\n"
      ]
    },
    {
      "cell_type": "code",
      "execution_count": null,
      "metadata": {},
      "outputs": [],
      "source": [
        "\n",
        "# --- Section 4: Loops ---\n",
        "\n",
        "# Problem 8: Print the squares of numbers from 1 to 5.\n",
        "\n",
        "# Your code here\n",
        "\n"
      ]
    },
    {
      "cell_type": "code",
      "execution_count": null,
      "metadata": {},
      "outputs": [],
      "source": [
        "\n",
        "# Problem 9: Print numbers from 5 down to 1.\n",
        "\n",
        "# Your code here\n",
        "\n"
      ]
    },
    {
      "cell_type": "code",
      "execution_count": null,
      "metadata": {},
      "outputs": [],
      "source": [
        "\n",
        "# Problem 10: Print only even numbers from 1 to 10.\n",
        "\n",
        "# Your code here\n",
        "\n"
      ]
    },
    {
      "cell_type": "code",
      "execution_count": null,
      "metadata": {},
      "outputs": [],
      "source": [
        "\n",
        "# --- Section 5: Mini Challenges ---\n",
        "\n",
        "# Challenge 1: Sum of first 100 natural numbers using a loop.\n",
        "\n",
        "# Your code here\n",
        "\n"
      ]
    },
    {
      "cell_type": "code",
      "execution_count": null,
      "metadata": {},
      "outputs": [],
      "source": [
        "\n",
        "# Challenge 2: Reverse a string using a loop.\n",
        "\n",
        "# Your code here\n",
        "\n"
      ]
    },
    {
      "cell_type": "code",
      "execution_count": null,
      "metadata": {},
      "outputs": [],
      "source": [
        "\n",
        "# Challenge 3: FizzBuzz for numbers 1–15.\n",
        "\n",
        "# Your code here\n",
        "\n"
      ]
    }
  ],
  "metadata": {
    "kernelspec": {
      "display_name": "Python 3",
      "language": "python",
      "name": "python3"
    },
    "language_info": {
      "name": "python",
      "version": "3.x"
    }
  },
  "nbformat": 4,
  "nbformat_minor": 2
}
