{
  "nbformat": 4,
  "nbformat_minor": 0,
  "metadata": {
    "colab": {
      "provenance": []
    },
    "kernelspec": {
      "name": "python3",
      "display_name": "Python 3"
    },
    "language_info": {
      "name": "python"
    }
  },
  "cells": [
    {
      "cell_type": "markdown",
      "source": [
        "# Unit 1 and Unit 2"
      ],
      "metadata": {
        "id": "TlzzH3BNPi4D"
      }
    },
    {
      "cell_type": "markdown",
      "source": [
        "## Sample Problem - Temperature\n",
        "\n",
        "### Problem 1 (Temperature)\n",
        "\n",
        "Construct a program that receives the temperature for today and yesterday and warns the user when it is getting colder or warmer or neither.\n",
        "\n",
        "\n",
        "**Sample Runs:**\n",
        "\n",
        "```\n",
        "Enter temperature for yesterday: 70\n",
        "Enter today's temperature: 68\n",
        "It is getting colder.\n",
        "```\n",
        "\n",
        "```\n",
        "Enter temperature for yesterday: 70\n",
        "Enter today's temperature: 73\n",
        "It is getting warmer.\n",
        "```\n",
        "\n",
        "```\n",
        "Enter temperature for yesterday: 70\n",
        "Enter today's temperature: 70\n",
        "Temperature is the same as yesterday.\n",
        "```\n"
      ],
      "metadata": {
        "id": "3KPsEOFZj1KZ"
      }
    },
    {
      "cell_type": "code",
      "source": [],
      "metadata": {
        "id": "JW1p9kfmR77f"
      },
      "execution_count": null,
      "outputs": []
    },
    {
      "cell_type": "markdown",
      "source": [
        "### Problem 2 (Temperature)\n",
        "\n",
        "Construct a program that receives the **temperature** and **humidity** for today and yesterday and warns the user as explained below:\n",
        "\n",
        "1. Warns when it is getting colder or warmer or neither.\n",
        "2. When it is getting warmer, the program should also warn the user about the changes in humidity. In particular, it should warn the user when today's humidity is more, less, or has not changed compared to yesterday's humidity.\n",
        "\n",
        "**Sample Runs:**\n",
        "\n",
        "```\n",
        "Enter temperature for yesterday: 70\n",
        "Enter today's temperature: 68\n",
        "\n",
        "Enter humidity for yesterday (%): 50\n",
        "Enter today's humidity (%): 52\n",
        "\n",
        "It is getting colder.\n",
        "```\n",
        "\n",
        "```\n",
        "Enter temperature for yesterday: 70\n",
        "Enter today's temperature: 74\n",
        "\n",
        "Enter humidity for yesterday (%): 50\n",
        "Enter today's humidity (%): 52\n",
        "\n",
        "It is getting warmer and more humid.\n",
        "```\n",
        "\n",
        "```\n",
        "Enter temperature for yesterday: 70\n",
        "Enter today's temperature: 74\n",
        "\n",
        "Enter humidity for yesterday (%): 56\n",
        "Enter today's humidity (%): 52\n",
        "\n",
        "It is getting warmer but less humid.\n",
        "```\n",
        "\n",
        "```\n",
        "Enter temperature for yesterday: 70\n",
        "Enter today's temperature: 74\n",
        "\n",
        "Enter humidity for yesterday (%): 56\n",
        "Enter today's humidity (%): 52\n",
        "\n",
        "It is getting warmer and humidity has not changed.\n",
        "```"
      ],
      "metadata": {
        "id": "6zano8rsR8Ri"
      }
    },
    {
      "cell_type": "code",
      "source": [],
      "metadata": {
        "id": "FzAHiM0EUWzG"
      },
      "execution_count": null,
      "outputs": []
    },
    {
      "cell_type": "markdown",
      "source": [
        "### Problem 3 (Temperature)\n",
        "\n",
        "Copy and revise your program from problem 2 and ask for humidity only when the temperature gets warmer.\n",
        "\n",
        "**Sample Runs:**\n",
        "\n",
        "```\n",
        "Enter temperature for yesterday: 70\n",
        "Enter today's temperature: 68\n",
        "\n",
        "It is getting colder.\n",
        "```\n",
        "\n",
        "```\n",
        "Enter temperature for yesterday: 70\n",
        "Enter today's temperature: 74\n",
        "\n",
        "Enter humidity for yesterday (%): 50\n",
        "Enter today's humidity (%): 52\n",
        "\n",
        "It is getting warmer and more humid.\n",
        "```\n",
        "\n",
        "```\n",
        "Enter temperature for yesterday: 70\n",
        "Enter today's temperature: 70\n",
        "\n",
        "Temperature is the same as yesterday.\n",
        "```\n"
      ],
      "metadata": {
        "id": "v-JxA6FhTqbT"
      }
    },
    {
      "cell_type": "code",
      "source": [],
      "metadata": {
        "id": "9r0Zc5eTUVyy"
      },
      "execution_count": null,
      "outputs": []
    },
    {
      "cell_type": "markdown",
      "source": [
        "### Problem 4 (Temperature)\n",
        "\n",
        "Copy and revise your program **from problem 2** and ask warn for humidity for all cases of temperature getting warmer or colder or remains same.\n",
        "\n",
        "**Sample Runs:**\n",
        "\n",
        "```\n",
        "Enter temperature for yesterday: 70\n",
        "Enter today's temperature: 68\n",
        "Enter humidity for yesterday (%): 50\n",
        "Enter today's humidity (%): 52\n",
        "\n",
        "It is getting colder and more humid.\n",
        "```\n",
        "\n",
        "```\n",
        "Enter temperature for yesterday: 70\n",
        "Enter today's temperature: 74\n",
        "Enter humidity for yesterday (%): 50\n",
        "Enter today's humidity (%): 50\n",
        "\n",
        "It is getting warmer and humidity has not changed.\n",
        "```\n",
        "\n",
        "```\n",
        "Enter temperature for yesterday: 70\n",
        "Enter today's temperature: 70\n",
        "Enter humidity for yesterday (%): 56\n",
        "Enter today's humidity (%): 52\n",
        "\n",
        "Temperature is the same as yesterday but less humid.\n",
        "```\n"
      ],
      "metadata": {
        "id": "vW3uttAEUcH9"
      }
    },
    {
      "cell_type": "code",
      "source": [],
      "metadata": {
        "id": "kdBR5f8QVTDL"
      },
      "execution_count": null,
      "outputs": []
    },
    {
      "cell_type": "markdown",
      "source": [
        "## Sample Problem - Data Entry validation\n",
        "\n",
        "## Problem 1 (Data Entry validation)\n",
        "\n",
        "Develop a program that asks user to enter a 3-digit positive integer value and continue asking until a valid entry is made. See the sample run below\n",
        "\n",
        "```\n",
        "Enter a 3 digit positive integer: -100\n",
        "Invalid entry. Plese enter a 3 digit positive integer: 3\n",
        "Invalid entry. Plese enter a 3 digit positive integer: 47\n",
        "Invalid entry. Plese enter a 3 digit positive integer: 784\n",
        "Thanks. 784 is valid\n",
        "```\n",
        "\n",
        "\n"
      ],
      "metadata": {
        "id": "XYPy2qCQjBhn"
      }
    },
    {
      "cell_type": "code",
      "source": [],
      "metadata": {
        "id": "RJdtRy5iepci"
      },
      "execution_count": null,
      "outputs": []
    },
    {
      "cell_type": "markdown",
      "source": [
        "## Problem 2 (Data Entry validation)\n",
        "\n",
        "Revise your program now to ask user to enter zero or a 2-digit integer value and continue asking until a valid entry is made. Consider writing a function to check the validity of the entered data.\n",
        "\n",
        "\n",
        "See the sample runs below\n",
        "\n",
        "```\n",
        "Enter Zero or a 2-digit integer: -100\n",
        "Invalid entry. Plese enter zero or a 2-digit integer: 3\n",
        "Invalid entry. Plese enter zero or a 2-digit integer: 84\n",
        "Thanks. 84 is valid\n",
        "```\n",
        "\n",
        "```\n",
        "Enter Zero or a 2-digit integer: 234\n",
        "Invalid entry. Plese enter zero or a 2-digit integer: -3\n",
        "Invalid entry. Plese enter zero or a 2-digit integer: -12\n",
        "Thanks. -12 is valid\n",
        "```\n",
        "\n",
        "```\n",
        "Enter Zero or a 2-digit integer: 3\n",
        "Invalid entry. Plese enter zero or a 2-digit integer: 5\n",
        "Invalid entry. Plese enter zero or a 2-digit integer: 0\n",
        "Thanks. 0 is valid\n",
        "```\n"
      ],
      "metadata": {
        "id": "9SXpD_mquM6v"
      }
    },
    {
      "cell_type": "markdown",
      "source": [
        "## Sample Problem : Season data in string\n",
        "\n",
        "### Problem 1 (Season data in string)\n",
        "\n",
        "Construct a program that gets a string which contains number of events for each season of the year formatted as seen below\n",
        "\n",
        "`win:  9 spr: 41 sum:163 aut: 34`\n",
        "\n",
        "Note that the first 3 characters refers to the season which is followed by ':' character. The next 3 characters after colon contains the value for that season which is always followed with a single space character.\n",
        "\n",
        "Write a program which continuosly asks for seasons and displays the corresponding value (number of events) until 'stop' keyword is entered.\n",
        "\n",
        "For valid season entries, program displays the number of events for that season.\n",
        "\n",
        "See the sample run.\n",
        "\n",
        "\n",
        "**Sample Run:**\n",
        "\n",
        "```\n",
        "Enter the season (or 'stop'): Spr\n",
        "41 events happened in Spring\n",
        "\n",
        "Enter the season (or 'stop'): AUTUMN\n",
        "34 events happened in Autumn\n",
        "\n",
        "Enter the season (or 'stop'): wi\n",
        "Invalid entry. Enter the season (or 'stop'): ter\n",
        "Invalid entry. Enter the season (or 'stop'): win\n",
        "9 events happened in Winter\n",
        "\n",
        "Enter the season (or 'stop'): summary\n",
        "Invalid entry. Enter the season (or 'stop'): sto\n",
        "Invalid entry. Enter the season (or 'stop'): summe\n",
        "163 events happened in Summer\n",
        "\n",
        "Enter the season (or 'stop'):\n",
        "Invalid entry. Enter the season (or 'stop'): stop\n",
        "Bye\n",
        "```\n",
        "\n",
        "**Note that** user can enter the first 3 letters or the whole name of the seasons as a valid selection. Otherwise you should continue asking until a valid season name entry (or 'stop' word)\n",
        "\n",
        "\n",
        "**In your program use the following line instead of data entry for testing purposes.**\n",
        "```\n",
        "data = 'win:  9 spr: 41 sum:163 aut: 34'\n",
        "```\n"
      ],
      "metadata": {
        "id": "F-iaNnlUXAZA"
      }
    },
    {
      "cell_type": "code",
      "source": [],
      "metadata": {
        "id": "CeDtXVeYs8VC"
      },
      "execution_count": null,
      "outputs": []
    },
    {
      "cell_type": "markdown",
      "source": [
        "## Sample Problem - Multiplication Table\n",
        "\n",
        "## Problem 1 (Multiplication table)\n",
        "\n",
        "Construct a program that generates a multiplication table according to the range entered.\n",
        "\n",
        "Assume that last value is always bigger then the starting value.\n",
        "\n",
        "**Sample Run 1**\n",
        "\n",
        "```\n",
        "Enter starting value: 1\n",
        "Enter the last value: 5\n",
        "         1     2     3     4     5  \n",
        "     -------------------------------\n",
        "   1 |   1 |   2 |   3 |   4 |   5 |\n",
        "     -------------------------------\n",
        "   2 |   2 |   4 |   6 |   8 |  10 |\n",
        "     -------------------------------\n",
        "   3 |   3 |   6 |   9 |  12 |  15 |\n",
        "     -------------------------------\n",
        "   4 |   4 |   8 |  12 |  16 |  20 |\n",
        "     -------------------------------\n",
        "   5 |   5 |  10 |  15 |  20 |  25 |\n",
        "     -------------------------------\n",
        "```\n",
        "\n",
        "**Sample Run 2**\n",
        "\n",
        "```\n",
        "Enter starting value: 1000\n",
        "Enter the last value: 1005\n",
        "                1000       1001       1002       1003       1004       1005  \n",
        "          -------------------------------------------------------------------\n",
        "     1000 |  1000000 |  1001000 |  1002000 |  1003000 |  1004000 |  1005000 |\n",
        "          -------------------------------------------------------------------\n",
        "     1001 |  1001000 |  1002001 |  1003002 |  1004003 |  1005004 |  1006005 |\n",
        "          -------------------------------------------------------------------\n",
        "     1002 |  1002000 |  1003002 |  1004004 |  1005006 |  1006008 |  1007010 |\n",
        "          -------------------------------------------------------------------\n",
        "     1003 |  1003000 |  1004003 |  1005006 |  1006009 |  1007012 |  1008015 |\n",
        "          -------------------------------------------------------------------\n",
        "     1004 |  1004000 |  1005004 |  1006008 |  1007012 |  1008016 |  1009020 |\n",
        "          -------------------------------------------------------------------\n",
        "     1005 |  1005000 |  1006005 |  1007010 |  1008015 |  1009020 |  1010025 |\n",
        "          -------------------------------------------------------------------\n",
        "```"
      ],
      "metadata": {
        "id": "3j8bu_kawS4Y"
      }
    },
    {
      "cell_type": "code",
      "source": [],
      "metadata": {
        "id": "WxB4lwrC45n2"
      },
      "execution_count": null,
      "outputs": []
    }
  ]
}