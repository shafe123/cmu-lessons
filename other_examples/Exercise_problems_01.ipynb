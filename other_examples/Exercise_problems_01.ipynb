{
  "nbformat": 4,
  "nbformat_minor": 0,
  "metadata": {
    "colab": {
      "provenance": []
    },
    "kernelspec": {
      "name": "python3",
      "display_name": "Python 3"
    },
    "language_info": {
      "name": "python"
    }
  },
  "cells": [
    {
      "cell_type": "markdown",
      "source": [
        "Problem statements from\n",
        "\n",
        "https://learn.sailplatform.org/f25-ai-technicians-practical-programming-wit/concept-details/concept-learn-python-bas-zudxllde#section-07f3e35e-798a-4c7d-a2d3-d5104c2c4ea6"
      ],
      "metadata": {
        "id": "f5-bpxh6AONX"
      }
    },
    {
      "cell_type": "markdown",
      "source": [
        "# Unit 1 - Basics"
      ],
      "metadata": {
        "id": "TlzzH3BNPi4D"
      }
    },
    {
      "cell_type": "markdown",
      "source": [
        "## Unit Converter\n",
        "\n",
        "### problem 1\n",
        "\n",
        "Construct a program that computes the Fahrenheit equivalent of an input Celsius value using the formula F = (9/5)C + 32. The input Celsius value is an integer."
      ],
      "metadata": {
        "id": "C9EiAdGw_4U5"
      }
    },
    {
      "cell_type": "code",
      "source": [],
      "metadata": {
        "id": "5I5Ay9zv__aX"
      },
      "execution_count": null,
      "outputs": []
    },
    {
      "cell_type": "markdown",
      "source": [
        "### problem 2\n",
        "\n",
        "Construct a program that computes the Celsius equivalent of an input Fahrenheit value using the formula C = (F - 32) (5/9). The input Fahrenheit value is an integer."
      ],
      "metadata": {
        "id": "LntvwHt8ApGa"
      }
    },
    {
      "cell_type": "code",
      "source": [],
      "metadata": {
        "id": "G5sHP99uAYyj"
      },
      "execution_count": null,
      "outputs": []
    },
    {
      "cell_type": "markdown",
      "source": [
        "## Time converter\n",
        "\n",
        "### problem 1\n",
        "\n",
        "Construct a program that obtains minutes and remaining seconds from the input amount of time in seconds.\n",
        "\n",
        "For example, 500 seconds contains 8 minutes and 20 seconds."
      ],
      "metadata": {
        "id": "U3U-EA9xAZFv"
      }
    },
    {
      "cell_type": "code",
      "source": [],
      "metadata": {
        "id": "RqbGrkWaAaIt"
      },
      "execution_count": null,
      "outputs": []
    },
    {
      "cell_type": "markdown",
      "source": [
        "### problem 2\n",
        "\n",
        "Construct a program that obtains hours, minutes, and seconds from an amount of time in milliseconds."
      ],
      "metadata": {
        "id": "9xK8yrigAm2Y"
      }
    },
    {
      "cell_type": "code",
      "source": [],
      "metadata": {
        "id": "qSoOyL2HAnqU"
      },
      "execution_count": null,
      "outputs": []
    },
    {
      "cell_type": "markdown",
      "source": [
        "## Vending Machine\n",
        "\n",
        "### problem 1\n",
        "\n",
        "Suppose we have a vending machine that gives change. A customer selects an item for purchase and inserts a bill into the vending machine. The vending machine dispenses the purchased item and gives change.\n",
        "\n",
        "We will assume that all **item prices are multiples of 25 cents**, and the machine gives all change in **dollar and quarters**.\n",
        "\n",
        "Construct a program that computes **how many dollars and quarters** to return to the customer."
      ],
      "metadata": {
        "id": "nRSvqBPaDZjv"
      }
    },
    {
      "cell_type": "code",
      "source": [],
      "metadata": {
        "id": "7GcG9gqhDk0h"
      },
      "execution_count": null,
      "outputs": []
    },
    {
      "cell_type": "markdown",
      "source": [
        "### problem 2\n",
        "\n",
        "Suppose we have a vending machine that gives change. A customer selects an item for purchase and inserts a bill into the vending machine. The vending machine dispenses the purchased item and gives change.\n",
        "\n",
        "We will assume that **all item prices are multiples of 5 cents, and the machine gives all change in quarters, dimes, and nickels.**\n",
        "\n",
        "Construct a program that computes **how many quarters, dimes, and nickels** to return to the customer."
      ],
      "metadata": {
        "id": "s2E75EK-DlWi"
      }
    },
    {
      "cell_type": "code",
      "source": [],
      "metadata": {
        "id": "uhl8MOSMD8Bo"
      },
      "execution_count": null,
      "outputs": []
    },
    {
      "cell_type": "markdown",
      "source": [
        "## BMI Calculator\n",
        "\n",
        "### problem 1\n",
        "\n",
        "BMI is a measure of body fat based on height and weight that applies to adult men and women. BMI Categories are as follows:\n",
        "\n",
        "```\n",
        "Underweight = <18.5\n",
        "Normal weight = 18.5–24.9\n",
        "Overweight = 25–29.9\n",
        "Obesity = BMI of 30 or greater.\n",
        "```\n",
        "\n",
        "**English BMI Formula (Imperial) is**:\n",
        "\n",
        "`BMI = (Weight in Pounds / (Height in inches x Height in inches)) x 703`\n",
        "\n",
        "**Construct a program that calculates the Body Mass Index (BMI) according to this formula.**"
      ],
      "metadata": {
        "id": "m7X2r24AD9JV"
      }
    },
    {
      "cell_type": "code",
      "source": [],
      "metadata": {
        "id": "uEWW_kdOEuH1"
      },
      "execution_count": null,
      "outputs": []
    },
    {
      "cell_type": "markdown",
      "source": [
        "### problem 2\n",
        "\n",
        "Constructor another BMI calcualtor program but this time consider this:\n",
        "\n",
        "BMI results are usually displayed as integers (values without decimal points). Construct a program to **round the BMI result to the nearest integer**."
      ],
      "metadata": {
        "id": "MTBafboZEgu0"
      }
    },
    {
      "cell_type": "code",
      "source": [],
      "metadata": {
        "id": "z-5XnH44EsBK"
      },
      "execution_count": null,
      "outputs": []
    },
    {
      "cell_type": "markdown",
      "source": [
        "## Pythagorean Theorem\n",
        "\n",
        "### problem 1\n",
        "\n",
        "Construct a program that accepts two input values from the user, one for each side of a right-angle triangle.\n",
        "\n",
        "The program uses the Pythagorean theorem (c^2 = a^2 + b^2) to **calculate the length of the triangle's hypotenuse**."
      ],
      "metadata": {
        "id": "SYuyin6OEsUz"
      }
    },
    {
      "cell_type": "code",
      "source": [],
      "metadata": {
        "id": "SQGH5A0rFewz"
      },
      "execution_count": null,
      "outputs": []
    },
    {
      "cell_type": "markdown",
      "source": [
        "### problem 2\n",
        "\n",
        "Suppose that the user provides two input values for a right-angle triangle.\n",
        "\n",
        "The first input is for the **length of an adjacent side** in the triangle and the second input is for the **hypotenuse** of that triangle.\n",
        "\n",
        "The program calculates the second adjacent side of the triangle using these two input values.\n",
        "\n",
        "Use the Pythagorean theorem (c^2 = a^2 + b^2) to find the **length of the second adjacent side**."
      ],
      "metadata": {
        "id": "BeGftYIaFfCD"
      }
    },
    {
      "cell_type": "code",
      "source": [],
      "metadata": {
        "id": "XwbuPA43GAm4"
      },
      "execution_count": null,
      "outputs": []
    },
    {
      "cell_type": "markdown",
      "source": [
        "## Built in functions - input manipulation\n",
        "\n",
        "### problem 1\n",
        "\n",
        "Construct a program that takes a user's inputs and multiplies the inputs.\n",
        "\n",
        "Then print the\n",
        "\n",
        "1. type of the result\n",
        "2. its value after converting to float\n",
        "3. its float absolute value (using *fabs* function).\n",
        "\n",
        "**Sample run:**\n",
        "\n",
        "```\n",
        "Enter the first integer:3\n",
        "Enter the second integer:2\n",
        "<class 'int'>\n",
        "6.0\n",
        "6.0\n",
        "```\n"
      ],
      "metadata": {
        "id": "mo94KrUaGBGX"
      }
    },
    {
      "cell_type": "code",
      "source": [],
      "metadata": {
        "id": "0jC5YGJLHHhW"
      },
      "execution_count": null,
      "outputs": []
    },
    {
      "cell_type": "markdown",
      "source": [
        "## Custom function - multiple parameter\n",
        "\n",
        "### problem 1\n",
        "\n",
        "Construct a program that calculates the current savings after getting paid and the total expense.\n",
        "\n",
        "define a budget() function that takes rent, utilities, food, paycheck, and current_savings as inputs and  returns current saving after calculation.\n",
        "\n",
        "```\n",
        "def budget(rent, utilities, food, paycheck, current_savings):\n",
        "    # Step 1.1: add up all expenses for the month\n",
        "    # Step 1.2: find total amount left after getting paid\n",
        "    # Step 1.3: find total amount left after expenses\n",
        "```\n",
        "\n",
        "\n",
        "**sample run:**\n",
        "\n",
        "for budget(900, 150, 300, 700, 1500)\n",
        "\n",
        "```\n",
        "after payday and expenses, you will have: $ 850\n",
        "```\n",
        "\n",
        "\n",
        "\n"
      ],
      "metadata": {
        "id": "K4WS6mQUHHz4"
      }
    },
    {
      "cell_type": "code",
      "source": [],
      "metadata": {
        "id": "UzSZm7mgKa5F"
      },
      "execution_count": null,
      "outputs": []
    },
    {
      "cell_type": "markdown",
      "source": [
        "# unit 1 and 2 (loops, conditionals, strings)"
      ],
      "metadata": {
        "id": "MHfZPBjxP3Zl"
      }
    },
    {
      "cell_type": "markdown",
      "source": [
        "Run the code below and understand how print function's end parameter works."
      ],
      "metadata": {
        "id": "FSkqOCHPQv4A"
      }
    },
    {
      "cell_type": "code",
      "source": [
        "num = 10\n",
        "print('--------------')\n",
        "print(num)\n",
        "print(num + 3)\n",
        "print(num * 10)\n",
        "print('--------------')\n",
        "print(num, end='|')\n",
        "print(num + 3, end='|')\n",
        "print(num * 10, end='|')\n",
        "print()\n",
        "print('--------------')"
      ],
      "metadata": {
        "colab": {
          "base_uri": "https://localhost:8080/"
        },
        "id": "7vzIFxvjQ4on",
        "outputId": "eb4ca18c-ca66-4230-eac8-8e8b0e91b353"
      },
      "execution_count": 1,
      "outputs": [
        {
          "output_type": "stream",
          "name": "stdout",
          "text": [
            "--------------\n",
            "10\n",
            "13\n",
            "100\n",
            "--------------\n",
            "10|13|100|\n",
            "--------------\n"
          ]
        }
      ]
    },
    {
      "cell_type": "code",
      "source": [
        "print('Numbers: (', end=\"\")\n",
        "for num in range(15):\n",
        "    print(num, end=\" \")\n",
        "print(')')"
      ],
      "metadata": {
        "colab": {
          "base_uri": "https://localhost:8080/"
        },
        "id": "7cAqgQnORe9F",
        "outputId": "d760dbb6-fcb5-48c0-a8a2-a1b8074c13fa"
      },
      "execution_count": 7,
      "outputs": [
        {
          "output_type": "stream",
          "name": "stdout",
          "text": [
            "Numbers: (0 1 2 3 4 5 6 7 8 9 10 11 12 13 14 )\n"
          ]
        }
      ]
    },
    {
      "cell_type": "markdown",
      "source": [
        "## Practice problems - Use of range function\n",
        "\n",
        "### problem 1\n",
        "\n",
        "Generate a list of numbers using the for loop according to the following criteria;\n",
        "\n",
        "* Integers from 10 to 20\n",
        "* Even integers from 4 to 16\n",
        "* Odd integers from 13 to 21\n",
        "* Multiples of 5 from -20 to 20\n",
        "* Integers from 20 to 10 in descending order\n",
        "* Even integers from 16 to 4 (descending)\n",
        "* Odd integers from 21 to 13 (descending)\n",
        "\n",
        "**sample run:**\n",
        "```\n",
        "Int 10-20: 10 11 12 13 14 15 16 17 18 19 20\n",
        "Even 4-16: 4 6 8 10 12 14 16\n",
        "Odd 13-21: 13 15 17 19 21\n",
        "Multiples of 5 from -20 to 20: -20 -15 -10 -5 0 5 10 15 20\n",
        "Int 20-10: 20 19 18 17 16 15 14 13 12 11 10\n",
        "Even 16-4: 16 14 12 10 8 6 4\n",
        "Odd 21-13: 21 19 17 15 13\n",
        "```"
      ],
      "metadata": {
        "id": "kaVESzAGSc3q"
      }
    },
    {
      "cell_type": "markdown",
      "source": [
        "### problem 2\n",
        "\n",
        "Write a program to ask user to enter two integers as boundaries of a range. Then display the integers in that range horizontally using the print's end parameter.\n",
        "\n",
        "*Note that* the first value entered by user can be bigger or smaller than the second one. Your program should display the numbers from the smallest to the biggest.\n",
        "\n",
        "**Sample Runs:**\n",
        "\n",
        "```\n",
        "Enter the first value  : 5\n",
        "Enter the second value : 10\n",
        "Integers from 5 to 10  : 5 6 7 8 9 10\n",
        "```\n",
        "\n",
        "```\n",
        "Enter the first value  : 9\n",
        "Enter the second value : 3\n",
        "Integers from 3 to 9   : 3 4 5 6 7 8 9\n",
        "```\n",
        "\n",
        "```\n",
        "Enter the first value  : 3\n",
        "Enter the second value : 3\n",
        "Integers from 3 to 3   : 3\n",
        "```\n",
        "\n"
      ],
      "metadata": {
        "id": "VmpMCazkVIhA"
      }
    },
    {
      "cell_type": "code",
      "source": [],
      "metadata": {
        "id": "79qPl9iOVIF0"
      },
      "execution_count": null,
      "outputs": []
    },
    {
      "cell_type": "markdown",
      "source": [
        "### problem 3\n",
        "\n",
        "Copy and revise your previous program so that it displays the list of numbers in descending order when the first number is greater than the second program.\n",
        "\n",
        "**sample runs:**\n",
        "\n",
        "```\n",
        "Enter the first value  : 9\n",
        "Enter the second value : 3\n",
        "Integers from 9 to 3   : 9 8 7 6 5 4 3\n",
        "```\n",
        "\n",
        "```\n",
        "Enter the first value  : 5\n",
        "Enter the second value : 10\n",
        "Integers from 5 to 10  : 5 6 7 8 9 10\n",
        "```\n"
      ],
      "metadata": {
        "id": "lQExVr2bWztW"
      }
    },
    {
      "cell_type": "markdown",
      "source": [
        "### problem 4\n",
        "\n",
        "Copy and revise your program by\n",
        "\n",
        "1. adding a function to **display** the list of integers between the given range (e.g. show_numbers_btw(start, end) )\n",
        "2. your program should input values from the user and than call the function to display the list.\n"
      ],
      "metadata": {
        "id": "GJKBYFBMaHug"
      }
    },
    {
      "cell_type": "code",
      "source": [],
      "metadata": {
        "id": "wvLAO9AcXjY4"
      },
      "execution_count": null,
      "outputs": []
    },
    {
      "cell_type": "markdown",
      "source": [
        "## Average Calculations\n",
        "\n",
        "### problem 1\n",
        "\n",
        "Construct a program that inputs two **integer** values from user and returns the average of these two values.\n",
        "\n",
        "**sample run:**\n",
        "```\n",
        "Enter first value: 3\n",
        "Enter second value: 5\n",
        "Average of 3 and 5 is 4.0\n",
        "```"
      ],
      "metadata": {
        "id": "EwJlZUT0LTgO"
      }
    },
    {
      "cell_type": "code",
      "source": [],
      "metadata": {
        "id": "aFrxgA3OL3KA"
      },
      "execution_count": null,
      "outputs": []
    },
    {
      "cell_type": "markdown",
      "source": [
        "### problem 2\n",
        "\n",
        "copy and revise your program to calculate average for 3 **float** values entered.\n",
        "\n",
        "**sample run**\n",
        "\n",
        "```\n",
        "Enter 1st value: 3\n",
        "Enter 2nd value: 4.5\n",
        "Enter 3rd value: 1.5\n",
        "Average of 3, 5 and 1 is 3.0\n",
        "```\n"
      ],
      "metadata": {
        "id": "7X_UZfLSL1zn"
      }
    },
    {
      "cell_type": "code",
      "source": [],
      "metadata": {
        "id": "vxD8b27aMzLZ"
      },
      "execution_count": null,
      "outputs": []
    },
    {
      "cell_type": "markdown",
      "source": [
        "### problem 3\n",
        "\n",
        "Revise your program to ask a number of values to enter and then get those many inputs from user and display the average.\n",
        "\n",
        "**sample run:**\n",
        "```\n",
        "How many values to calculate: 5\n",
        "\n",
        "Enter value 1: 3\n",
        "Enter value 2: 2\n",
        "Enter value 3: 5\n",
        "Enter value 4: 10\n",
        "Enter value 5: 3\n",
        "\n",
        "The average of 5 values: 4.6\n",
        "\n",
        "```\n"
      ],
      "metadata": {
        "id": "rUuE1fSwMzij"
      }
    },
    {
      "cell_type": "code",
      "source": [],
      "metadata": {
        "id": "WsCdvQENNxei"
      },
      "execution_count": null,
      "outputs": []
    },
    {
      "cell_type": "markdown",
      "source": [
        "### problem 4\n",
        "\n",
        "Revise your program to enter any number of values until entered as 'stop' and display the average of those numbers.\n",
        "\n",
        "\n",
        "**sample run:**\n",
        "\n",
        "```\n",
        "Enter a value (or 'stop'): 3\n",
        "Enter a value (or 'stop'): 0\n",
        "Enter a value (or 'stop'): -2\n",
        "Enter a value (or 'stop'): 9\n",
        "Enter a value (or 'stop'): stop\n",
        "\n",
        "The average of 4 values: 2.5\n",
        "\n",
        "```\n",
        "\n",
        "**sample run:**\n",
        "\n",
        "```\n",
        "Enter a value (or 'stop'): stop\n",
        "\n",
        "No values entered.\n",
        "\n",
        "```"
      ],
      "metadata": {
        "id": "IWrz_D4JNxyM"
      }
    },
    {
      "cell_type": "code",
      "source": [],
      "metadata": {
        "id": "Xi4irZuPPQOw"
      },
      "execution_count": null,
      "outputs": []
    },
    {
      "cell_type": "markdown",
      "source": [
        "## sample problem - smallest divisor\n",
        "\n",
        "## problem 1\n",
        "\n",
        "Construct a program that finds the smallest divisor (other than 1) of a positive number.\n",
        "\n",
        "For example;\n",
        "\n",
        "* the smallest divisor of 4 is 2\n",
        "* the smallest divisor of 9 is 3\n",
        "* the smallest divisor of 17 is 17\n"
      ],
      "metadata": {
        "id": "p7UOX7vqPSVP"
      }
    },
    {
      "cell_type": "code",
      "source": [],
      "metadata": {
        "id": "GpeDTRoFYYET"
      },
      "execution_count": null,
      "outputs": []
    },
    {
      "cell_type": "markdown",
      "source": [
        "### problem 2\n",
        "\n",
        "Construct a program that finds the largest divisor of a positive number, **excluding** the number itself.\n",
        "\n",
        "For example\n",
        "\n",
        "* the largest divisor of 24 is 12.\n",
        "* the largest divisor of 34 is 17."
      ],
      "metadata": {
        "id": "5JRNSHB-YYW0"
      }
    },
    {
      "cell_type": "code",
      "source": [],
      "metadata": {
        "id": "2LFSXBcFYoJv"
      },
      "execution_count": null,
      "outputs": []
    },
    {
      "cell_type": "markdown",
      "source": [],
      "metadata": {
        "id": "T0CmwQh6YyAP"
      }
    }
  ]
}